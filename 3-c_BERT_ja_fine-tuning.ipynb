{
 "cells": [
  {
   "cell_type": "markdown",
   "metadata": {
    "colab_type": "text",
    "id": "9Mq3C0ZGp20O"
   },
   "source": [
    "# 『人を知る』人工知能講座 <br> <span style=\"color: #00B0F0;\">Session 3 言語メディア</span> <br> <span style=\"background-color: #1F4E79; color: #FFFFFF;\">&nbsp;3&nbsp;</span> BERTによる自然言語処理 〜日本語Fine-tuning〜 "
   ]
  },
  {
   "cell_type": "markdown",
   "metadata": {
    "colab_type": "text",
    "id": "35j227LZjxoQ"
   },
   "source": [
    "日本語では英語のGLUEデータセットのように大規模な種々のデータセットが整備されているわけではありませんので、タグ付きコーパスからデータセットを生成し、fine-tuningします。\n",
    "\n",
    "本演習では1日目で用いたKNBC (Kyoto University and NTT Blog Corpus)を用います。データは `/data/nlp/text/KNBC_v1.0_090925_utf8` にあります。"
   ]
  },
  {
   "cell_type": "code",
   "execution_count": 1,
   "metadata": {
    "colab": {
     "base_uri": "https://localhost:8080/",
     "height": 141
    },
    "colab_type": "code",
    "id": "j_612HgRG9AE",
    "outputId": "a69ef710-c8ff-4e55-ddda-006e11638415"
   },
   "outputs": [
    {
     "name": "stdout",
     "output_type": "stream",
     "text": [
      "total 1276\r\n",
      "-rw-r--r--   1 root root   5915  9月 30  2009 README.txt\r\n",
      "drwxr-xr-x   2 root root   4096 11月 12 13:04 bin\r\n",
      "drwxr-xr-x 251 root root  12288 11月 12 13:04 corpus1\r\n",
      "drwxr-xr-x   2 root root   4096 11月 12 13:04 corpus2\r\n",
      "drwxr-xr-x   2 root root 503808 11月 12 13:04 html\r\n",
      "-rw-r--r--   1 root root 770764  9月 25  2009 manual.pdf\r\n"
     ]
    }
   ],
   "source": [
    "!ls -l /data/nlp/text/KNBC_v1.0_090925_utf8"
   ]
  },
  {
   "cell_type": "markdown",
   "metadata": {
    "colab_type": "text",
    "id": "J42qVuhql8dk"
   },
   "source": [
    "1日目と同様、アノテーションを可視化できる html を確認してみましょう。"
   ]
  },
  {
   "cell_type": "code",
   "execution_count": 2,
   "metadata": {
    "colab": {
     "base_uri": "https://localhost:8080/",
     "height": 299
    },
    "colab_type": "code",
    "id": "xiwe3SVwHRuK",
    "outputId": "b7592069-188c-4a85-d959-1481ec7b2c81"
   },
   "outputs": [
    {
     "data": {
      "text/html": [
       "<html><head><title>../corpus1//KN001_Kyoto_1/KN001_Kyoto_1-1-17-01</title><meta http-equiv=\"content-type\" content=\"application/html; charset=UTF-8\" /></head><link rel=\"stylesheet\" type=\"text/css\" href=\"knbc_annotation.css\" /><body><table><tr><th id=synsemhead>係り受け</th><th id=synsemhead>格・省略・照応、固有表現</th><th id=synsemhead>評判表現</th></tr><tr><td id=dep><a href=\"KN001_Kyoto_1-1-17-01-morph.html#0\" target=\"../corpus1//KN001_Kyoto_1/KN001_Kyoto_1-1-17-01-morph\">時雨殿の</a><span id=kakari-keisen>┓　　　　　</span></td><td id=sem>&nbsp;&nbsp;<span id=caseword>時雨殿</span>:<span id=casemarker>=</span>:<span id=caseposition>2文前</span>,&nbsp;<span id=neword>時雨殿</span>:<span id=netype>LOCA</span>&nbsp;&nbsp;</td><td id=without_sentiment>&nbsp;&nbsp;&nbsp;&nbsp;</td></tr><tr><td id=dep><a href=\"KN001_Kyoto_1-1-17-01-morph.html#1\" target=\"../corpus1//KN001_Kyoto_1/KN001_Kyoto_1-1-17-01-morph\"><span id=sentiment_exp>外見</span><span id=sentiment_exp>も</span></a><span id=kakari-keisen>━━━━┓</span></td><td id=sem>&nbsp;&nbsp;<span id=caseword>時雨殿</span>:<span id=casemarker>ノ</span>&nbsp;&nbsp;</td><td id=with_sentiment>&nbsp;&nbsp;<span id=evaluated>時雨殿</span>:<span id=eval_type>批評＋</span>&nbsp;&nbsp;</td></tr><tr><td id=dep><a href=\"KN001_Kyoto_1-1-17-01-morph.html#2\" target=\"../corpus1//KN001_Kyoto_1/KN001_Kyoto_1-1-17-01-morph\"><span id=sentiment_exp>周り</span><span id=sentiment_exp>の</span></a><span id=kakari-keisen>┓　　┃</span></td><td id=sem>&nbsp;&nbsp;<span id=caseword>時雨殿</span>:<span id=casemarker>ノ</span>&nbsp;&nbsp;</td><td id=without_sentiment>&nbsp;&nbsp;&nbsp;&nbsp;</td></tr><tr><td id=dep><a href=\"KN001_Kyoto_1-1-17-01-morph.html#3\" target=\"../corpus1//KN001_Kyoto_1/KN001_Kyoto_1-1-17-01-morph\"><span id=sentiment_exp>料亭</span><span id=sentiment_exp>に</span></a><span id=kakari-keisen>┓　┃</span></td><td id=sem>&nbsp;&nbsp;<span id=caseword>周り</span>:<span id=casemarker>修飾</span>,&nbsp;<span id=caseword>料亭</span>:<span id=casemarker>=≒</span>:<span id=caseposition>1文前</span>&nbsp;&nbsp;</td><td id=without_sentiment>&nbsp;&nbsp;&nbsp;&nbsp;</td></tr><tr><td id=dep><a href=\"KN001_Kyoto_1-1-17-01-morph.html#4\" target=\"../corpus1//KN001_Kyoto_1/KN001_Kyoto_1-1-17-01-morph\"><span id=sentiment_exp>負けて</span><span id=sentiment_exp>い</span><span id=sentiment_exp>ない</span></a><span id=kakari-keisen>┓┃</span></td><td id=sem>&nbsp;&nbsp;<span id=caseword>外見</span>:<span id=casemarker>ガ</span>,&nbsp;<span id=caseword>料亭</span>:<span id=casemarker>ニ</span>&nbsp;&nbsp;</td><td id=without_sentiment>&nbsp;&nbsp;&nbsp;&nbsp;</td></tr><tr><td id=dep><a href=\"KN001_Kyoto_1-1-17-01-morph.html#5\" target=\"../corpus1//KN001_Kyoto_1/KN001_Kyoto_1-1-17-01-morph\"><span id=sentiment_exp>程</span></a><span id=kakari-keisen>┫</span></td><td id=sem>&nbsp;&nbsp;&nbsp;&nbsp;</td><td id=without_sentiment>&nbsp;&nbsp;&nbsp;&nbsp;</td></tr><tr><td id=dep><a href=\"KN001_Kyoto_1-1-17-01-morph.html#6\" target=\"../corpus1//KN001_Kyoto_1/KN001_Kyoto_1-1-17-01-morph\"><span id=sentiment_exp>’</span><span id=sentiment_exp>高級</span><span id=sentiment_exp>’</span><span id=sentiment_exp>である</span>。</a><span id=kakari-keisen></span></td><td id=sem>&nbsp;&nbsp;<span id=caseword>外見</span>:<span id=casemarker>ガ</span>&nbsp;&nbsp;</td><td id=without_sentiment>&nbsp;&nbsp;&nbsp;&nbsp;</td></tr></table></body></html>"
      ],
      "text/plain": [
       "<IPython.core.display.HTML object>"
      ]
     },
     "execution_count": 2,
     "metadata": {},
     "output_type": "execute_result"
    }
   ],
   "source": [
    "from IPython.display import HTML\n",
    "\n",
    "KNBC_dir = \"/data/nlp/text/KNBC_v1.0_090925_utf8\"\n",
    "HTML(\"<style type='text/css'>\" + open(f\"{KNBC_dir}/html/knbc_article_index.css\").read() + \"</style>\")\n",
    "HTML(open(f\"{KNBC_dir}/html/KN001_Kyoto_1-1-17-01.html\").read())"
   ]
  },
  {
   "cell_type": "markdown",
   "metadata": {
    "colab_type": "text",
    "id": "w6w6TR4kp321"
   },
   "source": [
    "このコーパスを使って、以下のタスクをfine-tuningで解きます。\n",
    "\n",
    "* 評判分析\n",
    "* 文書分類\n",
    "* 固有表現解析"
   ]
  },
  {
   "cell_type": "markdown",
   "metadata": {
    "colab_type": "text",
    "id": "RsAjDaKScMWn"
   },
   "source": [
    "## 1. 評判分析"
   ]
  },
  {
   "cell_type": "markdown",
   "metadata": {
    "colab_type": "text",
    "id": "QoKEWWRjp-pJ"
   },
   "source": [
    "GLUEの最初で見た SST-2 データセットと全く同じ形式のファイルを生成し、fine-tuningのコマンドを動かします。\n",
    "\n",
    "再掲: KNBCでは「批評」(賛成と反対)や「感情」(好きと嫌い)など、いくつかの軸について、評判を保持している人や評判の対象などが付与されています。ここではfine-tuningを動かすことを目的としますので、かなり荒っぽいですが、「批評」の軸について賛成(「批評＋」と表記されている)を表す表現があれば文全体をpositive、反対(同様に「批評−」)があれば文全体をnegativeとみなすことにします。"
   ]
  },
  {
   "cell_type": "markdown",
   "metadata": {
    "colab_type": "text",
    "id": "BzIUL8OnZ3bb"
   },
   "source": [
    "### 手順1. 前処理"
   ]
  },
  {
   "cell_type": "markdown",
   "metadata": {
    "colab_type": "text",
    "id": "fZ4lgB9qsSMy"
   },
   "source": [
    "上記の基準をもとに以下のpythonスクリプトで評判分析のデータセットを生成します。1日目と同じスクリプトです。"
   ]
  },
  {
   "cell_type": "code",
   "execution_count": 3,
   "metadata": {
    "colab": {
     "base_uri": "https://localhost:8080/",
     "height": 72
    },
    "colab_type": "code",
    "id": "LK73M0YejqdF",
    "outputId": "d5c42549-b070-49b9-8484-17603393ba5f"
   },
   "outputs": [
    {
     "name": "stdout",
     "output_type": "stream",
     "text": [
      "完了!\n",
      "680 sentiment_analysis_KNBC/all.tsv\r\n"
     ]
    }
   ],
   "source": [
    "import glob\n",
    "import os\n",
    "import logging\n",
    "\n",
    "logger = logging.getLogger(__name__)\n",
    "logging.basicConfig(level=logging.INFO)\n",
    "\n",
    "def get_words(sid):\n",
    "    # sid: KN001_Keitai_1-1-12-01\n",
    "    # -> KNBC_v1.0_090925/corpus1/KN001_Keitai_1/KN001_Keitai_1-1-12-01\n",
    "    subdirname = (sid.split(\"-\"))[0]\n",
    "    filename = f\"{KNBC_dir}/corpus1/{subdirname}/{sid}\"\n",
    "    if os.path.exists(filename) is False:\n",
    "        return None\n",
    "\n",
    "    # 単語集合を得る (正解単語区切を利用)\n",
    "    words = []\n",
    "    with open(filename, \"r\", encoding=\"utf-8\") as reader:\n",
    "        buf = \"\"\n",
    "        for line in reader.readlines():\n",
    "            if line.startswith((\"#\", \"*\", \"+\", \"EOS\")):\n",
    "                continue\n",
    "            word = (line.split(\" \"))[0]\n",
    "            words.append(word)\n",
    "\n",
    "    return words\n",
    "\n",
    "def get_sentiment_label(sentiment_type):\n",
    "    # 批評＋を含めば1, 批評−を含めば0\n",
    "    # 両方含むものはスキップ\n",
    "    if \"批評＋\" in sentiment_type and \"批評−\" in sentiment_type:\n",
    "        return None\n",
    "    if \"批評＋\" in sentiment_type:\n",
    "        return 1\n",
    "    if \"批評−\" in sentiment_type:\n",
    "        return 0\n",
    "    return None\n",
    "\n",
    "out_dir = \"sentiment_analysis_KNBC\"\n",
    "os.makedirs(out_dir, exist_ok=True)\n",
    "f_out = open(f\"{out_dir}/all.tsv\", \"w\")\n",
    "\n",
    "for filename in glob.glob(f\"{KNBC_dir}/corpus2/*\"):\n",
    "    with open(filename, \"r\", encoding=\"utf-8\") as reader:\n",
    "        buf = \"\"\n",
    "        for line in reader.readlines():\n",
    "            # 文ID, 文, 評判保持者, 評判表現, 評判タイプ, 評判対象\n",
    "            # KN001_Keitai_1-1-12-01\t確かにプリペイドには、いくつかの弱点がある。\t[著者]\tいくつかの弱点がある\t批評−\tプリペイド\n",
    "            sid, sentence, _, _, sentiment_type, _ = line.strip(\"\\n\").split(\"\\t\")\n",
    "            words = get_words(sid)\n",
    "            if words is None:\n",
    "              # logger.warning(f\"skip: {sid} {sentence}\")\n",
    "              continue\n",
    "            label = get_sentiment_label(sentiment_type)\n",
    "            tokenized_sentence = \" \".join(words)\n",
    "            if label is not None:         \n",
    "                print(f\"{tokenized_sentence}\\t{label}\", file=f_out)\n",
    "\n",
    "f_out.close()\n",
    "\n",
    "print(\"完了!\")\n",
    "!wc -l sentiment_analysis_KNBC/*"
   ]
  },
  {
   "cell_type": "markdown",
   "metadata": {
    "colab_type": "text",
    "id": "eRV8x7rOsdJA"
   },
   "source": [
    "680文生成されました。"
   ]
  },
  {
   "cell_type": "markdown",
   "metadata": {
    "colab_type": "text",
    "id": "Un-hogUSsa3S"
   },
   "source": [
    "データの中身を見てみます。以下ではランダムに選んだ10件を表形式で表示しています。"
   ]
  },
  {
   "cell_type": "code",
   "execution_count": 4,
   "metadata": {
    "colab": {
     "base_uri": "https://localhost:8080/",
     "height": 408
    },
    "colab_type": "code",
    "id": "vHrVeMZ3rZpY",
    "outputId": "950d6e7c-bc9a-48ed-8242-944185ac12bd"
   },
   "outputs": [
    {
     "data": {
      "text/html": [
       "<style  type=\"text/css\" >\n",
       "    #T_ae01e76a_11a6_11ea_8c36_6fabea3a1b28 th {\n",
       "          text-align: center;\n",
       "    }    #T_ae01e76a_11a6_11ea_8c36_6fabea3a1b28 td {\n",
       "          text-align: left;\n",
       "    }</style><table id=\"T_ae01e76a_11a6_11ea_8c36_6fabea3a1b28\" ><thead>    <tr>        <th class=\"blank level0\" ></th>        <th class=\"col_heading level0 col0\" >sentence</th>        <th class=\"col_heading level0 col1\" >label</th>    </tr></thead><tbody>\n",
       "                <tr>\n",
       "                        <th id=\"T_ae01e76a_11a6_11ea_8c36_6fabea3a1b28level0_row0\" class=\"row_heading level0 row0\" >391</th>\n",
       "                        <td id=\"T_ae01e76a_11a6_11ea_8c36_6fabea3a1b28row0_col0\" class=\"data row0 col0\" >塩 タン に カルビ に ハラミ に 、 そこ は まるで 焼肉 パラダイス ☆☆</td>\n",
       "                        <td id=\"T_ae01e76a_11a6_11ea_8c36_6fabea3a1b28row0_col1\" class=\"data row0 col1\" >1</td>\n",
       "            </tr>\n",
       "            <tr>\n",
       "                        <th id=\"T_ae01e76a_11a6_11ea_8c36_6fabea3a1b28level0_row1\" class=\"row_heading level0 row1\" >0</th>\n",
       "                        <td id=\"T_ae01e76a_11a6_11ea_8c36_6fabea3a1b28row1_col0\" class=\"data row1 col0\" >今 の １ 回生 で は １ 番 漕 暦 が 浅い のに 持ち前 の 体力 と 精神 力 で レース 出場 権 を 手 に した 。</td>\n",
       "                        <td id=\"T_ae01e76a_11a6_11ea_8c36_6fabea3a1b28row1_col1\" class=\"data row1 col1\" >1</td>\n",
       "            </tr>\n",
       "            <tr>\n",
       "                        <th id=\"T_ae01e76a_11a6_11ea_8c36_6fabea3a1b28level0_row2\" class=\"row_heading level0 row2\" >344</th>\n",
       "                        <td id=\"T_ae01e76a_11a6_11ea_8c36_6fabea3a1b28row2_col0\" class=\"data row2 col0\" >以外に おいしかった よー 。</td>\n",
       "                        <td id=\"T_ae01e76a_11a6_11ea_8c36_6fabea3a1b28row2_col1\" class=\"data row2 col1\" >1</td>\n",
       "            </tr>\n",
       "            <tr>\n",
       "                        <th id=\"T_ae01e76a_11a6_11ea_8c36_6fabea3a1b28level0_row3\" class=\"row_heading level0 row3\" >3</th>\n",
       "                        <td id=\"T_ae01e76a_11a6_11ea_8c36_6fabea3a1b28row3_col0\" class=\"data row3 col0\" >今年 の インカレ で 男子 エイト が 準 優勝 する くらい 、 男子 は 部員 も 多く 、 練習 も きつい のに 、 私 たち は 彼ら より も 多く の 練習 を こなして きた 。</td>\n",
       "                        <td id=\"T_ae01e76a_11a6_11ea_8c36_6fabea3a1b28row3_col1\" class=\"data row3 col1\" >1</td>\n",
       "            </tr>\n",
       "            <tr>\n",
       "                        <th id=\"T_ae01e76a_11a6_11ea_8c36_6fabea3a1b28level0_row4\" class=\"row_heading level0 row4\" >446</th>\n",
       "                        <td id=\"T_ae01e76a_11a6_11ea_8c36_6fabea3a1b28row4_col0\" class=\"data row4 col0\" >前 に だれ か が いって た けど 、 外国 人 に は やっぱ 金閣寺 の ほう が 感激 の 度合い が 大きい らしい です 。</td>\n",
       "                        <td id=\"T_ae01e76a_11a6_11ea_8c36_6fabea3a1b28row4_col1\" class=\"data row4 col1\" >1</td>\n",
       "            </tr>\n",
       "            <tr>\n",
       "                        <th id=\"T_ae01e76a_11a6_11ea_8c36_6fabea3a1b28level0_row5\" class=\"row_heading level0 row5\" >293</th>\n",
       "                        <td id=\"T_ae01e76a_11a6_11ea_8c36_6fabea3a1b28row5_col0\" class=\"data row5 col0\" >誰 でも 割り が 始まって しまった から 、 料金 の 比較 も ぁんまり 頼り に なら なくて 。</td>\n",
       "                        <td id=\"T_ae01e76a_11a6_11ea_8c36_6fabea3a1b28row5_col1\" class=\"data row5 col1\" >0</td>\n",
       "            </tr>\n",
       "            <tr>\n",
       "                        <th id=\"T_ae01e76a_11a6_11ea_8c36_6fabea3a1b28level0_row6\" class=\"row_heading level0 row6\" >387</th>\n",
       "                        <td id=\"T_ae01e76a_11a6_11ea_8c36_6fabea3a1b28row6_col0\" class=\"data row6 col0\" >… つくづく 幸せな 人間 である 。</td>\n",
       "                        <td id=\"T_ae01e76a_11a6_11ea_8c36_6fabea3a1b28row6_col1\" class=\"data row6 col1\" >1</td>\n",
       "            </tr>\n",
       "            <tr>\n",
       "                        <th id=\"T_ae01e76a_11a6_11ea_8c36_6fabea3a1b28level0_row7\" class=\"row_heading level0 row7\" >4</th>\n",
       "                        <td id=\"T_ae01e76a_11a6_11ea_8c36_6fabea3a1b28row7_col0\" class=\"data row7 col0\" >いける かも しれ ない 。</td>\n",
       "                        <td id=\"T_ae01e76a_11a6_11ea_8c36_6fabea3a1b28row7_col1\" class=\"data row7 col1\" >1</td>\n",
       "            </tr>\n",
       "            <tr>\n",
       "                        <th id=\"T_ae01e76a_11a6_11ea_8c36_6fabea3a1b28level0_row8\" class=\"row_heading level0 row8\" >201</th>\n",
       "                        <td id=\"T_ae01e76a_11a6_11ea_8c36_6fabea3a1b28row8_col0\" class=\"data row8 col0\" >とても 安心 して 使える もの だ と いう のだ 。</td>\n",
       "                        <td id=\"T_ae01e76a_11a6_11ea_8c36_6fabea3a1b28row8_col1\" class=\"data row8 col1\" >1</td>\n",
       "            </tr>\n",
       "            <tr>\n",
       "                        <th id=\"T_ae01e76a_11a6_11ea_8c36_6fabea3a1b28level0_row9\" class=\"row_heading level0 row9\" >535</th>\n",
       "                        <td id=\"T_ae01e76a_11a6_11ea_8c36_6fabea3a1b28row9_col0\" class=\"data row9 col0\" >どうせ 、 観光 客 は 殆ど が 次に 挙げる ような 美辞麗句 だけ 鵜呑み に して いる のだ 。</td>\n",
       "                        <td id=\"T_ae01e76a_11a6_11ea_8c36_6fabea3a1b28row9_col1\" class=\"data row9 col1\" >0</td>\n",
       "            </tr>\n",
       "    </tbody></table>"
      ],
      "text/plain": [
       "<pandas.io.formats.style.Styler at 0x7f2e0ead6748>"
      ]
     },
     "execution_count": 4,
     "metadata": {},
     "output_type": "execute_result"
    }
   ],
   "source": [
    "import pandas as pd\n",
    "\n",
    "data_sentiment = pd.read_csv('sentiment_analysis_KNBC/all.tsv', encoding='utf-8', delimiter='\\t', names=('sentence', 'label'))\n",
    "\n",
    "data_sentiment.sample(10).style.set_table_styles(\n",
    "                [{'selector': 'th',\n",
    "                  'props': [('text-align', 'center')]}, \n",
    "                 {'selector': 'td',\n",
    "                  'props': [('text-align', 'left')]}])"
   ]
  },
  {
   "cell_type": "markdown",
   "metadata": {
    "colab_type": "text",
    "id": "lDaJvixWtAwM"
   },
   "source": [
    "pandasを使えば以下のようにラベルの頻度を簡単に集計することができます。\"1\"が\"0\"の2倍弱多いことがわかります。"
   ]
  },
  {
   "cell_type": "code",
   "execution_count": 5,
   "metadata": {
    "colab": {
     "base_uri": "https://localhost:8080/",
     "height": 70
    },
    "colab_type": "code",
    "id": "KERJpp3tr-Rq",
    "outputId": "6ff7cfd3-d878-4bca-b1e0-6e65080fce20"
   },
   "outputs": [
    {
     "data": {
      "text/plain": [
       "1    436\n",
       "0    244\n",
       "Name: label, dtype: int64"
      ]
     },
     "execution_count": 5,
     "metadata": {},
     "output_type": "execute_result"
    }
   ],
   "source": [
    "data_sentiment[\"label\"].value_counts()"
   ]
  },
  {
   "cell_type": "markdown",
   "metadata": {
    "colab_type": "text",
    "id": "eMXRFhYQujtW"
   },
   "source": [
    "次にtrain/dev/testに分割 (split)します。ここでは8:1:1の割合で分割します。ここでもpandasを使います。"
   ]
  },
  {
   "cell_type": "code",
   "execution_count": 6,
   "metadata": {
    "colab": {},
    "colab_type": "code",
    "id": "ilHcLCTLsH2j"
   },
   "outputs": [],
   "source": [
    " import numpy as np\n",
    " \n",
    " def split_train_dev_test(data, dirname, header,\n",
    "                         split_ratios=(0.8, 0.1, 0.1)):\n",
    "\n",
    "    ts = data.shape\n",
    "    df = pd.DataFrame(data)\n",
    "    shuffle_df = df.reindex(np.random.permutation(df.index))\n",
    "\n",
    "    indice_1 = int(ts[0] * split_ratios[0])\n",
    "    indice_2 = int(ts[0] * (split_ratios[0] + split_ratios[1]))\n",
    "\n",
    "    shuffle_df[:indice_1].to_csv(f\"{dirname}/train.tsv\",header=header, sep='\\t', index=False)\n",
    "    shuffle_df[indice_1:indice_2].to_csv(f\"{dirname}/dev.tsv\",header=header, sep='\\t', index=False)\n",
    "    shuffle_df[indice_2:].to_csv(f\"{dirname}/test.tsv\",header=header, sep='\\t', index=False)        "
   ]
  },
  {
   "cell_type": "code",
   "execution_count": 7,
   "metadata": {
    "colab": {},
    "colab_type": "code",
    "id": "mJUwJshJsade"
   },
   "outputs": [
    {
     "name": "stdout",
     "output_type": "stream",
     "text": [
      "完了!\n"
     ]
    }
   ],
   "source": [
    "split_train_dev_test(data_sentiment, \"sentiment_analysis_KNBC\", (\"sentence\", \"label\"))\n",
    "print(\"完了!\")"
   ]
  },
  {
   "cell_type": "markdown",
   "metadata": {
    "colab_type": "text",
    "id": "2CHP0p2Du9Cl"
   },
   "source": [
    "以下のように分割されました。"
   ]
  },
  {
   "cell_type": "code",
   "execution_count": 8,
   "metadata": {
    "colab": {
     "base_uri": "https://localhost:8080/",
     "height": 106
    },
    "colab_type": "code",
    "id": "MmYN6-uuu_2K",
    "outputId": "ba293e8a-1e42-491a-cdd9-f4125eae5dbd"
   },
   "outputs": [
    {
     "name": "stdout",
     "output_type": "stream",
     "text": [
      "   680 sentiment_analysis_KNBC/all.tsv\r\n",
      "    69 sentiment_analysis_KNBC/dev.tsv\r\n",
      "    69 sentiment_analysis_KNBC/test.tsv\r\n",
      "   545 sentiment_analysis_KNBC/train.tsv\r\n",
      "  1363 total\r\n"
     ]
    }
   ],
   "source": [
    "!wc -l sentiment_analysis_KNBC/*.tsv"
   ]
  },
  {
   "cell_type": "markdown",
   "metadata": {
    "colab_type": "text",
    "id": "f2JH2jZavpC_"
   },
   "source": [
    "中身をみてみます。SST-2と同じ形式のファイルができました。\n",
    "実際のデータは形態素分析をして、入力してあげる必要がある"
   ]
  },
  {
   "cell_type": "code",
   "execution_count": 9,
   "metadata": {
    "colab": {
     "base_uri": "https://localhost:8080/",
     "height": 214
    },
    "colab_type": "code",
    "id": "S-IjySiMs9pF",
    "outputId": "38bc7cf3-accb-4081-f321-4648e1aeab31"
   },
   "outputs": [
    {
     "name": "stdout",
     "output_type": "stream",
     "text": [
      "sentence\tlabel\r\n",
      "私 自身 の 携帯 に は 装備 さ れて い なかった ので ， これ が 結構 大きな 買い換え に 対する 動機付け と なり ました （ 笑 ）\t1\r\n",
      "そして 、 その 祭り が どれ も 、 それなり に 歴史 なり 、 由来 が ある から 恐ろしい 。\t1\r\n",
      "前 に だれ か が いって た けど 、 外国 人 に は やっぱ 金閣寺 の ほう が 感激 の 度合い が 大きい らしい です 。\t1\r\n",
      "なんだか 支離滅裂な 文章 に なって しまい ました が 今回 は これ で おしまい 。\t0\r\n",
      "つまり 「 無い物ねだり 」 である 。\t0\r\n",
      "確かに プリペイド に は 、 いく つ か の 弱点 が ある 。\t0\r\n",
      "面倒やん 。\t0\r\n",
      "確かに 銀閣寺 は しょぼい 。\t0\r\n",
      "デジカメ が ない 時 でも ぱっと 撮影 できて 大変 便利である 。\t1\r\n"
     ]
    }
   ],
   "source": [
    "!head sentiment_analysis_KNBC/train.tsv"
   ]
  },
  {
   "cell_type": "markdown",
   "metadata": {
    "colab_type": "text",
    "id": "KX8dYZnp3yr_"
   },
   "source": [
    "### 手順2. Fine-tuning"
   ]
  },
  {
   "cell_type": "markdown",
   "metadata": {
    "colab_type": "text",
    "id": "pJPkYVq830gt"
   },
   "source": [
    "英語のGLUEのfine-tuningと同様に run_glue.py を実行します。変更点は以下のとおりです。\n",
    "*   --model_name_or_pathオプションで日本語pre-trainedモデルを指定 (/data/nlp/tool/bert/Japanese_L-12_H-768_A-12_E-30_BPE_transformers)\n",
    "*   --do_lower_caseを削除 (tokenizer_config.jsonでfalseにしていますが念のため)\n",
    "*   --data_dirオプションで先ほど作ったデータのディレクトリを指定\n",
    "\n",
    "SST-2よりもさらにサイズが小さいため、3エポックでも2分程度で終わります。\n"
   ]
  },
  {
   "cell_type": "code",
   "execution_count": 10,
   "metadata": {
    "colab": {
     "base_uri": "https://localhost:8080/",
     "height": 1000
    },
    "colab_type": "code",
    "id": "f6ai0mnO1YJ3",
    "outputId": "1fa0604b-6a1f-42bc-ed4b-b2a4f75b331f"
   },
   "outputs": [
    {
     "name": "stdout",
     "output_type": "stream",
     "text": [
      "11/28/2019 15:23:44 - WARNING - __main__ -   Process rank: -1, device: cuda, n_gpu: 1, distributed training: False, 16-bits training: False\n",
      "11/28/2019 15:23:44 - INFO - transformers.configuration_utils -   loading configuration file /data/nlp/tool/bert/Japanese_L-12_H-768_A-12_E-30_BPE_transformers/config.json\n",
      "11/28/2019 15:23:44 - INFO - transformers.configuration_utils -   Model config {\n",
      "  \"attention_probs_dropout_prob\": 0.1,\n",
      "  \"finetuning_task\": \"sst-2\",\n",
      "  \"hidden_act\": \"gelu\",\n",
      "  \"hidden_dropout_prob\": 0.1,\n",
      "  \"hidden_size\": 768,\n",
      "  \"initializer_range\": 0.02,\n",
      "  \"intermediate_size\": 3072,\n",
      "  \"is_decoder\": false,\n",
      "  \"layer_norm_eps\": 1e-12,\n",
      "  \"max_position_embeddings\": 512,\n",
      "  \"num_attention_heads\": 12,\n",
      "  \"num_hidden_layers\": 12,\n",
      "  \"num_labels\": 2,\n",
      "  \"output_attentions\": false,\n",
      "  \"output_hidden_states\": false,\n",
      "  \"output_past\": true,\n",
      "  \"pruned_heads\": {},\n",
      "  \"torchscript\": false,\n",
      "  \"type_vocab_size\": 2,\n",
      "  \"use_bfloat16\": false,\n",
      "  \"vocab_size\": 32006\n",
      "}\n",
      "\n",
      "11/28/2019 15:23:44 - INFO - transformers.tokenization_utils -   Model name '/data/nlp/tool/bert/Japanese_L-12_H-768_A-12_E-30_BPE_transformers' not found in model shortcut name list (bert-base-uncased, bert-large-uncased, bert-base-cased, bert-large-cased, bert-base-multilingual-uncased, bert-base-multilingual-cased, bert-base-chinese, bert-base-german-cased, bert-large-uncased-whole-word-masking, bert-large-cased-whole-word-masking, bert-large-uncased-whole-word-masking-finetuned-squad, bert-large-cased-whole-word-masking-finetuned-squad, bert-base-cased-finetuned-mrpc, bert-base-german-dbmdz-cased, bert-base-german-dbmdz-uncased). Assuming '/data/nlp/tool/bert/Japanese_L-12_H-768_A-12_E-30_BPE_transformers' is a path or url to a directory containing tokenizer files.\n",
      "11/28/2019 15:23:44 - INFO - transformers.tokenization_utils -   Didn't find file /data/nlp/tool/bert/Japanese_L-12_H-768_A-12_E-30_BPE_transformers/added_tokens.json. We won't load it.\n",
      "11/28/2019 15:23:44 - INFO - transformers.tokenization_utils -   Didn't find file /data/nlp/tool/bert/Japanese_L-12_H-768_A-12_E-30_BPE_transformers/special_tokens_map.json. We won't load it.\n",
      "11/28/2019 15:23:44 - INFO - transformers.tokenization_utils -   loading file /data/nlp/tool/bert/Japanese_L-12_H-768_A-12_E-30_BPE_transformers/vocab.txt\n",
      "11/28/2019 15:23:44 - INFO - transformers.tokenization_utils -   loading file None\n",
      "11/28/2019 15:23:44 - INFO - transformers.tokenization_utils -   loading file None\n",
      "11/28/2019 15:23:44 - INFO - transformers.tokenization_utils -   loading file /data/nlp/tool/bert/Japanese_L-12_H-768_A-12_E-30_BPE_transformers/tokenizer_config.json\n",
      "11/28/2019 15:23:45 - INFO - transformers.modeling_utils -   loading weights file /data/nlp/tool/bert/Japanese_L-12_H-768_A-12_E-30_BPE_transformers/pytorch_model.bin\n",
      "11/28/2019 15:23:47 - INFO - transformers.modeling_utils -   Weights of BertForSequenceClassification not initialized from pretrained model: ['classifier.weight', 'classifier.bias']\n",
      "11/28/2019 15:23:47 - INFO - transformers.modeling_utils -   Weights from pretrained model not used in BertForSequenceClassification: ['cls.predictions.bias', 'cls.predictions.transform.dense.weight', 'cls.predictions.transform.dense.bias', 'cls.predictions.transform.LayerNorm.weight', 'cls.predictions.transform.LayerNorm.bias', 'cls.predictions.decoder.weight', 'cls.seq_relationship.weight', 'cls.seq_relationship.bias']\n",
      "11/28/2019 15:23:49 - INFO - __main__ -   Training/evaluation parameters Namespace(adam_epsilon=1e-08, cache_dir='', config_name='', data_dir='sentiment_analysis_KNBC', device=device(type='cuda'), do_eval=True, do_lower_case=False, do_train=True, eval_all_checkpoints=False, evaluate_during_training=False, fp16=False, fp16_opt_level='O1', gradient_accumulation_steps=1, learning_rate=2e-05, local_rank=-1, logging_steps=50, max_grad_norm=1.0, max_seq_length=128, max_steps=-1, model_name_or_path='/data/nlp/tool/bert/Japanese_L-12_H-768_A-12_E-30_BPE_transformers', model_type='bert', n_gpu=1, no_cuda=False, num_train_epochs=3.0, output_dir='KNBC_result/sentiment_analysis/', output_mode='classification', overwrite_cache=True, overwrite_output_dir=True, per_gpu_eval_batch_size=8, per_gpu_train_batch_size=8, save_steps=1000, seed=42, server_ip='', server_port='', task_name='sst-2', tokenizer_name='', tpu=False, tpu_ip_address='', tpu_name='', warmup_steps=0, weight_decay=0.0, xrt_tpu_config='')\n",
      "11/28/2019 15:23:49 - INFO - __main__ -   Creating features from dataset file at sentiment_analysis_KNBC\n",
      "11/28/2019 15:23:49 - INFO - transformers.data.processors.glue -   Writing example 0\n",
      "11/28/2019 15:23:49 - INFO - transformers.data.processors.glue -   *** Example ***\n",
      "11/28/2019 15:23:49 - INFO - transformers.data.processors.glue -   guid: train-1\n",
      "11/28/2019 15:23:49 - INFO - transformers.data.processors.glue -   input_ids: 2 1038 373 5 2915 8 9 1143 18 33 142 116 314 176 73 11 6365 16865 522 4770 25301 8 488 9484 4545 12 105 4561 16 11009 17 3 0 0 0 0 0 0 0 0 0 0 0 0 0 0 0 0 0 0 0 0 0 0 0 0 0 0 0 0 0 0 0 0 0 0 0 0 0 0 0 0 0 0 0 0 0 0 0 0 0 0 0 0 0 0 0 0 0 0 0 0 0 0 0 0 0 0 0 0 0 0 0 0 0 0 0 0 0 0 0 0 0 0 0 0 0 0 0 0 0 0 0 0 0 0 0 0\n",
      "11/28/2019 15:23:49 - INFO - transformers.data.processors.glue -   attention_mask: 1 1 1 1 1 1 1 1 1 1 1 1 1 1 1 1 1 1 1 1 1 1 1 1 1 1 1 1 1 1 1 1 0 0 0 0 0 0 0 0 0 0 0 0 0 0 0 0 0 0 0 0 0 0 0 0 0 0 0 0 0 0 0 0 0 0 0 0 0 0 0 0 0 0 0 0 0 0 0 0 0 0 0 0 0 0 0 0 0 0 0 0 0 0 0 0 0 0 0 0 0 0 0 0 0 0 0 0 0 0 0 0 0 0 0 0 0 0 0 0 0 0 0 0 0 0 0 0\n",
      "11/28/2019 15:23:49 - INFO - transformers.data.processors.glue -   token_type_ids: 0 0 0 0 0 0 0 0 0 0 0 0 0 0 0 0 0 0 0 0 0 0 0 0 0 0 0 0 0 0 0 0 0 0 0 0 0 0 0 0 0 0 0 0 0 0 0 0 0 0 0 0 0 0 0 0 0 0 0 0 0 0 0 0 0 0 0 0 0 0 0 0 0 0 0 0 0 0 0 0 0 0 0 0 0 0 0 0 0 0 0 0 0 0 0 0 0 0 0 0 0 0 0 0 0 0 0 0 0 0 0 0 0 0 0 0 0 0 0 0 0 0 0 0 0 0 0 0\n",
      "11/28/2019 15:23:49 - INFO - transformers.data.processors.glue -   label: 1 (id = 1)\n",
      "11/28/2019 15:23:49 - INFO - transformers.data.processors.glue -   *** Example ***\n",
      "11/28/2019 15:23:49 - INFO - transformers.data.processors.glue -   guid: train-2\n",
      "11/28/2019 15:23:49 - INFO - transformers.data.processors.glue -   input_ids: 2 355 6 58 5309 11 7917 23 6 20323 8 459 105 6 818 11 38 27 21833 7 3 0 0 0 0 0 0 0 0 0 0 0 0 0 0 0 0 0 0 0 0 0 0 0 0 0 0 0 0 0 0 0 0 0 0 0 0 0 0 0 0 0 0 0 0 0 0 0 0 0 0 0 0 0 0 0 0 0 0 0 0 0 0 0 0 0 0 0 0 0 0 0 0 0 0 0 0 0 0 0 0 0 0 0 0 0 0 0 0 0 0 0 0 0 0 0 0 0 0 0 0 0 0 0 0 0 0 0\n",
      "11/28/2019 15:23:49 - INFO - transformers.data.processors.glue -   attention_mask: 1 1 1 1 1 1 1 1 1 1 1 1 1 1 1 1 1 1 1 1 1 0 0 0 0 0 0 0 0 0 0 0 0 0 0 0 0 0 0 0 0 0 0 0 0 0 0 0 0 0 0 0 0 0 0 0 0 0 0 0 0 0 0 0 0 0 0 0 0 0 0 0 0 0 0 0 0 0 0 0 0 0 0 0 0 0 0 0 0 0 0 0 0 0 0 0 0 0 0 0 0 0 0 0 0 0 0 0 0 0 0 0 0 0 0 0 0 0 0 0 0 0 0 0 0 0 0 0\n",
      "11/28/2019 15:23:49 - INFO - transformers.data.processors.glue -   token_type_ids: 0 0 0 0 0 0 0 0 0 0 0 0 0 0 0 0 0 0 0 0 0 0 0 0 0 0 0 0 0 0 0 0 0 0 0 0 0 0 0 0 0 0 0 0 0 0 0 0 0 0 0 0 0 0 0 0 0 0 0 0 0 0 0 0 0 0 0 0 0 0 0 0 0 0 0 0 0 0 0 0 0 0 0 0 0 0 0 0 0 0 0 0 0 0 0 0 0 0 0 0 0 0 0 0 0 0 0 0 0 0 0 0 0 0 0 0 0 0 0 0 0 0 0 0 0 0 0 0\n",
      "11/28/2019 15:23:49 - INFO - transformers.data.processors.glue -   label: 1 (id = 1)\n",
      "11/28/2019 15:23:49 - INFO - transformers.data.processors.glue -   *** Example ***\n",
      "11/28/2019 15:23:49 - INFO - transformers.data.processors.glue -   guid: train-3\n",
      "11/28/2019 15:23:49 - INFO - transformers.data.processors.glue -   input_ids: 2 134 8 23859 90 11 6676 1426 10281 6 1283 50 8 9 34 16872 306 10923 1089 5 2669 11 30308 5 19622 11 2319 5260 3338 7 3 0 0 0 0 0 0 0 0 0 0 0 0 0 0 0 0 0 0 0 0 0 0 0 0 0 0 0 0 0 0 0 0 0 0 0 0 0 0 0 0 0 0 0 0 0 0 0 0 0 0 0 0 0 0 0 0 0 0 0 0 0 0 0 0 0 0 0 0 0 0 0 0 0 0 0 0 0 0 0 0 0 0 0 0 0 0 0 0 0 0 0 0 0 0 0 0 0\n",
      "11/28/2019 15:23:49 - INFO - transformers.data.processors.glue -   attention_mask: 1 1 1 1 1 1 1 1 1 1 1 1 1 1 1 1 1 1 1 1 1 1 1 1 1 1 1 1 1 1 1 0 0 0 0 0 0 0 0 0 0 0 0 0 0 0 0 0 0 0 0 0 0 0 0 0 0 0 0 0 0 0 0 0 0 0 0 0 0 0 0 0 0 0 0 0 0 0 0 0 0 0 0 0 0 0 0 0 0 0 0 0 0 0 0 0 0 0 0 0 0 0 0 0 0 0 0 0 0 0 0 0 0 0 0 0 0 0 0 0 0 0 0 0 0 0 0 0\n",
      "11/28/2019 15:23:49 - INFO - transformers.data.processors.glue -   token_type_ids: 0 0 0 0 0 0 0 0 0 0 0 0 0 0 0 0 0 0 0 0 0 0 0 0 0 0 0 0 0 0 0 0 0 0 0 0 0 0 0 0 0 0 0 0 0 0 0 0 0 0 0 0 0 0 0 0 0 0 0 0 0 0 0 0 0 0 0 0 0 0 0 0 0 0 0 0 0 0 0 0 0 0 0 0 0 0 0 0 0 0 0 0 0 0 0 0 0 0 0 0 0 0 0 0 0 0 0 0 0 0 0 0 0 0 0 0 0 0 0 0 0 0 0 0 0 0 0 0\n",
      "11/28/2019 15:23:49 - INFO - transformers.data.processors.glue -   label: 1 (id = 1)\n",
      "11/28/2019 15:23:49 - INFO - transformers.data.processors.glue -   *** Example ***\n",
      "11/28/2019 15:23:49 - INFO - transformers.data.processors.glue -   guid: train-4\n",
      "11/28/2019 15:23:49 - INFO - transformers.data.processors.glue -   input_ids: 2 7548 29209 7316 14078 12536 11413 275 5695 8 78 3053 4561 11 5766 9 73 13 273 8266 574 7 3 0 0 0 0 0 0 0 0 0 0 0 0 0 0 0 0 0 0 0 0 0 0 0 0 0 0 0 0 0 0 0 0 0 0 0 0 0 0 0 0 0 0 0 0 0 0 0 0 0 0 0 0 0 0 0 0 0 0 0 0 0 0 0 0 0 0 0 0 0 0 0 0 0 0 0 0 0 0 0 0 0 0 0 0 0 0 0 0 0 0 0 0 0 0 0 0 0 0 0 0 0 0 0 0 0\n",
      "11/28/2019 15:23:49 - INFO - transformers.data.processors.glue -   attention_mask: 1 1 1 1 1 1 1 1 1 1 1 1 1 1 1 1 1 1 1 1 1 1 1 0 0 0 0 0 0 0 0 0 0 0 0 0 0 0 0 0 0 0 0 0 0 0 0 0 0 0 0 0 0 0 0 0 0 0 0 0 0 0 0 0 0 0 0 0 0 0 0 0 0 0 0 0 0 0 0 0 0 0 0 0 0 0 0 0 0 0 0 0 0 0 0 0 0 0 0 0 0 0 0 0 0 0 0 0 0 0 0 0 0 0 0 0 0 0 0 0 0 0 0 0 0 0 0 0\n",
      "11/28/2019 15:23:49 - INFO - transformers.data.processors.glue -   token_type_ids: 0 0 0 0 0 0 0 0 0 0 0 0 0 0 0 0 0 0 0 0 0 0 0 0 0 0 0 0 0 0 0 0 0 0 0 0 0 0 0 0 0 0 0 0 0 0 0 0 0 0 0 0 0 0 0 0 0 0 0 0 0 0 0 0 0 0 0 0 0 0 0 0 0 0 0 0 0 0 0 0 0 0 0 0 0 0 0 0 0 0 0 0 0 0 0 0 0 0 0 0 0 0 0 0 0 0 0 0 0 0 0 0 0 0 0 0 0 0 0 0 0 0 0 0 0 0 0 0\n",
      "11/28/2019 15:23:49 - INFO - transformers.data.processors.glue -   label: 0 (id = 0)\n",
      "11/28/2019 15:23:49 - INFO - transformers.data.processors.glue -   *** Example ***\n",
      "11/28/2019 15:23:49 - INFO - transformers.data.processors.glue -   guid: train-5\n",
      "11/28/2019 15:23:49 - INFO - transformers.data.processors.glue -   input_ids: 2 2524 24 1674 1473 3861 1201 445 25 32 7 3 0 0 0 0 0 0 0 0 0 0 0 0 0 0 0 0 0 0 0 0 0 0 0 0 0 0 0 0 0 0 0 0 0 0 0 0 0 0 0 0 0 0 0 0 0 0 0 0 0 0 0 0 0 0 0 0 0 0 0 0 0 0 0 0 0 0 0 0 0 0 0 0 0 0 0 0 0 0 0 0 0 0 0 0 0 0 0 0 0 0 0 0 0 0 0 0 0 0 0 0 0 0 0 0 0 0 0 0 0 0 0 0 0 0 0 0\n",
      "11/28/2019 15:23:49 - INFO - transformers.data.processors.glue -   attention_mask: 1 1 1 1 1 1 1 1 1 1 1 1 0 0 0 0 0 0 0 0 0 0 0 0 0 0 0 0 0 0 0 0 0 0 0 0 0 0 0 0 0 0 0 0 0 0 0 0 0 0 0 0 0 0 0 0 0 0 0 0 0 0 0 0 0 0 0 0 0 0 0 0 0 0 0 0 0 0 0 0 0 0 0 0 0 0 0 0 0 0 0 0 0 0 0 0 0 0 0 0 0 0 0 0 0 0 0 0 0 0 0 0 0 0 0 0 0 0 0 0 0 0 0 0 0 0 0 0\n",
      "11/28/2019 15:23:49 - INFO - transformers.data.processors.glue -   token_type_ids: 0 0 0 0 0 0 0 0 0 0 0 0 0 0 0 0 0 0 0 0 0 0 0 0 0 0 0 0 0 0 0 0 0 0 0 0 0 0 0 0 0 0 0 0 0 0 0 0 0 0 0 0 0 0 0 0 0 0 0 0 0 0 0 0 0 0 0 0 0 0 0 0 0 0 0 0 0 0 0 0 0 0 0 0 0 0 0 0 0 0 0 0 0 0 0 0 0 0 0 0 0 0 0 0 0 0 0 0 0 0 0 0 0 0 0 0 0 0 0 0 0 0 0 0 0 0 0 0\n",
      "11/28/2019 15:23:49 - INFO - transformers.data.processors.glue -   label: 0 (id = 0)\n"
     ]
    },
    {
     "name": "stdout",
     "output_type": "stream",
     "text": [
      "11/28/2019 15:23:50 - INFO - __main__ -   Saving features into cached file sentiment_analysis_KNBC/cached_train_Japanese_L-12_H-768_A-12_E-30_BPE_transformers_128_sst-2\n",
      "11/28/2019 15:23:50 - INFO - __main__ -   ***** Running training *****\n",
      "11/28/2019 15:23:50 - INFO - __main__ -     Num examples = 544\n",
      "11/28/2019 15:23:50 - INFO - __main__ -     Num Epochs = 3\n",
      "11/28/2019 15:23:50 - INFO - __main__ -     Instantaneous batch size per GPU = 8\n",
      "11/28/2019 15:23:50 - INFO - __main__ -     Total train batch size (w. parallel, distributed & accumulation) = 8\n",
      "11/28/2019 15:23:50 - INFO - __main__ -     Gradient Accumulation steps = 1\n",
      "11/28/2019 15:23:50 - INFO - __main__ -     Total optimization steps = 204\n",
      "Epoch:   0%|                                              | 0/3 [00:00<?, ?it/s]\n",
      "Iteration:   0%|                                         | 0/68 [00:00<?, ?it/s]\u001b[A\n",
      "Iteration:   1%|▍                                | 1/68 [00:00<00:45,  1.48it/s]\u001b[A\n",
      "Iteration:   3%|▉                                | 2/68 [00:01<00:40,  1.64it/s]\u001b[A\n",
      "Iteration:   4%|█▍                               | 3/68 [00:01<00:36,  1.78it/s]\u001b[A\n",
      "Iteration:   6%|█▉                               | 4/68 [00:02<00:33,  1.90it/s]\u001b[A\n",
      "Iteration:   7%|██▍                              | 5/68 [00:02<00:31,  1.99it/s]\u001b[A\n",
      "Iteration:   9%|██▉                              | 6/68 [00:02<00:30,  2.05it/s]\u001b[A\n",
      "Iteration:  10%|███▍                             | 7/68 [00:03<00:29,  2.09it/s]\u001b[A\n",
      "Iteration:  12%|███▉                             | 8/68 [00:03<00:28,  2.12it/s]\u001b[A\n",
      "Iteration:  13%|████▎                            | 9/68 [00:04<00:27,  2.15it/s]\u001b[A\n",
      "Iteration:  15%|████▋                           | 10/68 [00:04<00:26,  2.17it/s]\u001b[A\n",
      "Iteration:  16%|█████▏                          | 11/68 [00:05<00:26,  2.17it/s]\u001b[A\n",
      "Iteration:  18%|█████▋                          | 12/68 [00:05<00:25,  2.18it/s]\u001b[A\n",
      "Iteration:  19%|██████                          | 13/68 [00:06<00:25,  2.19it/s]\u001b[A\n",
      "Iteration:  21%|██████▌                         | 14/68 [00:06<00:24,  2.20it/s]\u001b[A\n",
      "Iteration:  22%|███████                         | 15/68 [00:07<00:24,  2.20it/s]\u001b[A\n",
      "Iteration:  24%|███████▌                        | 16/68 [00:07<00:23,  2.22it/s]\u001b[A\n",
      "Iteration:  25%|████████                        | 17/68 [00:07<00:23,  2.21it/s]\u001b[A\n",
      "Iteration:  26%|████████▍                       | 18/68 [00:08<00:22,  2.21it/s]\u001b[A\n",
      "Iteration:  28%|████████▉                       | 19/68 [00:08<00:22,  2.21it/s]\u001b[A\n",
      "Iteration:  29%|█████████▍                      | 20/68 [00:09<00:21,  2.21it/s]\u001b[A\n",
      "Iteration:  31%|█████████▉                      | 21/68 [00:09<00:21,  2.20it/s]\u001b[A\n",
      "Iteration:  32%|██████████▎                     | 22/68 [00:10<00:20,  2.20it/s]\u001b[A\n",
      "Iteration:  34%|██████████▊                     | 23/68 [00:10<00:20,  2.20it/s]\u001b[A\n",
      "Iteration:  35%|███████████▎                    | 24/68 [00:11<00:20,  2.20it/s]\u001b[A\n",
      "Iteration:  37%|███████████▊                    | 25/68 [00:11<00:19,  2.20it/s]\u001b[A\n",
      "Iteration:  38%|████████████▏                   | 26/68 [00:11<00:19,  2.21it/s]\u001b[A\n",
      "Iteration:  40%|████████████▋                   | 27/68 [00:12<00:18,  2.20it/s]\u001b[A\n",
      "Iteration:  41%|█████████████▏                  | 28/68 [00:12<00:18,  2.21it/s]\u001b[A\n",
      "Iteration:  43%|█████████████▋                  | 29/68 [00:13<00:17,  2.21it/s]\u001b[A\n",
      "Iteration:  44%|██████████████                  | 30/68 [00:13<00:17,  2.21it/s]\u001b[A\n",
      "Iteration:  46%|██████████████▌                 | 31/68 [00:14<00:16,  2.21it/s]\u001b[A\n",
      "Iteration:  47%|███████████████                 | 32/68 [00:14<00:16,  2.21it/s]\u001b[A\n",
      "Iteration:  49%|███████████████▌                | 33/68 [00:15<00:15,  2.21it/s]\u001b[A\n",
      "Iteration:  50%|████████████████                | 34/68 [00:15<00:15,  2.21it/s]\u001b[A\n",
      "Iteration:  51%|████████████████▍               | 35/68 [00:16<00:14,  2.21it/s]\u001b[A\n",
      "Iteration:  53%|████████████████▉               | 36/68 [00:16<00:14,  2.20it/s]\u001b[A\n",
      "Iteration:  54%|█████████████████▍              | 37/68 [00:16<00:14,  2.21it/s]\u001b[A\n",
      "Iteration:  56%|█████████████████▉              | 38/68 [00:17<00:13,  2.20it/s]\u001b[A\n",
      "Iteration:  57%|██████████████████▎             | 39/68 [00:17<00:13,  2.21it/s]\u001b[A\n",
      "Iteration:  59%|██████████████████▊             | 40/68 [00:18<00:12,  2.22it/s]\u001b[A\n",
      "Iteration:  60%|███████████████████▎            | 41/68 [00:18<00:12,  2.22it/s]\u001b[A\n",
      "Iteration:  62%|███████████████████▊            | 42/68 [00:19<00:11,  2.22it/s]\u001b[A\n",
      "Iteration:  63%|████████████████████▏           | 43/68 [00:19<00:11,  2.21it/s]\u001b[A\n",
      "Iteration:  65%|████████████████████▋           | 44/68 [00:20<00:10,  2.20it/s]\u001b[A\n",
      "Iteration:  66%|█████████████████████▏          | 45/68 [00:20<00:10,  2.18it/s]\u001b[A\n",
      "Iteration:  68%|█████████████████████▋          | 46/68 [00:21<00:09,  2.21it/s]\u001b[A\n",
      "Iteration:  69%|██████████████████████          | 47/68 [00:21<00:09,  2.20it/s]\u001b[A\n",
      "Iteration:  71%|██████████████████████▌         | 48/68 [00:21<00:09,  2.20it/s]\u001b[A\n",
      "Iteration:  72%|███████████████████████         | 49/68 [00:22<00:08,  2.21it/s]\u001b[A\n",
      "Iteration:  74%|███████████████████████▌        | 50/68 [00:22<00:08,  2.21it/s]\u001b[A\n",
      "Iteration:  75%|████████████████████████        | 51/68 [00:23<00:07,  2.20it/s]\u001b[A\n",
      "Iteration:  76%|████████████████████████▍       | 52/68 [00:23<00:07,  2.21it/s]\u001b[A\n",
      "Iteration:  78%|████████████████████████▉       | 53/68 [00:24<00:06,  2.20it/s]\u001b[A\n",
      "Iteration:  79%|█████████████████████████▍      | 54/68 [00:24<00:06,  2.19it/s]\u001b[A\n",
      "Iteration:  81%|█████████████████████████▉      | 55/68 [00:25<00:05,  2.21it/s]\u001b[A\n",
      "Iteration:  82%|██████████████████████████▎     | 56/68 [00:25<00:05,  2.21it/s]\u001b[A\n",
      "Iteration:  84%|██████████████████████████▊     | 57/68 [00:26<00:05,  2.20it/s]\u001b[A\n",
      "Iteration:  85%|███████████████████████████▎    | 58/68 [00:26<00:04,  2.21it/s]\u001b[A\n",
      "Iteration:  87%|███████████████████████████▊    | 59/68 [00:26<00:04,  2.20it/s]\u001b[A\n",
      "Iteration:  88%|████████████████████████████▏   | 60/68 [00:27<00:03,  2.19it/s]\u001b[A\n",
      "Iteration:  90%|████████████████████████████▋   | 61/68 [00:27<00:03,  2.19it/s]\u001b[A\n",
      "Iteration:  91%|█████████████████████████████▏  | 62/68 [00:28<00:02,  2.19it/s]\u001b[A\n",
      "Iteration:  93%|█████████████████████████████▋  | 63/68 [00:28<00:02,  2.19it/s]\u001b[A\n",
      "Iteration:  94%|██████████████████████████████  | 64/68 [00:29<00:01,  2.19it/s]\u001b[A\n",
      "Iteration:  96%|██████████████████████████████▌ | 65/68 [00:29<00:01,  2.20it/s]\u001b[A\n",
      "Iteration:  97%|███████████████████████████████ | 66/68 [00:30<00:00,  2.20it/s]\u001b[A\n",
      "Iteration:  99%|███████████████████████████████▌| 67/68 [00:30<00:00,  2.20it/s]\u001b[A\n",
      "Epoch:  33%|████████████▋                         | 1/3 [00:31<01:02, 31.05s/it]\u001b[A\n",
      "Iteration:   0%|                                         | 0/68 [00:00<?, ?it/s]\u001b[A\n",
      "Iteration:   1%|▍                                | 1/68 [00:00<00:30,  2.19it/s]\u001b[A\n",
      "Iteration:   3%|▉                                | 2/68 [00:00<00:30,  2.19it/s]\u001b[A\n",
      "Iteration:   4%|█▍                               | 3/68 [00:01<00:29,  2.20it/s]\u001b[A\n",
      "Iteration:   6%|█▉                               | 4/68 [00:01<00:29,  2.20it/s]\u001b[A\n",
      "Iteration:   7%|██▍                              | 5/68 [00:02<00:28,  2.19it/s]\u001b[A\n",
      "Iteration:   9%|██▉                              | 6/68 [00:02<00:28,  2.21it/s]\u001b[A\n",
      "Iteration:  10%|███▍                             | 7/68 [00:03<00:27,  2.21it/s]\u001b[A\n",
      "Iteration:  12%|███▉                             | 8/68 [00:03<00:27,  2.19it/s]\u001b[A\n",
      "Iteration:  13%|████▎                            | 9/68 [00:04<00:26,  2.21it/s]\u001b[A\n",
      "Iteration:  15%|████▋                           | 10/68 [00:04<00:26,  2.21it/s]\u001b[A\n",
      "Iteration:  16%|█████▏                          | 11/68 [00:04<00:25,  2.21it/s]\u001b[A\n",
      "Iteration:  18%|█████▋                          | 12/68 [00:05<00:25,  2.21it/s]\u001b[A\n",
      "Iteration:  19%|██████                          | 13/68 [00:05<00:24,  2.21it/s]\u001b[A\n",
      "Iteration:  21%|██████▌                         | 14/68 [00:06<00:24,  2.20it/s]\u001b[A\n",
      "Iteration:  22%|███████                         | 15/68 [00:06<00:24,  2.21it/s]\u001b[A\n",
      "Iteration:  24%|███████▌                        | 16/68 [00:07<00:23,  2.19it/s]\u001b[A\n",
      "Iteration:  25%|████████                        | 17/68 [00:07<00:23,  2.19it/s]\u001b[A\n",
      "Iteration:  26%|████████▍                       | 18/68 [00:08<00:22,  2.19it/s]\u001b[A\n"
     ]
    },
    {
     "name": "stdout",
     "output_type": "stream",
     "text": [
      "Iteration:  28%|████████▉                       | 19/68 [00:08<00:22,  2.20it/s]\u001b[A\n",
      "Iteration:  29%|█████████▍                      | 20/68 [00:09<00:21,  2.20it/s]\u001b[A\n",
      "Iteration:  31%|█████████▉                      | 21/68 [00:09<00:21,  2.21it/s]\u001b[A\n",
      "Iteration:  32%|██████████▎                     | 22/68 [00:09<00:20,  2.21it/s]\u001b[A\n",
      "Iteration:  34%|██████████▊                     | 23/68 [00:10<00:20,  2.21it/s]\u001b[A\n",
      "Iteration:  35%|███████████▎                    | 24/68 [00:10<00:19,  2.21it/s]\u001b[A\n",
      "Iteration:  37%|███████████▊                    | 25/68 [00:11<00:19,  2.21it/s]\u001b[A\n",
      "Iteration:  38%|████████████▏                   | 26/68 [00:11<00:19,  2.19it/s]\u001b[A\n",
      "Iteration:  40%|████████████▋                   | 27/68 [00:12<00:18,  2.19it/s]\u001b[A\n",
      "Iteration:  41%|█████████████▏                  | 28/68 [00:12<00:18,  2.19it/s]\u001b[A\n",
      "Iteration:  43%|█████████████▋                  | 29/68 [00:13<00:17,  2.19it/s]\u001b[A\n",
      "Iteration:  44%|██████████████                  | 30/68 [00:13<00:17,  2.19it/s]\u001b[A\n",
      "Iteration:  46%|██████████████▌                 | 31/68 [00:14<00:16,  2.20it/s]\u001b[A\n",
      "Iteration:  47%|███████████████                 | 32/68 [00:14<00:16,  2.20it/s]\u001b[A\n",
      "Iteration:  49%|███████████████▌                | 33/68 [00:14<00:15,  2.20it/s]\u001b[A\n",
      "Iteration:  50%|████████████████                | 34/68 [00:15<00:15,  2.20it/s]\u001b[A\n",
      "Iteration:  51%|████████████████▍               | 35/68 [00:15<00:15,  2.20it/s]\u001b[A\n",
      "Iteration:  53%|████████████████▉               | 36/68 [00:16<00:14,  2.19it/s]\u001b[A\n",
      "Iteration:  54%|█████████████████▍              | 37/68 [00:16<00:14,  2.20it/s]\u001b[A\n",
      "Iteration:  56%|█████████████████▉              | 38/68 [00:17<00:13,  2.20it/s]\u001b[A\n",
      "Iteration:  57%|██████████████████▎             | 39/68 [00:17<00:13,  2.20it/s]\u001b[A\n",
      "Iteration:  59%|██████████████████▊             | 40/68 [00:18<00:12,  2.20it/s]\u001b[A\n",
      "Iteration:  60%|███████████████████▎            | 41/68 [00:18<00:12,  2.20it/s]\u001b[A\n",
      "Iteration:  62%|███████████████████▊            | 42/68 [00:19<00:11,  2.20it/s]\u001b[A\n",
      "Iteration:  63%|████████████████████▏           | 43/68 [00:19<00:11,  2.20it/s]\u001b[A\n",
      "Iteration:  65%|████████████████████▋           | 44/68 [00:19<00:10,  2.20it/s]\u001b[A\n",
      "Iteration:  66%|█████████████████████▏          | 45/68 [00:20<00:10,  2.20it/s]\u001b[A\n",
      "Iteration:  68%|█████████████████████▋          | 46/68 [00:20<00:09,  2.22it/s]\u001b[A\n",
      "Iteration:  69%|██████████████████████          | 47/68 [00:21<00:09,  2.22it/s]\u001b[A\n",
      "Iteration:  71%|██████████████████████▌         | 48/68 [00:21<00:09,  2.21it/s]\u001b[A\n",
      "Iteration:  72%|███████████████████████         | 49/68 [00:22<00:08,  2.21it/s]\u001b[A\n",
      "Iteration:  74%|███████████████████████▌        | 50/68 [00:22<00:08,  2.21it/s]\u001b[A\n",
      "Iteration:  75%|████████████████████████        | 51/68 [00:23<00:07,  2.20it/s]\u001b[A\n",
      "Iteration:  76%|████████████████████████▍       | 52/68 [00:23<00:07,  2.20it/s]\u001b[A\n",
      "Iteration:  78%|████████████████████████▉       | 53/68 [00:24<00:06,  2.20it/s]\u001b[A\n",
      "Iteration:  79%|█████████████████████████▍      | 54/68 [00:24<00:06,  2.20it/s]\u001b[A\n",
      "Iteration:  81%|█████████████████████████▉      | 55/68 [00:24<00:05,  2.20it/s]\u001b[A\n",
      "Iteration:  82%|██████████████████████████▎     | 56/68 [00:25<00:05,  2.20it/s]\u001b[A\n",
      "Iteration:  84%|██████████████████████████▊     | 57/68 [00:25<00:05,  2.19it/s]\u001b[A\n",
      "Iteration:  85%|███████████████████████████▎    | 58/68 [00:26<00:04,  2.19it/s]\u001b[A\n",
      "Iteration:  87%|███████████████████████████▊    | 59/68 [00:26<00:04,  2.19it/s]\u001b[A\n",
      "Iteration:  88%|████████████████████████████▏   | 60/68 [00:27<00:03,  2.19it/s]\u001b[A\n",
      "Iteration:  90%|████████████████████████████▋   | 61/68 [00:27<00:03,  2.19it/s]\u001b[A\n",
      "Iteration:  91%|█████████████████████████████▏  | 62/68 [00:28<00:02,  2.18it/s]\u001b[A\n",
      "Iteration:  93%|█████████████████████████████▋  | 63/68 [00:28<00:02,  2.19it/s]\u001b[A\n",
      "Iteration:  94%|██████████████████████████████  | 64/68 [00:29<00:01,  2.19it/s]\u001b[A\n",
      "Iteration:  96%|██████████████████████████████▌ | 65/68 [00:29<00:01,  2.20it/s]\u001b[A\n",
      "Iteration:  97%|███████████████████████████████ | 66/68 [00:30<00:00,  2.19it/s]\u001b[A\n",
      "Iteration:  99%|███████████████████████████████▌| 67/68 [00:30<00:00,  2.19it/s]\u001b[A\n",
      "Epoch:  67%|█████████████████████████▎            | 2/3 [01:01<00:31, 31.01s/it]\u001b[A\n",
      "Iteration:   0%|                                         | 0/68 [00:00<?, ?it/s]\u001b[A\n",
      "Iteration:   1%|▍                                | 1/68 [00:00<00:30,  2.22it/s]\u001b[A\n",
      "Iteration:   3%|▉                                | 2/68 [00:00<00:29,  2.21it/s]\u001b[A\n",
      "Iteration:   4%|█▍                               | 3/68 [00:01<00:29,  2.22it/s]\u001b[A\n",
      "Iteration:   6%|█▉                               | 4/68 [00:01<00:28,  2.22it/s]\u001b[A\n",
      "Iteration:   7%|██▍                              | 5/68 [00:02<00:28,  2.22it/s]\u001b[A\n",
      "Iteration:   9%|██▉                              | 6/68 [00:02<00:27,  2.22it/s]\u001b[A\n",
      "Iteration:  10%|███▍                             | 7/68 [00:03<00:27,  2.21it/s]\u001b[A\n",
      "Iteration:  12%|███▉                             | 8/68 [00:03<00:27,  2.21it/s]\u001b[A\n",
      "Iteration:  13%|████▎                            | 9/68 [00:04<00:26,  2.22it/s]\u001b[A\n",
      "Iteration:  15%|████▋                           | 10/68 [00:04<00:26,  2.21it/s]\u001b[A\n",
      "Iteration:  16%|█████▏                          | 11/68 [00:04<00:25,  2.19it/s]\u001b[A\n",
      "Iteration:  18%|█████▋                          | 12/68 [00:05<00:25,  2.20it/s]\u001b[A\n",
      "Iteration:  19%|██████                          | 13/68 [00:05<00:25,  2.20it/s]\u001b[A\n",
      "Iteration:  21%|██████▌                         | 14/68 [00:06<00:24,  2.18it/s]\u001b[A\n",
      "Iteration:  22%|███████                         | 15/68 [00:06<00:23,  2.21it/s]\u001b[A\n",
      "Iteration:  24%|███████▌                        | 16/68 [00:07<00:23,  2.22it/s]\u001b[A\n",
      "Iteration:  25%|████████                        | 17/68 [00:07<00:22,  2.22it/s]\u001b[A\n",
      "Iteration:  26%|████████▍                       | 18/68 [00:08<00:22,  2.20it/s]\u001b[A\n",
      "Iteration:  28%|████████▉                       | 19/68 [00:08<00:22,  2.19it/s]\u001b[A\n",
      "Iteration:  29%|█████████▍                      | 20/68 [00:09<00:21,  2.20it/s]\u001b[A\n",
      "Iteration:  31%|█████████▉                      | 21/68 [00:09<00:21,  2.20it/s]\u001b[A\n",
      "Iteration:  32%|██████████▎                     | 22/68 [00:09<00:20,  2.20it/s]\u001b[A\n",
      "Iteration:  34%|██████████▊                     | 23/68 [00:10<00:20,  2.19it/s]\u001b[A\n",
      "Iteration:  35%|███████████▎                    | 24/68 [00:10<00:20,  2.18it/s]\u001b[A\n",
      "Iteration:  37%|███████████▊                    | 25/68 [00:11<00:19,  2.19it/s]\u001b[A\n",
      "Iteration:  38%|████████████▏                   | 26/68 [00:11<00:19,  2.18it/s]\u001b[A\n",
      "Iteration:  40%|████████████▋                   | 27/68 [00:12<00:18,  2.20it/s]\u001b[A\n",
      "Iteration:  41%|█████████████▏                  | 28/68 [00:12<00:18,  2.19it/s]\u001b[A\n",
      "Iteration:  43%|█████████████▋                  | 29/68 [00:13<00:17,  2.19it/s]\u001b[A\n",
      "Iteration:  44%|██████████████                  | 30/68 [00:13<00:17,  2.19it/s]\u001b[A\n",
      "Iteration:  46%|██████████████▌                 | 31/68 [00:14<00:16,  2.19it/s]\u001b[A\n",
      "Iteration:  47%|███████████████                 | 32/68 [00:14<00:16,  2.18it/s]\u001b[A\n",
      "Iteration:  49%|███████████████▌                | 33/68 [00:15<00:15,  2.19it/s]\u001b[A\n",
      "Iteration:  50%|████████████████                | 34/68 [00:15<00:15,  2.21it/s]\u001b[A\n",
      "Iteration:  51%|████████████████▍               | 35/68 [00:15<00:14,  2.21it/s]\u001b[A\n",
      "Iteration:  53%|████████████████▉               | 36/68 [00:16<00:14,  2.20it/s]\u001b[A\n",
      "Iteration:  54%|█████████████████▍              | 37/68 [00:16<00:14,  2.20it/s]\u001b[A\n",
      "Iteration:  56%|█████████████████▉              | 38/68 [00:17<00:13,  2.19it/s]\u001b[A\n",
      "Iteration:  57%|██████████████████▎             | 39/68 [00:17<00:13,  2.19it/s]\u001b[A\n",
      "Iteration:  59%|██████████████████▊             | 40/68 [00:18<00:12,  2.20it/s]\u001b[A\n",
      "Iteration:  60%|███████████████████▎            | 41/68 [00:18<00:12,  2.20it/s]\u001b[A\n",
      "Iteration:  62%|███████████████████▊            | 42/68 [00:19<00:11,  2.20it/s]\u001b[A\n",
      "Iteration:  63%|████████████████████▏           | 43/68 [00:19<00:11,  2.20it/s]\u001b[A\n",
      "Iteration:  65%|████████████████████▋           | 44/68 [00:20<00:10,  2.20it/s]\u001b[A\n",
      "Iteration:  66%|█████████████████████▏          | 45/68 [00:20<00:10,  2.18it/s]\u001b[A\n",
      "Iteration:  68%|█████████████████████▋          | 46/68 [00:20<00:10,  2.18it/s]\u001b[A\n"
     ]
    },
    {
     "name": "stdout",
     "output_type": "stream",
     "text": [
      "Iteration:  69%|██████████████████████          | 47/68 [00:21<00:09,  2.20it/s]\u001b[A\n",
      "Iteration:  71%|██████████████████████▌         | 48/68 [00:21<00:09,  2.19it/s]\u001b[A\n",
      "Iteration:  72%|███████████████████████         | 49/68 [00:22<00:08,  2.19it/s]\u001b[A\n",
      "Iteration:  74%|███████████████████████▌        | 50/68 [00:22<00:08,  2.20it/s]\u001b[A\n",
      "Iteration:  75%|████████████████████████        | 51/68 [00:23<00:07,  2.21it/s]\u001b[A\n",
      "Iteration:  76%|████████████████████████▍       | 52/68 [00:23<00:07,  2.20it/s]\u001b[A\n",
      "Iteration:  78%|████████████████████████▉       | 53/68 [00:24<00:06,  2.20it/s]\u001b[A\n",
      "Iteration:  79%|█████████████████████████▍      | 54/68 [00:24<00:06,  2.21it/s]\u001b[A\n",
      "Iteration:  81%|█████████████████████████▉      | 55/68 [00:25<00:05,  2.20it/s]\u001b[A\n",
      "Iteration:  82%|██████████████████████████▎     | 56/68 [00:25<00:05,  2.21it/s]\u001b[A\n",
      "Iteration:  84%|██████████████████████████▊     | 57/68 [00:25<00:05,  2.20it/s]\u001b[A\n",
      "Iteration:  85%|███████████████████████████▎    | 58/68 [00:26<00:04,  2.19it/s]\u001b[A\n",
      "Iteration:  87%|███████████████████████████▊    | 59/68 [00:26<00:04,  2.20it/s]\u001b[A\n",
      "Iteration:  88%|████████████████████████████▏   | 60/68 [00:27<00:03,  2.20it/s]\u001b[A\n",
      "Iteration:  90%|████████████████████████████▋   | 61/68 [00:27<00:03,  2.20it/s]\u001b[A\n",
      "Iteration:  91%|█████████████████████████████▏  | 62/68 [00:28<00:02,  2.19it/s]\u001b[A\n",
      "Iteration:  93%|█████████████████████████████▋  | 63/68 [00:28<00:02,  2.20it/s]\u001b[A\n",
      "Iteration:  94%|██████████████████████████████  | 64/68 [00:29<00:01,  2.19it/s]\u001b[A\n",
      "Iteration:  96%|██████████████████████████████▌ | 65/68 [00:29<00:01,  2.19it/s]\u001b[A\n",
      "Iteration:  97%|███████████████████████████████ | 66/68 [00:30<00:00,  2.19it/s]\u001b[A\n",
      "Iteration:  99%|███████████████████████████████▌| 67/68 [00:30<00:00,  2.19it/s]\u001b[A\n",
      "Epoch: 100%|██████████████████████████████████████| 3/3 [01:32<00:00, 30.99s/it]\u001b[A\n",
      "11/28/2019 15:25:23 - INFO - __main__ -    global_step = 204, average loss = 0.3245756413203244\n",
      "11/28/2019 15:25:23 - INFO - __main__ -   Saving model checkpoint to KNBC_result/sentiment_analysis/\n",
      "11/28/2019 15:25:23 - INFO - transformers.configuration_utils -   Configuration saved in KNBC_result/sentiment_analysis/config.json\n",
      "11/28/2019 15:25:23 - INFO - transformers.modeling_utils -   Model weights saved in KNBC_result/sentiment_analysis/pytorch_model.bin\n",
      "11/28/2019 15:25:23 - INFO - transformers.configuration_utils -   loading configuration file KNBC_result/sentiment_analysis/config.json\n",
      "11/28/2019 15:25:23 - INFO - transformers.configuration_utils -   Model config {\n",
      "  \"attention_probs_dropout_prob\": 0.1,\n",
      "  \"finetuning_task\": \"sst-2\",\n",
      "  \"hidden_act\": \"gelu\",\n",
      "  \"hidden_dropout_prob\": 0.1,\n",
      "  \"hidden_size\": 768,\n",
      "  \"initializer_range\": 0.02,\n",
      "  \"intermediate_size\": 3072,\n",
      "  \"is_decoder\": false,\n",
      "  \"layer_norm_eps\": 1e-12,\n",
      "  \"max_position_embeddings\": 512,\n",
      "  \"num_attention_heads\": 12,\n",
      "  \"num_hidden_layers\": 12,\n",
      "  \"num_labels\": 2,\n",
      "  \"output_attentions\": false,\n",
      "  \"output_hidden_states\": false,\n",
      "  \"output_past\": true,\n",
      "  \"pruned_heads\": {},\n",
      "  \"torchscript\": false,\n",
      "  \"type_vocab_size\": 2,\n",
      "  \"use_bfloat16\": false,\n",
      "  \"vocab_size\": 32006\n",
      "}\n",
      "\n",
      "11/28/2019 15:25:23 - INFO - transformers.modeling_utils -   loading weights file KNBC_result/sentiment_analysis/pytorch_model.bin\n",
      "11/28/2019 15:25:26 - INFO - transformers.tokenization_utils -   Model name 'KNBC_result/sentiment_analysis/' not found in model shortcut name list (bert-base-uncased, bert-large-uncased, bert-base-cased, bert-large-cased, bert-base-multilingual-uncased, bert-base-multilingual-cased, bert-base-chinese, bert-base-german-cased, bert-large-uncased-whole-word-masking, bert-large-cased-whole-word-masking, bert-large-uncased-whole-word-masking-finetuned-squad, bert-large-cased-whole-word-masking-finetuned-squad, bert-base-cased-finetuned-mrpc, bert-base-german-dbmdz-cased, bert-base-german-dbmdz-uncased). Assuming 'KNBC_result/sentiment_analysis/' is a path or url to a directory containing tokenizer files.\n",
      "11/28/2019 15:25:26 - INFO - transformers.tokenization_utils -   loading file KNBC_result/sentiment_analysis/vocab.txt\n",
      "11/28/2019 15:25:26 - INFO - transformers.tokenization_utils -   loading file KNBC_result/sentiment_analysis/added_tokens.json\n",
      "11/28/2019 15:25:26 - INFO - transformers.tokenization_utils -   loading file KNBC_result/sentiment_analysis/special_tokens_map.json\n",
      "11/28/2019 15:25:26 - INFO - transformers.tokenization_utils -   loading file KNBC_result/sentiment_analysis/tokenizer_config.json\n",
      "11/28/2019 15:25:26 - INFO - transformers.tokenization_utils -   Model name 'KNBC_result/sentiment_analysis/' not found in model shortcut name list (bert-base-uncased, bert-large-uncased, bert-base-cased, bert-large-cased, bert-base-multilingual-uncased, bert-base-multilingual-cased, bert-base-chinese, bert-base-german-cased, bert-large-uncased-whole-word-masking, bert-large-cased-whole-word-masking, bert-large-uncased-whole-word-masking-finetuned-squad, bert-large-cased-whole-word-masking-finetuned-squad, bert-base-cased-finetuned-mrpc, bert-base-german-dbmdz-cased, bert-base-german-dbmdz-uncased). Assuming 'KNBC_result/sentiment_analysis/' is a path or url to a directory containing tokenizer files.\n",
      "11/28/2019 15:25:26 - INFO - transformers.tokenization_utils -   loading file KNBC_result/sentiment_analysis/vocab.txt\n",
      "11/28/2019 15:25:26 - INFO - transformers.tokenization_utils -   loading file KNBC_result/sentiment_analysis/added_tokens.json\n",
      "11/28/2019 15:25:26 - INFO - transformers.tokenization_utils -   loading file KNBC_result/sentiment_analysis/special_tokens_map.json\n",
      "11/28/2019 15:25:26 - INFO - transformers.tokenization_utils -   loading file KNBC_result/sentiment_analysis/tokenizer_config.json\n",
      "11/28/2019 15:25:26 - INFO - __main__ -   Evaluate the following checkpoints: ['KNBC_result/sentiment_analysis/']\n",
      "11/28/2019 15:25:26 - INFO - transformers.configuration_utils -   loading configuration file KNBC_result/sentiment_analysis/config.json\n",
      "11/28/2019 15:25:26 - INFO - transformers.configuration_utils -   Model config {\n",
      "  \"attention_probs_dropout_prob\": 0.1,\n",
      "  \"finetuning_task\": \"sst-2\",\n",
      "  \"hidden_act\": \"gelu\",\n",
      "  \"hidden_dropout_prob\": 0.1,\n",
      "  \"hidden_size\": 768,\n",
      "  \"initializer_range\": 0.02,\n",
      "  \"intermediate_size\": 3072,\n",
      "  \"is_decoder\": false,\n",
      "  \"layer_norm_eps\": 1e-12,\n",
      "  \"max_position_embeddings\": 512,\n",
      "  \"num_attention_heads\": 12,\n",
      "  \"num_hidden_layers\": 12,\n",
      "  \"num_labels\": 2,\n",
      "  \"output_attentions\": false,\n",
      "  \"output_hidden_states\": false,\n",
      "  \"output_past\": true,\n",
      "  \"pruned_heads\": {},\n",
      "  \"torchscript\": false,\n",
      "  \"type_vocab_size\": 2,\n",
      "  \"use_bfloat16\": false,\n",
      "  \"vocab_size\": 32006\n",
      "}\n",
      "\n",
      "11/28/2019 15:25:26 - INFO - transformers.modeling_utils -   loading weights file KNBC_result/sentiment_analysis/pytorch_model.bin\n",
      "11/28/2019 15:25:29 - INFO - __main__ -   Creating features from dataset file at sentiment_analysis_KNBC\n",
      "11/28/2019 15:25:29 - INFO - transformers.data.processors.glue -   Writing example 0\n",
      "11/28/2019 15:25:29 - INFO - transformers.data.processors.glue -   *** Example ***\n",
      "11/28/2019 15:25:29 - INFO - transformers.data.processors.glue -   guid: dev-1\n",
      "11/28/2019 15:25:29 - INFO - transformers.data.processors.glue -   input_ids: 2 141 6 27875 23719 5885 5 3657 68 8 6 24852 5 178 13 49 2348 10 23164 2831 15805 6866 2512 11403 275 30 234 7 3 0 0 0 0 0 0 0 0 0 0 0 0 0 0 0 0 0 0 0 0 0 0 0 0 0 0 0 0 0 0 0 0 0 0 0 0 0 0 0 0 0 0 0 0 0 0 0 0 0 0 0 0 0 0 0 0 0 0 0 0 0 0 0 0 0 0 0 0 0 0 0 0 0 0 0 0 0 0 0 0 0 0 0 0 0 0 0 0 0 0 0 0 0 0 0 0 0 0 0\n",
      "11/28/2019 15:25:29 - INFO - transformers.data.processors.glue -   attention_mask: 1 1 1 1 1 1 1 1 1 1 1 1 1 1 1 1 1 1 1 1 1 1 1 1 1 1 1 1 1 0 0 0 0 0 0 0 0 0 0 0 0 0 0 0 0 0 0 0 0 0 0 0 0 0 0 0 0 0 0 0 0 0 0 0 0 0 0 0 0 0 0 0 0 0 0 0 0 0 0 0 0 0 0 0 0 0 0 0 0 0 0 0 0 0 0 0 0 0 0 0 0 0 0 0 0 0 0 0 0 0 0 0 0 0 0 0 0 0 0 0 0 0 0 0 0 0 0 0\n",
      "11/28/2019 15:25:29 - INFO - transformers.data.processors.glue -   token_type_ids: 0 0 0 0 0 0 0 0 0 0 0 0 0 0 0 0 0 0 0 0 0 0 0 0 0 0 0 0 0 0 0 0 0 0 0 0 0 0 0 0 0 0 0 0 0 0 0 0 0 0 0 0 0 0 0 0 0 0 0 0 0 0 0 0 0 0 0 0 0 0 0 0 0 0 0 0 0 0 0 0 0 0 0 0 0 0 0 0 0 0 0 0 0 0 0 0 0 0 0 0 0 0 0 0 0 0 0 0 0 0 0 0 0 0 0 0 0 0 0 0 0 0 0 0 0 0 0 0\n",
      "11/28/2019 15:25:29 - INFO - transformers.data.processors.glue -   label: 1 (id = 1)\n",
      "11/28/2019 15:25:29 - INFO - transformers.data.processors.glue -   *** Example ***\n",
      "11/28/2019 15:25:29 - INFO - transformers.data.processors.glue -   guid: dev-2\n",
      "11/28/2019 15:25:29 - INFO - transformers.data.processors.glue -   input_ids: 2 58 48 8 6 24 14354 470 5 11780 25 12 23 180 33 21 7 3 0 0 0 0 0 0 0 0 0 0 0 0 0 0 0 0 0 0 0 0 0 0 0 0 0 0 0 0 0 0 0 0 0 0 0 0 0 0 0 0 0 0 0 0 0 0 0 0 0 0 0 0 0 0 0 0 0 0 0 0 0 0 0 0 0 0 0 0 0 0 0 0 0 0 0 0 0 0 0 0 0 0 0 0 0 0 0 0 0 0 0 0 0 0 0 0 0 0 0 0 0 0 0 0 0 0 0 0 0 0\n",
      "11/28/2019 15:25:29 - INFO - transformers.data.processors.glue -   attention_mask: 1 1 1 1 1 1 1 1 1 1 1 1 1 1 1 1 1 1 0 0 0 0 0 0 0 0 0 0 0 0 0 0 0 0 0 0 0 0 0 0 0 0 0 0 0 0 0 0 0 0 0 0 0 0 0 0 0 0 0 0 0 0 0 0 0 0 0 0 0 0 0 0 0 0 0 0 0 0 0 0 0 0 0 0 0 0 0 0 0 0 0 0 0 0 0 0 0 0 0 0 0 0 0 0 0 0 0 0 0 0 0 0 0 0 0 0 0 0 0 0 0 0 0 0 0 0 0 0\n",
      "11/28/2019 15:25:29 - INFO - transformers.data.processors.glue -   token_type_ids: 0 0 0 0 0 0 0 0 0 0 0 0 0 0 0 0 0 0 0 0 0 0 0 0 0 0 0 0 0 0 0 0 0 0 0 0 0 0 0 0 0 0 0 0 0 0 0 0 0 0 0 0 0 0 0 0 0 0 0 0 0 0 0 0 0 0 0 0 0 0 0 0 0 0 0 0 0 0 0 0 0 0 0 0 0 0 0 0 0 0 0 0 0 0 0 0 0 0 0 0 0 0 0 0 0 0 0 0 0 0 0 0 0 0 0 0 0 0 0 0 0 0 0 0 0 0 0 0\n",
      "11/28/2019 15:25:29 - INFO - transformers.data.processors.glue -   label: 1 (id = 1)\n",
      "11/28/2019 15:25:29 - INFO - transformers.data.processors.glue -   *** Example ***\n",
      "11/28/2019 15:25:29 - INFO - transformers.data.processors.glue -   guid: dev-3\n",
      "11/28/2019 15:25:29 - INFO - transformers.data.processors.glue -   input_ids: 2 1115 2915 4492 6 737 14323 11 47 372 8 9 23316 31360 7 3 0 0 0 0 0 0 0 0 0 0 0 0 0 0 0 0 0 0 0 0 0 0 0 0 0 0 0 0 0 0 0 0 0 0 0 0 0 0 0 0 0 0 0 0 0 0 0 0 0 0 0 0 0 0 0 0 0 0 0 0 0 0 0 0 0 0 0 0 0 0 0 0 0 0 0 0 0 0 0 0 0 0 0 0 0 0 0 0 0 0 0 0 0 0 0 0 0 0 0 0 0 0 0 0 0 0 0 0 0 0 0 0\n",
      "11/28/2019 15:25:29 - INFO - transformers.data.processors.glue -   attention_mask: 1 1 1 1 1 1 1 1 1 1 1 1 1 1 1 1 0 0 0 0 0 0 0 0 0 0 0 0 0 0 0 0 0 0 0 0 0 0 0 0 0 0 0 0 0 0 0 0 0 0 0 0 0 0 0 0 0 0 0 0 0 0 0 0 0 0 0 0 0 0 0 0 0 0 0 0 0 0 0 0 0 0 0 0 0 0 0 0 0 0 0 0 0 0 0 0 0 0 0 0 0 0 0 0 0 0 0 0 0 0 0 0 0 0 0 0 0 0 0 0 0 0 0 0 0 0 0 0\n",
      "11/28/2019 15:25:29 - INFO - transformers.data.processors.glue -   token_type_ids: 0 0 0 0 0 0 0 0 0 0 0 0 0 0 0 0 0 0 0 0 0 0 0 0 0 0 0 0 0 0 0 0 0 0 0 0 0 0 0 0 0 0 0 0 0 0 0 0 0 0 0 0 0 0 0 0 0 0 0 0 0 0 0 0 0 0 0 0 0 0 0 0 0 0 0 0 0 0 0 0 0 0 0 0 0 0 0 0 0 0 0 0 0 0 0 0 0 0 0 0 0 0 0 0 0 0 0 0 0 0 0 0 0 0 0 0 0 0 0 0 0 0 0 0 0 0 0 0\n",
      "11/28/2019 15:25:29 - INFO - transformers.data.processors.glue -   label: 1 (id = 1)\n",
      "11/28/2019 15:25:29 - INFO - transformers.data.processors.glue -   *** Example ***\n",
      "11/28/2019 15:25:29 - INFO - transformers.data.processors.glue -   guid: dev-4\n",
      "11/28/2019 15:25:29 - INFO - transformers.data.processors.glue -   input_ids: 2 58 48 6 15553 28179 9 1185 1262 13 2004 642 13856 6 753 5 565 5 134 8 9 166 20791 5 2369 11 146 7 3 0 0 0 0 0 0 0 0 0 0 0 0 0 0 0 0 0 0 0 0 0 0 0 0 0 0 0 0 0 0 0 0 0 0 0 0 0 0 0 0 0 0 0 0 0 0 0 0 0 0 0 0 0 0 0 0 0 0 0 0 0 0 0 0 0 0 0 0 0 0 0 0 0 0 0 0 0 0 0 0 0 0 0 0 0 0 0 0 0 0 0 0 0 0 0 0 0 0 0\n",
      "11/28/2019 15:25:29 - INFO - transformers.data.processors.glue -   attention_mask: 1 1 1 1 1 1 1 1 1 1 1 1 1 1 1 1 1 1 1 1 1 1 1 1 1 1 1 1 1 0 0 0 0 0 0 0 0 0 0 0 0 0 0 0 0 0 0 0 0 0 0 0 0 0 0 0 0 0 0 0 0 0 0 0 0 0 0 0 0 0 0 0 0 0 0 0 0 0 0 0 0 0 0 0 0 0 0 0 0 0 0 0 0 0 0 0 0 0 0 0 0 0 0 0 0 0 0 0 0 0 0 0 0 0 0 0 0 0 0 0 0 0 0 0 0 0 0 0\n",
      "11/28/2019 15:25:29 - INFO - transformers.data.processors.glue -   token_type_ids: 0 0 0 0 0 0 0 0 0 0 0 0 0 0 0 0 0 0 0 0 0 0 0 0 0 0 0 0 0 0 0 0 0 0 0 0 0 0 0 0 0 0 0 0 0 0 0 0 0 0 0 0 0 0 0 0 0 0 0 0 0 0 0 0 0 0 0 0 0 0 0 0 0 0 0 0 0 0 0 0 0 0 0 0 0 0 0 0 0 0 0 0 0 0 0 0 0 0 0 0 0 0 0 0 0 0 0 0 0 0 0 0 0 0 0 0 0 0 0 0 0 0 0 0 0 0 0 0\n",
      "11/28/2019 15:25:29 - INFO - transformers.data.processors.glue -   label: 0 (id = 0)\n",
      "11/28/2019 15:25:29 - INFO - transformers.data.processors.glue -   *** Example ***\n",
      "11/28/2019 15:25:29 - INFO - transformers.data.processors.glue -   guid: dev-5\n",
      "11/28/2019 15:25:29 - INFO - transformers.data.processors.glue -   input_ids: 2 115 9 2383 16893 26961 4271 262 13 6 3212 96 1412 9 1291 28054 3692 5 12292 13 47 1808 47 12 23 6034 4561 7 3 0 0 0 0 0 0 0 0 0 0 0 0 0 0 0 0 0 0 0 0 0 0 0 0 0 0 0 0 0 0 0 0 0 0 0 0 0 0 0 0 0 0 0 0 0 0 0 0 0 0 0 0 0 0 0 0 0 0 0 0 0 0 0 0 0 0 0 0 0 0 0 0 0 0 0 0 0 0 0 0 0 0 0 0 0 0 0 0 0 0 0 0 0 0 0 0 0 0 0\n",
      "11/28/2019 15:25:29 - INFO - transformers.data.processors.glue -   attention_mask: 1 1 1 1 1 1 1 1 1 1 1 1 1 1 1 1 1 1 1 1 1 1 1 1 1 1 1 1 1 0 0 0 0 0 0 0 0 0 0 0 0 0 0 0 0 0 0 0 0 0 0 0 0 0 0 0 0 0 0 0 0 0 0 0 0 0 0 0 0 0 0 0 0 0 0 0 0 0 0 0 0 0 0 0 0 0 0 0 0 0 0 0 0 0 0 0 0 0 0 0 0 0 0 0 0 0 0 0 0 0 0 0 0 0 0 0 0 0 0 0 0 0 0 0 0 0 0 0\n",
      "11/28/2019 15:25:29 - INFO - transformers.data.processors.glue -   token_type_ids: 0 0 0 0 0 0 0 0 0 0 0 0 0 0 0 0 0 0 0 0 0 0 0 0 0 0 0 0 0 0 0 0 0 0 0 0 0 0 0 0 0 0 0 0 0 0 0 0 0 0 0 0 0 0 0 0 0 0 0 0 0 0 0 0 0 0 0 0 0 0 0 0 0 0 0 0 0 0 0 0 0 0 0 0 0 0 0 0 0 0 0 0 0 0 0 0 0 0 0 0 0 0 0 0 0 0 0 0 0 0 0 0 0 0 0 0 0 0 0 0 0 0 0 0 0 0 0 0\n",
      "11/28/2019 15:25:29 - INFO - transformers.data.processors.glue -   label: 0 (id = 0)\n",
      "11/28/2019 15:25:29 - INFO - __main__ -   Saving features into cached file sentiment_analysis_KNBC/cached_dev_Japanese_L-12_H-768_A-12_E-30_BPE_transformers_128_sst-2\n",
      "11/28/2019 15:25:29 - INFO - __main__ -   ***** Running evaluation  *****\n",
      "11/28/2019 15:25:29 - INFO - __main__ -     Num examples = 68\n",
      "11/28/2019 15:25:29 - INFO - __main__ -     Batch size = 8\n"
     ]
    },
    {
     "name": "stdout",
     "output_type": "stream",
     "text": [
      "Evaluating: 100%|█████████████████████████████████| 9/9 [00:01<00:00,  8.16it/s]\n",
      "11/28/2019 15:25:30 - INFO - __main__ -   ***** Eval results  *****\n",
      "11/28/2019 15:25:30 - INFO - __main__ -     acc = 0.8235294117647058\n"
     ]
    }
   ],
   "source": [
    "!python ./transformers/examples/run_glue.py \\\n",
    "    --model_type bert \\\n",
    "    --model_name_or_path /data/nlp/tool/bert/Japanese_L-12_H-768_A-12_E-30_BPE_transformers \\\n",
    "    --task_name \"SST-2\" \\\n",
    "    --do_train \\\n",
    "    --do_eval \\\n",
    "    --save_steps 1000 \\\n",
    "    --data_dir sentiment_analysis_KNBC \\\n",
    "    --max_seq_length 128 \\\n",
    "    --per_gpu_eval_batch_size=8   \\\n",
    "    --per_gpu_train_batch_size=8   \\\n",
    "    --learning_rate 2e-5 \\\n",
    "    --num_train_epochs 3.0 \\\n",
    "    --output_dir KNBC_result/sentiment_analysis/ \\\n",
    "    --overwrite_output_dir \\\n",
    "    --overwrite_cache"
   ]
  },
  {
   "cell_type": "markdown",
   "metadata": {
    "colab_type": "text",
    "id": "sbUplRep1c8b"
   },
   "source": [
    "一番最後の数字がdevにおける精度 (accuracy)で、80%前後になると思います。1日目のLSTMによるモデルでは精度70%前後でしたので、BERTがいかに強力であるかがおわかりかと思います。\n",
    "\n",
    "一般に、ニューラルネットワークのモデルで高い精度を達成するために大量のトレーニングデータが必要と言われます。しかし、BERTはBi-LSTMのようなこれまでのニューラルネットワークに比べるとそれほどトレーニングデータを必要としません。これは転移学習 (transfer learning)のおかげです。"
   ]
  },
  {
   "cell_type": "markdown",
   "metadata": {},
   "source": [
    "### 手順3. 予測"
   ]
  },
  {
   "cell_type": "markdown",
   "metadata": {},
   "source": [
    "次に、好きな文を入力し、予測 (prediction)してみましょう。まず、上記で学習したモデルを別のディレクトリにコピーしておきましょう。"
   ]
  },
  {
   "cell_type": "code",
   "execution_count": 11,
   "metadata": {},
   "outputs": [],
   "source": [
    "!mkdir -p my_result\n",
    "!cp -pr KNBC_result/sentiment_analysis/ my_result/"
   ]
  },
  {
   "cell_type": "markdown",
   "metadata": {},
   "source": [
    "上記で使用したデータも別のディレクトリにコピーしましょう。"
   ]
  },
  {
   "cell_type": "code",
   "execution_count": 12,
   "metadata": {},
   "outputs": [],
   "source": [
    "!cp -r sentiment_analysis_KNBC my_sentiment_analysis"
   ]
  },
  {
   "cell_type": "markdown",
   "metadata": {},
   "source": [
    "そして、以下のようにしてdev.tsvを好きな文で上書きしてください。ここではわかち書きは手動で行ってください。ラベルは使いませんが0にしておいてください。"
   ]
  },
  {
   "cell_type": "code",
   "execution_count": 13,
   "metadata": {},
   "outputs": [
    {
     "name": "stdout",
     "output_type": "stream",
     "text": [
      "sentence\tlabel\r\n",
      "朝 は いつも 眠い もの だ。\t0\r\n"
     ]
    }
   ],
   "source": [
    "!echo -e 'sentence\\tlabel\\n朝 は いつも 眠い もの だ。\\t0' > my_sentiment_analysis/dev.tsv\n",
    "!head my_sentiment_analysis/dev.tsv"
   ]
  },
  {
   "cell_type": "markdown",
   "metadata": {},
   "source": [
    "以下のコマンドで予測します。先ほどとの違いは以下です。\n",
    "* --do_train オプションを削除\n",
    "* --save_steps 1000を削除\n",
    "* --data_dir,  --output_dirオプションで今作ったディレクトリを指定"
   ]
  },
  {
   "cell_type": "code",
   "execution_count": 14,
   "metadata": {},
   "outputs": [
    {
     "name": "stdout",
     "output_type": "stream",
     "text": [
      "11/28/2019 15:34:09 - WARNING - __main__ -   Process rank: -1, device: cuda, n_gpu: 1, distributed training: False, 16-bits training: False\n",
      "11/28/2019 15:34:09 - INFO - transformers.configuration_utils -   loading configuration file /data/nlp/tool/bert/Japanese_L-12_H-768_A-12_E-30_BPE_transformers/config.json\n",
      "11/28/2019 15:34:09 - INFO - transformers.configuration_utils -   Model config {\n",
      "  \"attention_probs_dropout_prob\": 0.1,\n",
      "  \"finetuning_task\": \"sst-2\",\n",
      "  \"hidden_act\": \"gelu\",\n",
      "  \"hidden_dropout_prob\": 0.1,\n",
      "  \"hidden_size\": 768,\n",
      "  \"initializer_range\": 0.02,\n",
      "  \"intermediate_size\": 3072,\n",
      "  \"is_decoder\": false,\n",
      "  \"layer_norm_eps\": 1e-12,\n",
      "  \"max_position_embeddings\": 512,\n",
      "  \"num_attention_heads\": 12,\n",
      "  \"num_hidden_layers\": 12,\n",
      "  \"num_labels\": 2,\n",
      "  \"output_attentions\": false,\n",
      "  \"output_hidden_states\": false,\n",
      "  \"output_past\": true,\n",
      "  \"pruned_heads\": {},\n",
      "  \"torchscript\": false,\n",
      "  \"type_vocab_size\": 2,\n",
      "  \"use_bfloat16\": false,\n",
      "  \"vocab_size\": 32006\n",
      "}\n",
      "\n",
      "11/28/2019 15:34:09 - INFO - transformers.tokenization_utils -   Model name '/data/nlp/tool/bert/Japanese_L-12_H-768_A-12_E-30_BPE_transformers' not found in model shortcut name list (bert-base-uncased, bert-large-uncased, bert-base-cased, bert-large-cased, bert-base-multilingual-uncased, bert-base-multilingual-cased, bert-base-chinese, bert-base-german-cased, bert-large-uncased-whole-word-masking, bert-large-cased-whole-word-masking, bert-large-uncased-whole-word-masking-finetuned-squad, bert-large-cased-whole-word-masking-finetuned-squad, bert-base-cased-finetuned-mrpc, bert-base-german-dbmdz-cased, bert-base-german-dbmdz-uncased). Assuming '/data/nlp/tool/bert/Japanese_L-12_H-768_A-12_E-30_BPE_transformers' is a path or url to a directory containing tokenizer files.\n",
      "11/28/2019 15:34:09 - INFO - transformers.tokenization_utils -   Didn't find file /data/nlp/tool/bert/Japanese_L-12_H-768_A-12_E-30_BPE_transformers/added_tokens.json. We won't load it.\n",
      "11/28/2019 15:34:09 - INFO - transformers.tokenization_utils -   Didn't find file /data/nlp/tool/bert/Japanese_L-12_H-768_A-12_E-30_BPE_transformers/special_tokens_map.json. We won't load it.\n",
      "11/28/2019 15:34:09 - INFO - transformers.tokenization_utils -   loading file /data/nlp/tool/bert/Japanese_L-12_H-768_A-12_E-30_BPE_transformers/vocab.txt\n",
      "11/28/2019 15:34:09 - INFO - transformers.tokenization_utils -   loading file None\n",
      "11/28/2019 15:34:09 - INFO - transformers.tokenization_utils -   loading file None\n",
      "11/28/2019 15:34:09 - INFO - transformers.tokenization_utils -   loading file /data/nlp/tool/bert/Japanese_L-12_H-768_A-12_E-30_BPE_transformers/tokenizer_config.json\n",
      "11/28/2019 15:34:09 - INFO - transformers.modeling_utils -   loading weights file /data/nlp/tool/bert/Japanese_L-12_H-768_A-12_E-30_BPE_transformers/pytorch_model.bin\n",
      "11/28/2019 15:34:12 - INFO - transformers.modeling_utils -   Weights of BertForSequenceClassification not initialized from pretrained model: ['classifier.weight', 'classifier.bias']\n",
      "11/28/2019 15:34:12 - INFO - transformers.modeling_utils -   Weights from pretrained model not used in BertForSequenceClassification: ['cls.predictions.bias', 'cls.predictions.transform.dense.weight', 'cls.predictions.transform.dense.bias', 'cls.predictions.transform.LayerNorm.weight', 'cls.predictions.transform.LayerNorm.bias', 'cls.predictions.decoder.weight', 'cls.seq_relationship.weight', 'cls.seq_relationship.bias']\n",
      "11/28/2019 15:34:14 - INFO - __main__ -   Training/evaluation parameters Namespace(adam_epsilon=1e-08, cache_dir='', config_name='', data_dir='my_sentiment_analysis', device=device(type='cuda'), do_eval=True, do_lower_case=False, do_train=False, eval_all_checkpoints=False, evaluate_during_training=False, fp16=False, fp16_opt_level='O1', gradient_accumulation_steps=1, learning_rate=2e-05, local_rank=-1, logging_steps=50, max_grad_norm=1.0, max_seq_length=128, max_steps=-1, model_name_or_path='/data/nlp/tool/bert/Japanese_L-12_H-768_A-12_E-30_BPE_transformers', model_type='bert', n_gpu=1, no_cuda=False, num_train_epochs=3.0, output_dir='my_result/sentiment_analysis/', output_mode='classification', overwrite_cache=True, overwrite_output_dir=True, per_gpu_eval_batch_size=8, per_gpu_train_batch_size=8, save_steps=1000, seed=42, server_ip='', server_port='', task_name='sst-2', tokenizer_name='', tpu=False, tpu_ip_address='', tpu_name='', warmup_steps=0, weight_decay=0.0, xrt_tpu_config='')\n",
      "11/28/2019 15:34:14 - INFO - transformers.tokenization_utils -   Model name 'my_result/sentiment_analysis/' not found in model shortcut name list (bert-base-uncased, bert-large-uncased, bert-base-cased, bert-large-cased, bert-base-multilingual-uncased, bert-base-multilingual-cased, bert-base-chinese, bert-base-german-cased, bert-large-uncased-whole-word-masking, bert-large-cased-whole-word-masking, bert-large-uncased-whole-word-masking-finetuned-squad, bert-large-cased-whole-word-masking-finetuned-squad, bert-base-cased-finetuned-mrpc, bert-base-german-dbmdz-cased, bert-base-german-dbmdz-uncased). Assuming 'my_result/sentiment_analysis/' is a path or url to a directory containing tokenizer files.\n",
      "11/28/2019 15:34:14 - INFO - transformers.tokenization_utils -   loading file my_result/sentiment_analysis/vocab.txt\n",
      "11/28/2019 15:34:14 - INFO - transformers.tokenization_utils -   loading file my_result/sentiment_analysis/added_tokens.json\n",
      "11/28/2019 15:34:14 - INFO - transformers.tokenization_utils -   loading file my_result/sentiment_analysis/special_tokens_map.json\n",
      "11/28/2019 15:34:14 - INFO - transformers.tokenization_utils -   loading file my_result/sentiment_analysis/tokenizer_config.json\n",
      "11/28/2019 15:34:14 - INFO - __main__ -   Evaluate the following checkpoints: ['my_result/sentiment_analysis/']\n",
      "11/28/2019 15:34:14 - INFO - transformers.configuration_utils -   loading configuration file my_result/sentiment_analysis/config.json\n",
      "11/28/2019 15:34:14 - INFO - transformers.configuration_utils -   Model config {\n",
      "  \"attention_probs_dropout_prob\": 0.1,\n",
      "  \"finetuning_task\": \"sst-2\",\n",
      "  \"hidden_act\": \"gelu\",\n",
      "  \"hidden_dropout_prob\": 0.1,\n",
      "  \"hidden_size\": 768,\n",
      "  \"initializer_range\": 0.02,\n",
      "  \"intermediate_size\": 3072,\n",
      "  \"is_decoder\": false,\n",
      "  \"layer_norm_eps\": 1e-12,\n",
      "  \"max_position_embeddings\": 512,\n",
      "  \"num_attention_heads\": 12,\n",
      "  \"num_hidden_layers\": 12,\n",
      "  \"num_labels\": 2,\n",
      "  \"output_attentions\": false,\n",
      "  \"output_hidden_states\": false,\n",
      "  \"output_past\": true,\n",
      "  \"pruned_heads\": {},\n",
      "  \"torchscript\": false,\n",
      "  \"type_vocab_size\": 2,\n",
      "  \"use_bfloat16\": false,\n",
      "  \"vocab_size\": 32006\n",
      "}\n",
      "\n",
      "11/28/2019 15:34:14 - INFO - transformers.modeling_utils -   loading weights file my_result/sentiment_analysis/pytorch_model.bin\n",
      "11/28/2019 15:34:16 - INFO - __main__ -   Creating features from dataset file at my_sentiment_analysis\n",
      "11/28/2019 15:34:16 - INFO - transformers.data.processors.glue -   Writing example 0\n",
      "11/28/2019 15:34:16 - INFO - transformers.data.processors.glue -   *** Example ***\n",
      "11/28/2019 15:34:16 - INFO - transformers.data.processors.glue -   guid: dev-1\n",
      "11/28/2019 15:34:16 - INFO - transformers.data.processors.glue -   input_ids: 2 599 9 7707 15144 574 60 234 7 3 0 0 0 0 0 0 0 0 0 0 0 0 0 0 0 0 0 0 0 0 0 0 0 0 0 0 0 0 0 0 0 0 0 0 0 0 0 0 0 0 0 0 0 0 0 0 0 0 0 0 0 0 0 0 0 0 0 0 0 0 0 0 0 0 0 0 0 0 0 0 0 0 0 0 0 0 0 0 0 0 0 0 0 0 0 0 0 0 0 0 0 0 0 0 0 0 0 0 0 0 0 0 0 0 0 0 0 0 0 0 0 0 0 0 0 0 0 0\n",
      "11/28/2019 15:34:16 - INFO - transformers.data.processors.glue -   attention_mask: 1 1 1 1 1 1 1 1 1 1 0 0 0 0 0 0 0 0 0 0 0 0 0 0 0 0 0 0 0 0 0 0 0 0 0 0 0 0 0 0 0 0 0 0 0 0 0 0 0 0 0 0 0 0 0 0 0 0 0 0 0 0 0 0 0 0 0 0 0 0 0 0 0 0 0 0 0 0 0 0 0 0 0 0 0 0 0 0 0 0 0 0 0 0 0 0 0 0 0 0 0 0 0 0 0 0 0 0 0 0 0 0 0 0 0 0 0 0 0 0 0 0 0 0 0 0 0 0\n",
      "11/28/2019 15:34:16 - INFO - transformers.data.processors.glue -   token_type_ids: 0 0 0 0 0 0 0 0 0 0 0 0 0 0 0 0 0 0 0 0 0 0 0 0 0 0 0 0 0 0 0 0 0 0 0 0 0 0 0 0 0 0 0 0 0 0 0 0 0 0 0 0 0 0 0 0 0 0 0 0 0 0 0 0 0 0 0 0 0 0 0 0 0 0 0 0 0 0 0 0 0 0 0 0 0 0 0 0 0 0 0 0 0 0 0 0 0 0 0 0 0 0 0 0 0 0 0 0 0 0 0 0 0 0 0 0 0 0 0 0 0 0 0 0 0 0 0 0\n",
      "11/28/2019 15:34:16 - INFO - transformers.data.processors.glue -   label: 0 (id = 0)\n",
      "11/28/2019 15:34:16 - INFO - __main__ -   Saving features into cached file my_sentiment_analysis/cached_dev_Japanese_L-12_H-768_A-12_E-30_BPE_transformers_128_sst-2\n",
      "11/28/2019 15:34:16 - INFO - __main__ -   ***** Running evaluation  *****\n",
      "11/28/2019 15:34:16 - INFO - __main__ -     Num examples = 1\n",
      "11/28/2019 15:34:16 - INFO - __main__ -     Batch size = 8\n"
     ]
    },
    {
     "name": "stdout",
     "output_type": "stream",
     "text": [
      "Evaluating: 100%|█████████████████████████████████| 1/1 [00:00<00:00,  6.43it/s]\n",
      "11/28/2019 15:34:17 - INFO - __main__ -   ***** Eval results  *****\n",
      "11/28/2019 15:34:17 - INFO - __main__ -     acc = 0.0\n",
      "朝 は いつも 眠い もの だ。\t1\n"
     ]
    }
   ],
   "source": [
    "!python ./transformers/examples/run_glue.py \\\n",
    "    --model_type bert \\\n",
    "    --model_name_or_path /data/nlp/tool/bert/Japanese_L-12_H-768_A-12_E-30_BPE_transformers \\\n",
    "    --task_name \"SST-2\" \\\n",
    "    --do_eval \\\n",
    "    --save_steps 1000 \\\n",
    "    --data_dir my_sentiment_analysis \\\n",
    "    --max_seq_length 128 \\\n",
    "    --per_gpu_eval_batch_size=8   \\\n",
    "    --per_gpu_train_batch_size=8   \\\n",
    "    --learning_rate 2e-5 \\\n",
    "    --output_dir my_result/sentiment_analysis/ \\\n",
    "    --overwrite_output_dir \\\n",
    "    --overwrite_cache\n",
    "!cat my_result/sentiment_analysis/dev_predictions.txt"
   ]
  },
  {
   "cell_type": "markdown",
   "metadata": {},
   "source": [
    "結果が一番下に出ます。いかがでしたでしょうか。"
   ]
  },
  {
   "cell_type": "markdown",
   "metadata": {
    "colab_type": "text",
    "id": "npgh3ac75cv1"
   },
   "source": [
    "## 2. 文書分類"
   ]
  },
  {
   "cell_type": "markdown",
   "metadata": {
    "colab_type": "text",
    "id": "EPJKnXs88o5i"
   },
   "source": [
    "次に文書分類タスクを行います。先ほどの評判分析は1か0の2ラベルでしたが、今度は4カテゴリです。また、入力は1文ではなく文章になりますが、単に全部連結したものを入力とし、1文と同様に扱います。\n",
    "※[SEP]を付ける場合は文同士が関係ないとき。"
   ]
  },
  {
   "cell_type": "markdown",
   "metadata": {
    "colab_type": "text",
    "id": "abYufupcaCgM"
   },
   "source": [
    "### 手順1. 前処理"
   ]
  },
  {
   "cell_type": "code",
   "execution_count": 15,
   "metadata": {
    "colab": {},
    "colab_type": "code",
    "id": "P9qWSAPcHyCu"
   },
   "outputs": [
    {
     "name": "stdout",
     "output_type": "stream",
     "text": [
      "完了!\n"
     ]
    }
   ],
   "source": [
    "out_dir = \"text_classification_KNBC\"\n",
    "os.makedirs(out_dir, exist_ok=True)\n",
    "labels = [ \"Keitai\", \"Kyoto\", \"Gourmet\", \"Sports\"]\n",
    "\n",
    "def get_label(basename):\n",
    "    for label in labels:\n",
    "        if label in basename:\n",
    "            return label\n",
    "    else:\n",
    "        return None\n",
    "\n",
    "f_out = open(f\"{out_dir}/all.tsv\", \"w\")\n",
    "\n",
    "for dir in glob.glob(f\"{KNBC_dir}/corpus1/*\"):\n",
    "    basename = os.path.basename(dir)\n",
    "    words = []\n",
    "    \n",
    "    # for each sentence\n",
    "    sentence_index = 1\n",
    "    while (True):\n",
    "        filename = f\"{dir}/{basename}-1-{sentence_index}-01\"\n",
    "        if os.path.exists(filename) is False:\n",
    "            break\n",
    "\n",
    "        header = True\n",
    "        with open(filename, \"r\", encoding=\"utf-8\") as reader:\n",
    "            buf = \"\"\n",
    "            for line in reader.readlines():\n",
    "                if line.startswith((\"#\", \"*\", \"+\", \"EOS\")):\n",
    "                    continue\n",
    "                word = (line.split(\" \"))[0]\n",
    "                \n",
    "                # skip: category (例: [京都観光])\n",
    "                if sentence_index == 1 and header is True:\n",
    "                    continue\n",
    "                if header is True and word == \"]\":\n",
    "                    header = False\n",
    "                words.append(word)\n",
    "        sentence_index += 1\n",
    "\n",
    "    label = get_label(basename)\n",
    "    if label is not None:\n",
    "        print(\"{}\\t{}\".format(\" \".join(words), label), file=f_out)\n",
    "    \n",
    "f_out.close()\n",
    "print(\"完了!\")"
   ]
  },
  {
   "cell_type": "markdown",
   "metadata": {},
   "source": [
    "しばらくは評判分析と同様のコマンドですので、どんどんコマンドを実行しながら内容を確認してください。"
   ]
  },
  {
   "cell_type": "code",
   "execution_count": 16,
   "metadata": {
    "colab": {
     "base_uri": "https://localhost:8080/",
     "height": 528
    },
    "colab_type": "code",
    "id": "s2-aHDy1eVV0",
    "outputId": "bc8dde8a-8b0b-46a0-aa9e-d2cf3dc72f12"
   },
   "outputs": [
    {
     "data": {
      "text/html": [
       "<style  type=\"text/css\" >\n",
       "    #T_0380861c_11aa_11ea_8c36_6fabea3a1b28 th {\n",
       "          text-align: center;\n",
       "    }    #T_0380861c_11aa_11ea_8c36_6fabea3a1b28 td {\n",
       "          text-align: left;\n",
       "    }</style><table id=\"T_0380861c_11aa_11ea_8c36_6fabea3a1b28\" ><thead>    <tr>        <th class=\"blank level0\" ></th>        <th class=\"col_heading level0 col0\" >sentence</th>        <th class=\"col_heading level0 col1\" >label</th>    </tr></thead><tbody>\n",
       "                <tr>\n",
       "                        <th id=\"T_0380861c_11aa_11ea_8c36_6fabea3a1b28level0_row0\" class=\"row_heading level0 row0\" >199</th>\n",
       "                        <td id=\"T_0380861c_11aa_11ea_8c36_6fabea3a1b28row0_col0\" class=\"data row0 col0\" >私 は おそらく グルメ と は 対極 に ある 。 と いって も 食べる こと は 好きだ し 、 食べる 量 も 多い ほう だ と 思う 。 なに が グルメ で ない か と いう と 、 いわゆる 「 味 オンチ 」 だ と いう こと である 。 自分 で は そんな つもり は ぜんぜん ない のだ けど 、 人 が 「 これ は ちょっと ・・ 」 と いう もの も 平気で 平らげて しまう のだ 。 ３ 人 兄弟 の 末っ子 に 育った 環境 が そう さ せた の か は わから ない が 、 私 の 胃腸 の 強 さ は 相当な もの である らしい 。 とはいえ 、 自分 で は 「 おいしい もの 」 は 分かって いる つもりで いる 。 ときどき 実家 に 帰る と 「 あー なんて 自分 の 作る もの と は 違う んだろう 」 と へこむ し 、 お 金 を もった 社会 人 の 人 に おごって もらったり する と あまり の おいし さ に 感動 して しまう 。 グルメ を 自称 する 人 たち の おいし さ を 追及 する 努力 に は 感心 する けれど 、 なんでも にこにこ 食べ られる と いう の は 私 の 武器 だ と 思って いる 。 まあ 呆れ られる こと も 多い です が 。</td>\n",
       "                        <td id=\"T_0380861c_11aa_11ea_8c36_6fabea3a1b28row0_col1\" class=\"data row0 col1\" >Gourmet</td>\n",
       "            </tr>\n",
       "            <tr>\n",
       "                        <th id=\"T_0380861c_11aa_11ea_8c36_6fabea3a1b28level0_row1\" class=\"row_heading level0 row1\" >167</th>\n",
       "                        <td id=\"T_0380861c_11aa_11ea_8c36_6fabea3a1b28row1_col0\" class=\"data row1 col0\" >先週 の 土曜日 に 部活 の コーチ と 友達 と で 銀閣寺 に いった 。 入り口 まで いった けど 俺 は そこ で 「 大文字 に 上ったら めっちゃ いい 景色 み れ ます 」 と いった 。 コーチ が 元気な ひと やった ので 、 じゃあ 大文字 上ろう と いう こと に なった 。 銀閣寺 に 入ら ず に 左 に 曲がる と 入り口 が あって 約 ３０ 分 で 上 まで 上れる 。 俺 は 大文字 が すきで 大学 に はいって から １０ 回 くらい は 上って る 。 今回 は 約 ２ ヶ月 ぶり 。 ３０ 分 かけて 上った 。 いつも 通り すごい 景色 が よかった 。 季節 に よって 少し 雰囲気 が 違う 。 秋 から 冬 に かけて は なんとなく 街 は どんより して いる 。 けど きらいじゃ ない どんより 具合 。 今回 も よい 景色 やった 。 おりて から コーチ は 銀閣寺 に 。 俺 は 一 度 入った こと が あった から 、 今回 は 遠慮 し といた 。</td>\n",
       "                        <td id=\"T_0380861c_11aa_11ea_8c36_6fabea3a1b28row1_col1\" class=\"data row1 col1\" >Kyoto</td>\n",
       "            </tr>\n",
       "            <tr>\n",
       "                        <th id=\"T_0380861c_11aa_11ea_8c36_6fabea3a1b28level0_row2\" class=\"row_heading level0 row2\" >185</th>\n",
       "                        <td id=\"T_0380861c_11aa_11ea_8c36_6fabea3a1b28row2_col0\" class=\"data row2 col0\" >昨日 、 服 を 買い に 四 条 に 行った 。 物凄い 、 観光 客 と いう か 修学 旅行 客 が 歩いて た 。 新 京極 が 修学 旅行 客 で 埋めつくさ れて いた 。 明らかに 我が物顔 で 歩いて た 。 結構 ムカついた 。 いや 、 四 条 オレ の 街 だ から と か いって 小 一 時間 くらい 説教 し たく なる くらい だった 。 でも 女子 高 生 の ミニ スカート は 例え 修学 旅行 生 でも イイ もの だ ね 。 って 何 を 書いて んだ 、 オレ は ……… 。</td>\n",
       "                        <td id=\"T_0380861c_11aa_11ea_8c36_6fabea3a1b28row2_col1\" class=\"data row2 col1\" >Kyoto</td>\n",
       "            </tr>\n",
       "            <tr>\n",
       "                        <th id=\"T_0380861c_11aa_11ea_8c36_6fabea3a1b28level0_row3\" class=\"row_heading level0 row3\" >116</th>\n",
       "                        <td id=\"T_0380861c_11aa_11ea_8c36_6fabea3a1b28row3_col0\" class=\"data row3 col0\" >今週 某 日 ， 授業 が かなり 早く 終わり ました ． そこ で ， 真っ直ぐ 帰宅 する の も 儚い ので ， 出町柳 から 丸太 町 まで 鴨川 沿い を 歩いて み ました ． スポーツ を して いる 人 や 散歩 して いる 人 ， 昼寝 を する 人 など ， 日常 の 京都 人 の 姿 を 拝見 でき ました ． 水量 も 前日 雨 が 降った わりに は 少なく ， 所々 に ある 川 の 岸 と 岸 を 結ぶ 石 を 飛び越える の も 容易でした ． 一部 の 石 は 亀 の 形 を して いて ， その 上 ちょっと ルート から 外れた ところ に も 亀 の 石 が あって ， 流れ の 勢い を 変える の に 必要な の か ？ と 疑問 に 思い ました ． 丸太 町 に 着いて ， 丸太 町 通 を 西 へ しばらく 進む と 河原 町 通 に ぶつかり ます ． この 近く に とっても おいしい ケーキ 屋 が あって ， 立ち寄って み ました ． ケーキ だけ で は なく ， クッキー など の 洋菓子 ， さらに は サンドイッチ も 置いて いて なかなか 品揃え が 豊富 ！ 奥 に カフェ コーナー が ある ので ， 紅茶 と ケーキ を 食べて み ました ． 味 は なかなか よかった し ， 店 内 の インテリア も なかなか 凝って い ました ． 少し 休憩 の つもり だった のに ， ２ 時間 も 居座って しまえる ほど 快適な 店 でした ． ちなみに その お 店 と は Ｓａｌｏｎ　ｄｅ　Ｔｈｅ　Ｃｌｉｅｎｔｅｌｅ です ．</td>\n",
       "                        <td id=\"T_0380861c_11aa_11ea_8c36_6fabea3a1b28row3_col1\" class=\"data row3 col1\" >Gourmet</td>\n",
       "            </tr>\n",
       "            <tr>\n",
       "                        <th id=\"T_0380861c_11aa_11ea_8c36_6fabea3a1b28level0_row4\" class=\"row_heading level0 row4\" >184</th>\n",
       "                        <td id=\"T_0380861c_11aa_11ea_8c36_6fabea3a1b28row4_col0\" class=\"data row4 col0\" >携帯 電話 って 便利だ よ ねー と か もはや 誰 も 言わ なく なった 。 だって 小学生 も 持って る んだ よ 、 この ご 時世 。 まさに ゆりかご から 墓場 まで に なり つつ ある 。 でも この 携帯 、 投げ出し たく なる 時 って ない ？ 俺 は あり ます よ 、 結構 。 まず さ 、 とりあえず 一 人 に なり たい とき って ない ？ そんな 気分 に なって 部屋 で ぼーっと して る と 着信 が 。。。 で 、 それ も で なきゃ いけない 相手 だったら 最悪 。 気分 が 害さ れて 、 結局 一 人 で 居 れ ない こと を 実感 。 あと は 、 旅行 で バカンス に 行って る とき ！！ こっち は さ 、 非 日常 ワールド を 体験 し たい んだ よ ！ 浸り たい んだ よ ！！ それ が 友達 でも バイト 関係 でも 電話 かかって くる と 、 もう さ 、 台無しだ よ ね 。 こちとら 貴重な 休暇 を 削って 来て る のに ！ ← 大 ウソ そんな わけ で 、 携帯 を 一 回 解約 しよう か な って 思い ました 。 多分 し ない んだ けど ね 。</td>\n",
       "                        <td id=\"T_0380861c_11aa_11ea_8c36_6fabea3a1b28row4_col1\" class=\"data row4 col1\" >Keitai</td>\n",
       "            </tr>\n",
       "            <tr>\n",
       "                        <th id=\"T_0380861c_11aa_11ea_8c36_6fabea3a1b28level0_row5\" class=\"row_heading level0 row5\" >11</th>\n",
       "                        <td id=\"T_0380861c_11aa_11ea_8c36_6fabea3a1b28row5_col0\" class=\"data row5 col0\" >１０ 月 １４ 日 。 それ は １ 回生 の 私 と もう 一 人 、 １ 回生 女子 で 組んだ ダブルスカル と いう 、 ２ 人 乗り ボート の レース が あった 日 だ 。 １ 回生 同士 で 組んだ クルー で の 出場 は 初めて 。 天候 は 晴れ 。 やや 肌寒い くらい 。 ウォーミングアップ の ため 、 水上 へ 。 私 たち の 艇 は それなり に 艇 速 が 出て いた 。 対戦 相手 は 滋賀 教育 学部 ２ 艇 と 近畿 大学 。 １ 回生 で 編成 さ れた クルー は 私 たち だけ かも しれ ない 。 でも そんな の 関係 ない 。 やる しか ない 。 ウォーミングアップ の 安定 感 は 悪く ない 。 艇 速 も 出て いる 。 いける かも ・・・ ？ でも 自負 は だめ 。 油断 禁物 。 あと レース スタート まで １０ 分 。 スタート 地点 まで 行こう 。 ５ 分 前 ・・・ ３ 分 前 ・・・ ２ 分 前 ・・・ 「 滋賀 教育 学部 Ａ 、 近畿 大学 、 京都 大学 、 滋賀 教育 学部 Ｂ ・・・・ アテンション 、 ゴゥッ ！ 」 私 たち は スタート した 。 そんなに 悪く は ない スタート だった けど だめだ 。 少し 出遅れた 。 でも 私 たち の 持ち味 は レース 中盤 だ 。 １０００ メートル も ある し 大丈夫 ！！ まだ いける ！！ ３００ メートル 地点 。 私 たち は 追い上げた 。 滋賀 教育 学部 Ａ 、 Ｂ は 私 たち の 目の前 に いる から もう 大丈夫だ 。 でも 近畿 大学 は まだまだ 喰らいついて くる 。 ５００ メートル 地点 。 しんどい ・・・ 。 いつも より ペース が 速い 。 レース だ から 仕方ない けど ・・・ 。 近畿 大学 より は 少し 出た か ・・・ ？ でも まだ あと ５００ も ある 。 油断 は 禁物 。 ７５０ メートル 地点 。 近畿 大学 に 差 を 縮め られた か ・・・ ？ 並んで る 。 やばい ・・・ 。 ラスト スパート で ペース を 上げる も 、 漕ぎ が 小さく なって いて 艇 速 が 上がら ない ・・・ 。 ゴール 寸前 。 並んで る 。 横 一線 だ 。 これ は １ 秒 の 差 も ない くらい かも しれ ない 。 ファファッ ・・・ 。 どっち だ ？ 負けた ・・・ ？ 陸上 に 上がって 順位 を 聞く と ２ 位 。 しかも その 差 は ０．１７ 秒 。 日ごろ の ０．１７ 秒 なんて 何にも でき ない くらい の 短 さ 。 生まれて 初めて こんなに 悔しい もの は ない と 思った 。 ０．１７ 秒 の 重 み が ずっしり と 感じ られた 。 次の レース は ３ 週間 後 。 この 悔し さ 、 すべて ぶつけて やる 。</td>\n",
       "                        <td id=\"T_0380861c_11aa_11ea_8c36_6fabea3a1b28row5_col1\" class=\"data row5 col1\" >Sports</td>\n",
       "            </tr>\n",
       "            <tr>\n",
       "                        <th id=\"T_0380861c_11aa_11ea_8c36_6fabea3a1b28level0_row6\" class=\"row_heading level0 row6\" >122</th>\n",
       "                        <td id=\"T_0380861c_11aa_11ea_8c36_6fabea3a1b28row6_col0\" class=\"data row6 col0\" >さて 、 こんな ブログ を 書いて いる 俺 も 京都 に 住んで いる わけです 。 京都 って の は 日本 有数 の 観光 地 らしく 、 友達 が たまーに 泊りがけ で 遊び に 来たり し ます 。 （ ちなみに 俺 の 出身 は 北海道 ） でも ね 、 京都 に 住んで る と 意外に 京都 の こと 知ら ない 。 だって さ 、 東京 に 住んで る 人 、 東京 タワー なんか あんまり いか ない っしょ ？ 札幌 に 住んで る 人 も 時計 台 なんて いか ない っしょ ？ あー いか ない っしょ って 久々に 使った〜 これ って 北海道 弁 な んだ よ ね 。 って どうでも よくて 、 京都 人 だって 八橋 食べ ない っしょ ？ そういう わけ で 、 どこ 連れて 行く か 困る わけです よ 。 もちろん 、 清水 寺 と か 平安 神宮 と か 超 メジャー どころ でも いい わけな んだ 。 けど 、 ちょっと 気 を 利かせて 、 もう ちょっと セレクト し たい じゃ ん 。 そんな ん で 今 考えて る の が 竜安寺 と 貴船 神社 。 みんな も お 勧め スポット あったら 教えて ね ♪</td>\n",
       "                        <td id=\"T_0380861c_11aa_11ea_8c36_6fabea3a1b28row6_col1\" class=\"data row6 col1\" >Kyoto</td>\n",
       "            </tr>\n",
       "            <tr>\n",
       "                        <th id=\"T_0380861c_11aa_11ea_8c36_6fabea3a1b28level0_row7\" class=\"row_heading level0 row7\" >188</th>\n",
       "                        <td id=\"T_0380861c_11aa_11ea_8c36_6fabea3a1b28row7_col0\" class=\"data row7 col0\" >なんか 他の 人 の を 見て いる と 皆さん エラく 真面目に 書いて らっしゃる の ね 。 ボク が テケトーに 脊髄 反射 で 書いて いる の と 比べたら 大 違い 。 中 に は ボク の 親戚 か と 思わ ん ばかりの 人 も い ました が 。 そう 、 京都 観光 と いう テーマ である 。 しかし 困った ねぇ 。 よく 言う じゃ ない です か 。 「 東京 人 は 東京 タワー に 登った 事 が ない 」 「 北海道 の 人 は 白い 恋人 を 食べた 事 が ない 」 「 沖縄 県民 は 電車 に 乗った こと が ない 」 最後 の は どうでも いい んです が 、 つまり 京都 人 は ほとんど 京都 を 観光 し ない のである 。 いや 確かに 中学校 の 頃 など に 一 度 は 連れて 来 られる んです けど そんな ちぃちぃぱっぱ の 時期 に 清水 寺 と か 見て も 何の 感慨 も 浮かば ない って な もん です よ ダンナ 。 いや まぁ ボク だけ かも しれ ませ ん が 。 そんな 私 も センチメンタルな お 年頃 と 言う か 卒業 も 近い し 一 回 くらい 見て おこう と 思って 今年 頑張って 見 に 行って る の が いわゆる 三 大 祭 。 残念 ながら 葵 祭 は 行け なかった のです が 祇園 祭 と この前 あった 時代 祭 は 行って ました 。 とりあえず です ね〜 、 率直な 感想 と して ボク の 周り に は 何故 か 海外 観光 客 が たくさん 集まって いて それ が 英語 なら まだしも フランス 語 やら イタリア 語 やら どこ の 国 か 分から ない ような 言葉 で バンバン お 喋り に なる ので ちょっと バッドトリップ し そうに なり ました が 。 内容 は … 他の サイト へ 行った 方 が 詳しく 書いて ある ので そっち へ 見 に 行って ください 。 いい の か こんな ん で 。</td>\n",
       "                        <td id=\"T_0380861c_11aa_11ea_8c36_6fabea3a1b28row7_col1\" class=\"data row7 col1\" >Kyoto</td>\n",
       "            </tr>\n",
       "            <tr>\n",
       "                        <th id=\"T_0380861c_11aa_11ea_8c36_6fabea3a1b28level0_row8\" class=\"row_heading level0 row8\" >100</th>\n",
       "                        <td id=\"T_0380861c_11aa_11ea_8c36_6fabea3a1b28row8_col0\" class=\"data row8 col0\" >タイトル は 「 携帯 電話 の ない 生活 」 です が 、 私 自身 は 携帯 電話 を 持って もう ７ 年 に なり ます 。 元々 は 塾 の 行き帰り に 家 へ 連絡 する ため に 持た せて もらった もの です が 、 今 は 専ら 友人 と の メール や 、 メモ 帳 と して の 機能 しか 使って い ませ ん 。 そんな 私 が つい 先日 、 携帯 電話 を 充電 した まま 家 に 忘れて きて しまい ました 。 電車 の 都合 も あり 、 取り に 戻る こと も 出来 ない けれど まあ いい か 、 と 初め は 軽い 気持ち で いた のです が 、 その 日 は 一 日 中 不都合 を 感じる こと に なり ました 。 まず 、 ＫＵＬＡＳＩＳ を 見る こと が 出来 ない こと 。 特に 今 の 時期 は 教室 変更 など も あり 、 さっと 見 られ ない と とても 不便です 。 次に 、 友人 と 連絡 が 取れ ない こと 。 当たり前の こと です が 、 「 今 どこ に いる の ？ 」 と 簡単に 聞け ない と 、 友人 を 探して キャンパス 中 さ迷う こと に なり ます 。 狭い と 思って いた 大学 キャンパス が いつも より 格段に 広く 感じ られ ました から … 。 最後に 、 メモ して いた こと が 見 られ ない こと 。 普段 ルネ で 注文 する 本 の タイトル など は 全て 携帯 電話 に 保存 して ある ので 、 電話 が ない と 全く 記憶 に なくて 困り ました 。 当たり前の もの が 、 ない 。 こんなに 困る もの な の か 、 と 改めて 感じる と 同時に 、 携帯 電話 に 頼りきり に なって しまって いる 今 の 生活 を 見直す 良い 機会 に も なり ました 。 余談 で は あり ます が 、 家 に 帰って フル 充電 さ れた 携帯 電話 を チェック して みる と メール が ３ 通 しか 来て おら ず 、 ちょっとした 儚 さ を 感じた こと など 誰 に も 言え ませ ん 。</td>\n",
       "                        <td id=\"T_0380861c_11aa_11ea_8c36_6fabea3a1b28row8_col1\" class=\"data row8 col1\" >Keitai</td>\n",
       "            </tr>\n",
       "            <tr>\n",
       "                        <th id=\"T_0380861c_11aa_11ea_8c36_6fabea3a1b28level0_row9\" class=\"row_heading level0 row9\" >68</th>\n",
       "                        <td id=\"T_0380861c_11aa_11ea_8c36_6fabea3a1b28row9_col0\" class=\"data row9 col0\" >今日 は ３ 限 を さぼら せて 友達 を 連れて 祇園 界隈 へ ＧＯ ！！ 先 に 何も 考え ず 、 ルネ の パフェ を 食べて しまった の が 唯一 の 後悔 である 。 なぜなら 、 祇園 界隈 に も カフェ は ある し 、 そこ で まったり し たかった な って 思った から である 。 私 は 結構 得意な エリア だった ので 、 何 も 知ら ない 友達 を 祇園 まで 連れて 行った 。 円山 公園 に も 行った こと の ない ウブな 女 な ので 、 とりあえず そこ に 連れて 行く 。 京都 に 住んで る と いう のに 、 やっぱり 京都 を 知ら ない 人 って 多い んだ な 、 と ぼんやり 思う 。 私 は 京都 ＬＯＶＥな ので 、 かなり ４ 月 の ころ から 出歩いて いる ため 、 結構 京都 を 満喫 して いる と 思わ れる 。 これ から も 、 いっぱい 京都 を 観光 し たい し 、 京都 を 満喫 し たい 。 これ 以上 素敵な 都市 って 、 日本 に も そう ない んじゃ ない かしらん ？？</td>\n",
       "                        <td id=\"T_0380861c_11aa_11ea_8c36_6fabea3a1b28row9_col1\" class=\"data row9 col1\" >Kyoto</td>\n",
       "            </tr>\n",
       "    </tbody></table>"
      ],
      "text/plain": [
       "<pandas.io.formats.style.Styler at 0x7f2e0822ba20>"
      ]
     },
     "execution_count": 16,
     "metadata": {},
     "output_type": "execute_result"
    }
   ],
   "source": [
    "import pandas as pd\n",
    "data_text_classification = pd.read_csv('text_classification_KNBC/all.tsv', encoding='utf-8', delimiter='\\t', names=('sentence', 'label'))\n",
    "data_text_classification.sample(10).style.set_table_styles(\n",
    "                [{'selector': 'th',\n",
    "                  'props': [('text-align', 'center')]}, \n",
    "                 {'selector': 'td',\n",
    "                  'props': [('text-align', 'left')]}])"
   ]
  },
  {
   "cell_type": "code",
   "execution_count": 17,
   "metadata": {
    "colab": {
     "base_uri": "https://localhost:8080/",
     "height": 106
    },
    "colab_type": "code",
    "id": "68MzXk_C8YKF",
    "outputId": "e086ec57-9573-4e22-de8a-db8c08c9d9e8"
   },
   "outputs": [
    {
     "data": {
      "text/plain": [
       "Kyoto      91\n",
       "Keitai     79\n",
       "Gourmet    57\n",
       "Sports     22\n",
       "Name: label, dtype: int64"
      ]
     },
     "execution_count": 17,
     "metadata": {},
     "output_type": "execute_result"
    }
   ],
   "source": [
    "data_text_classification[\"label\"].value_counts()"
   ]
  },
  {
   "cell_type": "code",
   "execution_count": 18,
   "metadata": {
    "colab": {},
    "colab_type": "code",
    "id": "U-dZV0egClOc"
   },
   "outputs": [
    {
     "name": "stdout",
     "output_type": "stream",
     "text": [
      "完了!\n"
     ]
    }
   ],
   "source": [
    "split_train_dev_test(data_text_classification, \"text_classification_KNBC\", (\"sentence\", \"label\"))\n",
    "print(\"完了!\")"
   ]
  },
  {
   "cell_type": "code",
   "execution_count": 19,
   "metadata": {
    "colab": {
     "base_uri": "https://localhost:8080/",
     "height": 106
    },
    "colab_type": "code",
    "id": "NTIG5DdKET6n",
    "outputId": "4d0f860b-7786-48f2-85da-b56a87409820"
   },
   "outputs": [
    {
     "name": "stdout",
     "output_type": "stream",
     "text": [
      "   249 text_classification_KNBC/all.tsv\r\n",
      "    26 text_classification_KNBC/dev.tsv\r\n",
      "    26 text_classification_KNBC/test.tsv\r\n",
      "   200 text_classification_KNBC/train.tsv\r\n",
      "   501 total\r\n"
     ]
    }
   ],
   "source": [
    "!wc -l text_classification_KNBC/*.tsv"
   ]
  },
  {
   "cell_type": "markdown",
   "metadata": {
    "colab_type": "text",
    "id": "uUVS--6S9Urn"
   },
   "source": [
    "ここまでは評判分析と全く同じです。"
   ]
  },
  {
   "cell_type": "markdown",
   "metadata": {
    "colab_type": "text",
    "id": "uUVS--6S9Urn"
   },
   "source": [
    "### 練習問題 1\n",
    "ラベルが変わったことによりデータを読みこむ部分を追加しなければいけません。データの読みこみは transformers/transformers/data/processors/glue.py で行っています。このファイルを編集するにはファイル一覧の画面に移動して、ファイル名をクリックするとファイルを開くことができます。\n",
    "\n",
    "SST-2は以下のクラス Sst2Processor でデータの読みこみをしています。これを真似して TextClassificationKNBCProcessor を作ってみましょう。317行目あたりにSst2Processorをコピーして TextClassificationKNBCProcessor を作っていますので、関数 get_labels のところだけを変更してください。"
   ]
  },
  {
   "cell_type": "raw",
   "metadata": {
    "colab": {
     "base_uri": "https://localhost:8080/",
     "height": 243
    },
    "colab_type": "code",
    "id": "HvULnceNC7bh",
    "outputId": "f7258068-8f3a-44b8-f824-120ccc3e1083"
   },
   "source": [
    "class Sst2Processor(DataProcessor):\n",
    "    \"\"\"Processor for the SST-2 data set (GLUE version).\"\"\"\n",
    "\n",
    "    def get_example_from_tensor_dict(self, tensor_dict):\n",
    "        \"\"\"See base class.\"\"\"\n",
    "        return InputExample(tensor_dict['idx'].numpy(),\n",
    "                            tensor_dict['sentence'].numpy().decode('utf-8'),\n",
    "                            None,\n",
    "                            str(tensor_dict['label'].numpy()))\n",
    "\n",
    "    def get_train_examples(self, data_dir):\n",
    "        \"\"\"See base class.\"\"\"\n",
    "        return self._create_examples(\n",
    "            self._read_tsv(os.path.join(data_dir, \"train.tsv\")), \"train\")\n",
    "\n",
    "    def get_dev_examples(self, data_dir):\n",
    "        \"\"\"See base class.\"\"\"\n",
    "        return self._create_examples(\n",
    "            self._read_tsv(os.path.join(data_dir, \"dev.tsv\")), \"dev\")\n",
    "\n",
    "    def get_labels(self):\n",
    "        \"\"\"See base class.\"\"\"\n",
    "        return [\"0\", \"1\"]\n",
    "\n",
    "    def _create_examples(self, lines, set_type):\n",
    "        \"\"\"Creates examples for the training and dev sets.\"\"\"\n",
    "        examples = []\n",
    "        for (i, line) in enumerate(lines):\n",
    "            if i == 0:\n",
    "                continue\n",
    "            guid = \"%s-%s\" % (set_type, i)\n",
    "            text_a = line[0]\n",
    "            label = line[1]\n",
    "            examples.append(\n",
    "                InputExample(guid=guid, text_a=text_a, text_b=None, label=label))\n",
    "        return examples"
   ]
  },
  {
   "cell_type": "markdown",
   "metadata": {
    "colab_type": "text",
    "id": "JAZYzU6nECLX"
   },
   "source": [
    "あとは同じファイルの末尾に、ラベルの数、どのプロセッサを使うのか、タスクが分類(classification)か回帰(regression)であるかを指定するところがあります。今回は時間の都合上、すでに以下のように追加しています。タスク名は tc-knbc としています(tcはtext classificationの意味)。"
   ]
  },
  {
   "cell_type": "raw",
   "metadata": {
    "colab": {},
    "colab_type": "code",
    "id": "c-BR_Up0EE63"
   },
   "source": [
    "#ラベルの数を指定してあげる\n",
    "glue_tasks_num_labels = {\n",
    "    \"cola\": 2,\n",
    "    \"mnli\": 3,\n",
    "    \"mrpc\": 2,\n",
    "    \"sst-2\": 2,\n",
    "    \"sts-b\": 1,\n",
    "    \"qqp\": 2,\n",
    "    \"qnli\": 2,\n",
    "    \"rte\": 2,\n",
    "    \"wnli\": 2,\n",
    "    \"tc-knbc\": 4 ## これを追加\n",
    "}\n",
    "\n",
    "glue_processors = {\n",
    "    \"cola\": ColaProcessor,\n",
    "    \"mnli\": MnliProcessor,\n",
    "    \"mnli-mm\": MnliMismatchedProcessor,\n",
    "    \"mrpc\": MrpcProcessor,\n",
    "    \"sst-2\": Sst2Processor, \n",
    "    \"sts-b\": StsbProcessor,\n",
    "    \"qqp\": QqpProcessor,\n",
    "    \"qnli\": QnliProcessor,\n",
    "    \"rte\": RteProcessor,\n",
    "    \"wnli\": WnliProcessor,\n",
    "    \"tc-knbc\": TextClassificationKNBCProcessor, ## これを追加\n",
    "}\n",
    "\n",
    "glue_output_modes = {\n",
    "    \"cola\": \"classification\",\n",
    "    \"mnli\": \"classification\",\n",
    "    \"mnli-mm\": \"classification\",\n",
    "    \"mrpc\": \"classification\",\n",
    "    \"sst-2\": \"classification\",\n",
    "    \"sts-b\": \"regression\",　#実数値に近づけるタスク\n",
    "    \"qqp\": \"classification\",\n",
    "    \"qnli\": \"classification\",\n",
    "    \"rte\": \"classification\",\n",
    "    \"wnli\": \"classification\",\n",
    "    \"tc-knbc\": \"classification\", ## これを追加\n",
    "}"
   ]
  },
  {
   "cell_type": "markdown",
   "metadata": {},
   "source": [
    "ファイルをsaveしてください。"
   ]
  },
  {
   "cell_type": "markdown",
   "metadata": {
    "colab_type": "text",
    "id": "sysnRNMBGwSn"
   },
   "source": [
    "あと、transformers/transformers/data/metrics/\\_\\_init\\_\\_.py で何を評価尺度として用いるかを指定しているところがあります。これも以下のようにすでに追加しています。"
   ]
  },
  {
   "cell_type": "raw",
   "metadata": {
    "colab": {},
    "colab_type": "code",
    "id": "9B7arkZ0G-gI"
   },
   "source": [
    "    def glue_compute_metrics(task_name, preds, labels):\n",
    "        assert len(preds) == len(labels)\n",
    "        if task_name == \"cola\":\n",
    "            return {\"mcc\": matthews_corrcoef(labels, preds)}\n",
    "        elif task_name == \"sst-2\":\n",
    "            return {\"acc\": simple_accuracy(preds, labels)}\n",
    "        elif task_name == \"mrpc\":\n",
    "            return acc_and_f1(preds, labels)\n",
    "        elif task_name == \"sts-b\":\n",
    "            return pearson_and_spearman(preds, labels)\n",
    "        elif task_name == \"qqp\":\n",
    "            return acc_and_f1(preds, labels)\n",
    "        elif task_name == \"mnli\":\n",
    "            return {\"acc\": simple_accuracy(preds, labels)}\n",
    "        elif task_name == \"mnli-mm\":\n",
    "            return {\"acc\": simple_accuracy(preds, labels)}\n",
    "        elif task_name == \"qnli\":\n",
    "            return {\"acc\": simple_accuracy(preds, labels)}\n",
    "        elif task_name == \"rte\":\n",
    "            return {\"acc\": simple_accuracy(preds, labels)}\n",
    "        elif task_name == \"wnli\":\n",
    "            return {\"acc\": simple_accuracy(preds, labels)}\n",
    "        ### ここを追加\n",
    "        elif task_name == \"tc-knbc\":\n",
    "            return {\"acc\": simple_accuracy(preds, labels)}            \n",
    "        else:\n",
    "            raise KeyError(task_name)"
   ]
  },
  {
   "cell_type": "markdown",
   "metadata": {
    "colab_type": "text",
    "id": "jlfOWUwpHbRC"
   },
   "source": [
    "transformers/transformers以下のファイルを更新した場合はpipで再インストールする必要がありますので以下を実行してください。"
   ]
  },
  {
   "cell_type": "code",
   "execution_count": 20,
   "metadata": {
    "colab": {
     "base_uri": "https://localhost:8080/",
     "height": 568
    },
    "colab_type": "code",
    "id": "vF3_ZDXsFgba",
    "outputId": "18963e18-a4c1-4b02-9dbe-9e7b60b687d8"
   },
   "outputs": [
    {
     "name": "stdout",
     "output_type": "stream",
     "text": [
      "Processing ./transformers\n",
      "Requirement already satisfied: numpy in /data/anaconda/envs/py36-tokyo-nlp-test/lib/python3.6/site-packages (from transformers==2.1.1) (1.16.4)\n",
      "Requirement already satisfied: boto3 in /data/anaconda/envs/py36-tokyo-nlp-test/lib/python3.6/site-packages (from transformers==2.1.1) (1.9.226)\n",
      "Requirement already satisfied: requests in /data/anaconda/envs/py36-tokyo-nlp-test/lib/python3.6/site-packages (from transformers==2.1.1) (2.22.0)\n",
      "Requirement already satisfied: tqdm in /data/anaconda/envs/py36-tokyo-nlp-test/lib/python3.6/site-packages (from transformers==2.1.1) (4.30.0)\n",
      "Requirement already satisfied: regex in /data/anaconda/envs/py36-tokyo-nlp-test/lib/python3.6/site-packages (from transformers==2.1.1) (2019.8.19)\n",
      "Requirement already satisfied: sentencepiece in /data/anaconda/envs/py36-tokyo-nlp-test/lib/python3.6/site-packages (from transformers==2.1.1) (0.1.83)\n",
      "Requirement already satisfied: sacremoses in /data/anaconda/envs/py36-tokyo-nlp-test/lib/python3.6/site-packages (from transformers==2.1.1) (0.0.35)\n",
      "Requirement already satisfied: botocore<1.13.0,>=1.12.226 in /data/anaconda/envs/py36-tokyo-nlp-test/lib/python3.6/site-packages (from boto3->transformers==2.1.1) (1.12.226)\n",
      "Requirement already satisfied: jmespath<1.0.0,>=0.7.1 in /data/anaconda/envs/py36-tokyo-nlp-test/lib/python3.6/site-packages (from boto3->transformers==2.1.1) (0.9.4)\n",
      "Requirement already satisfied: s3transfer<0.3.0,>=0.2.0 in /data/anaconda/envs/py36-tokyo-nlp-test/lib/python3.6/site-packages (from boto3->transformers==2.1.1) (0.2.1)\n",
      "Requirement already satisfied: urllib3!=1.25.0,!=1.25.1,<1.26,>=1.21.1 in /data/anaconda/envs/py36-tokyo-nlp-test/lib/python3.6/site-packages (from requests->transformers==2.1.1) (1.24.2)\n",
      "Requirement already satisfied: chardet<3.1.0,>=3.0.2 in /data/anaconda/envs/py36-tokyo-nlp-test/lib/python3.6/site-packages (from requests->transformers==2.1.1) (3.0.4)\n",
      "Requirement already satisfied: certifi>=2017.4.17 in /data/anaconda/envs/py36-tokyo-nlp-test/lib/python3.6/site-packages (from requests->transformers==2.1.1) (2019.9.11)\n",
      "Requirement already satisfied: idna<2.9,>=2.5 in /data/anaconda/envs/py36-tokyo-nlp-test/lib/python3.6/site-packages (from requests->transformers==2.1.1) (2.8)\n",
      "Requirement already satisfied: joblib in /data/anaconda/envs/py36-tokyo-nlp-test/lib/python3.6/site-packages (from sacremoses->transformers==2.1.1) (0.13.2)\n",
      "Requirement already satisfied: six in /data/anaconda/envs/py36-tokyo-nlp-test/lib/python3.6/site-packages (from sacremoses->transformers==2.1.1) (1.12.0)\n",
      "Requirement already satisfied: click in /data/anaconda/envs/py36-tokyo-nlp-test/lib/python3.6/site-packages (from sacremoses->transformers==2.1.1) (7.0)\n",
      "Requirement already satisfied: docutils<0.16,>=0.10 in /data/anaconda/envs/py36-tokyo-nlp-test/lib/python3.6/site-packages (from botocore<1.13.0,>=1.12.226->boto3->transformers==2.1.1) (0.14)\n",
      "Requirement already satisfied: python-dateutil<3.0.0,>=2.1; python_version >= \"2.7\" in /data/anaconda/envs/py36-tokyo-nlp-test/lib/python3.6/site-packages (from botocore<1.13.0,>=1.12.226->boto3->transformers==2.1.1) (2.8.0)\n",
      "Building wheels for collected packages: transformers\n",
      "  Building wheel for transformers (setup.py) ... \u001b[?25ldone\n",
      "\u001b[?25h  Stored in directory: /tmp/pip-ephem-wheel-cache-axxttb2z/wheels/7b/98/b9/2da18dcef55b090a377c480bc2c98287794672928a7a1e869e\n",
      "Successfully built transformers\n",
      "Installing collected packages: transformers\n",
      "  Found existing installation: transformers 2.1.1\n",
      "    Uninstalling transformers-2.1.1:\n",
      "      Successfully uninstalled transformers-2.1.1\n",
      "Successfully installed transformers-2.1.1\n"
     ]
    }
   ],
   "source": [
    "!pip install transformers/"
   ]
  },
  {
   "cell_type": "markdown",
   "metadata": {},
   "source": [
    "### 手順2. Fine-tuning"
   ]
  },
  {
   "cell_type": "markdown",
   "metadata": {
    "colab_type": "text",
    "id": "YFAQDdECIUNS"
   },
   "source": [
    "準備が整ったのでfine-tuningしましょう。--task_nameで\"tc-knbc\"を指定し、--output_dirで KNBC_result/text_classification/ を指定します。"
   ]
  },
  {
   "cell_type": "code",
   "execution_count": 21,
   "metadata": {
    "colab": {
     "base_uri": "https://localhost:8080/",
     "height": 1000
    },
    "colab_type": "code",
    "id": "S7nXdnQRE6ht",
    "outputId": "6794dc5e-11c8-4a19-8d41-4faf2187722f"
   },
   "outputs": [
    {
     "name": "stdout",
     "output_type": "stream",
     "text": [
      "11/28/2019 16:02:58 - WARNING - __main__ -   Process rank: -1, device: cuda, n_gpu: 1, distributed training: False, 16-bits training: False\n",
      "11/28/2019 16:02:58 - INFO - transformers.configuration_utils -   loading configuration file /data/nlp/tool/bert/Japanese_L-12_H-768_A-12_E-30_BPE_transformers/config.json\n",
      "11/28/2019 16:02:58 - INFO - transformers.configuration_utils -   Model config {\n",
      "  \"attention_probs_dropout_prob\": 0.1,\n",
      "  \"finetuning_task\": \"tc-knbc\",\n",
      "  \"hidden_act\": \"gelu\",\n",
      "  \"hidden_dropout_prob\": 0.1,\n",
      "  \"hidden_size\": 768,\n",
      "  \"initializer_range\": 0.02,\n",
      "  \"intermediate_size\": 3072,\n",
      "  \"is_decoder\": false,\n",
      "  \"layer_norm_eps\": 1e-12,\n",
      "  \"max_position_embeddings\": 512,\n",
      "  \"num_attention_heads\": 12,\n",
      "  \"num_hidden_layers\": 12,\n",
      "  \"num_labels\": 4,\n",
      "  \"output_attentions\": false,\n",
      "  \"output_hidden_states\": false,\n",
      "  \"output_past\": true,\n",
      "  \"pruned_heads\": {},\n",
      "  \"torchscript\": false,\n",
      "  \"type_vocab_size\": 2,\n",
      "  \"use_bfloat16\": false,\n",
      "  \"vocab_size\": 32006\n",
      "}\n",
      "\n",
      "11/28/2019 16:02:58 - INFO - transformers.tokenization_utils -   Model name '/data/nlp/tool/bert/Japanese_L-12_H-768_A-12_E-30_BPE_transformers' not found in model shortcut name list (bert-base-uncased, bert-large-uncased, bert-base-cased, bert-large-cased, bert-base-multilingual-uncased, bert-base-multilingual-cased, bert-base-chinese, bert-base-german-cased, bert-large-uncased-whole-word-masking, bert-large-cased-whole-word-masking, bert-large-uncased-whole-word-masking-finetuned-squad, bert-large-cased-whole-word-masking-finetuned-squad, bert-base-cased-finetuned-mrpc, bert-base-german-dbmdz-cased, bert-base-german-dbmdz-uncased). Assuming '/data/nlp/tool/bert/Japanese_L-12_H-768_A-12_E-30_BPE_transformers' is a path or url to a directory containing tokenizer files.\n",
      "11/28/2019 16:02:58 - INFO - transformers.tokenization_utils -   Didn't find file /data/nlp/tool/bert/Japanese_L-12_H-768_A-12_E-30_BPE_transformers/added_tokens.json. We won't load it.\n",
      "11/28/2019 16:02:58 - INFO - transformers.tokenization_utils -   Didn't find file /data/nlp/tool/bert/Japanese_L-12_H-768_A-12_E-30_BPE_transformers/special_tokens_map.json. We won't load it.\n",
      "11/28/2019 16:02:58 - INFO - transformers.tokenization_utils -   loading file /data/nlp/tool/bert/Japanese_L-12_H-768_A-12_E-30_BPE_transformers/vocab.txt\n",
      "11/28/2019 16:02:58 - INFO - transformers.tokenization_utils -   loading file None\n",
      "11/28/2019 16:02:58 - INFO - transformers.tokenization_utils -   loading file None\n",
      "11/28/2019 16:02:58 - INFO - transformers.tokenization_utils -   loading file /data/nlp/tool/bert/Japanese_L-12_H-768_A-12_E-30_BPE_transformers/tokenizer_config.json\n",
      "11/28/2019 16:02:58 - INFO - transformers.modeling_utils -   loading weights file /data/nlp/tool/bert/Japanese_L-12_H-768_A-12_E-30_BPE_transformers/pytorch_model.bin\n",
      "11/28/2019 16:03:01 - INFO - transformers.modeling_utils -   Weights of BertForSequenceClassification not initialized from pretrained model: ['classifier.weight', 'classifier.bias']\n",
      "11/28/2019 16:03:01 - INFO - transformers.modeling_utils -   Weights from pretrained model not used in BertForSequenceClassification: ['cls.predictions.bias', 'cls.predictions.transform.dense.weight', 'cls.predictions.transform.dense.bias', 'cls.predictions.transform.LayerNorm.weight', 'cls.predictions.transform.LayerNorm.bias', 'cls.predictions.decoder.weight', 'cls.seq_relationship.weight', 'cls.seq_relationship.bias']\n",
      "11/28/2019 16:03:03 - INFO - __main__ -   Training/evaluation parameters Namespace(adam_epsilon=1e-08, cache_dir='', config_name='', data_dir='text_classification_KNBC', device=device(type='cuda'), do_eval=True, do_lower_case=False, do_train=True, eval_all_checkpoints=False, evaluate_during_training=False, fp16=False, fp16_opt_level='O1', gradient_accumulation_steps=1, learning_rate=2e-05, local_rank=-1, logging_steps=50, max_grad_norm=1.0, max_seq_length=128, max_steps=-1, model_name_or_path='/data/nlp/tool/bert/Japanese_L-12_H-768_A-12_E-30_BPE_transformers', model_type='bert', n_gpu=1, no_cuda=False, num_train_epochs=3.0, output_dir='KNBC_result/text_classification/', output_mode='classification', overwrite_cache=True, overwrite_output_dir=True, per_gpu_eval_batch_size=8, per_gpu_train_batch_size=8, save_steps=1000, seed=42, server_ip='', server_port='', task_name='tc-knbc', tokenizer_name='', tpu=False, tpu_ip_address='', tpu_name='', warmup_steps=0, weight_decay=0.0, xrt_tpu_config='')\n",
      "11/28/2019 16:03:03 - INFO - __main__ -   Creating features from dataset file at text_classification_KNBC\n",
      "11/28/2019 16:03:03 - INFO - transformers.data.processors.glue -   Writing example 0\n",
      "11/28/2019 16:03:03 - INFO - transformers.data.processors.glue -   *** Example ***\n",
      "11/28/2019 16:03:03 - INFO - transformers.data.processors.glue -   guid: train-1\n",
      "11/28/2019 16:03:03 - INFO - transformers.data.processors.glue -   input_ids: 2 559 65 209 110 27 188 13 36 218 6 299 2548 3257 113 8 11146 23418 730 215 12 56 482 11 38 7 58 107 5 368 6 23418 5 5147 2192 10 2363 8 20 6781 103 6 58 459 3674 34 8569 3096 32 15901 76 5 10094 6 6251 2168 5 6044 1870 42 11 128 33 21 7 4594 68 8 117 9 6 4982 18 28 1193 50 759 57 11 135 20048 8569 1472 8 2816 19 37 12 56 46 5147 5 459 108 27 6 6167 336 5 5619 5 4114 12 19 5655 714 23 258 12 56 7 58 363 13 6 8251 5 160 57 42 23 10094 8 9424 9550 22 7 3\n",
      "11/28/2019 16:03:03 - INFO - transformers.data.processors.glue -   attention_mask: 1 1 1 1 1 1 1 1 1 1 1 1 1 1 1 1 1 1 1 1 1 1 1 1 1 1 1 1 1 1 1 1 1 1 1 1 1 1 1 1 1 1 1 1 1 1 1 1 1 1 1 1 1 1 1 1 1 1 1 1 1 1 1 1 1 1 1 1 1 1 1 1 1 1 1 1 1 1 1 1 1 1 1 1 1 1 1 1 1 1 1 1 1 1 1 1 1 1 1 1 1 1 1 1 1 1 1 1 1 1 1 1 1 1 1 1 1 1 1 1 1 1 1 1 1 1 1 1\n",
      "11/28/2019 16:03:03 - INFO - transformers.data.processors.glue -   token_type_ids: 0 0 0 0 0 0 0 0 0 0 0 0 0 0 0 0 0 0 0 0 0 0 0 0 0 0 0 0 0 0 0 0 0 0 0 0 0 0 0 0 0 0 0 0 0 0 0 0 0 0 0 0 0 0 0 0 0 0 0 0 0 0 0 0 0 0 0 0 0 0 0 0 0 0 0 0 0 0 0 0 0 0 0 0 0 0 0 0 0 0 0 0 0 0 0 0 0 0 0 0 0 0 0 0 0 0 0 0 0 0 0 0 0 0 0 0 0 0 0 0 0 0 0 0 0 0 0 0\n",
      "11/28/2019 16:03:03 - INFO - transformers.data.processors.glue -   label: Kyoto (id = 1)\n",
      "11/28/2019 16:03:03 - INFO - transformers.data.processors.glue -   *** Example ***\n",
      "11/28/2019 16:03:03 - INFO - transformers.data.processors.glue -   guid: train-2\n",
      "11/28/2019 16:03:03 - INFO - transformers.data.processors.glue -   input_ids: 2 1055 5 1872 580 9 8115 21655 2625 21 12 4049 214 1953 7 1038 211 9 6 1872 580 10 3611 851 18 315 510 11 38 12 1756 1953 7 18453 6 1055 5 1872 580 8 52 6 1038 211 8 873 580 7529 1670 9 125 7682 2335 60 12 78 79 6 115 8 8738 19 17011 1350 5 1657 2403 9 5541 22 363 32 27 3338 7 73 13 9 85 5 2931 11 8988 19 3053 1953 7 46 48 1038 211 9 6 1872 580 10 272 22860 510 11 38 13285 7 556 13 6 4488 5 5491 10 1200 3795 102 22 30 10 1876 31 1953 7 2213 432 1872 12 56 60 9 3\n",
      "11/28/2019 16:03:03 - INFO - transformers.data.processors.glue -   attention_mask: 1 1 1 1 1 1 1 1 1 1 1 1 1 1 1 1 1 1 1 1 1 1 1 1 1 1 1 1 1 1 1 1 1 1 1 1 1 1 1 1 1 1 1 1 1 1 1 1 1 1 1 1 1 1 1 1 1 1 1 1 1 1 1 1 1 1 1 1 1 1 1 1 1 1 1 1 1 1 1 1 1 1 1 1 1 1 1 1 1 1 1 1 1 1 1 1 1 1 1 1 1 1 1 1 1 1 1 1 1 1 1 1 1 1 1 1 1 1 1 1 1 1 1 1 1 1 1 1\n",
      "11/28/2019 16:03:03 - INFO - transformers.data.processors.glue -   token_type_ids: 0 0 0 0 0 0 0 0 0 0 0 0 0 0 0 0 0 0 0 0 0 0 0 0 0 0 0 0 0 0 0 0 0 0 0 0 0 0 0 0 0 0 0 0 0 0 0 0 0 0 0 0 0 0 0 0 0 0 0 0 0 0 0 0 0 0 0 0 0 0 0 0 0 0 0 0 0 0 0 0 0 0 0 0 0 0 0 0 0 0 0 0 0 0 0 0 0 0 0 0 0 0 0 0 0 0 0 0 0 0 0 0 0 0 0 0 0 0 0 0 0 0 0 0 0 0 0 0\n",
      "11/28/2019 16:03:03 - INFO - transformers.data.processors.glue -   label: Gourmet (id = 2)\n",
      "11/28/2019 16:03:03 - INFO - transformers.data.processors.glue -   *** Example ***\n",
      "11/28/2019 16:03:03 - INFO - transformers.data.processors.glue -   guid: train-3\n",
      "11/28/2019 16:03:03 - INFO - transformers.data.processors.glue -   input_ids: 2 2672 20276 635 5 28267 108 276 314 608 104 898 8 273 306 10 512 47 7 15927 445 6 723 6885 7 50 8 1195 12 17340 17617 41 255 961 10 6 218 10 400 447 5 1288 10 1950 898 19 21 7 3582 1038 8 873 559 9 12508 26818 842 234 7 22059 2322 5 11667 9 5 2029 2242 445 13962 5071 6 15927 445 13 1 6458 17402 2625 5071 6 276 898 1807 5 887 11 4979 21 7 4784 2335 6019 5 3529 24493 6 357 226 9 4386 23 246 2322 10 19509 27935 13830 5828 66 7 24470 5115 10 22630 8 11667 10 13962 21 1185 1262 10 24595 30735 6 30653 712 3\n",
      "11/28/2019 16:03:03 - INFO - transformers.data.processors.glue -   attention_mask: 1 1 1 1 1 1 1 1 1 1 1 1 1 1 1 1 1 1 1 1 1 1 1 1 1 1 1 1 1 1 1 1 1 1 1 1 1 1 1 1 1 1 1 1 1 1 1 1 1 1 1 1 1 1 1 1 1 1 1 1 1 1 1 1 1 1 1 1 1 1 1 1 1 1 1 1 1 1 1 1 1 1 1 1 1 1 1 1 1 1 1 1 1 1 1 1 1 1 1 1 1 1 1 1 1 1 1 1 1 1 1 1 1 1 1 1 1 1 1 1 1 1 1 1 1 1 1 1\n",
      "11/28/2019 16:03:03 - INFO - transformers.data.processors.glue -   token_type_ids: 0 0 0 0 0 0 0 0 0 0 0 0 0 0 0 0 0 0 0 0 0 0 0 0 0 0 0 0 0 0 0 0 0 0 0 0 0 0 0 0 0 0 0 0 0 0 0 0 0 0 0 0 0 0 0 0 0 0 0 0 0 0 0 0 0 0 0 0 0 0 0 0 0 0 0 0 0 0 0 0 0 0 0 0 0 0 0 0 0 0 0 0 0 0 0 0 0 0 0 0 0 0 0 0 0 0 0 0 0 0 0 0 0 0 0 0 0 0 0 0 0 0 0 0 0 0 0 0\n",
      "11/28/2019 16:03:03 - INFO - transformers.data.processors.glue -   label: Kyoto (id = 1)\n",
      "11/28/2019 16:03:03 - INFO - transformers.data.processors.glue -   *** Example ***\n",
      "11/28/2019 16:03:03 - INFO - transformers.data.processors.glue -   guid: train-4\n",
      "11/28/2019 16:03:03 - INFO - transformers.data.processors.glue -   input_ids: 2 599 16379 9 21654 17585 6378 712 105 6 19804 4640 2489 2261 104 2141 3192 11 11710 4652 66 2281 4857 3338 11 6 5650 5127 6619 1602 273 12675 13240 90 1566 18 2625 6 46 307 10 12286 786 3277 31 755 30 11 125 1953 7 6381 5020 9 23295 8 1648 27 559 1185 23430 60 10 20 30 11 47 13285 7 1152 13991 5020 9 3343 396 6 340 5 225 5 2669 5 3194 470 7763 27 22134 35 218 17340 400 7052 19 21 314 4728 11 5416 14904 2347 4939 13961 868 12 24423 8 4225 30 11 577 7 24470 559 13 15831 12 19 23 168 724 34 535 724 765 5 303 110 3\n",
      "11/28/2019 16:03:03 - INFO - transformers.data.processors.glue -   attention_mask: 1 1 1 1 1 1 1 1 1 1 1 1 1 1 1 1 1 1 1 1 1 1 1 1 1 1 1 1 1 1 1 1 1 1 1 1 1 1 1 1 1 1 1 1 1 1 1 1 1 1 1 1 1 1 1 1 1 1 1 1 1 1 1 1 1 1 1 1 1 1 1 1 1 1 1 1 1 1 1 1 1 1 1 1 1 1 1 1 1 1 1 1 1 1 1 1 1 1 1 1 1 1 1 1 1 1 1 1 1 1 1 1 1 1 1 1 1 1 1 1 1 1 1 1 1 1 1 1\n",
      "11/28/2019 16:03:03 - INFO - transformers.data.processors.glue -   token_type_ids: 0 0 0 0 0 0 0 0 0 0 0 0 0 0 0 0 0 0 0 0 0 0 0 0 0 0 0 0 0 0 0 0 0 0 0 0 0 0 0 0 0 0 0 0 0 0 0 0 0 0 0 0 0 0 0 0 0 0 0 0 0 0 0 0 0 0 0 0 0 0 0 0 0 0 0 0 0 0 0 0 0 0 0 0 0 0 0 0 0 0 0 0 0 0 0 0 0 0 0 0 0 0 0 0 0 0 0 0 0 0 0 0 0 0 0 0 0 0 0 0 0 0 0 0 0 0 0 0\n",
      "11/28/2019 16:03:03 - INFO - transformers.data.processors.glue -   label: Kyoto (id = 1)\n",
      "11/28/2019 16:03:03 - INFO - transformers.data.processors.glue -   *** Example ***\n",
      "11/28/2019 16:03:03 - INFO - transformers.data.processors.glue -   guid: train-5\n",
      "11/28/2019 16:03:03 - INFO - transformers.data.processors.glue -   input_ids: 2 2141 2168 1038 9 18790 13 886 11250 10 4547 7 276 3979 1550 9 1635 7 7353 12 2953 10 797 3405 30 11 146 7 12 6676 23 73 262 13 9 11890 47 60 11 38 314 353 8 23 4547 7 2276 9725 1015 3453 1473 11 47 314 6 27326 5 68 10 1175 22 7 227 2141 2168 9 10706 11 3782 989 2273 314 6 11500 5 1 8163 10 1175 22 7 273 19953 11 6866 13777 2625 21 87 9 16124 23 1175 22 7 276 3979 1550 5 68 123 357 5820 5 9 6 2161 1590 12 3303 11250 32 7 1038 9 8697 8378 276 314 2161 1590 5 8697 18 11 7566 12 3\n",
      "11/28/2019 16:03:03 - INFO - transformers.data.processors.glue -   attention_mask: 1 1 1 1 1 1 1 1 1 1 1 1 1 1 1 1 1 1 1 1 1 1 1 1 1 1 1 1 1 1 1 1 1 1 1 1 1 1 1 1 1 1 1 1 1 1 1 1 1 1 1 1 1 1 1 1 1 1 1 1 1 1 1 1 1 1 1 1 1 1 1 1 1 1 1 1 1 1 1 1 1 1 1 1 1 1 1 1 1 1 1 1 1 1 1 1 1 1 1 1 1 1 1 1 1 1 1 1 1 1 1 1 1 1 1 1 1 1 1 1 1 1 1 1 1 1 1 1\n",
      "11/28/2019 16:03:03 - INFO - transformers.data.processors.glue -   token_type_ids: 0 0 0 0 0 0 0 0 0 0 0 0 0 0 0 0 0 0 0 0 0 0 0 0 0 0 0 0 0 0 0 0 0 0 0 0 0 0 0 0 0 0 0 0 0 0 0 0 0 0 0 0 0 0 0 0 0 0 0 0 0 0 0 0 0 0 0 0 0 0 0 0 0 0 0 0 0 0 0 0 0 0 0 0 0 0 0 0 0 0 0 0 0 0 0 0 0 0 0 0 0 0 0 0 0 0 0 0 0 0 0 0 0 0 0 0 0 0 0 0 0 0 0 0 0 0 0 0\n",
      "11/28/2019 16:03:03 - INFO - transformers.data.processors.glue -   label: Gourmet (id = 2)\n"
     ]
    },
    {
     "name": "stdout",
     "output_type": "stream",
     "text": [
      "11/28/2019 16:03:04 - INFO - __main__ -   Saving features into cached file text_classification_KNBC/cached_train_Japanese_L-12_H-768_A-12_E-30_BPE_transformers_128_tc-knbc\n",
      "11/28/2019 16:03:04 - INFO - __main__ -   ***** Running training *****\n",
      "11/28/2019 16:03:04 - INFO - __main__ -     Num examples = 199\n",
      "11/28/2019 16:03:04 - INFO - __main__ -     Num Epochs = 3\n",
      "11/28/2019 16:03:04 - INFO - __main__ -     Instantaneous batch size per GPU = 8\n",
      "11/28/2019 16:03:04 - INFO - __main__ -     Total train batch size (w. parallel, distributed & accumulation) = 8\n",
      "11/28/2019 16:03:04 - INFO - __main__ -     Gradient Accumulation steps = 1\n",
      "11/28/2019 16:03:04 - INFO - __main__ -     Total optimization steps = 75\n",
      "Epoch:   0%|                                              | 0/3 [00:00<?, ?it/s]\n",
      "Iteration:   0%|                                         | 0/25 [00:00<?, ?it/s]\u001b[A\n",
      "Iteration:   4%|█▎                               | 1/25 [00:00<00:15,  1.52it/s]\u001b[A\n",
      "Iteration:   8%|██▋                              | 2/25 [00:01<00:13,  1.67it/s]\u001b[A\n",
      "Iteration:  12%|███▉                             | 3/25 [00:01<00:12,  1.79it/s]\u001b[A\n",
      "Iteration:  16%|█████▎                           | 4/25 [00:02<00:11,  1.88it/s]\u001b[A\n",
      "Iteration:  20%|██████▌                          | 5/25 [00:02<00:10,  1.96it/s]\u001b[A\n",
      "Iteration:  24%|███████▉                         | 6/25 [00:02<00:09,  2.02it/s]\u001b[A\n",
      "Iteration:  28%|█████████▏                       | 7/25 [00:03<00:08,  2.07it/s]\u001b[A\n",
      "Iteration:  32%|██████████▌                      | 8/25 [00:03<00:08,  2.10it/s]\u001b[A\n",
      "Iteration:  36%|███████████▉                     | 9/25 [00:04<00:07,  2.12it/s]\u001b[A\n",
      "Iteration:  40%|████████████▊                   | 10/25 [00:04<00:07,  2.14it/s]\u001b[A\n",
      "Iteration:  44%|██████████████                  | 11/25 [00:05<00:06,  2.15it/s]\u001b[A\n",
      "Iteration:  48%|███████████████▎                | 12/25 [00:05<00:06,  2.16it/s]\u001b[A\n",
      "Iteration:  52%|████████████████▋               | 13/25 [00:06<00:05,  2.16it/s]\u001b[A\n",
      "Iteration:  56%|█████████████████▉              | 14/25 [00:06<00:05,  2.16it/s]\u001b[A\n",
      "Iteration:  60%|███████████████████▏            | 15/25 [00:07<00:04,  2.15it/s]\u001b[A\n",
      "Iteration:  64%|████████████████████▍           | 16/25 [00:07<00:04,  2.16it/s]\u001b[A\n",
      "Iteration:  68%|█████████████████████▊          | 17/25 [00:08<00:03,  2.17it/s]\u001b[A\n",
      "Iteration:  72%|███████████████████████         | 18/25 [00:08<00:03,  2.16it/s]\u001b[A\n",
      "Iteration:  76%|████████████████████████▎       | 19/25 [00:08<00:02,  2.16it/s]\u001b[A\n",
      "Iteration:  80%|█████████████████████████▌      | 20/25 [00:09<00:02,  2.16it/s]\u001b[A\n",
      "Iteration:  84%|██████████████████████████▉     | 21/25 [00:09<00:01,  2.17it/s]\u001b[A\n",
      "Iteration:  88%|████████████████████████████▏   | 22/25 [00:10<00:01,  2.16it/s]\u001b[A\n",
      "Iteration:  92%|█████████████████████████████▍  | 23/25 [00:10<00:00,  2.16it/s]\u001b[A\n",
      "Iteration:  96%|██████████████████████████████▋ | 24/25 [00:11<00:00,  2.16it/s]\u001b[A\n",
      "Epoch:  33%|████████████▋                         | 1/3 [00:11<00:23, 11.70s/it]\u001b[A\n",
      "Iteration:   0%|                                         | 0/25 [00:00<?, ?it/s]\u001b[A\n",
      "Iteration:   4%|█▎                               | 1/25 [00:00<00:11,  2.17it/s]\u001b[A\n",
      "Iteration:   8%|██▋                              | 2/25 [00:00<00:10,  2.18it/s]\u001b[A\n",
      "Iteration:  12%|███▉                             | 3/25 [00:01<00:10,  2.17it/s]\u001b[A\n",
      "Iteration:  16%|█████▎                           | 4/25 [00:01<00:09,  2.17it/s]\u001b[A\n",
      "Iteration:  20%|██████▌                          | 5/25 [00:02<00:09,  2.17it/s]\u001b[A\n",
      "Iteration:  24%|███████▉                         | 6/25 [00:02<00:08,  2.17it/s]\u001b[A\n",
      "Iteration:  28%|█████████▏                       | 7/25 [00:03<00:08,  2.14it/s]\u001b[A\n",
      "Iteration:  32%|██████████▌                      | 8/25 [00:03<00:07,  2.14it/s]\u001b[A\n",
      "Iteration:  36%|███████████▉                     | 9/25 [00:04<00:07,  2.15it/s]\u001b[A\n",
      "Iteration:  40%|████████████▊                   | 10/25 [00:04<00:06,  2.16it/s]\u001b[A\n",
      "Iteration:  44%|██████████████                  | 11/25 [00:05<00:06,  2.15it/s]\u001b[A\n",
      "Iteration:  48%|███████████████▎                | 12/25 [00:05<00:06,  2.16it/s]\u001b[A\n",
      "Iteration:  52%|████████████████▋               | 13/25 [00:06<00:05,  2.16it/s]\u001b[A\n",
      "Iteration:  56%|█████████████████▉              | 14/25 [00:06<00:05,  2.16it/s]\u001b[A\n",
      "Iteration:  60%|███████████████████▏            | 15/25 [00:06<00:04,  2.15it/s]\u001b[A\n",
      "Iteration:  64%|████████████████████▍           | 16/25 [00:07<00:04,  2.16it/s]\u001b[A\n",
      "Iteration:  68%|█████████████████████▊          | 17/25 [00:07<00:03,  2.16it/s]\u001b[A\n",
      "Iteration:  72%|███████████████████████         | 18/25 [00:08<00:03,  2.16it/s]\u001b[A\n",
      "Iteration:  76%|████████████████████████▎       | 19/25 [00:08<00:02,  2.16it/s]\u001b[A\n",
      "Iteration:  80%|█████████████████████████▌      | 20/25 [00:09<00:02,  2.16it/s]\u001b[A\n",
      "Iteration:  84%|██████████████████████████▉     | 21/25 [00:09<00:01,  2.16it/s]\u001b[A\n",
      "Iteration:  88%|████████████████████████████▏   | 22/25 [00:10<00:01,  2.16it/s]\u001b[A\n",
      "Iteration:  92%|█████████████████████████████▍  | 23/25 [00:10<00:00,  2.16it/s]\u001b[A\n",
      "Iteration:  96%|██████████████████████████████▋ | 24/25 [00:11<00:00,  2.17it/s]\u001b[A\n",
      "Epoch:  67%|█████████████████████████▎            | 2/3 [00:23<00:11, 11.65s/it]\u001b[A\n",
      "Iteration:   0%|                                         | 0/25 [00:00<?, ?it/s]\u001b[A\n",
      "Iteration:   4%|█▎                               | 1/25 [00:00<00:11,  2.17it/s]\u001b[A\n",
      "Iteration:   8%|██▋                              | 2/25 [00:00<00:10,  2.17it/s]\u001b[A\n",
      "Iteration:  12%|███▉                             | 3/25 [00:01<00:10,  2.16it/s]\u001b[A\n",
      "Iteration:  16%|█████▎                           | 4/25 [00:01<00:09,  2.16it/s]\u001b[A\n",
      "Iteration:  20%|██████▌                          | 5/25 [00:02<00:09,  2.17it/s]\u001b[A\n",
      "Iteration:  24%|███████▉                         | 6/25 [00:02<00:08,  2.17it/s]\u001b[A\n",
      "Iteration:  28%|█████████▏                       | 7/25 [00:03<00:08,  2.16it/s]\u001b[A\n",
      "Iteration:  32%|██████████▌                      | 8/25 [00:03<00:07,  2.16it/s]\u001b[A\n",
      "Iteration:  36%|███████████▉                     | 9/25 [00:04<00:07,  2.17it/s]\u001b[A\n",
      "Iteration:  40%|████████████▊                   | 10/25 [00:04<00:06,  2.16it/s]\u001b[A\n",
      "Iteration:  44%|██████████████                  | 11/25 [00:05<00:06,  2.16it/s]\u001b[A\n",
      "Iteration:  48%|███████████████▎                | 12/25 [00:05<00:06,  2.15it/s]\u001b[A\n",
      "Iteration:  52%|████████████████▋               | 13/25 [00:06<00:05,  2.16it/s]\u001b[A\n",
      "Iteration:  56%|█████████████████▉              | 14/25 [00:06<00:05,  2.16it/s]\u001b[A\n",
      "Iteration:  60%|███████████████████▏            | 15/25 [00:06<00:04,  2.16it/s]\u001b[A\n",
      "Iteration:  64%|████████████████████▍           | 16/25 [00:07<00:04,  2.16it/s]\u001b[A\n",
      "Iteration:  68%|█████████████████████▊          | 17/25 [00:07<00:03,  2.15it/s]\u001b[A\n",
      "Iteration:  72%|███████████████████████         | 18/25 [00:08<00:03,  2.15it/s]\u001b[A\n",
      "Iteration:  76%|████████████████████████▎       | 19/25 [00:08<00:02,  2.15it/s]\u001b[A\n",
      "Iteration:  80%|█████████████████████████▌      | 20/25 [00:09<00:02,  2.15it/s]\u001b[A\n",
      "Iteration:  84%|██████████████████████████▉     | 21/25 [00:09<00:01,  2.15it/s]\u001b[A\n",
      "Iteration:  88%|████████████████████████████▏   | 22/25 [00:10<00:01,  2.15it/s]\u001b[A\n",
      "Iteration:  92%|█████████████████████████████▍  | 23/25 [00:10<00:00,  2.15it/s]\u001b[A\n",
      "Iteration:  96%|██████████████████████████████▋ | 24/25 [00:11<00:00,  2.16it/s]\u001b[A\n",
      "Epoch: 100%|██████████████████████████████████████| 3/3 [00:34<00:00, 11.62s/it]\u001b[A\n",
      "11/28/2019 16:03:39 - INFO - __main__ -    global_step = 75, average loss = 0.5955811107158661\n",
      "11/28/2019 16:03:39 - INFO - __main__ -   Saving model checkpoint to KNBC_result/text_classification/\n",
      "11/28/2019 16:03:39 - INFO - transformers.configuration_utils -   Configuration saved in KNBC_result/text_classification/config.json\n",
      "11/28/2019 16:03:39 - INFO - transformers.modeling_utils -   Model weights saved in KNBC_result/text_classification/pytorch_model.bin\n",
      "11/28/2019 16:03:39 - INFO - transformers.configuration_utils -   loading configuration file KNBC_result/text_classification/config.json\n",
      "11/28/2019 16:03:39 - INFO - transformers.configuration_utils -   Model config {\n",
      "  \"attention_probs_dropout_prob\": 0.1,\n",
      "  \"finetuning_task\": \"tc-knbc\",\n",
      "  \"hidden_act\": \"gelu\",\n",
      "  \"hidden_dropout_prob\": 0.1,\n",
      "  \"hidden_size\": 768,\n",
      "  \"initializer_range\": 0.02,\n",
      "  \"intermediate_size\": 3072,\n",
      "  \"is_decoder\": false,\n",
      "  \"layer_norm_eps\": 1e-12,\n",
      "  \"max_position_embeddings\": 512,\n",
      "  \"num_attention_heads\": 12,\n",
      "  \"num_hidden_layers\": 12,\n",
      "  \"num_labels\": 4,\n",
      "  \"output_attentions\": false,\n",
      "  \"output_hidden_states\": false,\n",
      "  \"output_past\": true,\n",
      "  \"pruned_heads\": {},\n",
      "  \"torchscript\": false,\n",
      "  \"type_vocab_size\": 2,\n",
      "  \"use_bfloat16\": false,\n",
      "  \"vocab_size\": 32006\n",
      "}\n",
      "\n",
      "11/28/2019 16:03:39 - INFO - transformers.modeling_utils -   loading weights file KNBC_result/text_classification/pytorch_model.bin\n"
     ]
    },
    {
     "name": "stdout",
     "output_type": "stream",
     "text": [
      "11/28/2019 16:03:42 - INFO - transformers.tokenization_utils -   Model name 'KNBC_result/text_classification/' not found in model shortcut name list (bert-base-uncased, bert-large-uncased, bert-base-cased, bert-large-cased, bert-base-multilingual-uncased, bert-base-multilingual-cased, bert-base-chinese, bert-base-german-cased, bert-large-uncased-whole-word-masking, bert-large-cased-whole-word-masking, bert-large-uncased-whole-word-masking-finetuned-squad, bert-large-cased-whole-word-masking-finetuned-squad, bert-base-cased-finetuned-mrpc, bert-base-german-dbmdz-cased, bert-base-german-dbmdz-uncased). Assuming 'KNBC_result/text_classification/' is a path or url to a directory containing tokenizer files.\n",
      "11/28/2019 16:03:42 - INFO - transformers.tokenization_utils -   loading file KNBC_result/text_classification/vocab.txt\n",
      "11/28/2019 16:03:42 - INFO - transformers.tokenization_utils -   loading file KNBC_result/text_classification/added_tokens.json\n",
      "11/28/2019 16:03:42 - INFO - transformers.tokenization_utils -   loading file KNBC_result/text_classification/special_tokens_map.json\n",
      "11/28/2019 16:03:42 - INFO - transformers.tokenization_utils -   loading file KNBC_result/text_classification/tokenizer_config.json\n",
      "11/28/2019 16:03:42 - INFO - transformers.tokenization_utils -   Model name 'KNBC_result/text_classification/' not found in model shortcut name list (bert-base-uncased, bert-large-uncased, bert-base-cased, bert-large-cased, bert-base-multilingual-uncased, bert-base-multilingual-cased, bert-base-chinese, bert-base-german-cased, bert-large-uncased-whole-word-masking, bert-large-cased-whole-word-masking, bert-large-uncased-whole-word-masking-finetuned-squad, bert-large-cased-whole-word-masking-finetuned-squad, bert-base-cased-finetuned-mrpc, bert-base-german-dbmdz-cased, bert-base-german-dbmdz-uncased). Assuming 'KNBC_result/text_classification/' is a path or url to a directory containing tokenizer files.\n",
      "11/28/2019 16:03:42 - INFO - transformers.tokenization_utils -   loading file KNBC_result/text_classification/vocab.txt\n",
      "11/28/2019 16:03:42 - INFO - transformers.tokenization_utils -   loading file KNBC_result/text_classification/added_tokens.json\n",
      "11/28/2019 16:03:42 - INFO - transformers.tokenization_utils -   loading file KNBC_result/text_classification/special_tokens_map.json\n",
      "11/28/2019 16:03:42 - INFO - transformers.tokenization_utils -   loading file KNBC_result/text_classification/tokenizer_config.json\n",
      "11/28/2019 16:03:42 - INFO - __main__ -   Evaluate the following checkpoints: ['KNBC_result/text_classification/']\n",
      "11/28/2019 16:03:42 - INFO - transformers.configuration_utils -   loading configuration file KNBC_result/text_classification/config.json\n",
      "11/28/2019 16:03:42 - INFO - transformers.configuration_utils -   Model config {\n",
      "  \"attention_probs_dropout_prob\": 0.1,\n",
      "  \"finetuning_task\": \"tc-knbc\",\n",
      "  \"hidden_act\": \"gelu\",\n",
      "  \"hidden_dropout_prob\": 0.1,\n",
      "  \"hidden_size\": 768,\n",
      "  \"initializer_range\": 0.02,\n",
      "  \"intermediate_size\": 3072,\n",
      "  \"is_decoder\": false,\n",
      "  \"layer_norm_eps\": 1e-12,\n",
      "  \"max_position_embeddings\": 512,\n",
      "  \"num_attention_heads\": 12,\n",
      "  \"num_hidden_layers\": 12,\n",
      "  \"num_labels\": 4,\n",
      "  \"output_attentions\": false,\n",
      "  \"output_hidden_states\": false,\n",
      "  \"output_past\": true,\n",
      "  \"pruned_heads\": {},\n",
      "  \"torchscript\": false,\n",
      "  \"type_vocab_size\": 2,\n",
      "  \"use_bfloat16\": false,\n",
      "  \"vocab_size\": 32006\n",
      "}\n",
      "\n",
      "11/28/2019 16:03:42 - INFO - transformers.modeling_utils -   loading weights file KNBC_result/text_classification/pytorch_model.bin\n",
      "11/28/2019 16:03:45 - INFO - __main__ -   Creating features from dataset file at text_classification_KNBC\n",
      "11/28/2019 16:03:45 - INFO - transformers.data.processors.glue -   Writing example 0\n",
      "11/28/2019 16:03:45 - INFO - transformers.data.processors.glue -   *** Example ***\n",
      "11/28/2019 16:03:45 - INFO - transformers.data.processors.glue -   guid: dev-1\n",
      "11/28/2019 16:03:45 - INFO - transformers.data.processors.glue -   input_ids: 2 1485 4331 1038 9 830 11 6626 104 25992 13877 47 7 11853 115 11 29208 30 6 447 13 7514 30 8 5182 109 8 7 2263 864 5 87 23 195 9 272 9216 8766 5014 6547 10 19 37 31 6 1269 9133 211 11 20753 6434 5 518 150 5 564 10 3084 8 19 1270 23 6 2032 9774 47 7 8828 150 5 628 15126 90 6 282 76 5 5 210 5 628 4586 8052 4271 7 3355 6944 1038 9 30830 5 11 16028 275 314 6 20330 10 11172 255 30 9 31 47 7 2041 9184 12 2930 9 1050 964 7 46 129 83 9 2145 5 806 5 273 9930 13 6 20084 12 3\n",
      "11/28/2019 16:03:45 - INFO - transformers.data.processors.glue -   attention_mask: 1 1 1 1 1 1 1 1 1 1 1 1 1 1 1 1 1 1 1 1 1 1 1 1 1 1 1 1 1 1 1 1 1 1 1 1 1 1 1 1 1 1 1 1 1 1 1 1 1 1 1 1 1 1 1 1 1 1 1 1 1 1 1 1 1 1 1 1 1 1 1 1 1 1 1 1 1 1 1 1 1 1 1 1 1 1 1 1 1 1 1 1 1 1 1 1 1 1 1 1 1 1 1 1 1 1 1 1 1 1 1 1 1 1 1 1 1 1 1 1 1 1 1 1 1 1 1 1\n",
      "11/28/2019 16:03:45 - INFO - transformers.data.processors.glue -   token_type_ids: 0 0 0 0 0 0 0 0 0 0 0 0 0 0 0 0 0 0 0 0 0 0 0 0 0 0 0 0 0 0 0 0 0 0 0 0 0 0 0 0 0 0 0 0 0 0 0 0 0 0 0 0 0 0 0 0 0 0 0 0 0 0 0 0 0 0 0 0 0 0 0 0 0 0 0 0 0 0 0 0 0 0 0 0 0 0 0 0 0 0 0 0 0 0 0 0 0 0 0 0 0 0 0 0 0 0 0 0 0 0 0 0 0 0 0 0 0 0 0 0 0 0 0 0 0 0 0 0\n",
      "11/28/2019 16:03:45 - INFO - transformers.data.processors.glue -   label: Sports (id = 3)\n",
      "11/28/2019 16:03:45 - INFO - transformers.data.processors.glue -   *** Example ***\n",
      "11/28/2019 16:03:45 - INFO - transformers.data.processors.glue -   guid: dev-2\n",
      "11/28/2019 16:03:45 - INFO - transformers.data.processors.glue -   input_ids: 2 8828 1 897 9 404 10 19327 273 173 3338 11 6 7026 835 8 9 58 4532 10 28040 22 30 11 261 1953 7 835 8 66 12 6 6135 8 38 955 1678 15136 246 13 9 1288 10 246 8 2611 9745 1780 30 11 261 6 20330 10 14623 14623 11699 8 2987 1002 9 4452 3506 12 404 5 4999 871 10 21791 142 1953 7 14469 635 12 3123 2091 12534 404 2222 9 4064 8 21946 26413 6 955 1678 15136 246 5 1756 31656 3235 20072 404 9 3536 2625 642 1288 10 1853 2029 23456 12 30800 2625 8411 1953 7 1288 10 29911 1037 21 262 13 13879 361 23 9745 4271 15805 6 6866 3\n",
      "11/28/2019 16:03:45 - INFO - transformers.data.processors.glue -   attention_mask: 1 1 1 1 1 1 1 1 1 1 1 1 1 1 1 1 1 1 1 1 1 1 1 1 1 1 1 1 1 1 1 1 1 1 1 1 1 1 1 1 1 1 1 1 1 1 1 1 1 1 1 1 1 1 1 1 1 1 1 1 1 1 1 1 1 1 1 1 1 1 1 1 1 1 1 1 1 1 1 1 1 1 1 1 1 1 1 1 1 1 1 1 1 1 1 1 1 1 1 1 1 1 1 1 1 1 1 1 1 1 1 1 1 1 1 1 1 1 1 1 1 1 1 1 1 1 1 1\n",
      "11/28/2019 16:03:45 - INFO - transformers.data.processors.glue -   token_type_ids: 0 0 0 0 0 0 0 0 0 0 0 0 0 0 0 0 0 0 0 0 0 0 0 0 0 0 0 0 0 0 0 0 0 0 0 0 0 0 0 0 0 0 0 0 0 0 0 0 0 0 0 0 0 0 0 0 0 0 0 0 0 0 0 0 0 0 0 0 0 0 0 0 0 0 0 0 0 0 0 0 0 0 0 0 0 0 0 0 0 0 0 0 0 0 0 0 0 0 0 0 0 0 0 0 0 0 0 0 0 0 0 0 0 0 0 0 0 0 0 0 0 0 0 0 0 0 0 0\n",
      "11/28/2019 16:03:45 - INFO - transformers.data.processors.glue -   label: Kyoto (id = 1)\n",
      "11/28/2019 16:03:45 - INFO - transformers.data.processors.glue -   *** Example ***\n",
      "11/28/2019 16:03:45 - INFO - transformers.data.processors.glue -   guid: dev-3\n",
      "11/28/2019 16:03:45 - INFO - transformers.data.processors.glue -   input_ids: 2 1696 4220 5 12970 10 1434 29688 6 678 18295 4093 857 61 462 1237 4561 19409 3982 5 9661 8 468 314 6 50 23 1476 90 12 1756 1237 2143 6 4093 308 9 1283 50 1185 1262 12 19976 2362 396 13 23115 989 17749 4561 7 7 7 123 6 18665 5220 6249 359 129 14 4663 6 168 14 4663 10 368 6 20330 1201 712 429 17987 5 1756 13 4093 857 61 1754 228 228 17065 2426 13687 7003 4223 5 11 1440 6 115 9 273 857 5 1790 10 11274 26707 275 68 10 6142 10 17219 8 8130 10 3498 60 3338 11 6 13324 9004 1 6 30214 273 857 5 68 34 6508 6 3\n",
      "11/28/2019 16:03:45 - INFO - transformers.data.processors.glue -   attention_mask: 1 1 1 1 1 1 1 1 1 1 1 1 1 1 1 1 1 1 1 1 1 1 1 1 1 1 1 1 1 1 1 1 1 1 1 1 1 1 1 1 1 1 1 1 1 1 1 1 1 1 1 1 1 1 1 1 1 1 1 1 1 1 1 1 1 1 1 1 1 1 1 1 1 1 1 1 1 1 1 1 1 1 1 1 1 1 1 1 1 1 1 1 1 1 1 1 1 1 1 1 1 1 1 1 1 1 1 1 1 1 1 1 1 1 1 1 1 1 1 1 1 1 1 1 1 1 1 1\n",
      "11/28/2019 16:03:45 - INFO - transformers.data.processors.glue -   token_type_ids: 0 0 0 0 0 0 0 0 0 0 0 0 0 0 0 0 0 0 0 0 0 0 0 0 0 0 0 0 0 0 0 0 0 0 0 0 0 0 0 0 0 0 0 0 0 0 0 0 0 0 0 0 0 0 0 0 0 0 0 0 0 0 0 0 0 0 0 0 0 0 0 0 0 0 0 0 0 0 0 0 0 0 0 0 0 0 0 0 0 0 0 0 0 0 0 0 0 0 0 0 0 0 0 0 0 0 0 0 0 0 0 0 0 0 0 0 0 0 0 0 0 0 0 0 0 0 0 0\n",
      "11/28/2019 16:03:45 - INFO - transformers.data.processors.glue -   label: Kyoto (id = 1)\n",
      "11/28/2019 16:03:45 - INFO - transformers.data.processors.glue -   *** Example ***\n",
      "11/28/2019 16:03:45 - INFO - transformers.data.processors.glue -   guid: dev-4\n",
      "11/28/2019 16:03:45 - INFO - transformers.data.processors.glue -   input_ids: 2 381 5 3090 6 774 68 43 276 19102 10281 6 27799 8453 11926 5 72 24970 13 6 1073 6 714 284 43 159 8 59 1357 1291 754 7 4862 1336 23556 5389 2489 754 7 381 23 6 222 68 12 7532 31 1291 642 19102 10281 6 1717 13 6 683 12338 4171 7 381 94 6815 23 6 15514 25184 445 1 19102 10281 2382 754 7 7 7 1593 6 3090 94 6815 5 5693 8 9 12159 11507 1057 1357 12 1756 1953 7 25960 6 599 9685 6 593 11 6173 871 2686 5389 31 6 1912 562 23 11926 5 2392 231 14737 6 3269 14737 6 231 14737 13 6 12507 17807 3436 7 20753 2581 3\n",
      "11/28/2019 16:03:45 - INFO - transformers.data.processors.glue -   attention_mask: 1 1 1 1 1 1 1 1 1 1 1 1 1 1 1 1 1 1 1 1 1 1 1 1 1 1 1 1 1 1 1 1 1 1 1 1 1 1 1 1 1 1 1 1 1 1 1 1 1 1 1 1 1 1 1 1 1 1 1 1 1 1 1 1 1 1 1 1 1 1 1 1 1 1 1 1 1 1 1 1 1 1 1 1 1 1 1 1 1 1 1 1 1 1 1 1 1 1 1 1 1 1 1 1 1 1 1 1 1 1 1 1 1 1 1 1 1 1 1 1 1 1 1 1 1 1 1 1\n",
      "11/28/2019 16:03:45 - INFO - transformers.data.processors.glue -   token_type_ids: 0 0 0 0 0 0 0 0 0 0 0 0 0 0 0 0 0 0 0 0 0 0 0 0 0 0 0 0 0 0 0 0 0 0 0 0 0 0 0 0 0 0 0 0 0 0 0 0 0 0 0 0 0 0 0 0 0 0 0 0 0 0 0 0 0 0 0 0 0 0 0 0 0 0 0 0 0 0 0 0 0 0 0 0 0 0 0 0 0 0 0 0 0 0 0 0 0 0 0 0 0 0 0 0 0 0 0 0 0 0 0 0 0 0 0 0 0 0 0 0 0 0 0 0 0 0 0 0\n",
      "11/28/2019 16:03:45 - INFO - transformers.data.processors.glue -   label: Sports (id = 3)\n",
      "11/28/2019 16:03:45 - INFO - transformers.data.processors.glue -   *** Example ***\n",
      "11/28/2019 16:03:45 - INFO - transformers.data.processors.glue -   guid: dev-5\n",
      "11/28/2019 16:03:45 - INFO - transformers.data.processors.glue -   input_ids: 2 678 2581 5184 26953 970 12 56 6 18152 2625 2308 2273 4812 1641 10 711 701 19 21 184 5 2091 12189 1458 1857 24524 12 56 1641 10 15261 7 46 1641 9 15261 62 8 198 18 28 3558 8 23 2030 19108 13 3025 13 595 19 6690 5 11 658 32 7 557 12 19 9 2915 5 68 5 944 10 8617 12338 4812 76 8 3913 146 30 13 6 774 1950 21 2915 10 24591 1430 6 967 60 10 1468 20 372 8 46 944 10 12778 30 13 7805 1860 25301 668 30 11 146 7 353 8 23 273 2320 6258 2915 8 23 595 19 21 31 6 1167 27 273 14907 5 251 3\n",
      "11/28/2019 16:03:45 - INFO - transformers.data.processors.glue -   attention_mask: 1 1 1 1 1 1 1 1 1 1 1 1 1 1 1 1 1 1 1 1 1 1 1 1 1 1 1 1 1 1 1 1 1 1 1 1 1 1 1 1 1 1 1 1 1 1 1 1 1 1 1 1 1 1 1 1 1 1 1 1 1 1 1 1 1 1 1 1 1 1 1 1 1 1 1 1 1 1 1 1 1 1 1 1 1 1 1 1 1 1 1 1 1 1 1 1 1 1 1 1 1 1 1 1 1 1 1 1 1 1 1 1 1 1 1 1 1 1 1 1 1 1 1 1 1 1 1 1\n",
      "11/28/2019 16:03:45 - INFO - transformers.data.processors.glue -   token_type_ids: 0 0 0 0 0 0 0 0 0 0 0 0 0 0 0 0 0 0 0 0 0 0 0 0 0 0 0 0 0 0 0 0 0 0 0 0 0 0 0 0 0 0 0 0 0 0 0 0 0 0 0 0 0 0 0 0 0 0 0 0 0 0 0 0 0 0 0 0 0 0 0 0 0 0 0 0 0 0 0 0 0 0 0 0 0 0 0 0 0 0 0 0 0 0 0 0 0 0 0 0 0 0 0 0 0 0 0 0 0 0 0 0 0 0 0 0 0 0 0 0 0 0 0 0 0 0 0 0\n",
      "11/28/2019 16:03:45 - INFO - transformers.data.processors.glue -   label: Keitai (id = 0)\n"
     ]
    },
    {
     "name": "stdout",
     "output_type": "stream",
     "text": [
      "11/28/2019 16:03:45 - INFO - __main__ -   Saving features into cached file text_classification_KNBC/cached_dev_Japanese_L-12_H-768_A-12_E-30_BPE_transformers_128_tc-knbc\n",
      "11/28/2019 16:03:45 - INFO - __main__ -   ***** Running evaluation  *****\n",
      "11/28/2019 16:03:45 - INFO - __main__ -     Num examples = 25\n",
      "11/28/2019 16:03:45 - INFO - __main__ -     Batch size = 8\n",
      "Evaluating: 100%|█████████████████████████████████| 4/4 [00:00<00:00,  8.45it/s]\n",
      "11/28/2019 16:03:45 - INFO - __main__ -   ***** Eval results  *****\n",
      "11/28/2019 16:03:45 - INFO - __main__ -     acc = 0.96\n"
     ]
    }
   ],
   "source": [
    "!python ./transformers/examples/run_glue.py \\\n",
    "    --model_type bert \\\n",
    "    --model_name_or_path /data/nlp/tool/bert/Japanese_L-12_H-768_A-12_E-30_BPE_transformers \\\n",
    "    --task_name \"tc-knbc\" \\\n",
    "    --do_train \\\n",
    "    --do_eval \\\n",
    "    --save_steps 1000 \\\n",
    "    --data_dir text_classification_KNBC \\\n",
    "    --max_seq_length 128 \\\n",
    "    --per_gpu_eval_batch_size=8   \\\n",
    "    --per_gpu_train_batch_size=8   \\\n",
    "    --learning_rate 2e-5 \\\n",
    "    --num_train_epochs 3.0 \\\n",
    "    --output_dir KNBC_result/text_classification/ \\\n",
    "    --overwrite_output_dir \\\n",
    "    --overwrite_cache"
   ]
  },
  {
   "cell_type": "markdown",
   "metadata": {
    "colab_type": "text",
    "id": "rf1JihYKIG_f"
   },
   "source": [
    "3エポック回して約1分で終わります。4カテゴリが結構はっきり異なるジャンルなので90%前後と、高い精度で分類できました。"
   ]
  },
  {
   "cell_type": "markdown",
   "metadata": {
    "colab_type": "text",
    "id": "Dx4gzsotAbCP"
   },
   "source": [
    "## 3. 固有表現抽出"
   ]
  },
  {
   "cell_type": "markdown",
   "metadata": {
    "colab_type": "text",
    "id": "k3Ln8Tl69WPC"
   },
   "source": [
    "最後に固有表現抽出 (Named Entity Recognition, NER) を行います。固有表現抽出とはテキスト中の人名、地名、組織名などの固有表現 (Named Entity)を抽出するタスクです。\n",
    "\n",
    "これまでの講義でも説明されたとおり、固有表現抽出は系列ラベリングと呼ばれる手法で解かれることが多いです。以下の例で説明します。以下の文では「太郎」がPERSON、「京都大学」がORGANIZATIONです。「太郎」は1形態素ですが、「京都大学」は2形態素からなります。形態素が固有表現の場合、ラベルの頭にB (Begin)またはI (Inside)を付与し、固有表現でない場合、O (Outside)とし、各形態素のラベルを推定する問題となります。"
   ]
  },
  {
   "cell_type": "markdown",
   "metadata": {
    "colab_type": "text",
    "id": "W0ngAQ9RBjwD"
   },
   "source": [
    "単語 | 固有表現ラベル\n",
    "--- | ---\n",
    "太郎 | B-PERSON\n",
    "は | O\n",
    "京都 | B-ORGANIZATION\n",
    "大学 | I-ORGANIZATION\n",
    "に | O\n",
    "行った | O"
   ]
  },
  {
   "cell_type": "markdown",
   "metadata": {
    "colab_type": "text",
    "id": "8AJMdSG8ESQd"
   },
   "source": [
    "日本語の固有表現解析ではIREX (Information Retrieve and Extraction Exercise)で定義された、組織名(ORGANIZATION), 人名(PERSON), 地名(LOCATION), 固有物名(ARTIFACT), 日付表現(DATE), 時間表現(TIME), 金額表現(MONEY), 割合表現(PERCENT)の8種類を対象とすることが多いです。"
   ]
  },
  {
   "cell_type": "markdown",
   "metadata": {
    "colab_type": "text",
    "id": "cSoO6RvNaG7Z"
   },
   "source": [
    "### 手順1. 前処理"
   ]
  },
  {
   "cell_type": "markdown",
   "metadata": {
    "colab_type": "text",
    "id": "4arTwUSx8-9Z"
   },
   "source": [
    "#記事単位で分割した方が良い。※記事を途中で分割しちゃうとテストデータの質がよろしくない。\n",
    "以下のpythonスクリプトで固有表現データセットを生成します。"
   ]
  },
  {
   "cell_type": "code",
   "execution_count": 22,
   "metadata": {
    "colab": {},
    "colab_type": "code",
    "id": "-UJAXs-qINzJ"
   },
   "outputs": [
    {
     "name": "stdout",
     "output_type": "stream",
     "text": [
      "完了!\n",
      "  4701 ner_KNBC/dev.txt\r\n",
      "  8979 ner_KNBC/test.txt\r\n",
      " 56460 ner_KNBC/train.txt\r\n",
      " 70140 total\r\n"
     ]
    }
   ],
   "source": [
    "import glob\n",
    "import os\n",
    "import logging\n",
    "import re\n",
    "import random\n",
    "\n",
    "logger = logging.getLogger(__name__)\n",
    "logging.basicConfig(level=logging.INFO)\n",
    "\n",
    "random.seed(1)\n",
    "\n",
    "corpus_types = [ \"train\", \"dev\", \"test\" ]\n",
    "os.makedirs(\"ner_KNBC\", exist_ok=True)\n",
    "fs_out = { corpus_type: open(f\"ner_KNBC/{corpus_type}.txt\", \"w\") for corpus_type in corpus_types }\n",
    "\n",
    "ne_pat = re.compile(r\"<NE:(.+?):(.+?)>\")\n",
    "\n",
    "def get_corpus_type():\n",
    "    # train:dev:test = 8:1:1 に split する\n",
    "    rand = random.random()\n",
    "    \n",
    "    if rand >= 0.2:\n",
    "        return \"train\"\n",
    "    elif 0.1 <= rand < 0.2:\n",
    "        return \"dev\"\n",
    "    else:\n",
    "        return \"test\"\n",
    "\n",
    "corpus1_dirname = f\"{KNBC_dir}/corpus1\"\n",
    "\n",
    "doc_num = 0\n",
    "for dir in glob.glob(f\"{corpus1_dirname}/*\"):\n",
    "    basename = os.path.basename(dir)\n",
    "    corpus_type = get_corpus_type()\n",
    "\n",
    "    f_out = fs_out[corpus_type]\n",
    "\n",
    "    # for each sentence\n",
    "    sentence_index = 1\n",
    "    while (True):\n",
    "        filename = f\"{dir}/{basename}-1-{sentence_index}-01\"\n",
    "        if os.path.exists(filename) is False:\n",
    "            break\n",
    "\n",
    "        words, ne_labels = [], []\n",
    "        with open(filename, \"r\", encoding=\"utf-8\") as reader:\n",
    "            buf = \"\"\n",
    "            for line in reader.readlines():\n",
    "                if line.startswith((\"#\", \"*\", \"+\", \"EOS\")):\n",
    "                    continue\n",
    "                word = (line.split(\" \"))[0]\n",
    "                words.append(word)\n",
    "\n",
    "                # 例：黒田 くろだ 黒田 名詞 6 人名 5 * 0 * 0 \"疑似代表表記 代表表記:黒田/くろた\" <疑似代表表記>..<NE:PERSON:head>\n",
    "                m = ne_pat.search(line)\n",
    "                if m:\n",
    "                    category, position = m.groups()\n",
    "                    if category == \"OPTIONAL\":\n",
    "                        label = \"O\"\n",
    "                    else:\n",
    "                        if position == \"head\" or position == \"single\":\n",
    "                            position_label = \"B\"\n",
    "                        else:\n",
    "                            position_label = \"I\"\n",
    "                        label = f\"{position_label}-{category}\"\n",
    "                else:\n",
    "                    label = \"O\"\n",
    "                ne_labels.append(label)\n",
    "\n",
    "            for word, ne_label in zip(words, ne_labels):\n",
    "                print(f\"{word} {ne_label}\", file=f_out)\n",
    "            print(file=f_out)\n",
    "\n",
    "        sentence_index += 1\n",
    "\n",
    "for corpus_type in corpus_types:\n",
    "    fs_out[corpus_type].close()\n",
    "\n",
    "print(\"完了!\")\n",
    "!wc -l ner_KNBC/*"
   ]
  },
  {
   "cell_type": "markdown",
   "metadata": {
    "colab_type": "text",
    "id": "9SChLB239PlC"
   },
   "source": [
    "中身を見てみます。1カラム目が見出し、2カラム目が固有表現ラベルになっていて、空行が文区切りを表わします。"
   ]
  },
  {
   "cell_type": "code",
   "execution_count": 23,
   "metadata": {
    "colab": {
     "base_uri": "https://localhost:8080/",
     "height": 903
    },
    "colab_type": "code",
    "id": "F8l9qbcdQUnx",
    "outputId": "041886b7-63ea-4c30-82e7-0084fa601201"
   },
   "outputs": [
    {
     "name": "stdout",
     "output_type": "stream",
     "text": [
      "［ O\r\n",
      "京都 B-LOCATION\r\n",
      "観光 O\r\n",
      "］ O\r\n",
      "二条城 B-LOCATION\r\n",
      "\r\n",
      "二 O\r\n",
      "週間 O\r\n",
      "くらい O\r\n",
      "前 O\r\n",
      "、 O\r\n",
      "友達 O\r\n",
      "と O\r\n",
      "二条城 B-LOCATION\r\n",
      "に O\r\n",
      "行って O\r\n",
      "きた O\r\n",
      "。 O\r\n",
      "\r\n",
      "とにかく O\r\n",
      "無駄に O\r\n",
      "大きくて O\r\n",
      "、 O\r\n",
      "一 O\r\n",
      "周 O\r\n",
      "する O\r\n",
      "の O\r\n",
      "に O\r\n",
      "結構な O\r\n",
      "時間 O\r\n",
      "が O\r\n",
      "かかった O\r\n",
      "し O\r\n",
      "、 O\r\n",
      "疲れた O\r\n",
      "。 O\r\n",
      "\r\n",
      "そこ O\r\n",
      "で O\r\n",
      "庭園 O\r\n",
      "を O\r\n",
      "見た O\r\n",
      "んだ O\r\n",
      "けど O\r\n",
      "、 O\r\n",
      "よく O\r\n",
      "言わ O\r\n",
      "れる O\r\n",
      "ように O\r\n",
      "ヨーロッパ B-LOCATION\r\n"
     ]
    }
   ],
   "source": [
    "!head -n 50 ner_KNBC/dev.txt"
   ]
  },
  {
   "cell_type": "markdown",
   "metadata": {
    "colab_type": "text",
    "id": "5VrWnF0RBTAV"
   },
   "source": [
    "### 練習問題 2\n",
    "fine-tuningの前に、ラベル一覧を得ておく必要があります。1行に1ラベルとし、ner_KNBC/labels.txtに保存してください。"
   ]
  },
  {
   "cell_type": "code",
   "execution_count": 27,
   "metadata": {
    "colab": {
     "base_uri": "https://localhost:8080/",
     "height": 318
    },
    "colab_type": "code",
    "id": "xbvkhdtRQ6Xi",
    "outputId": "e9b45dad-ba90-4160-ef6f-7e5748e04381"
   },
   "outputs": [
    {
     "name": "stdout",
     "output_type": "stream",
     "text": [
      "B-ARTIFACT\r\n",
      "B-DATE\r\n",
      "B-LOCATION\r\n",
      "B-MONEY\r\n",
      "B-ORGANIZATION\r\n",
      "B-PERCENT\r\n",
      "B-PERSON\r\n",
      "B-TIME\r\n",
      "I-ARTIFACT\r\n",
      "I-DATE\r\n",
      "I-LOCATION\r\n",
      "I-MONEY\r\n",
      "I-ORGANIZATION\r\n",
      "I-PERCENT\r\n",
      "I-PERSON\r\n",
      "I-TIME\r\n",
      "O\r\n"
     ]
    }
   ],
   "source": [
    "########## ここにコマンドを書いて下さい\n",
    "!cat ner_KNBC/train.txt|grep -v \"^$\"|cut -d\" \" -f 2 |sort|uniq > ner_KNBC/labels.txt\n",
    "!cat ner_KNBC/labels.txt\n",
    "##########"
   ]
  },
  {
   "cell_type": "markdown",
   "metadata": {
    "colab_type": "text",
    "id": "SBygnltsaLWK"
   },
   "source": [
    "### 手順2. Fine-tuning"
   ]
  },
  {
   "cell_type": "markdown",
   "metadata": {
    "colab_type": "text",
    "id": "xgArMHwhPNOe"
   },
   "source": [
    "系列ラベリングのfine-tuningは run_ner.py というスクリプトを使います。オプションはこれまでとほぼ同様です。--labelsオプションで上で生成したlabel一覧のファイルを指定するくらいが異なることです。"
   ]
  },
  {
   "cell_type": "code",
   "execution_count": 33,
   "metadata": {
    "colab": {
     "base_uri": "https://localhost:8080/",
     "height": 1000
    },
    "colab_type": "code",
    "id": "L8U6WROqRoIB",
    "outputId": "3cc8925f-3226-400a-9bf5-10481af72f6b"
   },
   "outputs": [
    {
     "name": "stdout",
     "output_type": "stream",
     "text": [
      "11/28/2019 16:38:58 - WARNING - __main__ -   Process rank: -1, device: cuda, n_gpu: 1, distributed training: False, 16-bits training: False\n",
      "11/28/2019 16:38:58 - INFO - transformers.configuration_utils -   loading configuration file /data/nlp/tool/bert/Japanese_L-12_H-768_A-12_E-30_BPE_transformers/config.json\n",
      "11/28/2019 16:38:58 - INFO - transformers.configuration_utils -   Model config {\n",
      "  \"attention_probs_dropout_prob\": 0.1,\n",
      "  \"finetuning_task\": null,\n",
      "  \"hidden_act\": \"gelu\",\n",
      "  \"hidden_dropout_prob\": 0.1,\n",
      "  \"hidden_size\": 768,\n",
      "  \"initializer_range\": 0.02,\n",
      "  \"intermediate_size\": 3072,\n",
      "  \"is_decoder\": false,\n",
      "  \"layer_norm_eps\": 1e-12,\n",
      "  \"max_position_embeddings\": 512,\n",
      "  \"num_attention_heads\": 12,\n",
      "  \"num_hidden_layers\": 12,\n",
      "  \"num_labels\": 17,\n",
      "  \"output_attentions\": false,\n",
      "  \"output_hidden_states\": false,\n",
      "  \"output_past\": true,\n",
      "  \"pruned_heads\": {},\n",
      "  \"torchscript\": false,\n",
      "  \"type_vocab_size\": 2,\n",
      "  \"use_bfloat16\": false,\n",
      "  \"vocab_size\": 32006\n",
      "}\n",
      "\n",
      "11/28/2019 16:38:58 - INFO - transformers.tokenization_utils -   Model name '/data/nlp/tool/bert/Japanese_L-12_H-768_A-12_E-30_BPE_transformers' not found in model shortcut name list (bert-base-uncased, bert-large-uncased, bert-base-cased, bert-large-cased, bert-base-multilingual-uncased, bert-base-multilingual-cased, bert-base-chinese, bert-base-german-cased, bert-large-uncased-whole-word-masking, bert-large-cased-whole-word-masking, bert-large-uncased-whole-word-masking-finetuned-squad, bert-large-cased-whole-word-masking-finetuned-squad, bert-base-cased-finetuned-mrpc, bert-base-german-dbmdz-cased, bert-base-german-dbmdz-uncased). Assuming '/data/nlp/tool/bert/Japanese_L-12_H-768_A-12_E-30_BPE_transformers' is a path or url to a directory containing tokenizer files.\n",
      "11/28/2019 16:38:58 - INFO - transformers.tokenization_utils -   Didn't find file /data/nlp/tool/bert/Japanese_L-12_H-768_A-12_E-30_BPE_transformers/added_tokens.json. We won't load it.\n",
      "11/28/2019 16:38:58 - INFO - transformers.tokenization_utils -   Didn't find file /data/nlp/tool/bert/Japanese_L-12_H-768_A-12_E-30_BPE_transformers/special_tokens_map.json. We won't load it.\n",
      "11/28/2019 16:38:58 - INFO - transformers.tokenization_utils -   loading file /data/nlp/tool/bert/Japanese_L-12_H-768_A-12_E-30_BPE_transformers/vocab.txt\n",
      "11/28/2019 16:38:58 - INFO - transformers.tokenization_utils -   loading file None\n",
      "11/28/2019 16:38:58 - INFO - transformers.tokenization_utils -   loading file None\n",
      "11/28/2019 16:38:58 - INFO - transformers.tokenization_utils -   loading file /data/nlp/tool/bert/Japanese_L-12_H-768_A-12_E-30_BPE_transformers/tokenizer_config.json\n",
      "11/28/2019 16:38:58 - INFO - transformers.modeling_utils -   loading weights file /data/nlp/tool/bert/Japanese_L-12_H-768_A-12_E-30_BPE_transformers/pytorch_model.bin\n",
      "11/28/2019 16:39:01 - INFO - transformers.modeling_utils -   Weights of BertForTokenClassification not initialized from pretrained model: ['classifier.weight', 'classifier.bias']\n",
      "11/28/2019 16:39:01 - INFO - transformers.modeling_utils -   Weights from pretrained model not used in BertForTokenClassification: ['cls.predictions.bias', 'cls.predictions.transform.dense.weight', 'cls.predictions.transform.dense.bias', 'cls.predictions.transform.LayerNorm.weight', 'cls.predictions.transform.LayerNorm.bias', 'cls.predictions.decoder.weight', 'cls.seq_relationship.weight', 'cls.seq_relationship.bias']\n",
      "11/28/2019 16:39:03 - INFO - __main__ -   Training/evaluation parameters Namespace(adam_epsilon=1e-08, cache_dir='', config_name='', data_dir='./ner_KNBC/', device=device(type='cuda'), do_eval=True, do_lower_case=False, do_predict=True, do_train=True, eval_all_checkpoints=False, evaluate_during_training=False, fp16=False, fp16_opt_level='O1', gradient_accumulation_steps=1, labels='./ner_KNBC/labels.txt', learning_rate=5e-05, local_rank=-1, logging_steps=50, max_grad_norm=1.0, max_seq_length=128, max_steps=-1, model_name_or_path='/data/nlp/tool/bert/Japanese_L-12_H-768_A-12_E-30_BPE_transformers', model_type='bert', n_gpu=1, no_cuda=False, num_train_epochs=3.0, output_dir='KNBC_result/ner', overwrite_cache=True, overwrite_output_dir=True, per_gpu_eval_batch_size=8, per_gpu_train_batch_size=32, save_steps=1000, seed=1, server_ip='', server_port='', tokenizer_name='', warmup_steps=0, weight_decay=0.0)\n",
      "11/28/2019 16:39:03 - INFO - __main__ -   Creating features from dataset file at ./ner_KNBC/\n",
      "11/28/2019 16:39:03 - INFO - utils_ner -   Writing example 0 of 3293\n",
      "11/28/2019 16:39:03 - INFO - utils_ner -   *** Example ***\n",
      "11/28/2019 16:39:03 - INFO - utils_ner -   guid: train-1\n",
      "11/28/2019 16:39:03 - INFO - utils_ner -   tokens: [CLS] ［ グルメ ］ ロール キャベツ [SEP]\n",
      "11/28/2019 16:39:03 - INFO - utils_ner -   input_ids: 2 3438 17232 2321 10004 30145 3 0 0 0 0 0 0 0 0 0 0 0 0 0 0 0 0 0 0 0 0 0 0 0 0 0 0 0 0 0 0 0 0 0 0 0 0 0 0 0 0 0 0 0 0 0 0 0 0 0 0 0 0 0 0 0 0 0 0 0 0 0 0 0 0 0 0 0 0 0 0 0 0 0 0 0 0 0 0 0 0 0 0 0 0 0 0 0 0 0 0 0 0 0 0 0 0 0 0 0 0 0 0 0 0 0 0 0 0 0 0 0 0 0 0 0 0 0 0 0 0 0\n",
      "11/28/2019 16:39:03 - INFO - utils_ner -   input_mask: 1 1 1 1 1 1 1 0 0 0 0 0 0 0 0 0 0 0 0 0 0 0 0 0 0 0 0 0 0 0 0 0 0 0 0 0 0 0 0 0 0 0 0 0 0 0 0 0 0 0 0 0 0 0 0 0 0 0 0 0 0 0 0 0 0 0 0 0 0 0 0 0 0 0 0 0 0 0 0 0 0 0 0 0 0 0 0 0 0 0 0 0 0 0 0 0 0 0 0 0 0 0 0 0 0 0 0 0 0 0 0 0 0 0 0 0 0 0 0 0 0 0 0 0 0 0 0 0\n",
      "11/28/2019 16:39:03 - INFO - utils_ner -   segment_ids: 0 0 0 0 0 0 0 0 0 0 0 0 0 0 0 0 0 0 0 0 0 0 0 0 0 0 0 0 0 0 0 0 0 0 0 0 0 0 0 0 0 0 0 0 0 0 0 0 0 0 0 0 0 0 0 0 0 0 0 0 0 0 0 0 0 0 0 0 0 0 0 0 0 0 0 0 0 0 0 0 0 0 0 0 0 0 0 0 0 0 0 0 0 0 0 0 0 0 0 0 0 0 0 0 0 0 0 0 0 0 0 0 0 0 0 0 0 0 0 0 0 0 0 0 0 0 0 0\n",
      "11/28/2019 16:39:03 - INFO - utils_ner -   label_ids: -100 16 16 16 16 16 -100 -100 -100 -100 -100 -100 -100 -100 -100 -100 -100 -100 -100 -100 -100 -100 -100 -100 -100 -100 -100 -100 -100 -100 -100 -100 -100 -100 -100 -100 -100 -100 -100 -100 -100 -100 -100 -100 -100 -100 -100 -100 -100 -100 -100 -100 -100 -100 -100 -100 -100 -100 -100 -100 -100 -100 -100 -100 -100 -100 -100 -100 -100 -100 -100 -100 -100 -100 -100 -100 -100 -100 -100 -100 -100 -100 -100 -100 -100 -100 -100 -100 -100 -100 -100 -100 -100 -100 -100 -100 -100 -100 -100 -100 -100 -100 -100 -100 -100 -100 -100 -100 -100 -100 -100 -100 -100 -100 -100 -100 -100 -100 -100 -100 -100 -100 -100 -100 -100 -100 -100 -100\n",
      "11/28/2019 16:39:03 - INFO - utils_ner -   *** Example ***\n",
      "11/28/2019 16:39:03 - INFO - utils_ner -   guid: train-2\n",
      "11/28/2019 16:39:03 - INFO - utils_ner -   tokens: [CLS] と いえば 家庭 料理 の 代表 、 でも カレー と か ハン ##バーグ に 比べれば ちょっと 地 ##味 ##な 地位 に 甘 ##んじ ##て る 感 の ある 料理 。 [SEP]\n",
      "11/28/2019 16:39:03 - INFO - utils_ner -   input_ids: 2 12 10922 2111 1550 5 191 6 123 11072 12 90 2730 7206 8 26318 17340 138 6532 275 2064 8 5863 22803 2625 3282 1640 5 38 1550 7 3 0 0 0 0 0 0 0 0 0 0 0 0 0 0 0 0 0 0 0 0 0 0 0 0 0 0 0 0 0 0 0 0 0 0 0 0 0 0 0 0 0 0 0 0 0 0 0 0 0 0 0 0 0 0 0 0 0 0 0 0 0 0 0 0 0 0 0 0 0 0 0 0 0 0 0 0 0 0 0 0 0 0 0 0 0 0 0 0 0 0 0 0 0 0 0 0\n",
      "11/28/2019 16:39:03 - INFO - utils_ner -   input_mask: 1 1 1 1 1 1 1 1 1 1 1 1 1 1 1 1 1 1 1 1 1 1 1 1 1 1 1 1 1 1 1 1 0 0 0 0 0 0 0 0 0 0 0 0 0 0 0 0 0 0 0 0 0 0 0 0 0 0 0 0 0 0 0 0 0 0 0 0 0 0 0 0 0 0 0 0 0 0 0 0 0 0 0 0 0 0 0 0 0 0 0 0 0 0 0 0 0 0 0 0 0 0 0 0 0 0 0 0 0 0 0 0 0 0 0 0 0 0 0 0 0 0 0 0 0 0 0 0\n",
      "11/28/2019 16:39:03 - INFO - utils_ner -   segment_ids: 0 0 0 0 0 0 0 0 0 0 0 0 0 0 0 0 0 0 0 0 0 0 0 0 0 0 0 0 0 0 0 0 0 0 0 0 0 0 0 0 0 0 0 0 0 0 0 0 0 0 0 0 0 0 0 0 0 0 0 0 0 0 0 0 0 0 0 0 0 0 0 0 0 0 0 0 0 0 0 0 0 0 0 0 0 0 0 0 0 0 0 0 0 0 0 0 0 0 0 0 0 0 0 0 0 0 0 0 0 0 0 0 0 0 0 0 0 0 0 0 0 0 0 0 0 0 0 0\n",
      "11/28/2019 16:39:03 - INFO - utils_ner -   label_ids: -100 16 16 16 16 16 16 16 16 16 16 16 16 -100 16 16 16 16 -100 -100 16 16 16 -100 -100 16 16 16 16 16 16 -100 -100 -100 -100 -100 -100 -100 -100 -100 -100 -100 -100 -100 -100 -100 -100 -100 -100 -100 -100 -100 -100 -100 -100 -100 -100 -100 -100 -100 -100 -100 -100 -100 -100 -100 -100 -100 -100 -100 -100 -100 -100 -100 -100 -100 -100 -100 -100 -100 -100 -100 -100 -100 -100 -100 -100 -100 -100 -100 -100 -100 -100 -100 -100 -100 -100 -100 -100 -100 -100 -100 -100 -100 -100 -100 -100 -100 -100 -100 -100 -100 -100 -100 -100 -100 -100 -100 -100 -100 -100 -100 -100 -100 -100 -100 -100 -100\n",
      "11/28/2019 16:39:03 - INFO - utils_ner -   *** Example ***\n",
      "11/28/2019 16:39:03 - INFO - utils_ner -   guid: train-3\n",
      "11/28/2019 16:39:03 - INFO - utils_ner -   tokens: [CLS] 薄 ##味 の スープ で 煮 ##込んだ ロール キャベツ は 全体 の 味 が よく 整って いて 、 たまに 食べ たく なる 。 [SEP]\n",
      "11/28/2019 16:39:03 - INFO - utils_ner -   input_ids: 2 4754 6532 5 14161 13 8163 16169 10004 30145 9 767 5 3479 11 886 27686 1270 6 24470 5505 5828 66 7 3 0 0 0 0 0 0 0 0 0 0 0 0 0 0 0 0 0 0 0 0 0 0 0 0 0 0 0 0 0 0 0 0 0 0 0 0 0 0 0 0 0 0 0 0 0 0 0 0 0 0 0 0 0 0 0 0 0 0 0 0 0 0 0 0 0 0 0 0 0 0 0 0 0 0 0 0 0 0 0 0 0 0 0 0 0 0 0 0 0 0 0 0 0 0 0 0 0 0 0 0 0 0 0\n",
      "11/28/2019 16:39:03 - INFO - utils_ner -   input_mask: 1 1 1 1 1 1 1 1 1 1 1 1 1 1 1 1 1 1 1 1 1 1 1 1 1 0 0 0 0 0 0 0 0 0 0 0 0 0 0 0 0 0 0 0 0 0 0 0 0 0 0 0 0 0 0 0 0 0 0 0 0 0 0 0 0 0 0 0 0 0 0 0 0 0 0 0 0 0 0 0 0 0 0 0 0 0 0 0 0 0 0 0 0 0 0 0 0 0 0 0 0 0 0 0 0 0 0 0 0 0 0 0 0 0 0 0 0 0 0 0 0 0 0 0 0 0 0 0\n",
      "11/28/2019 16:39:03 - INFO - utils_ner -   segment_ids: 0 0 0 0 0 0 0 0 0 0 0 0 0 0 0 0 0 0 0 0 0 0 0 0 0 0 0 0 0 0 0 0 0 0 0 0 0 0 0 0 0 0 0 0 0 0 0 0 0 0 0 0 0 0 0 0 0 0 0 0 0 0 0 0 0 0 0 0 0 0 0 0 0 0 0 0 0 0 0 0 0 0 0 0 0 0 0 0 0 0 0 0 0 0 0 0 0 0 0 0 0 0 0 0 0 0 0 0 0 0 0 0 0 0 0 0 0 0 0 0 0 0 0 0 0 0 0 0\n",
      "11/28/2019 16:39:03 - INFO - utils_ner -   label_ids: -100 16 -100 16 16 16 16 -100 16 16 16 16 16 16 16 16 16 16 16 16 16 16 16 16 -100 -100 -100 -100 -100 -100 -100 -100 -100 -100 -100 -100 -100 -100 -100 -100 -100 -100 -100 -100 -100 -100 -100 -100 -100 -100 -100 -100 -100 -100 -100 -100 -100 -100 -100 -100 -100 -100 -100 -100 -100 -100 -100 -100 -100 -100 -100 -100 -100 -100 -100 -100 -100 -100 -100 -100 -100 -100 -100 -100 -100 -100 -100 -100 -100 -100 -100 -100 -100 -100 -100 -100 -100 -100 -100 -100 -100 -100 -100 -100 -100 -100 -100 -100 -100 -100 -100 -100 -100 -100 -100 -100 -100 -100 -100 -100 -100 -100 -100 -100 -100 -100 -100 -100\n",
      "11/28/2019 16:39:03 - INFO - utils_ner -   *** Example ***\n",
      "11/28/2019 16:39:03 - INFO - utils_ner -   guid: train-4\n",
      "11/28/2019 16:39:03 - INFO - utils_ner -   tokens: [CLS] そんな わけ で 京大 から 今 ##出 ##川 通 を 東 へ 、 天 ##一 の 東 隣 に ある 「 美 ##幸 」 に 行って きた 。 [SEP]\n",
      "11/28/2019 16:39:03 - INFO - utils_ner -   input_ids: 2 3582 12295 13 23295 27 774 1957 521 1682 10 181 61 6 866 794 5 181 3893 8 38 24 1023 4307 25 8 462 348 7 3 0 0 0 0 0 0 0 0 0 0 0 0 0 0 0 0 0 0 0 0 0 0 0 0 0 0 0 0 0 0 0 0 0 0 0 0 0 0 0 0 0 0 0 0 0 0 0 0 0 0 0 0 0 0 0 0 0 0 0 0 0 0 0 0 0 0 0 0 0 0 0 0 0 0 0 0 0 0 0 0 0 0 0 0 0 0 0 0 0 0 0 0 0 0 0 0 0 0\n",
      "11/28/2019 16:39:03 - INFO - utils_ner -   input_mask: 1 1 1 1 1 1 1 1 1 1 1 1 1 1 1 1 1 1 1 1 1 1 1 1 1 1 1 1 1 1 0 0 0 0 0 0 0 0 0 0 0 0 0 0 0 0 0 0 0 0 0 0 0 0 0 0 0 0 0 0 0 0 0 0 0 0 0 0 0 0 0 0 0 0 0 0 0 0 0 0 0 0 0 0 0 0 0 0 0 0 0 0 0 0 0 0 0 0 0 0 0 0 0 0 0 0 0 0 0 0 0 0 0 0 0 0 0 0 0 0 0 0 0 0 0 0 0 0\n",
      "11/28/2019 16:39:03 - INFO - utils_ner -   segment_ids: 0 0 0 0 0 0 0 0 0 0 0 0 0 0 0 0 0 0 0 0 0 0 0 0 0 0 0 0 0 0 0 0 0 0 0 0 0 0 0 0 0 0 0 0 0 0 0 0 0 0 0 0 0 0 0 0 0 0 0 0 0 0 0 0 0 0 0 0 0 0 0 0 0 0 0 0 0 0 0 0 0 0 0 0 0 0 0 0 0 0 0 0 0 0 0 0 0 0 0 0 0 0 0 0 0 0 0 0 0 0 0 0 0 0 0 0 0 0 0 0 0 0 0 0 0 0 0 0\n",
      "11/28/2019 16:39:03 - INFO - utils_ner -   label_ids: -100 16 16 16 2 16 2 -100 -100 10 16 16 16 16 2 -100 16 16 16 16 16 16 2 -100 16 16 16 16 16 -100 -100 -100 -100 -100 -100 -100 -100 -100 -100 -100 -100 -100 -100 -100 -100 -100 -100 -100 -100 -100 -100 -100 -100 -100 -100 -100 -100 -100 -100 -100 -100 -100 -100 -100 -100 -100 -100 -100 -100 -100 -100 -100 -100 -100 -100 -100 -100 -100 -100 -100 -100 -100 -100 -100 -100 -100 -100 -100 -100 -100 -100 -100 -100 -100 -100 -100 -100 -100 -100 -100 -100 -100 -100 -100 -100 -100 -100 -100 -100 -100 -100 -100 -100 -100 -100 -100 -100 -100 -100 -100 -100 -100 -100 -100 -100 -100 -100 -100\n",
      "11/28/2019 16:39:03 - INFO - utils_ner -   *** Example ***\n",
      "11/28/2019 16:39:03 - INFO - utils_ner -   guid: train-5\n",
      "11/28/2019 16:39:03 - INFO - utils_ner -   tokens: [CLS] ３ 種類 の ロール キャベツ が 「 お すすめ 」 と して メニュー に 載って いる 。 [SEP]\n",
      "11/28/2019 16:39:03 - INFO - utils_ner -   input_ids: 2 43 973 5 10004 30145 11 24 273 21328 25 12 19 8364 8 18922 21 7 3 0 0 0 0 0 0 0 0 0 0 0 0 0 0 0 0 0 0 0 0 0 0 0 0 0 0 0 0 0 0 0 0 0 0 0 0 0 0 0 0 0 0 0 0 0 0 0 0 0 0 0 0 0 0 0 0 0 0 0 0 0 0 0 0 0 0 0 0 0 0 0 0 0 0 0 0 0 0 0 0 0 0 0 0 0 0 0 0 0 0 0 0 0 0 0 0 0 0 0 0 0 0 0 0 0 0 0 0 0\n",
      "11/28/2019 16:39:03 - INFO - utils_ner -   input_mask: 1 1 1 1 1 1 1 1 1 1 1 1 1 1 1 1 1 1 1 0 0 0 0 0 0 0 0 0 0 0 0 0 0 0 0 0 0 0 0 0 0 0 0 0 0 0 0 0 0 0 0 0 0 0 0 0 0 0 0 0 0 0 0 0 0 0 0 0 0 0 0 0 0 0 0 0 0 0 0 0 0 0 0 0 0 0 0 0 0 0 0 0 0 0 0 0 0 0 0 0 0 0 0 0 0 0 0 0 0 0 0 0 0 0 0 0 0 0 0 0 0 0 0 0 0 0 0 0\n",
      "11/28/2019 16:39:03 - INFO - utils_ner -   segment_ids: 0 0 0 0 0 0 0 0 0 0 0 0 0 0 0 0 0 0 0 0 0 0 0 0 0 0 0 0 0 0 0 0 0 0 0 0 0 0 0 0 0 0 0 0 0 0 0 0 0 0 0 0 0 0 0 0 0 0 0 0 0 0 0 0 0 0 0 0 0 0 0 0 0 0 0 0 0 0 0 0 0 0 0 0 0 0 0 0 0 0 0 0 0 0 0 0 0 0 0 0 0 0 0 0 0 0 0 0 0 0 0 0 0 0 0 0 0 0 0 0 0 0 0 0 0 0 0 0\n",
      "11/28/2019 16:39:03 - INFO - utils_ner -   label_ids: -100 16 16 16 16 16 16 16 16 16 16 16 16 16 16 16 16 16 -100 -100 -100 -100 -100 -100 -100 -100 -100 -100 -100 -100 -100 -100 -100 -100 -100 -100 -100 -100 -100 -100 -100 -100 -100 -100 -100 -100 -100 -100 -100 -100 -100 -100 -100 -100 -100 -100 -100 -100 -100 -100 -100 -100 -100 -100 -100 -100 -100 -100 -100 -100 -100 -100 -100 -100 -100 -100 -100 -100 -100 -100 -100 -100 -100 -100 -100 -100 -100 -100 -100 -100 -100 -100 -100 -100 -100 -100 -100 -100 -100 -100 -100 -100 -100 -100 -100 -100 -100 -100 -100 -100 -100 -100 -100 -100 -100 -100 -100 -100 -100 -100 -100 -100 -100 -100 -100 -100 -100 -100\n"
     ]
    },
    {
     "name": "stdout",
     "output_type": "stream",
     "text": [
      "11/28/2019 16:39:06 - INFO - __main__ -   Saving features into cached file ./ner_KNBC/cached_train_Japanese_L-12_H-768_A-12_E-30_BPE_transformers_128\n",
      "11/28/2019 16:39:07 - INFO - __main__ -   ***** Running training *****\n",
      "11/28/2019 16:39:07 - INFO - __main__ -     Num examples = 3293\n",
      "11/28/2019 16:39:07 - INFO - __main__ -     Num Epochs = 3\n",
      "11/28/2019 16:39:07 - INFO - __main__ -     Instantaneous batch size per GPU = 32\n",
      "11/28/2019 16:39:07 - INFO - __main__ -     Total train batch size (w. parallel, distributed & accumulation) = 32\n",
      "11/28/2019 16:39:07 - INFO - __main__ -     Gradient Accumulation steps = 1\n",
      "11/28/2019 16:39:07 - INFO - __main__ -     Total optimization steps = 309\n",
      "Epoch:   0%|                                              | 0/3 [00:00<?, ?it/s]\n",
      "Iteration:   0%|                                        | 0/103 [00:00<?, ?it/s]\u001b[A/data/anaconda/envs/py36-tokyo-nlp-test/lib/python3.6/site-packages/torch/optim/lr_scheduler.py:82: UserWarning: Detected call of `lr_scheduler.step()` before `optimizer.step()`. In PyTorch 1.1.0 and later, you should call them in the opposite order: `optimizer.step()` before `lr_scheduler.step()`.  Failure to do this will result in PyTorch skipping the first value of the learning rate schedule.See more details at https://pytorch.org/docs/stable/optim.html#how-to-adjust-learning-rate\n",
      "  \"https://pytorch.org/docs/stable/optim.html#how-to-adjust-learning-rate\", UserWarning)\n",
      "\n",
      "Iteration:   1%|▎                               | 1/103 [00:01<02:39,  1.57s/it]\u001b[A\n",
      "Iteration:   2%|▌                               | 2/103 [00:02<02:32,  1.51s/it]\u001b[A\n",
      "Iteration:   3%|▉                               | 3/103 [00:04<02:27,  1.47s/it]\u001b[A\n",
      "Iteration:   4%|█▏                              | 4/103 [00:05<02:22,  1.44s/it]\u001b[A\n",
      "Iteration:   5%|█▌                              | 5/103 [00:07<02:19,  1.42s/it]\u001b[A\n",
      "Iteration:   6%|█▊                              | 6/103 [00:08<02:16,  1.41s/it]\u001b[A\n",
      "Iteration:   7%|██▏                             | 7/103 [00:09<02:14,  1.40s/it]\u001b[A\n",
      "Iteration:   8%|██▍                             | 8/103 [00:11<02:12,  1.39s/it]\u001b[A\n",
      "Iteration:   9%|██▊                             | 9/103 [00:12<02:10,  1.39s/it]\u001b[A\n",
      "Iteration:  10%|███                            | 10/103 [00:13<02:08,  1.38s/it]\u001b[A\n",
      "Iteration:  11%|███▎                           | 11/103 [00:15<02:06,  1.38s/it]\u001b[A\n",
      "Iteration:  12%|███▌                           | 12/103 [00:16<02:05,  1.38s/it]\u001b[A\n",
      "Iteration:  13%|███▉                           | 13/103 [00:18<02:04,  1.38s/it]\u001b[A\n",
      "Iteration:  14%|████▏                          | 14/103 [00:19<02:02,  1.38s/it]\u001b[A\n",
      "Iteration:  15%|████▌                          | 15/103 [00:20<02:01,  1.38s/it]\u001b[A\n",
      "Iteration:  16%|████▊                          | 16/103 [00:22<01:59,  1.38s/it]\u001b[A\n",
      "Iteration:  17%|█████                          | 17/103 [00:23<01:58,  1.37s/it]\u001b[A\n",
      "Iteration:  17%|█████▍                         | 18/103 [00:24<01:56,  1.37s/it]\u001b[A\n",
      "Iteration:  18%|█████▋                         | 19/103 [00:26<01:55,  1.38s/it]\u001b[A\n",
      "Iteration:  19%|██████                         | 20/103 [00:27<01:54,  1.38s/it]\u001b[A\n",
      "Iteration:  20%|██████▎                        | 21/103 [00:29<01:52,  1.38s/it]\u001b[A\n",
      "Iteration:  21%|██████▌                        | 22/103 [00:30<01:51,  1.38s/it]\u001b[A\n",
      "Iteration:  22%|██████▉                        | 23/103 [00:31<01:50,  1.38s/it]\u001b[A\n",
      "Iteration:  23%|███████▏                       | 24/103 [00:33<01:49,  1.38s/it]\u001b[A\n",
      "Iteration:  24%|███████▌                       | 25/103 [00:34<01:47,  1.38s/it]\u001b[A\n",
      "Iteration:  25%|███████▊                       | 26/103 [00:35<01:46,  1.38s/it]\u001b[A\n",
      "Iteration:  26%|████████▏                      | 27/103 [00:37<01:45,  1.38s/it]\u001b[A\n",
      "Iteration:  27%|████████▍                      | 28/103 [00:38<01:43,  1.38s/it]\u001b[A\n",
      "Iteration:  28%|████████▋                      | 29/103 [00:40<01:42,  1.38s/it]\u001b[A\n",
      "Iteration:  29%|█████████                      | 30/103 [00:41<01:40,  1.38s/it]\u001b[A\n",
      "Iteration:  30%|█████████▎                     | 31/103 [00:42<01:39,  1.38s/it]\u001b[A\n",
      "Iteration:  31%|█████████▋                     | 32/103 [00:44<01:37,  1.38s/it]\u001b[A\n",
      "Iteration:  32%|█████████▉                     | 33/103 [00:45<01:36,  1.38s/it]\u001b[A\n",
      "Iteration:  33%|██████████▏                    | 34/103 [00:47<01:35,  1.38s/it]\u001b[A\n",
      "Iteration:  34%|██████████▌                    | 35/103 [00:48<01:34,  1.38s/it]\u001b[A\n",
      "Iteration:  35%|██████████▊                    | 36/103 [00:49<01:32,  1.38s/it]\u001b[A\n",
      "Iteration:  36%|███████████▏                   | 37/103 [00:51<01:31,  1.38s/it]\u001b[A\n",
      "Iteration:  37%|███████████▍                   | 38/103 [00:52<01:29,  1.38s/it]\u001b[A\n",
      "Iteration:  38%|███████████▋                   | 39/103 [00:53<01:28,  1.38s/it]\u001b[A\n",
      "Iteration:  39%|████████████                   | 40/103 [00:55<01:26,  1.38s/it]\u001b[A\n",
      "Iteration:  40%|████████████▎                  | 41/103 [00:56<01:25,  1.38s/it]\u001b[A\n",
      "Iteration:  41%|████████████▋                  | 42/103 [00:58<01:24,  1.38s/it]\u001b[A\n",
      "Iteration:  42%|████████████▉                  | 43/103 [00:59<01:23,  1.38s/it]\u001b[A\n",
      "Iteration:  43%|█████████████▏                 | 44/103 [01:00<01:21,  1.38s/it]\u001b[A\n",
      "Iteration:  44%|█████████████▌                 | 45/103 [01:02<01:20,  1.38s/it]\u001b[A\n",
      "Iteration:  45%|█████████████▊                 | 46/103 [01:03<01:18,  1.38s/it]\u001b[A\n",
      "Iteration:  46%|██████████████▏                | 47/103 [01:05<01:17,  1.38s/it]\u001b[A\n",
      "Iteration:  47%|██████████████▍                | 48/103 [01:06<01:15,  1.38s/it]\u001b[A\n",
      "Iteration:  48%|██████████████▋                | 49/103 [01:07<01:14,  1.38s/it]\u001b[A\n",
      "Iteration:  49%|███████████████                | 50/103 [01:09<01:13,  1.38s/it]\u001b[A\n",
      "Iteration:  50%|███████████████▎               | 51/103 [01:10<01:11,  1.38s/it]\u001b[A\n",
      "Iteration:  50%|███████████████▋               | 52/103 [01:11<01:10,  1.38s/it]\u001b[A\n",
      "Iteration:  51%|███████████████▉               | 53/103 [01:13<01:09,  1.38s/it]\u001b[A\n",
      "Iteration:  52%|████████████████▎              | 54/103 [01:14<01:07,  1.38s/it]\u001b[A\n",
      "Iteration:  53%|████████████████▌              | 55/103 [01:16<01:06,  1.38s/it]\u001b[A\n",
      "Iteration:  54%|████████████████▊              | 56/103 [01:17<01:05,  1.39s/it]\u001b[A\n",
      "Iteration:  55%|█████████████████▏             | 57/103 [01:18<01:03,  1.39s/it]\u001b[A\n",
      "Iteration:  56%|█████████████████▍             | 58/103 [01:20<01:02,  1.39s/it]\u001b[A\n",
      "Iteration:  57%|█████████████████▊             | 59/103 [01:21<01:01,  1.39s/it]\u001b[A\n",
      "Iteration:  58%|██████████████████             | 60/103 [01:23<00:59,  1.39s/it]\u001b[A\n",
      "Iteration:  59%|██████████████████▎            | 61/103 [01:24<00:58,  1.39s/it]\u001b[A\n",
      "Iteration:  60%|██████████████████▋            | 62/103 [01:25<00:56,  1.39s/it]\u001b[A\n",
      "Iteration:  61%|██████████████████▉            | 63/103 [01:27<00:55,  1.39s/it]\u001b[A\n",
      "Iteration:  62%|███████████████████▎           | 64/103 [01:28<00:54,  1.39s/it]\u001b[A\n",
      "Iteration:  63%|███████████████████▌           | 65/103 [01:29<00:52,  1.38s/it]\u001b[A\n",
      "Iteration:  64%|███████████████████▊           | 66/103 [01:31<00:51,  1.38s/it]\u001b[A\n",
      "Iteration:  65%|████████████████████▏          | 67/103 [01:32<00:49,  1.38s/it]\u001b[A\n",
      "Iteration:  66%|████████████████████▍          | 68/103 [01:34<00:48,  1.38s/it]\u001b[A\n",
      "Iteration:  67%|████████████████████▊          | 69/103 [01:35<00:47,  1.38s/it]\u001b[A\n",
      "Iteration:  68%|█████████████████████          | 70/103 [01:36<00:45,  1.39s/it]\u001b[A\n",
      "Iteration:  69%|█████████████████████▎         | 71/103 [01:38<00:44,  1.39s/it]\u001b[A\n",
      "Iteration:  70%|█████████████████████▋         | 72/103 [01:39<00:43,  1.39s/it]\u001b[A\n",
      "Iteration:  71%|█████████████████████▉         | 73/103 [01:41<00:41,  1.38s/it]\u001b[A\n",
      "Iteration:  72%|██████████████████████▎        | 74/103 [01:42<00:40,  1.39s/it]\u001b[A\n",
      "Iteration:  73%|██████████████████████▌        | 75/103 [01:43<00:38,  1.39s/it]\u001b[A\n",
      "Iteration:  74%|██████████████████████▊        | 76/103 [01:45<00:37,  1.39s/it]\u001b[A\n",
      "Iteration:  75%|███████████████████████▏       | 77/103 [01:46<00:36,  1.39s/it]\u001b[A\n",
      "Iteration:  76%|███████████████████████▍       | 78/103 [01:47<00:34,  1.38s/it]\u001b[A\n",
      "Iteration:  77%|███████████████████████▊       | 79/103 [01:49<00:33,  1.39s/it]\u001b[A\n",
      "Iteration:  78%|████████████████████████       | 80/103 [01:50<00:31,  1.39s/it]\u001b[A\n"
     ]
    },
    {
     "name": "stdout",
     "output_type": "stream",
     "text": [
      "Iteration:  79%|████████████████████████▍      | 81/103 [01:52<00:30,  1.39s/it]\u001b[A\n",
      "Iteration:  80%|████████████████████████▋      | 82/103 [01:53<00:29,  1.39s/it]\u001b[A\n",
      "Iteration:  81%|████████████████████████▉      | 83/103 [01:54<00:27,  1.39s/it]\u001b[A\n",
      "Iteration:  82%|█████████████████████████▎     | 84/103 [01:56<00:26,  1.39s/it]\u001b[A\n",
      "Iteration:  83%|█████████████████████████▌     | 85/103 [01:57<00:24,  1.39s/it]\u001b[A\n",
      "Iteration:  83%|█████████████████████████▉     | 86/103 [01:59<00:23,  1.39s/it]\u001b[A\n",
      "Iteration:  84%|██████████████████████████▏    | 87/103 [02:00<00:22,  1.39s/it]\u001b[A\n",
      "Iteration:  85%|██████████████████████████▍    | 88/103 [02:01<00:20,  1.39s/it]\u001b[A\n",
      "Iteration:  86%|██████████████████████████▊    | 89/103 [02:03<00:19,  1.39s/it]\u001b[A\n",
      "Iteration:  87%|███████████████████████████    | 90/103 [02:04<00:17,  1.38s/it]\u001b[A\n",
      "Iteration:  88%|███████████████████████████▍   | 91/103 [02:05<00:16,  1.38s/it]\u001b[A\n",
      "Iteration:  89%|███████████████████████████▋   | 92/103 [02:07<00:15,  1.38s/it]\u001b[A\n",
      "Iteration:  90%|███████████████████████████▉   | 93/103 [02:08<00:13,  1.38s/it]\u001b[A\n",
      "Iteration:  91%|████████████████████████████▎  | 94/103 [02:10<00:12,  1.39s/it]\u001b[A\n",
      "Iteration:  92%|████████████████████████████▌  | 95/103 [02:11<00:11,  1.39s/it]\u001b[A\n",
      "Iteration:  93%|████████████████████████████▉  | 96/103 [02:12<00:09,  1.39s/it]\u001b[A\n",
      "Iteration:  94%|█████████████████████████████▏ | 97/103 [02:14<00:08,  1.39s/it]\u001b[A\n",
      "Iteration:  95%|█████████████████████████████▍ | 98/103 [02:15<00:06,  1.39s/it]\u001b[A\n",
      "Iteration:  96%|█████████████████████████████▊ | 99/103 [02:17<00:05,  1.39s/it]\u001b[A\n",
      "Iteration:  97%|█████████████████████████████▏| 100/103 [02:18<00:04,  1.39s/it]\u001b[A\n",
      "Iteration:  98%|█████████████████████████████▍| 101/103 [02:19<00:02,  1.39s/it]\u001b[A\n",
      "Iteration:  99%|█████████████████████████████▋| 102/103 [02:21<00:01,  1.39s/it]\u001b[A\n",
      "Epoch:  33%|████████████▎                        | 1/3 [02:22<04:45, 142.57s/it]\u001b[A\n",
      "Iteration:   0%|                                        | 0/103 [00:00<?, ?it/s]\u001b[A\n",
      "Iteration:   1%|▎                               | 1/103 [00:01<02:21,  1.39s/it]\u001b[A\n",
      "Iteration:   2%|▌                               | 2/103 [00:02<02:20,  1.39s/it]\u001b[A\n",
      "Iteration:   3%|▉                               | 3/103 [00:04<02:19,  1.39s/it]\u001b[A\n",
      "Iteration:   4%|█▏                              | 4/103 [00:05<02:17,  1.39s/it]\u001b[A\n",
      "Iteration:   5%|█▌                              | 5/103 [00:06<02:16,  1.39s/it]\u001b[A\n",
      "Iteration:   6%|█▊                              | 6/103 [00:08<02:14,  1.39s/it]\u001b[A\n",
      "Iteration:   7%|██▏                             | 7/103 [00:09<02:13,  1.39s/it]\u001b[A\n",
      "Iteration:   8%|██▍                             | 8/103 [00:11<02:11,  1.39s/it]\u001b[A\n",
      "Iteration:   9%|██▊                             | 9/103 [00:12<02:10,  1.39s/it]\u001b[A\n",
      "Iteration:  10%|███                            | 10/103 [00:13<02:09,  1.39s/it]\u001b[A\n",
      "Iteration:  11%|███▎                           | 11/103 [00:15<02:07,  1.39s/it]\u001b[A\n",
      "Iteration:  12%|███▌                           | 12/103 [00:16<02:06,  1.39s/it]\u001b[A\n",
      "Iteration:  13%|███▉                           | 13/103 [00:18<02:05,  1.39s/it]\u001b[A\n",
      "Iteration:  14%|████▏                          | 14/103 [00:19<02:03,  1.39s/it]\u001b[A\n",
      "Iteration:  15%|████▌                          | 15/103 [00:20<02:02,  1.39s/it]\u001b[A\n",
      "Iteration:  16%|████▊                          | 16/103 [00:22<02:00,  1.39s/it]\u001b[A\n",
      "Iteration:  17%|█████                          | 17/103 [00:23<01:59,  1.39s/it]\u001b[A\n",
      "Iteration:  17%|█████▍                         | 18/103 [00:25<01:58,  1.39s/it]\u001b[A\n",
      "Iteration:  18%|█████▋                         | 19/103 [00:26<01:56,  1.39s/it]\u001b[A\n",
      "Iteration:  19%|██████                         | 20/103 [00:27<01:55,  1.39s/it]\u001b[A\n",
      "Iteration:  20%|██████▎                        | 21/103 [00:29<01:53,  1.39s/it]\u001b[A\n",
      "Iteration:  21%|██████▌                        | 22/103 [00:30<01:52,  1.39s/it]\u001b[A\n",
      "Iteration:  22%|██████▉                        | 23/103 [00:31<01:51,  1.39s/it]\u001b[A\n",
      "Iteration:  23%|███████▏                       | 24/103 [00:33<01:49,  1.39s/it]\u001b[A\n",
      "Iteration:  24%|███████▌                       | 25/103 [00:34<01:48,  1.39s/it]\u001b[A\n",
      "Iteration:  25%|███████▊                       | 26/103 [00:36<01:47,  1.40s/it]\u001b[A\n",
      "Iteration:  26%|████████▏                      | 27/103 [00:37<01:46,  1.40s/it]\u001b[A\n",
      "Iteration:  27%|████████▍                      | 28/103 [00:38<01:44,  1.40s/it]\u001b[A\n",
      "Iteration:  28%|████████▋                      | 29/103 [00:40<01:43,  1.40s/it]\u001b[A\n",
      "Iteration:  29%|█████████                      | 30/103 [00:41<01:41,  1.39s/it]\u001b[A\n",
      "Iteration:  30%|█████████▎                     | 31/103 [00:43<01:39,  1.39s/it]\u001b[A\n",
      "Iteration:  31%|█████████▋                     | 32/103 [00:44<01:38,  1.39s/it]\u001b[A\n",
      "Iteration:  32%|█████████▉                     | 33/103 [00:45<01:37,  1.39s/it]\u001b[A\n",
      "Iteration:  33%|██████████▏                    | 34/103 [00:47<01:35,  1.39s/it]\u001b[A\n",
      "Iteration:  34%|██████████▌                    | 35/103 [00:48<01:34,  1.39s/it]\u001b[A\n",
      "Iteration:  35%|██████████▊                    | 36/103 [00:50<01:33,  1.39s/it]\u001b[A\n",
      "Iteration:  36%|███████████▏                   | 37/103 [00:51<01:31,  1.39s/it]\u001b[A\n",
      "Iteration:  37%|███████████▍                   | 38/103 [00:52<01:30,  1.39s/it]\u001b[A\n",
      "Iteration:  38%|███████████▋                   | 39/103 [00:54<01:29,  1.39s/it]\u001b[A^C\n"
     ]
    }
   ],
   "source": [
    "!python ./transformers/examples/run_ner.py --data_dir ./ner_KNBC/ \\\n",
    "--model_type bert \\\n",
    "--labels ./ner_KNBC/labels.txt \\\n",
    "--model_name_or_path /data/nlp/tool/bert/Japanese_L-12_H-768_A-12_E-30_BPE_transformers \\\n",
    "--output_dir KNBC_result/ner \\\n",
    "--max_seq_length 128 \\\n",
    "--num_train_epochs 3 \\\n",
    "#一気にn文を学習させる　多すぎるとメモリは足りなくなるが、多くしていった方が学習速度が速くなる\n",
    "--per_gpu_train_batch_size 32 \\\n",
    "--save_steps 1000 \\\n",
    "--seed 1 \\\n",
    "--do_train \\\n",
    "--do_eval \\\n",
    "--do_predict \\\n",
    "--overwrite_output_dir \\\n",
    "--overwrite_cache"
   ]
  },
  {
   "cell_type": "markdown",
   "metadata": {},
   "source": [
    "3エポックで10分弱かかります。この間に、GPU使用状況を確認できる nvidia-smi コマンドを使ってみましょう。\n",
    "2日目にJuman++を使った時と同じように、New → Terminal で Terminal を開き、 `nvidia-smi` と打ってみてください。\n",
    "重要なのは以下です。\n",
    "* Volatile GPU-Util: GPUがどれくらい使われているか。100%に近いほどよい\n",
    "* GPU Memory Usage: GPUメモリがどれくらい使われているか。他に制約がなければ最大に近いまで使うとよい\n",
    "\n",
    "しばらく実行し続けるときは例えば `nvidia-smi -l 3` と打つと3秒ごとに実行されます。"
   ]
  },
  {
   "cell_type": "markdown",
   "metadata": {
    "colab_type": "text",
    "id": "Bdm95awfvbxA"
   },
   "source": [
    "最後に出ている数字が test での精度です。F値で 0.75 程度です。"
   ]
  },
  {
   "cell_type": "markdown",
   "metadata": {
    "colab_type": "text",
    "id": "Bdm95awfvbxA"
   },
   "source": [
    "システムの出力を簡単に確認してみましょう。KNBC_result/ner/test_predictions.txt がシステムの出力です。"
   ]
  },
  {
   "cell_type": "code",
   "execution_count": 29,
   "metadata": {},
   "outputs": [
    {
     "name": "stdout",
     "output_type": "stream",
     "text": [
      "［ O\r\n",
      "京都 B-LOCATION\r\n",
      "観光 O\r\n",
      "］ O\r\n",
      "京都 B-LOCATION\r\n",
      "の O\r\n",
      "バス O\r\n",
      "\r\n",
      "昨日 B-DATE\r\n",
      "、 O\r\n",
      "久々に O\r\n",
      "バス O\r\n",
      "に O\r\n",
      "乗り O\r\n",
      "ました O\r\n",
      "。 O\r\n",
      "\r\n",
      "立って O\r\n",
      "る O\r\n",
      "人 O\r\n"
     ]
    }
   ],
   "source": [
    "!head -20 KNBC_result/ner/test_predictions.txt"
   ]
  },
  {
   "cell_type": "markdown",
   "metadata": {},
   "source": [
    "### 練習問題 3*\n",
    "上記の run_ner.py のオプション --per_gpu_train_batch_size はトレーニング時のバッチサイズを指定するものです。これは128や4にして実行してみてください。"
   ]
  },
  {
   "cell_type": "markdown",
   "metadata": {
    "colab_type": "text",
    "id": "uKF162GNCqca"
   },
   "source": [
    "### 手順3. 結果の可視化"
   ]
  },
  {
   "cell_type": "markdown",
   "metadata": {
    "colab_type": "text",
    "id": "Z2jlWEKaCwLB"
   },
   "source": [
    "システムの出力を検討する上で結果をわかりやすく表示することは非常に重要です。ここでは spacy というライブラリが提供している displacy を使って、固有表現解析の結果を可視化してみます。spacy はpipで簡単にインストールすることができます。(以下で使うtermcolorというライラブリも一緒にインストールしておきます)"
   ]
  },
  {
   "cell_type": "code",
   "execution_count": 34,
   "metadata": {},
   "outputs": [
    {
     "name": "stdout",
     "output_type": "stream",
     "text": [
      "Requirement already satisfied: spacy in /data/anaconda/envs/py36-tokyo-nlp-test/lib/python3.6/site-packages (2.2.2)\n",
      "Requirement already satisfied: termcolor in /data/anaconda/envs/py36-tokyo-nlp-test/lib/python3.6/site-packages (1.1.0)\n",
      "Requirement already satisfied: numpy>=1.15.0 in /data/anaconda/envs/py36-tokyo-nlp-test/lib/python3.6/site-packages (from spacy) (1.16.4)\n",
      "Requirement already satisfied: murmurhash<1.1.0,>=0.28.0 in /data/anaconda/envs/py36-tokyo-nlp-test/lib/python3.6/site-packages (from spacy) (1.0.2)\n",
      "Requirement already satisfied: wasabi<1.1.0,>=0.3.0 in /data/anaconda/envs/py36-tokyo-nlp-test/lib/python3.6/site-packages (from spacy) (0.4.0)\n",
      "Requirement already satisfied: importlib-metadata>=0.20; python_version < \"3.8\" in /data/anaconda/envs/py36-tokyo-nlp-test/lib/python3.6/site-packages (from spacy) (0.23)\n",
      "Requirement already satisfied: srsly<1.1.0,>=0.1.0 in /data/anaconda/envs/py36-tokyo-nlp-test/lib/python3.6/site-packages (from spacy) (0.2.0)\n",
      "Requirement already satisfied: thinc<7.4.0,>=7.3.0 in /data/anaconda/envs/py36-tokyo-nlp-test/lib/python3.6/site-packages (from spacy) (7.3.1)\n",
      "Requirement already satisfied: plac<1.2.0,>=0.9.6 in /data/anaconda/envs/py36-tokyo-nlp-test/lib/python3.6/site-packages (from spacy) (1.1.3)\n",
      "Requirement already satisfied: blis<0.5.0,>=0.4.0 in /data/anaconda/envs/py36-tokyo-nlp-test/lib/python3.6/site-packages (from spacy) (0.4.1)\n",
      "Requirement already satisfied: setuptools in /data/anaconda/envs/py36-tokyo-nlp-test/lib/python3.6/site-packages (from spacy) (41.0.1)\n",
      "Requirement already satisfied: preshed<3.1.0,>=3.0.2 in /data/anaconda/envs/py36-tokyo-nlp-test/lib/python3.6/site-packages (from spacy) (3.0.2)\n",
      "Requirement already satisfied: requests<3.0.0,>=2.13.0 in /data/anaconda/envs/py36-tokyo-nlp-test/lib/python3.6/site-packages (from spacy) (2.22.0)\n",
      "Requirement already satisfied: cymem<2.1.0,>=2.0.2 in /data/anaconda/envs/py36-tokyo-nlp-test/lib/python3.6/site-packages (from spacy) (2.0.2)\n",
      "Requirement already satisfied: zipp>=0.5 in /data/anaconda/envs/py36-tokyo-nlp-test/lib/python3.6/site-packages (from importlib-metadata>=0.20; python_version < \"3.8\"->spacy) (0.5.1)\n",
      "Requirement already satisfied: tqdm<5.0.0,>=4.10.0 in /data/anaconda/envs/py36-tokyo-nlp-test/lib/python3.6/site-packages (from thinc<7.4.0,>=7.3.0->spacy) (4.30.0)\n",
      "Requirement already satisfied: idna<2.9,>=2.5 in /data/anaconda/envs/py36-tokyo-nlp-test/lib/python3.6/site-packages (from requests<3.0.0,>=2.13.0->spacy) (2.8)\n",
      "Requirement already satisfied: chardet<3.1.0,>=3.0.2 in /data/anaconda/envs/py36-tokyo-nlp-test/lib/python3.6/site-packages (from requests<3.0.0,>=2.13.0->spacy) (3.0.4)\n",
      "Requirement already satisfied: certifi>=2017.4.17 in /data/anaconda/envs/py36-tokyo-nlp-test/lib/python3.6/site-packages (from requests<3.0.0,>=2.13.0->spacy) (2019.9.11)\n",
      "Requirement already satisfied: urllib3!=1.25.0,!=1.25.1,<1.26,>=1.21.1 in /data/anaconda/envs/py36-tokyo-nlp-test/lib/python3.6/site-packages (from requests<3.0.0,>=2.13.0->spacy) (1.24.2)\n"
     ]
    }
   ],
   "source": [
    "!pip install spacy termcolor"
   ]
  },
  {
   "cell_type": "markdown",
   "metadata": {
    "colab_type": "text",
    "id": "2rUK8Q_wDJxO"
   },
   "source": [
    "displacy では以下のように文 (text)と固有表現の集合 (ents)を与えることによって、可視化することができます。「ents」のそれぞれの固有表現のstart/endはそれぞれ文頭からの文字数を表しています。(endは固有表現の末尾の文字位置 + 1)"
   ]
  },
  {
   "cell_type": "code",
   "execution_count": 35,
   "metadata": {
    "colab": {
     "base_uri": "https://localhost:8080/",
     "height": 52
    },
    "colab_type": "code",
    "id": "18FsaW9ua9vQ",
    "outputId": "16dc6484-c53f-494a-dc11-86ca65f3286c"
   },
   "outputs": [
    {
     "data": {
      "text/html": [
       "<div class=\"entities\" style=\"line-height: 2.5; direction: ltr\">\n",
       "<mark class=\"entity\" style=\"background: #aa9cfc; padding: 0.45em 0.6em; margin: 0 0.25em; line-height: 1; border-radius: 0.35em;\">\n",
       "    太郎\n",
       "    <span style=\"font-size: 0.8em; font-weight: bold; line-height: 1; border-radius: 0.35em; text-transform: uppercase; vertical-align: middle; margin-left: 0.5rem\">PERSON</span>\n",
       "</mark>\n",
       " は \n",
       "<mark class=\"entity\" style=\"background: #7aecec; padding: 0.45em 0.6em; margin: 0 0.25em; line-height: 1; border-radius: 0.35em;\">\n",
       "    京都 大学\n",
       "    <span style=\"font-size: 0.8em; font-weight: bold; line-height: 1; border-radius: 0.35em; text-transform: uppercase; vertical-align: middle; margin-left: 0.5rem\">ORG</span>\n",
       "</mark>\n",
       " に 通っている 。</div>"
      ],
      "text/plain": [
       "<IPython.core.display.HTML object>"
      ]
     },
     "metadata": {},
     "output_type": "display_data"
    }
   ],
   "source": [
    "import spacy\n",
    "from spacy import displacy\n",
    "\n",
    "ex = [{\"text\": \"太郎 は 京都 大学 に 通っている 。\",\n",
    "       \"ents\": [{\"start\": 0, \"end\": 2, \"label\": \"PERSON\"},\n",
    "                {\"start\": 5, \"end\": 10, \"label\": \"ORG\"}]}\n",
    "      ]\n",
    "displacy.render(ex, style=\"ent\", manual=True, jupyter=True)"
   ]
  },
  {
   "cell_type": "markdown",
   "metadata": {
    "colab_type": "text",
    "id": "nSIM2QAbSadv"
   },
   "source": [
    "KNBCはコーパスサイズが小さかったためF値が0.75程度でしたが、固有表現解析で標準的に用いられているCRL固有表現データ(約1万文)ではF値0.92程度になります。古典的機械学習手法を用いた[笹野ら08]ではF値0.89と報告されていますので、固有表現解析でもBERTが強力であることがわかります。あらかじめ学習を走らせておき、その結果を /data/nlp/tool/bert/CRL 以下においていますので、これを用いて結果を可視化してみましょう。\n",
    "**(これは毎日新聞のデータですので、持ち出さないようにお願いします)**\n",
    "\n",
    "以下のpythonコードでシステムの出力と正解を可視化します。文単位でシステムの出力と正解が一致する場合はシステムの出力(=正解)を表示し、1文のどこかが異なる場合は上にシステムの出力、下に正解を表示します。"
   ]
  },
  {
   "cell_type": "code",
   "execution_count": 36,
   "metadata": {
    "colab": {
     "base_uri": "https://localhost:8080/",
     "height": 1000
    },
    "colab_type": "code",
    "id": "ONCICL0zb45b",
    "outputId": "1c9211c1-bc2c-4d06-e1a9-de5ac11bc1e6"
   },
   "outputs": [
    {
     "data": {
      "text/html": [
       "<div class=\"entities\" style=\"line-height: 2.5; direction: ltr\">\n",
       "<mark class=\"entity\" style=\"background: #7aecec; padding: 0.45em 0.6em; margin: 0 0.25em; line-height: 1; border-radius: 0.35em;\">\n",
       "    共産党\n",
       "    <span style=\"font-size: 0.8em; font-weight: bold; line-height: 1; border-radius: 0.35em; text-transform: uppercase; vertical-align: middle; margin-left: 0.5rem\">ORG</span>\n",
       "</mark>\n",
       " は \n",
       "<mark class=\"entity\" style=\"background: #bfe1d9; padding: 0.45em 0.6em; margin: 0 0.25em; line-height: 1; border-radius: 0.35em;\">\n",
       "    一 日\n",
       "    <span style=\"font-size: 0.8em; font-weight: bold; line-height: 1; border-radius: 0.35em; text-transform: uppercase; vertical-align: middle; margin-left: 0.5rem\">DATE</span>\n",
       "</mark>\n",
       " 付 の 機関 紙 「 \n",
       "<mark class=\"entity\" style=\"background: #ddd; padding: 0.45em 0.6em; margin: 0 0.25em; line-height: 1; border-radius: 0.35em;\">\n",
       "    赤旗\n",
       "    <span style=\"font-size: 0.8em; font-weight: bold; line-height: 1; border-radius: 0.35em; text-transform: uppercase; vertical-align: middle; margin-left: 0.5rem\">ARTIFACT</span>\n",
       "</mark>\n",
       " 」 で 、 \n",
       "<mark class=\"entity\" style=\"background: #aa9cfc; padding: 0.45em 0.6em; margin: 0 0.25em; line-height: 1; border-radius: 0.35em;\">\n",
       "    宮本 顕治\n",
       "    <span style=\"font-size: 0.8em; font-weight: bold; line-height: 1; border-radius: 0.35em; text-transform: uppercase; vertical-align: middle; margin-left: 0.5rem\">PERSON</span>\n",
       "</mark>\n",
       " 議長 の インタビュー を 掲載 した 。</div>"
      ],
      "text/plain": [
       "<IPython.core.display.HTML object>"
      ]
     },
     "metadata": {},
     "output_type": "display_data"
    },
    {
     "data": {
      "text/html": [
       "<div class=\"entities\" style=\"line-height: 2.5; direction: ltr\">\n",
       "<mark class=\"entity\" style=\"background: #bfe1d9; padding: 0.45em 0.6em; margin: 0 0.25em; line-height: 1; border-radius: 0.35em;\">\n",
       "    昨年\n",
       "    <span style=\"font-size: 0.8em; font-weight: bold; line-height: 1; border-radius: 0.35em; text-transform: uppercase; vertical-align: middle; margin-left: 0.5rem\">DATE</span>\n",
       "</mark>\n",
       " は \n",
       "<mark class=\"entity\" style=\"background: #bfe1d9; padding: 0.45em 0.6em; margin: 0 0.25em; line-height: 1; border-radius: 0.35em;\">\n",
       "    六 月 下旬\n",
       "    <span style=\"font-size: 0.8em; font-weight: bold; line-height: 1; border-radius: 0.35em; text-transform: uppercase; vertical-align: middle; margin-left: 0.5rem\">DATE</span>\n",
       "</mark>\n",
       " から 約 一 カ月 入院 した \n",
       "<mark class=\"entity\" style=\"background: #aa9cfc; padding: 0.45em 0.6em; margin: 0 0.25em; line-height: 1; border-radius: 0.35em;\">\n",
       "    宮本\n",
       "    <span style=\"font-size: 0.8em; font-weight: bold; line-height: 1; border-radius: 0.35em; text-transform: uppercase; vertical-align: middle; margin-left: 0.5rem\">PERSON</span>\n",
       "</mark>\n",
       " 氏 だ が 、 インタビュー で は 「 ジャーナリスト から 時々 、 『 いつまで やる つもり か 』 と か 、 それ に 類する 質問 を 受ける 」 と 自ら 紹介 した うえ で 、 「 誇る べき こと であって も 、 恥じる こと は 何も ない 」 と 力説 、 健在 ぶり を 強調 して いる 。</div>"
      ],
      "text/plain": [
       "<IPython.core.display.HTML object>"
      ]
     },
     "metadata": {},
     "output_type": "display_data"
    },
    {
     "data": {
      "text/html": [
       "<div class=\"entities\" style=\"line-height: 2.5; direction: ltr\">\n",
       "<mark class=\"entity\" style=\"background: #ff9561; padding: 0.45em 0.6em; margin: 0 0.25em; line-height: 1; border-radius: 0.35em;\">\n",
       "    アジア\n",
       "    <span style=\"font-size: 0.8em; font-weight: bold; line-height: 1; border-radius: 0.35em; text-transform: uppercase; vertical-align: middle; margin-left: 0.5rem\">LOC</span>\n",
       "</mark>\n",
       " ・ \n",
       "<mark class=\"entity\" style=\"background: #ff9561; padding: 0.45em 0.6em; margin: 0 0.25em; line-height: 1; border-radius: 0.35em;\">\n",
       "    太平洋\n",
       "    <span style=\"font-size: 0.8em; font-weight: bold; line-height: 1; border-radius: 0.35em; text-transform: uppercase; vertical-align: middle; margin-left: 0.5rem\">LOC</span>\n",
       "</mark>\n",
       " 経済 協力 会議 は 、 \n",
       "<mark class=\"entity\" style=\"background: #bfe1d9; padding: 0.45em 0.6em; margin: 0 0.25em; line-height: 1; border-radius: 0.35em;\">\n",
       "    今年 五 月\n",
       "    <span style=\"font-size: 0.8em; font-weight: bold; line-height: 1; border-radius: 0.35em; text-transform: uppercase; vertical-align: middle; margin-left: 0.5rem\">DATE</span>\n",
       "</mark>\n",
       " に も \n",
       "<mark class=\"entity\" style=\"background: #ff9561; padding: 0.45em 0.6em; margin: 0 0.25em; line-height: 1; border-radius: 0.35em;\">\n",
       "    ソウル\n",
       "    <span style=\"font-size: 0.8em; font-weight: bold; line-height: 1; border-radius: 0.35em; text-transform: uppercase; vertical-align: middle; margin-left: 0.5rem\">LOC</span>\n",
       "</mark>\n",
       " で 情報 ・ 通信 担当 閣僚 を 集めた 「 \n",
       "<mark class=\"entity\" style=\"background: #7aecec; padding: 0.45em 0.6em; margin: 0 0.25em; line-height: 1; border-radius: 0.35em;\">\n",
       "    ＡＰＥＣ\n",
       "    <span style=\"font-size: 0.8em; font-weight: bold; line-height: 1; border-radius: 0.35em; text-transform: uppercase; vertical-align: middle; margin-left: 0.5rem\">ORG</span>\n",
       "</mark>\n",
       " 情報 サミット 」 を 開催 する 。</div>"
      ],
      "text/plain": [
       "<IPython.core.display.HTML object>"
      ]
     },
     "metadata": {},
     "output_type": "display_data"
    },
    {
     "data": {
      "text/html": [
       "<div class=\"entities\" style=\"line-height: 2.5; direction: ltr\">政府筋 が \n",
       "<mark class=\"entity\" style=\"background: #bfe1d9; padding: 0.45em 0.6em; margin: 0 0.25em; line-height: 1; border-radius: 0.35em;\">\n",
       "    三十一 日\n",
       "    <span style=\"font-size: 0.8em; font-weight: bold; line-height: 1; border-radius: 0.35em; text-transform: uppercase; vertical-align: middle; margin-left: 0.5rem\">DATE</span>\n",
       "</mark>\n",
       " 、 明らかに した 。</div>"
      ],
      "text/plain": [
       "<IPython.core.display.HTML object>"
      ]
     },
     "metadata": {},
     "output_type": "display_data"
    },
    {
     "data": {
      "text/html": [
       "<div class=\"entities\" style=\"line-height: 2.5; direction: ltr\">マルチメディア 時代 を にらんだ \n",
       "<mark class=\"entity\" style=\"background: #ff9561; padding: 0.45em 0.6em; margin: 0 0.25em; line-height: 1; border-radius: 0.35em;\">\n",
       "    アジア\n",
       "    <span style=\"font-size: 0.8em; font-weight: bold; line-height: 1; border-radius: 0.35em; text-transform: uppercase; vertical-align: middle; margin-left: 0.5rem\">LOC</span>\n",
       "</mark>\n",
       " ・ \n",
       "<mark class=\"entity\" style=\"background: #ff9561; padding: 0.45em 0.6em; margin: 0 0.25em; line-height: 1; border-radius: 0.35em;\">\n",
       "    太平洋\n",
       "    <span style=\"font-size: 0.8em; font-weight: bold; line-height: 1; border-radius: 0.35em; text-transform: uppercase; vertical-align: middle; margin-left: 0.5rem\">LOC</span>\n",
       "</mark>\n",
       " の 情報 通信 基盤 を 整備 する ため 、 光 ファイバー 網 の 拡充 、 情報 通信 の 標準 化 、 公的 分野 の 情報 化 など 広範な 課題 を 協議 する 方針 で 、 今後 は 毎年 定例 開催 し 、 \n",
       "<mark class=\"entity\" style=\"background: #ff9561; padding: 0.45em 0.6em; margin: 0 0.25em; line-height: 1; border-radius: 0.35em;\">\n",
       "    アジア\n",
       "    <span style=\"font-size: 0.8em; font-weight: bold; line-height: 1; border-radius: 0.35em; text-transform: uppercase; vertical-align: middle; margin-left: 0.5rem\">LOC</span>\n",
       "</mark>\n",
       " ・ \n",
       "<mark class=\"entity\" style=\"background: #ff9561; padding: 0.45em 0.6em; margin: 0 0.25em; line-height: 1; border-radius: 0.35em;\">\n",
       "    太平洋\n",
       "    <span style=\"font-size: 0.8em; font-weight: bold; line-height: 1; border-radius: 0.35em; text-transform: uppercase; vertical-align: middle; margin-left: 0.5rem\">LOC</span>\n",
       "</mark>\n",
       " 地域 の 情報 化 推進 の 司令塔 の 役割 を 果たす 。</div>"
      ],
      "text/plain": [
       "<IPython.core.display.HTML object>"
      ]
     },
     "metadata": {},
     "output_type": "display_data"
    },
    {
     "name": "stdout",
     "output_type": "stream",
     "text": [
      "----------------------------------------------------------------------------------------------------\n",
      "\u001b[34msystem\u001b[0m\n"
     ]
    },
    {
     "data": {
      "text/html": [
       "<div class=\"entities\" style=\"line-height: 2.5; direction: ltr\">\n",
       "<mark class=\"entity\" style=\"background: #ddd; padding: 0.45em 0.6em; margin: 0 0.25em; line-height: 1; border-radius: 0.35em;\">\n",
       "    ＡＰＩＩ\n",
       "    <span style=\"font-size: 0.8em; font-weight: bold; line-height: 1; border-radius: 0.35em; text-transform: uppercase; vertical-align: middle; margin-left: 0.5rem\">ARTIFACT</span>\n",
       "</mark>\n",
       " は 、 \n",
       "<mark class=\"entity\" style=\"background: #ff9561; padding: 0.45em 0.6em; margin: 0 0.25em; line-height: 1; border-radius: 0.35em;\">\n",
       "    米国\n",
       "    <span style=\"font-size: 0.8em; font-weight: bold; line-height: 1; border-radius: 0.35em; text-transform: uppercase; vertical-align: middle; margin-left: 0.5rem\">LOC</span>\n",
       "</mark>\n",
       " が 提唱 する 地球 規模 の 情報 通信 基盤 の \n",
       "<mark class=\"entity\" style=\"background: #ff9561; padding: 0.45em 0.6em; margin: 0 0.25em; line-height: 1; border-radius: 0.35em;\">\n",
       "    アジア\n",
       "    <span style=\"font-size: 0.8em; font-weight: bold; line-height: 1; border-radius: 0.35em; text-transform: uppercase; vertical-align: middle; margin-left: 0.5rem\">LOC</span>\n",
       "</mark>\n",
       " ・ \n",
       "<mark class=\"entity\" style=\"background: #ff9561; padding: 0.45em 0.6em; margin: 0 0.25em; line-height: 1; border-radius: 0.35em;\">\n",
       "    太平洋\n",
       "    <span style=\"font-size: 0.8em; font-weight: bold; line-height: 1; border-radius: 0.35em; text-transform: uppercase; vertical-align: middle; margin-left: 0.5rem\">LOC</span>\n",
       "</mark>\n",
       " 版 。</div>"
      ],
      "text/plain": [
       "<IPython.core.display.HTML object>"
      ]
     },
     "metadata": {},
     "output_type": "display_data"
    },
    {
     "name": "stdout",
     "output_type": "stream",
     "text": [
      "\u001b[31mgold\u001b[0m\n"
     ]
    },
    {
     "data": {
      "text/html": [
       "<div class=\"entities\" style=\"line-height: 2.5; direction: ltr\">ＡＰＩＩ は 、 \n",
       "<mark class=\"entity\" style=\"background: #ff9561; padding: 0.45em 0.6em; margin: 0 0.25em; line-height: 1; border-radius: 0.35em;\">\n",
       "    米国\n",
       "    <span style=\"font-size: 0.8em; font-weight: bold; line-height: 1; border-radius: 0.35em; text-transform: uppercase; vertical-align: middle; margin-left: 0.5rem\">LOC</span>\n",
       "</mark>\n",
       " が 提唱 する 地球 規模 の 情報 通信 基盤 の \n",
       "<mark class=\"entity\" style=\"background: #ff9561; padding: 0.45em 0.6em; margin: 0 0.25em; line-height: 1; border-radius: 0.35em;\">\n",
       "    アジア\n",
       "    <span style=\"font-size: 0.8em; font-weight: bold; line-height: 1; border-radius: 0.35em; text-transform: uppercase; vertical-align: middle; margin-left: 0.5rem\">LOC</span>\n",
       "</mark>\n",
       " ・ \n",
       "<mark class=\"entity\" style=\"background: #ff9561; padding: 0.45em 0.6em; margin: 0 0.25em; line-height: 1; border-radius: 0.35em;\">\n",
       "    太平洋\n",
       "    <span style=\"font-size: 0.8em; font-weight: bold; line-height: 1; border-radius: 0.35em; text-transform: uppercase; vertical-align: middle; margin-left: 0.5rem\">LOC</span>\n",
       "</mark>\n",
       " 版 。</div>"
      ],
      "text/plain": [
       "<IPython.core.display.HTML object>"
      ]
     },
     "metadata": {},
     "output_type": "display_data"
    },
    {
     "name": "stdout",
     "output_type": "stream",
     "text": [
      "----------------------------------------------------------------------------------------------------\n"
     ]
    },
    {
     "data": {
      "text/html": [
       "<div class=\"entities\" style=\"line-height: 2.5; direction: ltr\">しかし 、 \n",
       "<mark class=\"entity\" style=\"background: #ff9561; padding: 0.45em 0.6em; margin: 0 0.25em; line-height: 1; border-radius: 0.35em;\">\n",
       "    米国\n",
       "    <span style=\"font-size: 0.8em; font-weight: bold; line-height: 1; border-radius: 0.35em; text-transform: uppercase; vertical-align: middle; margin-left: 0.5rem\">LOC</span>\n",
       "</mark>\n",
       " の これ まで の 主張 は 先進 国 重視 で 、 性急な 要求 が 目立ち 、 発展 途上 国 から の 批判 が 強かった 。</div>"
      ],
      "text/plain": [
       "<IPython.core.display.HTML object>"
      ]
     },
     "metadata": {},
     "output_type": "display_data"
    },
    {
     "data": {
      "text/html": [
       "<div class=\"entities\" style=\"line-height: 2.5; direction: ltr\">この ため 、 情報 サミット は 、 \n",
       "<mark class=\"entity\" style=\"background: #ff9561; padding: 0.45em 0.6em; margin: 0 0.25em; line-height: 1; border-radius: 0.35em;\">\n",
       "    米国\n",
       "    <span style=\"font-size: 0.8em; font-weight: bold; line-height: 1; border-radius: 0.35em; text-transform: uppercase; vertical-align: middle; margin-left: 0.5rem\">LOC</span>\n",
       "</mark>\n",
       " を 含めた 先進 国 と 途上 国 の 利害 を 調整 する 初 の 閣僚 レベル の 会合 と なる 。</div>"
      ],
      "text/plain": [
       "<IPython.core.display.HTML object>"
      ]
     },
     "metadata": {},
     "output_type": "display_data"
    },
    {
     "data": {
      "text/html": [
       "<div class=\"entities\" style=\"line-height: 2.5; direction: ltr\">情報 サミット は 、 \n",
       "<mark class=\"entity\" style=\"background: #bfe1d9; padding: 0.45em 0.6em; margin: 0 0.25em; line-height: 1; border-radius: 0.35em;\">\n",
       "    九四 年 十一 月\n",
       "    <span style=\"font-size: 0.8em; font-weight: bold; line-height: 1; border-radius: 0.35em; text-transform: uppercase; vertical-align: middle; margin-left: 0.5rem\">DATE</span>\n",
       "</mark>\n",
       " に \n",
       "<mark class=\"entity\" style=\"background: #ff9561; padding: 0.45em 0.6em; margin: 0 0.25em; line-height: 1; border-radius: 0.35em;\">\n",
       "    インドネシア\n",
       "    <span style=\"font-size: 0.8em; font-weight: bold; line-height: 1; border-radius: 0.35em; text-transform: uppercase; vertical-align: middle; margin-left: 0.5rem\">LOC</span>\n",
       "</mark>\n",
       " で 開か れた \n",
       "<mark class=\"entity\" style=\"background: #7aecec; padding: 0.45em 0.6em; margin: 0 0.25em; line-height: 1; border-radius: 0.35em;\">\n",
       "    ＡＰＥＣ\n",
       "    <span style=\"font-size: 0.8em; font-weight: bold; line-height: 1; border-radius: 0.35em; text-transform: uppercase; vertical-align: middle; margin-left: 0.5rem\">ORG</span>\n",
       "</mark>\n",
       " の 非公式 首脳 会議 で 、 \n",
       "<mark class=\"entity\" style=\"background: #ff9561; padding: 0.45em 0.6em; margin: 0 0.25em; line-height: 1; border-radius: 0.35em;\">\n",
       "    韓国\n",
       "    <span style=\"font-size: 0.8em; font-weight: bold; line-height: 1; border-radius: 0.35em; text-transform: uppercase; vertical-align: middle; margin-left: 0.5rem\">LOC</span>\n",
       "</mark>\n",
       " の \n",
       "<mark class=\"entity\" style=\"background: #aa9cfc; padding: 0.45em 0.6em; margin: 0 0.25em; line-height: 1; border-radius: 0.35em;\">\n",
       "    金 泳三\n",
       "    <span style=\"font-size: 0.8em; font-weight: bold; line-height: 1; border-radius: 0.35em; text-transform: uppercase; vertical-align: middle; margin-left: 0.5rem\">PERSON</span>\n",
       "</mark>\n",
       " 大統領 が 内々 に 提唱 した もの の 非 公開 扱い と なり 、 会議 終了 後 に 発表 さ れた \n",
       "<mark class=\"entity\" style=\"background: #ddd; padding: 0.45em 0.6em; margin: 0 0.25em; line-height: 1; border-radius: 0.35em;\">\n",
       "    ボゴール 宣言\n",
       "    <span style=\"font-size: 0.8em; font-weight: bold; line-height: 1; border-radius: 0.35em; text-transform: uppercase; vertical-align: middle; margin-left: 0.5rem\">ARTIFACT</span>\n",
       "</mark>\n",
       " に も 盛り込ま れ なかった 。</div>"
      ],
      "text/plain": [
       "<IPython.core.display.HTML object>"
      ]
     },
     "metadata": {},
     "output_type": "display_data"
    },
    {
     "data": {
      "text/html": [
       "<div class=\"entities\" style=\"line-height: 2.5; direction: ltr\">現在 、 議題 を \n",
       "<mark class=\"entity\" style=\"background: #ff9561; padding: 0.45em 0.6em; margin: 0 0.25em; line-height: 1; border-radius: 0.35em;\">\n",
       "    韓国\n",
       "    <span style=\"font-size: 0.8em; font-weight: bold; line-height: 1; border-radius: 0.35em; text-transform: uppercase; vertical-align: middle; margin-left: 0.5rem\">LOC</span>\n",
       "</mark>\n",
       " 政府 が 水面 下 で 検討 して おり 、 \n",
       "<mark class=\"entity\" style=\"background: #bfe1d9; padding: 0.45em 0.6em; margin: 0 0.25em; line-height: 1; border-radius: 0.35em;\">\n",
       "    今年 二 月 中旬\n",
       "    <span style=\"font-size: 0.8em; font-weight: bold; line-height: 1; border-radius: 0.35em; text-transform: uppercase; vertical-align: middle; margin-left: 0.5rem\">DATE</span>\n",
       "</mark>\n",
       " に \n",
       "<mark class=\"entity\" style=\"background: #ff9561; padding: 0.45em 0.6em; margin: 0 0.25em; line-height: 1; border-radius: 0.35em;\">\n",
       "    福岡\n",
       "    <span style=\"font-size: 0.8em; font-weight: bold; line-height: 1; border-radius: 0.35em; text-transform: uppercase; vertical-align: middle; margin-left: 0.5rem\">LOC</span>\n",
       "</mark>\n",
       " で 開か れる \n",
       "<mark class=\"entity\" style=\"background: #7aecec; padding: 0.45em 0.6em; margin: 0 0.25em; line-height: 1; border-radius: 0.35em;\">\n",
       "    ＡＰＥＣ\n",
       "    <span style=\"font-size: 0.8em; font-weight: bold; line-height: 1; border-radius: 0.35em; text-transform: uppercase; vertical-align: middle; margin-left: 0.5rem\">ORG</span>\n",
       "</mark>\n",
       " の 高級 事務 レベル 会合 で 、 \n",
       "<mark class=\"entity\" style=\"background: #ff9561; padding: 0.45em 0.6em; margin: 0 0.25em; line-height: 1; border-radius: 0.35em;\">\n",
       "    韓国\n",
       "    <span style=\"font-size: 0.8em; font-weight: bold; line-height: 1; border-radius: 0.35em; text-transform: uppercase; vertical-align: middle; margin-left: 0.5rem\">LOC</span>\n",
       "</mark>\n",
       " 側 から 具体 的な 提案 が ある 予定 。</div>"
      ],
      "text/plain": [
       "<IPython.core.display.HTML object>"
      ]
     },
     "metadata": {},
     "output_type": "display_data"
    },
    {
     "name": "stdout",
     "output_type": "stream",
     "text": [
      "----------------------------------------------------------------------------------------------------\n",
      "\u001b[34msystem\u001b[0m\n"
     ]
    },
    {
     "data": {
      "text/html": [
       "<div class=\"entities\" style=\"line-height: 2.5; direction: ltr\">\n",
       "<mark class=\"entity\" style=\"background: #ff9561; padding: 0.45em 0.6em; margin: 0 0.25em; line-height: 1; border-radius: 0.35em;\">\n",
       "    中国\n",
       "    <span style=\"font-size: 0.8em; font-weight: bold; line-height: 1; border-radius: 0.35em; text-transform: uppercase; vertical-align: middle; margin-left: 0.5rem\">LOC</span>\n",
       "</mark>\n",
       " の \n",
       "<mark class=\"entity\" style=\"background: #aa9cfc; padding: 0.45em 0.6em; margin: 0 0.25em; line-height: 1; border-radius: 0.35em;\">\n",
       "    江 沢民\n",
       "    <span style=\"font-size: 0.8em; font-weight: bold; line-height: 1; border-radius: 0.35em; text-transform: uppercase; vertical-align: middle; margin-left: 0.5rem\">PERSON</span>\n",
       "</mark>\n",
       " 国家 主席 は \n",
       "<mark class=\"entity\" style=\"background: #bfe1d9; padding: 0.45em 0.6em; margin: 0 0.25em; line-height: 1; border-radius: 0.35em;\">\n",
       "    三十一 日\n",
       "    <span style=\"font-size: 0.8em; font-weight: bold; line-height: 1; border-radius: 0.35em; text-transform: uppercase; vertical-align: middle; margin-left: 0.5rem\">DATE</span>\n",
       "</mark>\n",
       " 、 国 内 及び 海外 の 華僑 、 \n",
       "<mark class=\"entity\" style=\"background: #ff9561; padding: 0.45em 0.6em; margin: 0 0.25em; line-height: 1; border-radius: 0.35em;\">\n",
       "    華人\n",
       "    <span style=\"font-size: 0.8em; font-weight: bold; line-height: 1; border-radius: 0.35em; text-transform: uppercase; vertical-align: middle; margin-left: 0.5rem\">LOC</span>\n",
       "</mark>\n",
       " に 向けて 新年 の 演説 を 行い 「 \n",
       "<mark class=\"entity\" style=\"background: #bfe1d9; padding: 0.45em 0.6em; margin: 0 0.25em; line-height: 1; border-radius: 0.35em;\">\n",
       "    一九九五 年\n",
       "    <span style=\"font-size: 0.8em; font-weight: bold; line-height: 1; border-radius: 0.35em; text-transform: uppercase; vertical-align: middle; margin-left: 0.5rem\">DATE</span>\n",
       "</mark>\n",
       " は 、 反 ファシスト 戦争 の 勝利 \n",
       "<mark class=\"entity\" style=\"background: #bfe1d9; padding: 0.45em 0.6em; margin: 0 0.25em; line-height: 1; border-radius: 0.35em;\">\n",
       "    五十 周年\n",
       "    <span style=\"font-size: 0.8em; font-weight: bold; line-height: 1; border-radius: 0.35em; text-transform: uppercase; vertical-align: middle; margin-left: 0.5rem\">DATE</span>\n",
       "</mark>\n",
       " であり 、 その 中 に は 、 \n",
       "<mark class=\"entity\" style=\"background: #ff9561; padding: 0.45em 0.6em; margin: 0 0.25em; line-height: 1; border-radius: 0.35em;\">\n",
       "    日本\n",
       "    <span style=\"font-size: 0.8em; font-weight: bold; line-height: 1; border-radius: 0.35em; text-transform: uppercase; vertical-align: middle; margin-left: 0.5rem\">LOC</span>\n",
       "</mark>\n",
       " 人 の 侵略 に 抵抗 した \n",
       "<mark class=\"entity\" style=\"background: #ff9561; padding: 0.45em 0.6em; margin: 0 0.25em; line-height: 1; border-radius: 0.35em;\">\n",
       "    中国\n",
       "    <span style=\"font-size: 0.8em; font-weight: bold; line-height: 1; border-radius: 0.35em; text-transform: uppercase; vertical-align: middle; margin-left: 0.5rem\">LOC</span>\n",
       "</mark>\n",
       " 人民 の 戦い も 含ま れて いる 」 と 強調 した 。</div>"
      ],
      "text/plain": [
       "<IPython.core.display.HTML object>"
      ]
     },
     "metadata": {},
     "output_type": "display_data"
    },
    {
     "name": "stdout",
     "output_type": "stream",
     "text": [
      "\u001b[31mgold\u001b[0m\n"
     ]
    },
    {
     "data": {
      "text/html": [
       "<div class=\"entities\" style=\"line-height: 2.5; direction: ltr\">\n",
       "<mark class=\"entity\" style=\"background: #ff9561; padding: 0.45em 0.6em; margin: 0 0.25em; line-height: 1; border-radius: 0.35em;\">\n",
       "    中国\n",
       "    <span style=\"font-size: 0.8em; font-weight: bold; line-height: 1; border-radius: 0.35em; text-transform: uppercase; vertical-align: middle; margin-left: 0.5rem\">LOC</span>\n",
       "</mark>\n",
       " の \n",
       "<mark class=\"entity\" style=\"background: #aa9cfc; padding: 0.45em 0.6em; margin: 0 0.25em; line-height: 1; border-radius: 0.35em;\">\n",
       "    江 沢民\n",
       "    <span style=\"font-size: 0.8em; font-weight: bold; line-height: 1; border-radius: 0.35em; text-transform: uppercase; vertical-align: middle; margin-left: 0.5rem\">PERSON</span>\n",
       "</mark>\n",
       " 国家 主席 は \n",
       "<mark class=\"entity\" style=\"background: #bfe1d9; padding: 0.45em 0.6em; margin: 0 0.25em; line-height: 1; border-radius: 0.35em;\">\n",
       "    三十一 日\n",
       "    <span style=\"font-size: 0.8em; font-weight: bold; line-height: 1; border-radius: 0.35em; text-transform: uppercase; vertical-align: middle; margin-left: 0.5rem\">DATE</span>\n",
       "</mark>\n",
       " 、 国 内 及び 海外 の \n",
       "<mark class=\"entity\" style=\"background: #ff9561; padding: 0.45em 0.6em; margin: 0 0.25em; line-height: 1; border-radius: 0.35em;\">\n",
       "    華僑\n",
       "    <span style=\"font-size: 0.8em; font-weight: bold; line-height: 1; border-radius: 0.35em; text-transform: uppercase; vertical-align: middle; margin-left: 0.5rem\">LOC</span>\n",
       "</mark>\n",
       " 、 \n",
       "<mark class=\"entity\" style=\"background: #ff9561; padding: 0.45em 0.6em; margin: 0 0.25em; line-height: 1; border-radius: 0.35em;\">\n",
       "    華人\n",
       "    <span style=\"font-size: 0.8em; font-weight: bold; line-height: 1; border-radius: 0.35em; text-transform: uppercase; vertical-align: middle; margin-left: 0.5rem\">LOC</span>\n",
       "</mark>\n",
       " に 向けて \n",
       "<mark class=\"entity\" style=\"background: #bfe1d9; padding: 0.45em 0.6em; margin: 0 0.25em; line-height: 1; border-radius: 0.35em;\">\n",
       "    新年\n",
       "    <span style=\"font-size: 0.8em; font-weight: bold; line-height: 1; border-radius: 0.35em; text-transform: uppercase; vertical-align: middle; margin-left: 0.5rem\">DATE</span>\n",
       "</mark>\n",
       " の 演説 を 行い 「 \n",
       "<mark class=\"entity\" style=\"background: #bfe1d9; padding: 0.45em 0.6em; margin: 0 0.25em; line-height: 1; border-radius: 0.35em;\">\n",
       "    一九九五 年\n",
       "    <span style=\"font-size: 0.8em; font-weight: bold; line-height: 1; border-radius: 0.35em; text-transform: uppercase; vertical-align: middle; margin-left: 0.5rem\">DATE</span>\n",
       "</mark>\n",
       " は 、 反 ファシスト 戦争 の 勝利 \n",
       "<mark class=\"entity\" style=\"background: #bfe1d9; padding: 0.45em 0.6em; margin: 0 0.25em; line-height: 1; border-radius: 0.35em;\">\n",
       "    五十 周年\n",
       "    <span style=\"font-size: 0.8em; font-weight: bold; line-height: 1; border-radius: 0.35em; text-transform: uppercase; vertical-align: middle; margin-left: 0.5rem\">DATE</span>\n",
       "</mark>\n",
       " であり 、 その 中 に は 、 \n",
       "<mark class=\"entity\" style=\"background: #ff9561; padding: 0.45em 0.6em; margin: 0 0.25em; line-height: 1; border-radius: 0.35em;\">\n",
       "    日本\n",
       "    <span style=\"font-size: 0.8em; font-weight: bold; line-height: 1; border-radius: 0.35em; text-transform: uppercase; vertical-align: middle; margin-left: 0.5rem\">LOC</span>\n",
       "</mark>\n",
       " 人 の 侵略 に 抵抗 した \n",
       "<mark class=\"entity\" style=\"background: #ff9561; padding: 0.45em 0.6em; margin: 0 0.25em; line-height: 1; border-radius: 0.35em;\">\n",
       "    中国\n",
       "    <span style=\"font-size: 0.8em; font-weight: bold; line-height: 1; border-radius: 0.35em; text-transform: uppercase; vertical-align: middle; margin-left: 0.5rem\">LOC</span>\n",
       "</mark>\n",
       " 人民 の 戦い も 含ま れて いる 」 と 強調 した 。</div>"
      ],
      "text/plain": [
       "<IPython.core.display.HTML object>"
      ]
     },
     "metadata": {},
     "output_type": "display_data"
    },
    {
     "name": "stdout",
     "output_type": "stream",
     "text": [
      "----------------------------------------------------------------------------------------------------\n"
     ]
    },
    {
     "data": {
      "text/html": [
       "<div class=\"entities\" style=\"line-height: 2.5; direction: ltr\">\n",
       "<mark class=\"entity\" style=\"background: #ff9561; padding: 0.45em 0.6em; margin: 0 0.25em; line-height: 1; border-radius: 0.35em;\">\n",
       "    ソマリア\n",
       "    <span style=\"font-size: 0.8em; font-weight: bold; line-height: 1; border-radius: 0.35em; text-transform: uppercase; vertical-align: middle; margin-left: 0.5rem\">LOC</span>\n",
       "</mark>\n",
       " の 首都 \n",
       "<mark class=\"entity\" style=\"background: #ff9561; padding: 0.45em 0.6em; margin: 0 0.25em; line-height: 1; border-radius: 0.35em;\">\n",
       "    モガディシオ\n",
       "    <span style=\"font-size: 0.8em; font-weight: bold; line-height: 1; border-radius: 0.35em; text-transform: uppercase; vertical-align: middle; margin-left: 0.5rem\">LOC</span>\n",
       "</mark>\n",
       " で \n",
       "<mark class=\"entity\" style=\"background: #bfe1d9; padding: 0.45em 0.6em; margin: 0 0.25em; line-height: 1; border-radius: 0.35em;\">\n",
       "    三十一 日\n",
       "    <span style=\"font-size: 0.8em; font-weight: bold; line-height: 1; border-radius: 0.35em; text-transform: uppercase; vertical-align: middle; margin-left: 0.5rem\">DATE</span>\n",
       "</mark>\n",
       " 、 激しい 市街 戦 が 発生 した 。</div>"
      ],
      "text/plain": [
       "<IPython.core.display.HTML object>"
      ]
     },
     "metadata": {},
     "output_type": "display_data"
    },
    {
     "name": "stdout",
     "output_type": "stream",
     "text": [
      "----------------------------------------------------------------------------------------------------\n",
      "\u001b[34msystem\u001b[0m\n"
     ]
    },
    {
     "data": {
      "text/html": [
       "<div class=\"entities\" style=\"line-height: 2.5; direction: ltr\">第 二 次 \n",
       "<mark class=\"entity\" style=\"background: #7aecec; padding: 0.45em 0.6em; margin: 0 0.25em; line-height: 1; border-radius: 0.35em;\">\n",
       "    国連 ソマリア 活動\n",
       "    <span style=\"font-size: 0.8em; font-weight: bold; line-height: 1; border-radius: 0.35em; text-transform: uppercase; vertical-align: middle; margin-left: 0.5rem\">ORG</span>\n",
       "</mark>\n",
       " は \n",
       "<mark class=\"entity\" style=\"background: #bfe1d9; padding: 0.45em 0.6em; margin: 0 0.25em; line-height: 1; border-radius: 0.35em;\">\n",
       "    今年 三 月 末\n",
       "    <span style=\"font-size: 0.8em; font-weight: bold; line-height: 1; border-radius: 0.35em; text-transform: uppercase; vertical-align: middle; margin-left: 0.5rem\">DATE</span>\n",
       "</mark>\n",
       " まで の 撤退 を 決めて おり 、 \n",
       "<mark class=\"entity\" style=\"background: #7aecec; padding: 0.45em 0.6em; margin: 0 0.25em; line-height: 1; border-radius: 0.35em;\">\n",
       "    国連\n",
       "    <span style=\"font-size: 0.8em; font-weight: bold; line-height: 1; border-radius: 0.35em; text-transform: uppercase; vertical-align: middle; margin-left: 0.5rem\">ORG</span>\n",
       "</mark>\n",
       " 撤退 後 に 向けた 本格 的な 内戦 再 突入 が 強く 懸念 さ れて いる 。</div>"
      ],
      "text/plain": [
       "<IPython.core.display.HTML object>"
      ]
     },
     "metadata": {},
     "output_type": "display_data"
    },
    {
     "name": "stdout",
     "output_type": "stream",
     "text": [
      "\u001b[31mgold\u001b[0m\n"
     ]
    },
    {
     "data": {
      "text/html": [
       "<div class=\"entities\" style=\"line-height: 2.5; direction: ltr\">第 二 次 \n",
       "<mark class=\"entity\" style=\"background: #7aecec; padding: 0.45em 0.6em; margin: 0 0.25em; line-height: 1; border-radius: 0.35em;\">\n",
       "    国連\n",
       "    <span style=\"font-size: 0.8em; font-weight: bold; line-height: 1; border-radius: 0.35em; text-transform: uppercase; vertical-align: middle; margin-left: 0.5rem\">ORG</span>\n",
       "</mark>\n",
       " \n",
       "<mark class=\"entity\" style=\"background: #ff9561; padding: 0.45em 0.6em; margin: 0 0.25em; line-height: 1; border-radius: 0.35em;\">\n",
       "    ソマリア\n",
       "    <span style=\"font-size: 0.8em; font-weight: bold; line-height: 1; border-radius: 0.35em; text-transform: uppercase; vertical-align: middle; margin-left: 0.5rem\">LOC</span>\n",
       "</mark>\n",
       " 活動 は \n",
       "<mark class=\"entity\" style=\"background: #bfe1d9; padding: 0.45em 0.6em; margin: 0 0.25em; line-height: 1; border-radius: 0.35em;\">\n",
       "    今年 三 月 末\n",
       "    <span style=\"font-size: 0.8em; font-weight: bold; line-height: 1; border-radius: 0.35em; text-transform: uppercase; vertical-align: middle; margin-left: 0.5rem\">DATE</span>\n",
       "</mark>\n",
       " まで の 撤退 を 決めて おり 、 \n",
       "<mark class=\"entity\" style=\"background: #7aecec; padding: 0.45em 0.6em; margin: 0 0.25em; line-height: 1; border-radius: 0.35em;\">\n",
       "    国連\n",
       "    <span style=\"font-size: 0.8em; font-weight: bold; line-height: 1; border-radius: 0.35em; text-transform: uppercase; vertical-align: middle; margin-left: 0.5rem\">ORG</span>\n",
       "</mark>\n",
       " 撤退 後 に 向けた 本格 的な 内戦 再 突入 が 強く 懸念 さ れて いる 。</div>"
      ],
      "text/plain": [
       "<IPython.core.display.HTML object>"
      ]
     },
     "metadata": {},
     "output_type": "display_data"
    },
    {
     "name": "stdout",
     "output_type": "stream",
     "text": [
      "----------------------------------------------------------------------------------------------------\n"
     ]
    },
    {
     "data": {
      "text/html": [
       "<div class=\"entities\" style=\"line-height: 2.5; direction: ltr\">\n",
       "<mark class=\"entity\" style=\"background: #ff9561; padding: 0.45em 0.6em; margin: 0 0.25em; line-height: 1; border-radius: 0.35em;\">\n",
       "    モガディシオ\n",
       "    <span style=\"font-size: 0.8em; font-weight: bold; line-height: 1; border-radius: 0.35em; text-transform: uppercase; vertical-align: middle; margin-left: 0.5rem\">LOC</span>\n",
       "</mark>\n",
       " から の 報道 に よる と 、 市 内 の \n",
       "<mark class=\"entity\" style=\"background: #ff9561; padding: 0.45em 0.6em; margin: 0 0.25em; line-height: 1; border-radius: 0.35em;\">\n",
       "    ベルムダ\n",
       "    <span style=\"font-size: 0.8em; font-weight: bold; line-height: 1; border-radius: 0.35em; text-transform: uppercase; vertical-align: middle; margin-left: 0.5rem\">LOC</span>\n",
       "</mark>\n",
       " 地区 を 中心 に 、 ロケット弾 の 爆発 音 が 響き 、 通り を 武装 兵士 が 占拠 。</div>"
      ],
      "text/plain": [
       "<IPython.core.display.HTML object>"
      ]
     },
     "metadata": {},
     "output_type": "display_data"
    },
    {
     "data": {
      "text/html": [
       "<div class=\"entities\" style=\"line-height: 2.5; direction: ltr\">当事 者 は ムルサデ 氏族 と アブガル 氏族 だ が 、 背景 に は 二 大 武装 勢力 の \n",
       "<mark class=\"entity\" style=\"background: #7aecec; padding: 0.45em 0.6em; margin: 0 0.25em; line-height: 1; border-radius: 0.35em;\">\n",
       "    アイディード 派\n",
       "    <span style=\"font-size: 0.8em; font-weight: bold; line-height: 1; border-radius: 0.35em; text-transform: uppercase; vertical-align: middle; margin-left: 0.5rem\">ORG</span>\n",
       "</mark>\n",
       " と \n",
       "<mark class=\"entity\" style=\"background: #7aecec; padding: 0.45em 0.6em; margin: 0 0.25em; line-height: 1; border-radius: 0.35em;\">\n",
       "    モハメド 派\n",
       "    <span style=\"font-size: 0.8em; font-weight: bold; line-height: 1; border-radius: 0.35em; text-transform: uppercase; vertical-align: middle; margin-left: 0.5rem\">ORG</span>\n",
       "</mark>\n",
       " の 対立 が ある 。</div>"
      ],
      "text/plain": [
       "<IPython.core.display.HTML object>"
      ]
     },
     "metadata": {},
     "output_type": "display_data"
    },
    {
     "data": {
      "text/html": [
       "<div class=\"entities\" style=\"line-height: 2.5; direction: ltr\">\n",
       "<mark class=\"entity\" style=\"background: #ff9561; padding: 0.45em 0.6em; margin: 0 0.25em; line-height: 1; border-radius: 0.35em;\">\n",
       "    中国\n",
       "    <span style=\"font-size: 0.8em; font-weight: bold; line-height: 1; border-radius: 0.35em; text-transform: uppercase; vertical-align: middle; margin-left: 0.5rem\">LOC</span>\n",
       "</mark>\n",
       " の \n",
       "<mark class=\"entity\" style=\"background: #ff9561; padding: 0.45em 0.6em; margin: 0 0.25em; line-height: 1; border-radius: 0.35em;\">\n",
       "    ミャンマー\n",
       "    <span style=\"font-size: 0.8em; font-weight: bold; line-height: 1; border-radius: 0.35em; text-transform: uppercase; vertical-align: middle; margin-left: 0.5rem\">LOC</span>\n",
       "</mark>\n",
       " 援助 の 意図 は \n",
       "<mark class=\"entity\" style=\"background: #7aecec; padding: 0.45em 0.6em; margin: 0 0.25em; line-height: 1; border-radius: 0.35em;\">\n",
       "    インド洋 海軍\n",
       "    <span style=\"font-size: 0.8em; font-weight: bold; line-height: 1; border-radius: 0.35em; text-transform: uppercase; vertical-align: middle; margin-left: 0.5rem\">ORG</span>\n",
       "</mark>\n",
       " 進出 の ため の 海軍 基地 建設 に ある と 分析 した 。</div>"
      ],
      "text/plain": [
       "<IPython.core.display.HTML object>"
      ]
     },
     "metadata": {},
     "output_type": "display_data"
    },
    {
     "data": {
      "text/html": [
       "<div class=\"entities\" style=\"line-height: 2.5; direction: ltr\">\n",
       "<mark class=\"entity\" style=\"background: #ff9561; padding: 0.45em 0.6em; margin: 0 0.25em; line-height: 1; border-radius: 0.35em;\">\n",
       "    韓国\n",
       "    <span style=\"font-size: 0.8em; font-weight: bold; line-height: 1; border-radius: 0.35em; text-transform: uppercase; vertical-align: middle; margin-left: 0.5rem\">LOC</span>\n",
       "</mark>\n",
       " の \n",
       "<mark class=\"entity\" style=\"background: #aa9cfc; padding: 0.45em 0.6em; margin: 0 0.25em; line-height: 1; border-radius: 0.35em;\">\n",
       "    金 泳三\n",
       "    <span style=\"font-size: 0.8em; font-weight: bold; line-height: 1; border-radius: 0.35em; text-transform: uppercase; vertical-align: middle; margin-left: 0.5rem\">PERSON</span>\n",
       "</mark>\n",
       " 大統領 は \n",
       "<mark class=\"entity\" style=\"background: #bfe1d9; padding: 0.45em 0.6em; margin: 0 0.25em; line-height: 1; border-radius: 0.35em;\">\n",
       "    三十一 日\n",
       "    <span style=\"font-size: 0.8em; font-weight: bold; line-height: 1; border-radius: 0.35em; text-transform: uppercase; vertical-align: middle; margin-left: 0.5rem\">DATE</span>\n",
       "</mark>\n",
       " 、 新年 の 辞 を 発表 し 、 \n",
       "<mark class=\"entity\" style=\"background: #aa9cfc; padding: 0.45em 0.6em; margin: 0 0.25em; line-height: 1; border-radius: 0.35em;\">\n",
       "    金 日成\n",
       "    <span style=\"font-size: 0.8em; font-weight: bold; line-height: 1; border-radius: 0.35em; text-transform: uppercase; vertical-align: middle; margin-left: 0.5rem\">PERSON</span>\n",
       "</mark>\n",
       " 主席 の 死去 後 、 冷却 化 して いる 南北 関係 の 改善 を 訴えた 。</div>"
      ],
      "text/plain": [
       "<IPython.core.display.HTML object>"
      ]
     },
     "metadata": {},
     "output_type": "display_data"
    },
    {
     "name": "stdout",
     "output_type": "stream",
     "text": [
      "----------------------------------------------------------------------------------------------------\n",
      "\u001b[34msystem\u001b[0m\n"
     ]
    },
    {
     "data": {
      "text/html": [
       "<div class=\"entities\" style=\"line-height: 2.5; direction: ltr\">\n",
       "<mark class=\"entity\" style=\"background: #aa9cfc; padding: 0.45em 0.6em; margin: 0 0.25em; line-height: 1; border-radius: 0.35em;\">\n",
       "    金\n",
       "    <span style=\"font-size: 0.8em; font-weight: bold; line-height: 1; border-radius: 0.35em; text-transform: uppercase; vertical-align: middle; margin-left: 0.5rem\">PERSON</span>\n",
       "</mark>\n",
       " 大統領 は 、 \n",
       "<mark class=\"entity\" style=\"background: #bfe1d9; padding: 0.45em 0.6em; margin: 0 0.25em; line-height: 1; border-radius: 0.35em;\">\n",
       "    一九九五 年\n",
       "    <span style=\"font-size: 0.8em; font-weight: bold; line-height: 1; border-radius: 0.35em; text-transform: uppercase; vertical-align: middle; margin-left: 0.5rem\">DATE</span>\n",
       "</mark>\n",
       " が \n",
       "<mark class=\"entity\" style=\"background: #ff9561; padding: 0.45em 0.6em; margin: 0 0.25em; line-height: 1; border-radius: 0.35em;\">\n",
       "    日本\n",
       "    <span style=\"font-size: 0.8em; font-weight: bold; line-height: 1; border-radius: 0.35em; text-transform: uppercase; vertical-align: middle; margin-left: 0.5rem\">LOC</span>\n",
       "</mark>\n",
       " の 植民 地 から の 解放 五十 年 に あたる こと を 指摘 。</div>"
      ],
      "text/plain": [
       "<IPython.core.display.HTML object>"
      ]
     },
     "metadata": {},
     "output_type": "display_data"
    },
    {
     "name": "stdout",
     "output_type": "stream",
     "text": [
      "\u001b[31mgold\u001b[0m\n"
     ]
    },
    {
     "data": {
      "text/html": [
       "<div class=\"entities\" style=\"line-height: 2.5; direction: ltr\">\n",
       "<mark class=\"entity\" style=\"background: #aa9cfc; padding: 0.45em 0.6em; margin: 0 0.25em; line-height: 1; border-radius: 0.35em;\">\n",
       "    金\n",
       "    <span style=\"font-size: 0.8em; font-weight: bold; line-height: 1; border-radius: 0.35em; text-transform: uppercase; vertical-align: middle; margin-left: 0.5rem\">PERSON</span>\n",
       "</mark>\n",
       " 大統領 は 、 \n",
       "<mark class=\"entity\" style=\"background: #bfe1d9; padding: 0.45em 0.6em; margin: 0 0.25em; line-height: 1; border-radius: 0.35em;\">\n",
       "    一九九五 年\n",
       "    <span style=\"font-size: 0.8em; font-weight: bold; line-height: 1; border-radius: 0.35em; text-transform: uppercase; vertical-align: middle; margin-left: 0.5rem\">DATE</span>\n",
       "</mark>\n",
       " が \n",
       "<mark class=\"entity\" style=\"background: #ff9561; padding: 0.45em 0.6em; margin: 0 0.25em; line-height: 1; border-radius: 0.35em;\">\n",
       "    日本\n",
       "    <span style=\"font-size: 0.8em; font-weight: bold; line-height: 1; border-radius: 0.35em; text-transform: uppercase; vertical-align: middle; margin-left: 0.5rem\">LOC</span>\n",
       "</mark>\n",
       " の 植民 地 から の 解放 \n",
       "<mark class=\"entity\" style=\"background: #bfe1d9; padding: 0.45em 0.6em; margin: 0 0.25em; line-height: 1; border-radius: 0.35em;\">\n",
       "    五十 年\n",
       "    <span style=\"font-size: 0.8em; font-weight: bold; line-height: 1; border-radius: 0.35em; text-transform: uppercase; vertical-align: middle; margin-left: 0.5rem\">DATE</span>\n",
       "</mark>\n",
       " に あたる こと を 指摘 。</div>"
      ],
      "text/plain": [
       "<IPython.core.display.HTML object>"
      ]
     },
     "metadata": {},
     "output_type": "display_data"
    },
    {
     "name": "stdout",
     "output_type": "stream",
     "text": [
      "----------------------------------------------------------------------------------------------------\n",
      "----------------------------------------------------------------------------------------------------\n",
      "\u001b[34msystem\u001b[0m\n"
     ]
    },
    {
     "data": {
      "text/html": [
       "<div class=\"entities\" style=\"line-height: 2.5; direction: ltr\">その 記念 年 を 迎え 「 \n",
       "<mark class=\"entity\" style=\"background: #ff9561; padding: 0.45em 0.6em; margin: 0 0.25em; line-height: 1; border-radius: 0.35em;\">\n",
       "    韓国\n",
       "    <span style=\"font-size: 0.8em; font-weight: bold; line-height: 1; border-radius: 0.35em; text-transform: uppercase; vertical-align: middle; margin-left: 0.5rem\">LOC</span>\n",
       "</mark>\n",
       " 社会 の 世界 化 が 必要 」 と 強調 し ながら 「 南北 が 、 和解 と 協力 の 新しい 時代 を 開か なければ なら ない 」 と 南北 統一 の 実現 を 呼びかけた 。</div>"
      ],
      "text/plain": [
       "<IPython.core.display.HTML object>"
      ]
     },
     "metadata": {},
     "output_type": "display_data"
    },
    {
     "name": "stdout",
     "output_type": "stream",
     "text": [
      "\u001b[31mgold\u001b[0m\n"
     ]
    },
    {
     "data": {
      "text/html": [
       "<div class=\"entities\" style=\"line-height: 2.5; direction: ltr\">その \n",
       "<mark class=\"entity\" style=\"background: #bfe1d9; padding: 0.45em 0.6em; margin: 0 0.25em; line-height: 1; border-radius: 0.35em;\">\n",
       "    記念 年\n",
       "    <span style=\"font-size: 0.8em; font-weight: bold; line-height: 1; border-radius: 0.35em; text-transform: uppercase; vertical-align: middle; margin-left: 0.5rem\">DATE</span>\n",
       "</mark>\n",
       " を 迎え 「 \n",
       "<mark class=\"entity\" style=\"background: #ff9561; padding: 0.45em 0.6em; margin: 0 0.25em; line-height: 1; border-radius: 0.35em;\">\n",
       "    韓国\n",
       "    <span style=\"font-size: 0.8em; font-weight: bold; line-height: 1; border-radius: 0.35em; text-transform: uppercase; vertical-align: middle; margin-left: 0.5rem\">LOC</span>\n",
       "</mark>\n",
       " 社会 の 世界 化 が 必要 」 と 強調 し ながら 「 南北 が 、 和解 と 協力 の 新しい 時代 を 開か なければ なら ない 」 と 南北 統一 の 実現 を 呼びかけた 。</div>"
      ],
      "text/plain": [
       "<IPython.core.display.HTML object>"
      ]
     },
     "metadata": {},
     "output_type": "display_data"
    },
    {
     "name": "stdout",
     "output_type": "stream",
     "text": [
      "----------------------------------------------------------------------------------------------------\n"
     ]
    },
    {
     "data": {
      "text/html": [
       "<div class=\"entities\" style=\"line-height: 2.5; direction: ltr\">一方 、 \n",
       "<mark class=\"entity\" style=\"background: #ff9561; padding: 0.45em 0.6em; margin: 0 0.25em; line-height: 1; border-radius: 0.35em;\">\n",
       "    朝鮮民主主義人民共和国\n",
       "    <span style=\"font-size: 0.8em; font-weight: bold; line-height: 1; border-radius: 0.35em; text-transform: uppercase; vertical-align: middle; margin-left: 0.5rem\">LOC</span>\n",
       "</mark>\n",
       " は 、 毎年 元日 に 故 \n",
       "<mark class=\"entity\" style=\"background: #aa9cfc; padding: 0.45em 0.6em; margin: 0 0.25em; line-height: 1; border-radius: 0.35em;\">\n",
       "    金\n",
       "    <span style=\"font-size: 0.8em; font-weight: bold; line-height: 1; border-radius: 0.35em; text-transform: uppercase; vertical-align: middle; margin-left: 0.5rem\">PERSON</span>\n",
       "</mark>\n",
       " 主席 が 新年 の 辞 を 発表 する の が 恒例 だった 。</div>"
      ],
      "text/plain": [
       "<IPython.core.display.HTML object>"
      ]
     },
     "metadata": {},
     "output_type": "display_data"
    },
    {
     "data": {
      "text/html": [
       "<div class=\"entities\" style=\"line-height: 2.5; direction: ltr\">今回 、 どういう 形 で 行う か が 注目 さ れる が 、 \n",
       "<mark class=\"entity\" style=\"background: #ff9561; padding: 0.45em 0.6em; margin: 0 0.25em; line-height: 1; border-radius: 0.35em;\">\n",
       "    北朝鮮\n",
       "    <span style=\"font-size: 0.8em; font-weight: bold; line-height: 1; border-radius: 0.35em; text-transform: uppercase; vertical-align: middle; margin-left: 0.5rem\">LOC</span>\n",
       "</mark>\n",
       " の \n",
       "<mark class=\"entity\" style=\"background: #7aecec; padding: 0.45em 0.6em; margin: 0 0.25em; line-height: 1; border-radius: 0.35em;\">\n",
       "    中央\n",
       "    <span style=\"font-size: 0.8em; font-weight: bold; line-height: 1; border-radius: 0.35em; text-transform: uppercase; vertical-align: middle; margin-left: 0.5rem\">ORG</span>\n",
       "</mark>\n",
       " テレビ が \n",
       "<mark class=\"entity\" style=\"background: #7aecec; padding: 0.45em 0.6em; margin: 0 0.25em; line-height: 1; border-radius: 0.35em;\">\n",
       "    ＮＨＫ\n",
       "    <span style=\"font-size: 0.8em; font-weight: bold; line-height: 1; border-radius: 0.35em; text-transform: uppercase; vertical-align: middle; margin-left: 0.5rem\">ORG</span>\n",
       "</mark>\n",
       " に 対し 、 「 \n",
       "<mark class=\"entity\" style=\"background: #bfe1d9; padding: 0.45em 0.6em; margin: 0 0.25em; line-height: 1; border-radius: 0.35em;\">\n",
       "    一 日\n",
       "    <span style=\"font-size: 0.8em; font-weight: bold; line-height: 1; border-radius: 0.35em; text-transform: uppercase; vertical-align: middle; margin-left: 0.5rem\">DATE</span>\n",
       "</mark>\n",
       " \n",
       "<mark class=\"entity\" style=\"background: #bfe1d9; padding: 0.45em 0.6em; margin: 0 0.25em; line-height: 1; border-radius: 0.35em;\">\n",
       "    午前 十一 時\n",
       "    <span style=\"font-size: 0.8em; font-weight: bold; line-height: 1; border-radius: 0.35em; text-transform: uppercase; vertical-align: middle; margin-left: 0.5rem\">TIME</span>\n",
       "</mark>\n",
       " から 一 時間 、 ニュース 映像 を 送り たい ので 、 衛星 回線 を 確保 して ほしい 」 と 連絡 。</div>"
      ],
      "text/plain": [
       "<IPython.core.display.HTML object>"
      ]
     },
     "metadata": {},
     "output_type": "display_data"
    },
    {
     "data": {
      "text/html": [
       "<div class=\"entities\" style=\"line-height: 2.5; direction: ltr\">この ため 、 \n",
       "<mark class=\"entity\" style=\"background: #ff9561; padding: 0.45em 0.6em; margin: 0 0.25em; line-height: 1; border-radius: 0.35em;\">\n",
       "    ソウル\n",
       "    <span style=\"font-size: 0.8em; font-weight: bold; line-height: 1; border-radius: 0.35em; text-transform: uppercase; vertical-align: middle; margin-left: 0.5rem\">LOC</span>\n",
       "</mark>\n",
       " の 外交 安保 関係 者 は 、 約 二 カ月間 公式の 場 に 姿 を 現して い ない \n",
       "<mark class=\"entity\" style=\"background: #aa9cfc; padding: 0.45em 0.6em; margin: 0 0.25em; line-height: 1; border-radius: 0.35em;\">\n",
       "    金正日\n",
       "    <span style=\"font-size: 0.8em; font-weight: bold; line-height: 1; border-radius: 0.35em; text-transform: uppercase; vertical-align: middle; margin-left: 0.5rem\">PERSON</span>\n",
       "</mark>\n",
       " 書記 が 、 「 最高 権力 者 」 と して の 姿 を テレビ で 内外 に 印象付ける ため 登場 する 可能 性 が 強い 、 と の 見方 を 示して いる 。</div>"
      ],
      "text/plain": [
       "<IPython.core.display.HTML object>"
      ]
     },
     "metadata": {},
     "output_type": "display_data"
    },
    {
     "name": "stdout",
     "output_type": "stream",
     "text": [
      "----------------------------------------------------------------------------------------------------\n",
      "\u001b[34msystem\u001b[0m\n"
     ]
    },
    {
     "data": {
      "text/html": [
       "<div class=\"entities\" style=\"line-height: 2.5; direction: ltr\">しかし 、 本人 が 新年 の 辞 を 発表 する か どう か に ついて は 、 「 他 の 幹部 ら が 代読 する ので は ない か 」 と の 指摘 も 多い 。</div>"
      ],
      "text/plain": [
       "<IPython.core.display.HTML object>"
      ]
     },
     "metadata": {},
     "output_type": "display_data"
    },
    {
     "name": "stdout",
     "output_type": "stream",
     "text": [
      "\u001b[31mgold\u001b[0m\n"
     ]
    },
    {
     "data": {
      "text/html": [
       "<div class=\"entities\" style=\"line-height: 2.5; direction: ltr\">しかし 、 本人 が 新年 の 辞 を 発表 する か どう か に ついて は 、 「 他 の 幹部 ら が 代読 する ので は ない か 」 と の 指摘 も 多い 。</div>"
      ],
      "text/plain": [
       "<IPython.core.display.HTML object>"
      ]
     },
     "metadata": {},
     "output_type": "display_data"
    },
    {
     "name": "stdout",
     "output_type": "stream",
     "text": [
      "----------------------------------------------------------------------------------------------------\n"
     ]
    },
    {
     "data": {
      "text/html": [
       "<div class=\"entities\" style=\"line-height: 2.5; direction: ltr\">\n",
       "<mark class=\"entity\" style=\"background: #aa9cfc; padding: 0.45em 0.6em; margin: 0 0.25em; line-height: 1; border-radius: 0.35em;\">\n",
       "    秋山 和慶\n",
       "    <span style=\"font-size: 0.8em; font-weight: bold; line-height: 1; border-radius: 0.35em; text-transform: uppercase; vertical-align: middle; margin-left: 0.5rem\">PERSON</span>\n",
       "</mark>\n",
       " の 音楽 監督 就任 \n",
       "<mark class=\"entity\" style=\"background: #bfe1d9; padding: 0.45em 0.6em; margin: 0 0.25em; line-height: 1; border-radius: 0.35em;\">\n",
       "    三十 周年\n",
       "    <span style=\"font-size: 0.8em; font-weight: bold; line-height: 1; border-radius: 0.35em; text-transform: uppercase; vertical-align: middle; margin-left: 0.5rem\">DATE</span>\n",
       "</mark>\n",
       " 、 そして 第 四百 回 定期 と いう 記念 す べき 機会 に 演奏 さ れた 、 \n",
       "<mark class=\"entity\" style=\"background: #aa9cfc; padding: 0.45em 0.6em; margin: 0 0.25em; line-height: 1; border-radius: 0.35em;\">\n",
       "    シェーンベルク\n",
       "    <span style=\"font-size: 0.8em; font-weight: bold; line-height: 1; border-radius: 0.35em; text-transform: uppercase; vertical-align: middle; margin-left: 0.5rem\">PERSON</span>\n",
       "</mark>\n",
       " の 未完 の オペラ 《 \n",
       "<mark class=\"entity\" style=\"background: #ddd; padding: 0.45em 0.6em; margin: 0 0.25em; line-height: 1; border-radius: 0.35em;\">\n",
       "    モーゼ と アロン\n",
       "    <span style=\"font-size: 0.8em; font-weight: bold; line-height: 1; border-radius: 0.35em; text-transform: uppercase; vertical-align: middle; margin-left: 0.5rem\">ARTIFACT</span>\n",
       "</mark>\n",
       " 》 の \n",
       "<mark class=\"entity\" style=\"background: #ff9561; padding: 0.45em 0.6em; margin: 0 0.25em; line-height: 1; border-radius: 0.35em;\">\n",
       "    サントリー ホール\n",
       "    <span style=\"font-size: 0.8em; font-weight: bold; line-height: 1; border-radius: 0.35em; text-transform: uppercase; vertical-align: middle; margin-left: 0.5rem\">LOC</span>\n",
       "</mark>\n",
       " に おける 演奏 会 形式 に よる 公演 は 、 この 作曲 家 が 生涯 の 課題 と した 宗教 的 命題 と 芸術 表現 の 問題 を 一気呵成 、 劇的に 演じ きる もの であり 、 「 \n",
       "<mark class=\"entity\" style=\"background: #ddd; padding: 0.45em 0.6em; margin: 0 0.25em; line-height: 1; border-radius: 0.35em;\">\n",
       "    旧約\n",
       "    <span style=\"font-size: 0.8em; font-weight: bold; line-height: 1; border-radius: 0.35em; text-transform: uppercase; vertical-align: middle; margin-left: 0.5rem\">ARTIFACT</span>\n",
       "</mark>\n",
       " 」 の 成立 の 場 を 感動 的に 表現 する もの であった 。</div>"
      ],
      "text/plain": [
       "<IPython.core.display.HTML object>"
      ]
     },
     "metadata": {},
     "output_type": "display_data"
    },
    {
     "data": {
      "text/html": [
       "<div class=\"entities\" style=\"line-height: 2.5; direction: ltr\">主役 の \n",
       "<mark class=\"entity\" style=\"background: #aa9cfc; padding: 0.45em 0.6em; margin: 0 0.25em; line-height: 1; border-radius: 0.35em;\">\n",
       "    モーゼ\n",
       "    <span style=\"font-size: 0.8em; font-weight: bold; line-height: 1; border-radius: 0.35em; text-transform: uppercase; vertical-align: middle; margin-left: 0.5rem\">PERSON</span>\n",
       "</mark>\n",
       " 、 \n",
       "<mark class=\"entity\" style=\"background: #aa9cfc; padding: 0.45em 0.6em; margin: 0 0.25em; line-height: 1; border-radius: 0.35em;\">\n",
       "    アロン\n",
       "    <span style=\"font-size: 0.8em; font-weight: bold; line-height: 1; border-radius: 0.35em; text-transform: uppercase; vertical-align: middle; margin-left: 0.5rem\">PERSON</span>\n",
       "</mark>\n",
       " こそ 海外 から 招聘 した もの の 、 \n",
       "<mark class=\"entity\" style=\"background: #aa9cfc; padding: 0.45em 0.6em; margin: 0 0.25em; line-height: 1; border-radius: 0.35em;\">\n",
       "    秋山\n",
       "    <span style=\"font-size: 0.8em; font-weight: bold; line-height: 1; border-radius: 0.35em; text-transform: uppercase; vertical-align: middle; margin-left: 0.5rem\">PERSON</span>\n",
       "</mark>\n",
       " の 指揮 の もと で その他 の 歌唱 陣 、 オーケストラ と も きわめて 充実 した 演奏 を 聴か せ 、 作品 の 難解 さ を ほとんど 意識 さ せ ない ほど の 名演 で 、 作曲 者 自身 が 「 演奏 困難 」 と 語った スコア から 、 見事に 生命 溢 あふれる 表現 を 取り出した 。</div>"
      ],
      "text/plain": [
       "<IPython.core.display.HTML object>"
      ]
     },
     "metadata": {},
     "output_type": "display_data"
    },
    {
     "name": "stdout",
     "output_type": "stream",
     "text": [
      "----------------------------------------------------------------------------------------------------\n",
      "\u001b[34msystem\u001b[0m\n"
     ]
    },
    {
     "data": {
      "text/html": [
       "<div class=\"entities\" style=\"line-height: 2.5; direction: ltr\">その 演奏 が 照射 する エネルギー は きわめて 強烈であり 、 聴き 手 に 忘れがたい 感銘 を 与えた 。</div>"
      ],
      "text/plain": [
       "<IPython.core.display.HTML object>"
      ]
     },
     "metadata": {},
     "output_type": "display_data"
    },
    {
     "name": "stdout",
     "output_type": "stream",
     "text": [
      "\u001b[31mgold\u001b[0m\n"
     ]
    },
    {
     "data": {
      "text/html": [
       "<div class=\"entities\" style=\"line-height: 2.5; direction: ltr\">その 演奏 が 照射 する エネルギー は きわめて 強烈であり 、 聴き 手 に 忘れがたい 感銘 を 与えた 。</div>"
      ],
      "text/plain": [
       "<IPython.core.display.HTML object>"
      ]
     },
     "metadata": {},
     "output_type": "display_data"
    },
    {
     "name": "stdout",
     "output_type": "stream",
     "text": [
      "----------------------------------------------------------------------------------------------------\n"
     ]
    },
    {
     "data": {
      "text/html": [
       "<div class=\"entities\" style=\"line-height: 2.5; direction: ltr\">三十 年間 共に 演奏 活動 を して まいり ました \n",
       "<mark class=\"entity\" style=\"background: #7aecec; padding: 0.45em 0.6em; margin: 0 0.25em; line-height: 1; border-radius: 0.35em;\">\n",
       "    東京 交響 楽団\n",
       "    <span style=\"font-size: 0.8em; font-weight: bold; line-height: 1; border-radius: 0.35em; text-transform: uppercase; vertical-align: middle; margin-left: 0.5rem\">ORG</span>\n",
       "</mark>\n",
       " と 受賞 でき ました こと を 真に 光栄に 存じ ます 。</div>"
      ],
      "text/plain": [
       "<IPython.core.display.HTML object>"
      ]
     },
     "metadata": {},
     "output_type": "display_data"
    },
    {
     "name": "stdout",
     "output_type": "stream",
     "text": [
      "----------------------------------------------------------------------------------------------------\n",
      "\u001b[34msystem\u001b[0m\n"
     ]
    },
    {
     "data": {
      "text/html": [
       "<div class=\"entities\" style=\"line-height: 2.5; direction: ltr\">一層 の 努力 を もって 音楽 界 発展 の ため に 尽くす 所存 です 。</div>"
      ],
      "text/plain": [
       "<IPython.core.display.HTML object>"
      ]
     },
     "metadata": {},
     "output_type": "display_data"
    },
    {
     "name": "stdout",
     "output_type": "stream",
     "text": [
      "\u001b[31mgold\u001b[0m\n"
     ]
    },
    {
     "data": {
      "text/html": [
       "<div class=\"entities\" style=\"line-height: 2.5; direction: ltr\">一層 の 努力 を もって 音楽 界 発展 の ため に 尽くす 所存 です 。</div>"
      ],
      "text/plain": [
       "<IPython.core.display.HTML object>"
      ]
     },
     "metadata": {},
     "output_type": "display_data"
    },
    {
     "name": "stdout",
     "output_type": "stream",
     "text": [
      "----------------------------------------------------------------------------------------------------\n"
     ]
    },
    {
     "data": {
      "text/html": [
       "<div class=\"entities\" style=\"line-height: 2.5; direction: ltr\">断筆 宣言 中 の 作家 、 \n",
       "<mark class=\"entity\" style=\"background: #aa9cfc; padding: 0.45em 0.6em; margin: 0 0.25em; line-height: 1; border-radius: 0.35em;\">\n",
       "    筒井 康隆\n",
       "    <span style=\"font-size: 0.8em; font-weight: bold; line-height: 1; border-radius: 0.35em; text-transform: uppercase; vertical-align: middle; margin-left: 0.5rem\">PERSON</span>\n",
       "</mark>\n",
       " さん が 、 \n",
       "<mark class=\"entity\" style=\"background: #7aecec; padding: 0.45em 0.6em; margin: 0 0.25em; line-height: 1; border-radius: 0.35em;\">\n",
       "    新 神戸 オリエンタル 劇場\n",
       "    <span style=\"font-size: 0.8em; font-weight: bold; line-height: 1; border-radius: 0.35em; text-transform: uppercase; vertical-align: middle; margin-left: 0.5rem\">ORG</span>\n",
       "</mark>\n",
       " の 専属 俳優 に なって いる こと が \n",
       "<mark class=\"entity\" style=\"background: #bfe1d9; padding: 0.45em 0.6em; margin: 0 0.25em; line-height: 1; border-radius: 0.35em;\">\n",
       "    三十一 日\n",
       "    <span style=\"font-size: 0.8em; font-weight: bold; line-height: 1; border-radius: 0.35em; text-transform: uppercase; vertical-align: middle; margin-left: 0.5rem\">DATE</span>\n",
       "</mark>\n",
       " まで に 分かった 。</div>"
      ],
      "text/plain": [
       "<IPython.core.display.HTML object>"
      ]
     },
     "metadata": {},
     "output_type": "display_data"
    },
    {
     "data": {
      "text/html": [
       "<div class=\"entities\" style=\"line-height: 2.5; direction: ltr\">\n",
       "<mark class=\"entity\" style=\"background: #aa9cfc; padding: 0.45em 0.6em; margin: 0 0.25em; line-height: 1; border-radius: 0.35em;\">\n",
       "    筒井\n",
       "    <span style=\"font-size: 0.8em; font-weight: bold; line-height: 1; border-radius: 0.35em; text-transform: uppercase; vertical-align: middle; margin-left: 0.5rem\">PERSON</span>\n",
       "</mark>\n",
       " さん は 「 今 の 状況 で は 執筆 再開 の 可能 性 は ない 」 と 言い 、 「 ま 、 役者 を やる しか ない でしょう 。 \n",
       "<mark class=\"entity\" style=\"background: #bfe1d9; padding: 0.45em 0.6em; margin: 0 0.25em; line-height: 1; border-radius: 0.35em;\">\n",
       "    来年\n",
       "    <span style=\"font-size: 0.8em; font-weight: bold; line-height: 1; border-radius: 0.35em; text-transform: uppercase; vertical-align: middle; margin-left: 0.5rem\">DATE</span>\n",
       "</mark>\n",
       " は 役者 と して の 力量 を 見て いただく 年 です 」 。</div>"
      ],
      "text/plain": [
       "<IPython.core.display.HTML object>"
      ]
     },
     "metadata": {},
     "output_type": "display_data"
    },
    {
     "data": {
      "text/html": [
       "<div class=\"entities\" style=\"line-height: 2.5; direction: ltr\">\n",
       "<mark class=\"entity\" style=\"background: #aa9cfc; padding: 0.45em 0.6em; margin: 0 0.25em; line-height: 1; border-radius: 0.35em;\">\n",
       "    筒井\n",
       "    <span style=\"font-size: 0.8em; font-weight: bold; line-height: 1; border-radius: 0.35em; text-transform: uppercase; vertical-align: middle; margin-left: 0.5rem\">PERSON</span>\n",
       "</mark>\n",
       " さん が \n",
       "<mark class=\"entity\" style=\"background: #7aecec; padding: 0.45em 0.6em; margin: 0 0.25em; line-height: 1; border-radius: 0.35em;\">\n",
       "    新 神戸 オリエンタル 劇場\n",
       "    <span style=\"font-size: 0.8em; font-weight: bold; line-height: 1; border-radius: 0.35em; text-transform: uppercase; vertical-align: middle; margin-left: 0.5rem\">ORG</span>\n",
       "</mark>\n",
       " 専属 の 俳優 に なった の は \n",
       "<mark class=\"entity\" style=\"background: #bfe1d9; padding: 0.45em 0.6em; margin: 0 0.25em; line-height: 1; border-radius: 0.35em;\">\n",
       "    一九九〇 年\n",
       "    <span style=\"font-size: 0.8em; font-weight: bold; line-height: 1; border-radius: 0.35em; text-transform: uppercase; vertical-align: middle; margin-left: 0.5rem\">DATE</span>\n",
       "</mark>\n",
       " 。</div>"
      ],
      "text/plain": [
       "<IPython.core.display.HTML object>"
      ]
     },
     "metadata": {},
     "output_type": "display_data"
    },
    {
     "data": {
      "text/html": [
       "<div class=\"entities\" style=\"line-height: 2.5; direction: ltr\">その \n",
       "<mark class=\"entity\" style=\"background: #bfe1d9; padding: 0.45em 0.6em; margin: 0 0.25em; line-height: 1; border-radius: 0.35em;\">\n",
       "    前年\n",
       "    <span style=\"font-size: 0.8em; font-weight: bold; line-height: 1; border-radius: 0.35em; text-transform: uppercase; vertical-align: middle; margin-left: 0.5rem\">DATE</span>\n",
       "</mark>\n",
       " に 自作 の 「 \n",
       "<mark class=\"entity\" style=\"background: #ddd; padding: 0.45em 0.6em; margin: 0 0.25em; line-height: 1; border-radius: 0.35em;\">\n",
       "    スタア\n",
       "    <span style=\"font-size: 0.8em; font-weight: bold; line-height: 1; border-radius: 0.35em; text-transform: uppercase; vertical-align: middle; margin-left: 0.5rem\">ARTIFACT</span>\n",
       "</mark>\n",
       " 」 を 同 劇場 で 自ら プロデュース し 上演 。</div>"
      ],
      "text/plain": [
       "<IPython.core.display.HTML object>"
      ]
     },
     "metadata": {},
     "output_type": "display_data"
    },
    {
     "data": {
      "text/html": [
       "<div class=\"entities\" style=\"line-height: 2.5; direction: ltr\">怪奇 現象 を 調べる \n",
       "<mark class=\"entity\" style=\"background: #aa9cfc; padding: 0.45em 0.6em; margin: 0 0.25em; line-height: 1; border-radius: 0.35em;\">\n",
       "    犬神\n",
       "    <span style=\"font-size: 0.8em; font-weight: bold; line-height: 1; border-radius: 0.35em; text-transform: uppercase; vertical-align: middle; margin-left: 0.5rem\">PERSON</span>\n",
       "</mark>\n",
       " 博士 の 役 で 出演 も した 。</div>"
      ],
      "text/plain": [
       "<IPython.core.display.HTML object>"
      ]
     },
     "metadata": {},
     "output_type": "display_data"
    },
    {
     "data": {
      "text/html": [
       "<div class=\"entities\" style=\"line-height: 2.5; direction: ltr\">前回 の 大会 で 一躍 有名に なった の は 、 カップ 獲得 艇 である \n",
       "<mark class=\"entity\" style=\"background: #7aecec; padding: 0.45em 0.6em; margin: 0 0.25em; line-height: 1; border-radius: 0.35em;\">\n",
       "    アメリカ キューブ\n",
       "    <span style=\"font-size: 0.8em; font-weight: bold; line-height: 1; border-radius: 0.35em; text-transform: uppercase; vertical-align: middle; margin-left: 0.5rem\">ORG</span>\n",
       "</mark>\n",
       " の オーナー 、 \n",
       "<mark class=\"entity\" style=\"background: #aa9cfc; padding: 0.45em 0.6em; margin: 0 0.25em; line-height: 1; border-radius: 0.35em;\">\n",
       "    ビル ・ コーク\n",
       "    <span style=\"font-size: 0.8em; font-weight: bold; line-height: 1; border-radius: 0.35em; text-transform: uppercase; vertical-align: middle; margin-left: 0.5rem\">PERSON</span>\n",
       "</mark>\n",
       " だった 。</div>"
      ],
      "text/plain": [
       "<IPython.core.display.HTML object>"
      ]
     },
     "metadata": {},
     "output_type": "display_data"
    },
    {
     "data": {
      "text/html": [
       "<div class=\"entities\" style=\"line-height: 2.5; direction: ltr\">\n",
       "<mark class=\"entity\" style=\"background: #bfe1d9; padding: 0.45em 0.6em; margin: 0 0.25em; line-height: 1; border-radius: 0.35em;\">\n",
       "    一九九〇 年\n",
       "    <span style=\"font-size: 0.8em; font-weight: bold; line-height: 1; border-radius: 0.35em; text-transform: uppercase; vertical-align: middle; margin-left: 0.5rem\">DATE</span>\n",
       "</mark>\n",
       " に \n",
       "<mark class=\"entity\" style=\"background: #7aecec; padding: 0.45em 0.6em; margin: 0 0.25em; line-height: 1; border-radius: 0.35em;\">\n",
       "    コーク\n",
       "    <span style=\"font-size: 0.8em; font-weight: bold; line-height: 1; border-radius: 0.35em; text-transform: uppercase; vertical-align: middle; margin-left: 0.5rem\">ORG</span>\n",
       "</mark>\n",
       " が 防衛 艇 挑戦 の 名乗り を 上げた 時 、 脅威 に 思った 関係 者 は ほとんど い なかった 。</div>"
      ],
      "text/plain": [
       "<IPython.core.display.HTML object>"
      ]
     },
     "metadata": {},
     "output_type": "display_data"
    },
    {
     "name": "stdout",
     "output_type": "stream",
     "text": [
      "----------------------------------------------------------------------------------------------------\n",
      "\u001b[34msystem\u001b[0m\n"
     ]
    },
    {
     "data": {
      "text/html": [
       "<div class=\"entities\" style=\"line-height: 2.5; direction: ltr\">実業 家 と して 名 を はせて は いて も 、 アメリカズ カップ で 頂点 に 立てる ほど の 力 は ない 、 と 思わ れて いた から だ 。</div>"
      ],
      "text/plain": [
       "<IPython.core.display.HTML object>"
      ]
     },
     "metadata": {},
     "output_type": "display_data"
    },
    {
     "name": "stdout",
     "output_type": "stream",
     "text": [
      "\u001b[31mgold\u001b[0m\n"
     ]
    },
    {
     "data": {
      "text/html": [
       "<div class=\"entities\" style=\"line-height: 2.5; direction: ltr\">実業 家 と して 名 を はせて は いて も 、 アメリカズ カップ で 頂点 に 立てる ほど の 力 は ない 、 と 思わ れて いた から だ 。</div>"
      ],
      "text/plain": [
       "<IPython.core.display.HTML object>"
      ]
     },
     "metadata": {},
     "output_type": "display_data"
    },
    {
     "name": "stdout",
     "output_type": "stream",
     "text": [
      "----------------------------------------------------------------------------------------------------\n",
      "----------------------------------------------------------------------------------------------------\n",
      "\u001b[34msystem\u001b[0m\n"
     ]
    },
    {
     "data": {
      "text/html": [
       "<div class=\"entities\" style=\"line-height: 2.5; direction: ltr\">だが 、 「 帆走 は 科学 である 」 と の 持論 を 持ち 続けた \n",
       "<mark class=\"entity\" style=\"background: #7aecec; padding: 0.45em 0.6em; margin: 0 0.25em; line-height: 1; border-radius: 0.35em;\">\n",
       "    コーク\n",
       "    <span style=\"font-size: 0.8em; font-weight: bold; line-height: 1; border-radius: 0.35em; text-transform: uppercase; vertical-align: middle; margin-left: 0.5rem\">ORG</span>\n",
       "</mark>\n",
       " は 、 船体 、 セール 、 マネジメント など 、 戦い に 挑む ため の すべて に ハイテク 化 を 進めた 。</div>"
      ],
      "text/plain": [
       "<IPython.core.display.HTML object>"
      ]
     },
     "metadata": {},
     "output_type": "display_data"
    },
    {
     "name": "stdout",
     "output_type": "stream",
     "text": [
      "\u001b[31mgold\u001b[0m\n"
     ]
    },
    {
     "data": {
      "text/html": [
       "<div class=\"entities\" style=\"line-height: 2.5; direction: ltr\">だが 、 「 帆走 は 科学 である 」 と の 持論 を 持ち 続けた \n",
       "<mark class=\"entity\" style=\"background: #aa9cfc; padding: 0.45em 0.6em; margin: 0 0.25em; line-height: 1; border-radius: 0.35em;\">\n",
       "    コーク\n",
       "    <span style=\"font-size: 0.8em; font-weight: bold; line-height: 1; border-radius: 0.35em; text-transform: uppercase; vertical-align: middle; margin-left: 0.5rem\">PERSON</span>\n",
       "</mark>\n",
       " は 、 船体 、 セール 、 マネジメント など 、 戦い に 挑む ため の すべて に ハイテク 化 を 進めた 。</div>"
      ],
      "text/plain": [
       "<IPython.core.display.HTML object>"
      ]
     },
     "metadata": {},
     "output_type": "display_data"
    },
    {
     "name": "stdout",
     "output_type": "stream",
     "text": [
      "----------------------------------------------------------------------------------------------------\n"
     ]
    },
    {
     "data": {
      "text/html": [
       "<div class=\"entities\" style=\"line-height: 2.5; direction: ltr\">その 成果 が 出て 防衛 者 シリーズ を 制し 、 アメリカズ カップ でも 下馬評 の 高かった \n",
       "<mark class=\"entity\" style=\"background: #ff9561; padding: 0.45em 0.6em; margin: 0 0.25em; line-height: 1; border-radius: 0.35em;\">\n",
       "    イタリア\n",
       "    <span style=\"font-size: 0.8em; font-weight: bold; line-height: 1; border-radius: 0.35em; text-transform: uppercase; vertical-align: middle; margin-left: 0.5rem\">LOC</span>\n",
       "</mark>\n",
       " の \n",
       "<mark class=\"entity\" style=\"background: #7aecec; padding: 0.45em 0.6em; margin: 0 0.25em; line-height: 1; border-radius: 0.35em;\">\n",
       "    イル ・ モロ ・ ディ ・ ベネチア 艇\n",
       "    <span style=\"font-size: 0.8em; font-weight: bold; line-height: 1; border-radius: 0.35em; text-transform: uppercase; vertical-align: middle; margin-left: 0.5rem\">ORG</span>\n",
       "</mark>\n",
       " を 破った 。</div>"
      ],
      "text/plain": [
       "<IPython.core.display.HTML object>"
      ]
     },
     "metadata": {},
     "output_type": "display_data"
    },
    {
     "data": {
      "text/html": [
       "<div class=\"entities\" style=\"line-height: 2.5; direction: ltr\">\n",
       "<mark class=\"entity\" style=\"background: #aa9cfc; padding: 0.45em 0.6em; margin: 0 0.25em; line-height: 1; border-radius: 0.35em;\">\n",
       "    コーク\n",
       "    <span style=\"font-size: 0.8em; font-weight: bold; line-height: 1; border-radius: 0.35em; text-transform: uppercase; vertical-align: middle; margin-left: 0.5rem\">PERSON</span>\n",
       "</mark>\n",
       " の 信念 が 実って の 新しい 王者 の 出現 だった 。</div>"
      ],
      "text/plain": [
       "<IPython.core.display.HTML object>"
      ]
     },
     "metadata": {},
     "output_type": "display_data"
    },
    {
     "name": "stdout",
     "output_type": "stream",
     "text": [
      "----------------------------------------------------------------------------------------------------\n",
      "\u001b[34msystem\u001b[0m\n"
     ]
    },
    {
     "data": {
      "text/html": [
       "<div class=\"entities\" style=\"line-height: 2.5; direction: ltr\">\n",
       "<mark class=\"entity\" style=\"background: #7aecec; padding: 0.45em 0.6em; margin: 0 0.25em; line-height: 1; border-radius: 0.35em;\">\n",
       "    コーク\n",
       "    <span style=\"font-size: 0.8em; font-weight: bold; line-height: 1; border-radius: 0.35em; text-transform: uppercase; vertical-align: middle; margin-left: 0.5rem\">ORG</span>\n",
       "</mark>\n",
       " は 今回 も 「 科学 」 を 打ち出した 。</div>"
      ],
      "text/plain": [
       "<IPython.core.display.HTML object>"
      ]
     },
     "metadata": {},
     "output_type": "display_data"
    },
    {
     "name": "stdout",
     "output_type": "stream",
     "text": [
      "\u001b[31mgold\u001b[0m\n"
     ]
    },
    {
     "data": {
      "text/html": [
       "<div class=\"entities\" style=\"line-height: 2.5; direction: ltr\">\n",
       "<mark class=\"entity\" style=\"background: #aa9cfc; padding: 0.45em 0.6em; margin: 0 0.25em; line-height: 1; border-radius: 0.35em;\">\n",
       "    コーク\n",
       "    <span style=\"font-size: 0.8em; font-weight: bold; line-height: 1; border-radius: 0.35em; text-transform: uppercase; vertical-align: middle; margin-left: 0.5rem\">PERSON</span>\n",
       "</mark>\n",
       " は 今回 も 「 科学 」 を 打ち出した 。</div>"
      ],
      "text/plain": [
       "<IPython.core.display.HTML object>"
      ]
     },
     "metadata": {},
     "output_type": "display_data"
    },
    {
     "name": "stdout",
     "output_type": "stream",
     "text": [
      "----------------------------------------------------------------------------------------------------\n",
      "----------------------------------------------------------------------------------------------------\n",
      "\u001b[34msystem\u001b[0m\n"
     ]
    },
    {
     "data": {
      "text/html": [
       "<div class=\"entities\" style=\"line-height: 2.5; direction: ltr\">ヨット さえ 優れて いれば 、 女性 でも 太刀打ち できる 、 と いう の が コーク の 考え 方 だった 。</div>"
      ],
      "text/plain": [
       "<IPython.core.display.HTML object>"
      ]
     },
     "metadata": {},
     "output_type": "display_data"
    },
    {
     "name": "stdout",
     "output_type": "stream",
     "text": [
      "\u001b[31mgold\u001b[0m\n"
     ]
    },
    {
     "data": {
      "text/html": [
       "<div class=\"entities\" style=\"line-height: 2.5; direction: ltr\">ヨット さえ 優れて いれば 、 女性 でも 太刀打ち できる 、 と いう の が \n",
       "<mark class=\"entity\" style=\"background: #aa9cfc; padding: 0.45em 0.6em; margin: 0 0.25em; line-height: 1; border-radius: 0.35em;\">\n",
       "    コーク\n",
       "    <span style=\"font-size: 0.8em; font-weight: bold; line-height: 1; border-radius: 0.35em; text-transform: uppercase; vertical-align: middle; margin-left: 0.5rem\">PERSON</span>\n",
       "</mark>\n",
       " の 考え 方 だった 。</div>"
      ],
      "text/plain": [
       "<IPython.core.display.HTML object>"
      ]
     },
     "metadata": {},
     "output_type": "display_data"
    },
    {
     "name": "stdout",
     "output_type": "stream",
     "text": [
      "----------------------------------------------------------------------------------------------------\n",
      "----------------------------------------------------------------------------------------------------\n",
      "\u001b[34msystem\u001b[0m\n"
     ]
    },
    {
     "data": {
      "text/html": [
       "<div class=\"entities\" style=\"line-height: 2.5; direction: ltr\">女性 クルー を 公募 して 史上 初 の 女性 だけ の チーム が 出来 上がった 。</div>"
      ],
      "text/plain": [
       "<IPython.core.display.HTML object>"
      ]
     },
     "metadata": {},
     "output_type": "display_data"
    },
    {
     "name": "stdout",
     "output_type": "stream",
     "text": [
      "\u001b[31mgold\u001b[0m\n"
     ]
    },
    {
     "data": {
      "text/html": [
       "<div class=\"entities\" style=\"line-height: 2.5; direction: ltr\">女性 クルー を 公募 して 史上 初 の 女性 だけ の チーム が 出来 上がった 。</div>"
      ],
      "text/plain": [
       "<IPython.core.display.HTML object>"
      ]
     },
     "metadata": {},
     "output_type": "display_data"
    },
    {
     "name": "stdout",
     "output_type": "stream",
     "text": [
      "----------------------------------------------------------------------------------------------------\n",
      "----------------------------------------------------------------------------------------------------\n",
      "\u001b[34msystem\u001b[0m\n"
     ]
    },
    {
     "data": {
      "text/html": [
       "<div class=\"entities\" style=\"line-height: 2.5; direction: ltr\">メンバー は ヨット の 元 五輪 選手 、 アメリカン フットボール の インストラクター など 多種 多彩 。</div>"
      ],
      "text/plain": [
       "<IPython.core.display.HTML object>"
      ]
     },
     "metadata": {},
     "output_type": "display_data"
    },
    {
     "name": "stdout",
     "output_type": "stream",
     "text": [
      "\u001b[31mgold\u001b[0m\n"
     ]
    },
    {
     "data": {
      "text/html": [
       "<div class=\"entities\" style=\"line-height: 2.5; direction: ltr\">メンバー は ヨット の 元 五輪 選手 、 アメリカン フットボール の インストラクター など 多種 多彩 。</div>"
      ],
      "text/plain": [
       "<IPython.core.display.HTML object>"
      ]
     },
     "metadata": {},
     "output_type": "display_data"
    },
    {
     "name": "stdout",
     "output_type": "stream",
     "text": [
      "----------------------------------------------------------------------------------------------------\n",
      "----------------------------------------------------------------------------------------------------\n",
      "\u001b[34msystem\u001b[0m\n"
     ]
    },
    {
     "data": {
      "text/html": [
       "<div class=\"entities\" style=\"line-height: 2.5; direction: ltr\">力 の いる 激しい 戦い に 女性 が どこ まで やれる か は 注目 できる が 、 裏返せば 本当に 女性 の 力 で 筋骨隆々 の 男性 に 勝てる だけ の 「 モノ 」 を 造って くる の か と いう 楽しみ が ある 。</div>"
      ],
      "text/plain": [
       "<IPython.core.display.HTML object>"
      ]
     },
     "metadata": {},
     "output_type": "display_data"
    },
    {
     "name": "stdout",
     "output_type": "stream",
     "text": [
      "\u001b[31mgold\u001b[0m\n"
     ]
    },
    {
     "data": {
      "text/html": [
       "<div class=\"entities\" style=\"line-height: 2.5; direction: ltr\">力 の いる 激しい 戦い に 女性 が どこ まで やれる か は 注目 できる が 、 裏返せば 本当に 女性 の 力 で 筋骨隆々 の 男性 に 勝てる だけ の 「 モノ 」 を 造って くる の か と いう 楽しみ が ある 。</div>"
      ],
      "text/plain": [
       "<IPython.core.display.HTML object>"
      ]
     },
     "metadata": {},
     "output_type": "display_data"
    },
    {
     "name": "stdout",
     "output_type": "stream",
     "text": [
      "----------------------------------------------------------------------------------------------------\n",
      "----------------------------------------------------------------------------------------------------\n",
      "\u001b[34msystem\u001b[0m\n"
     ]
    },
    {
     "data": {
      "text/html": [
       "<div class=\"entities\" style=\"line-height: 2.5; direction: ltr\">\n",
       "<mark class=\"entity\" style=\"background: #aa9cfc; padding: 0.45em 0.6em; margin: 0 0.25em; line-height: 1; border-radius: 0.35em;\">\n",
       "    コーク\n",
       "    <span style=\"font-size: 0.8em; font-weight: bold; line-height: 1; border-radius: 0.35em; text-transform: uppercase; vertical-align: middle; margin-left: 0.5rem\">PERSON</span>\n",
       "</mark>\n",
       " の 造る \n",
       "<mark class=\"entity\" style=\"background: #ddd; padding: 0.45em 0.6em; margin: 0 0.25em; line-height: 1; border-radius: 0.35em;\">\n",
       "    アメリカ\n",
       "    <span style=\"font-size: 0.8em; font-weight: bold; line-height: 1; border-radius: 0.35em; text-transform: uppercase; vertical-align: middle; margin-left: 0.5rem\">ARTIFACT</span>\n",
       "</mark>\n",
       " \n",
       "<mark class=\"entity\" style=\"background: #7aecec; padding: 0.45em 0.6em; margin: 0 0.25em; line-height: 1; border-radius: 0.35em;\">\n",
       "    キューブ\n",
       "    <span style=\"font-size: 0.8em; font-weight: bold; line-height: 1; border-radius: 0.35em; text-transform: uppercase; vertical-align: middle; margin-left: 0.5rem\">ORG</span>\n",
       "</mark>\n",
       " の 秘密 兵器 は 何 な の か 。</div>"
      ],
      "text/plain": [
       "<IPython.core.display.HTML object>"
      ]
     },
     "metadata": {},
     "output_type": "display_data"
    },
    {
     "name": "stdout",
     "output_type": "stream",
     "text": [
      "\u001b[31mgold\u001b[0m\n"
     ]
    },
    {
     "data": {
      "text/html": [
       "<div class=\"entities\" style=\"line-height: 2.5; direction: ltr\">\n",
       "<mark class=\"entity\" style=\"background: #aa9cfc; padding: 0.45em 0.6em; margin: 0 0.25em; line-height: 1; border-radius: 0.35em;\">\n",
       "    コーク\n",
       "    <span style=\"font-size: 0.8em; font-weight: bold; line-height: 1; border-radius: 0.35em; text-transform: uppercase; vertical-align: middle; margin-left: 0.5rem\">PERSON</span>\n",
       "</mark>\n",
       " の 造る \n",
       "<mark class=\"entity\" style=\"background: #7aecec; padding: 0.45em 0.6em; margin: 0 0.25em; line-height: 1; border-radius: 0.35em;\">\n",
       "    アメリカ キューブ\n",
       "    <span style=\"font-size: 0.8em; font-weight: bold; line-height: 1; border-radius: 0.35em; text-transform: uppercase; vertical-align: middle; margin-left: 0.5rem\">ORG</span>\n",
       "</mark>\n",
       " の 秘密 兵器 は 何 な の か 。</div>"
      ],
      "text/plain": [
       "<IPython.core.display.HTML object>"
      ]
     },
     "metadata": {},
     "output_type": "display_data"
    },
    {
     "name": "stdout",
     "output_type": "stream",
     "text": [
      "----------------------------------------------------------------------------------------------------\n",
      "----------------------------------------------------------------------------------------------------\n",
      "\u001b[34msystem\u001b[0m\n"
     ]
    },
    {
     "data": {
      "text/html": [
       "<div class=\"entities\" style=\"line-height: 2.5; direction: ltr\">シチズン カップ が スタート する まで 、 ベール に 包ま れて いる 。</div>"
      ],
      "text/plain": [
       "<IPython.core.display.HTML object>"
      ]
     },
     "metadata": {},
     "output_type": "display_data"
    },
    {
     "name": "stdout",
     "output_type": "stream",
     "text": [
      "\u001b[31mgold\u001b[0m\n"
     ]
    },
    {
     "data": {
      "text/html": [
       "<div class=\"entities\" style=\"line-height: 2.5; direction: ltr\">シチズン カップ が スタート する まで 、 ベール に 包ま れて いる 。</div>"
      ],
      "text/plain": [
       "<IPython.core.display.HTML object>"
      ]
     },
     "metadata": {},
     "output_type": "display_data"
    },
    {
     "name": "stdout",
     "output_type": "stream",
     "text": [
      "----------------------------------------------------------------------------------------------------\n",
      "----------------------------------------------------------------------------------------------------\n",
      "\u001b[34msystem\u001b[0m\n"
     ]
    },
    {
     "data": {
      "text/html": [
       "<div class=\"entities\" style=\"line-height: 2.5; direction: ltr\">アメリカズ カップ の 歴史 と ともに 、 競技 艇 の 大き さ も 変わって きた 。</div>"
      ],
      "text/plain": [
       "<IPython.core.display.HTML object>"
      ]
     },
     "metadata": {},
     "output_type": "display_data"
    },
    {
     "name": "stdout",
     "output_type": "stream",
     "text": [
      "\u001b[31mgold\u001b[0m\n"
     ]
    },
    {
     "data": {
      "text/html": [
       "<div class=\"entities\" style=\"line-height: 2.5; direction: ltr\">アメリカズ カップ の 歴史 と ともに 、 競技 艇 の 大き さ も 変わって きた 。</div>"
      ],
      "text/plain": [
       "<IPython.core.display.HTML object>"
      ]
     },
     "metadata": {},
     "output_type": "display_data"
    },
    {
     "name": "stdout",
     "output_type": "stream",
     "text": [
      "----------------------------------------------------------------------------------------------------\n",
      "----------------------------------------------------------------------------------------------------\n",
      "\u001b[34msystem\u001b[0m\n"
     ]
    },
    {
     "data": {
      "text/html": [
       "<div class=\"entities\" style=\"line-height: 2.5; direction: ltr\">大別 する と ５ つ の 時代 に 分け られる 。</div>"
      ],
      "text/plain": [
       "<IPython.core.display.HTML object>"
      ]
     },
     "metadata": {},
     "output_type": "display_data"
    },
    {
     "name": "stdout",
     "output_type": "stream",
     "text": [
      "\u001b[31mgold\u001b[0m\n"
     ]
    },
    {
     "data": {
      "text/html": [
       "<div class=\"entities\" style=\"line-height: 2.5; direction: ltr\">大別 する と ５ つ の 時代 に 分け られる 。</div>"
      ],
      "text/plain": [
       "<IPython.core.display.HTML object>"
      ]
     },
     "metadata": {},
     "output_type": "display_data"
    },
    {
     "name": "stdout",
     "output_type": "stream",
     "text": [
      "----------------------------------------------------------------------------------------------------\n"
     ]
    },
    {
     "data": {
      "text/html": [
       "<div class=\"entities\" style=\"line-height: 2.5; direction: ltr\">\n",
       "<mark class=\"entity\" style=\"background: #bfe1d9; padding: 0.45em 0.6em; margin: 0 0.25em; line-height: 1; border-radius: 0.35em;\">\n",
       "    １８５１ 年\n",
       "    <span style=\"font-size: 0.8em; font-weight: bold; line-height: 1; border-radius: 0.35em; text-transform: uppercase; vertical-align: middle; margin-left: 0.5rem\">DATE</span>\n",
       "</mark>\n",
       " 、 \n",
       "<mark class=\"entity\" style=\"background: #ff9561; padding: 0.45em 0.6em; margin: 0 0.25em; line-height: 1; border-radius: 0.35em;\">\n",
       "    米国\n",
       "    <span style=\"font-size: 0.8em; font-weight: bold; line-height: 1; border-radius: 0.35em; text-transform: uppercase; vertical-align: middle; margin-left: 0.5rem\">LOC</span>\n",
       "</mark>\n",
       " に カップ を もたらした 「 \n",
       "<mark class=\"entity\" style=\"background: #ddd; padding: 0.45em 0.6em; margin: 0 0.25em; line-height: 1; border-radius: 0.35em;\">\n",
       "    アメリカ 号\n",
       "    <span style=\"font-size: 0.8em; font-weight: bold; line-height: 1; border-radius: 0.35em; text-transform: uppercase; vertical-align: middle; margin-left: 0.5rem\">ARTIFACT</span>\n",
       "</mark>\n",
       " 」 は 木造 船 で 、 全長 ３０ メートル 、 ２ 本 マスト の 新鋭 スクーナー 。</div>"
      ],
      "text/plain": [
       "<IPython.core.display.HTML object>"
      ]
     },
     "metadata": {},
     "output_type": "display_data"
    },
    {
     "data": {
      "text/html": [
       "<div class=\"entities\" style=\"line-height: 2.5; direction: ltr\">\n",
       "<mark class=\"entity\" style=\"background: #bfe1d9; padding: 0.45em 0.6em; margin: 0 0.25em; line-height: 1; border-radius: 0.35em;\">\n",
       "    ７６ 年\n",
       "    <span style=\"font-size: 0.8em; font-weight: bold; line-height: 1; border-radius: 0.35em; text-transform: uppercase; vertical-align: middle; margin-left: 0.5rem\">DATE</span>\n",
       "</mark>\n",
       " の 第 ３ 回 まで は ２ 本 マスト が 主流 だった が 、 第 ４ 回 から １ 本 マスト が 中心 に なった 。</div>"
      ],
      "text/plain": [
       "<IPython.core.display.HTML object>"
      ]
     },
     "metadata": {},
     "output_type": "display_data"
    },
    {
     "name": "stdout",
     "output_type": "stream",
     "text": [
      "----------------------------------------------------------------------------------------------------\n",
      "\u001b[34msystem\u001b[0m\n"
     ]
    },
    {
     "data": {
      "text/html": [
       "<div class=\"entities\" style=\"line-height: 2.5; direction: ltr\">やがて 、 木造 から 鉄板 や 銅板 の 張ら れた 船 に 変わり 、 第 ８ 回 から は 全長 ３６ ― ４２ メートル の 超 大型 艇 時代 に 突入 。</div>"
      ],
      "text/plain": [
       "<IPython.core.display.HTML object>"
      ]
     },
     "metadata": {},
     "output_type": "display_data"
    },
    {
     "name": "stdout",
     "output_type": "stream",
     "text": [
      "\u001b[31mgold\u001b[0m\n"
     ]
    },
    {
     "data": {
      "text/html": [
       "<div class=\"entities\" style=\"line-height: 2.5; direction: ltr\">やがて 、 木造 から 鉄板 や 銅板 の 張ら れた 船 に 変わり 、 第 ８ 回 から は 全長 ３６ ― ４２ メートル の 超 大型 艇 時代 に 突入 。</div>"
      ],
      "text/plain": [
       "<IPython.core.display.HTML object>"
      ]
     },
     "metadata": {},
     "output_type": "display_data"
    },
    {
     "name": "stdout",
     "output_type": "stream",
     "text": [
      "----------------------------------------------------------------------------------------------------\n"
     ]
    },
    {
     "data": {
      "text/html": [
       "<div class=\"entities\" style=\"line-height: 2.5; direction: ltr\">\n",
       "<mark class=\"entity\" style=\"background: #bfe1d9; padding: 0.45em 0.6em; margin: 0 0.25em; line-height: 1; border-radius: 0.35em;\">\n",
       "    １９３０ 年\n",
       "    <span style=\"font-size: 0.8em; font-weight: bold; line-height: 1; border-radius: 0.35em; text-transform: uppercase; vertical-align: middle; margin-left: 0.5rem\">DATE</span>\n",
       "</mark>\n",
       " の 第 １４ 回 から は Ｊ クラス ボート の 時代 。</div>"
      ],
      "text/plain": [
       "<IPython.core.display.HTML object>"
      ]
     },
     "metadata": {},
     "output_type": "display_data"
    },
    {
     "name": "stdout",
     "output_type": "stream",
     "text": [
      "----------------------------------------------------------------------------------------------------\n",
      "\u001b[34msystem\u001b[0m\n"
     ]
    },
    {
     "data": {
      "text/html": [
       "<div class=\"entities\" style=\"line-height: 2.5; direction: ltr\">艇 の 全長 は それ まで と 変わら なかった が 、 回 を 重ねる ごと に 帆装 の 性能 など が 向上 、 近代 アメリカズ カップ が 始まった 時代 と いえる 。</div>"
      ],
      "text/plain": [
       "<IPython.core.display.HTML object>"
      ]
     },
     "metadata": {},
     "output_type": "display_data"
    },
    {
     "name": "stdout",
     "output_type": "stream",
     "text": [
      "\u001b[31mgold\u001b[0m\n"
     ]
    },
    {
     "data": {
      "text/html": [
       "<div class=\"entities\" style=\"line-height: 2.5; direction: ltr\">艇 の 全長 は それ まで と 変わら なかった が 、 回 を 重ねる ごと に 帆装 の 性能 など が 向上 、 近代 アメリカズ カップ が 始まった 時代 と いえる 。</div>"
      ],
      "text/plain": [
       "<IPython.core.display.HTML object>"
      ]
     },
     "metadata": {},
     "output_type": "display_data"
    },
    {
     "name": "stdout",
     "output_type": "stream",
     "text": [
      "----------------------------------------------------------------------------------------------------\n",
      "----------------------------------------------------------------------------------------------------\n",
      "\u001b[34msystem\u001b[0m\n"
     ]
    },
    {
     "data": {
      "text/html": [
       "<div class=\"entities\" style=\"line-height: 2.5; direction: ltr\">第 １７ 回 から は １２ メートル 級 の 規定 艇 に よる 戦い が 始まる 。</div>"
      ],
      "text/plain": [
       "<IPython.core.display.HTML object>"
      ]
     },
     "metadata": {},
     "output_type": "display_data"
    },
    {
     "name": "stdout",
     "output_type": "stream",
     "text": [
      "\u001b[31mgold\u001b[0m\n"
     ]
    },
    {
     "data": {
      "text/html": [
       "<div class=\"entities\" style=\"line-height: 2.5; direction: ltr\">第 １７ 回 から は １２ メートル 級 の 規定 艇 に よる 戦い が 始まる 。</div>"
      ],
      "text/plain": [
       "<IPython.core.display.HTML object>"
      ]
     },
     "metadata": {},
     "output_type": "display_data"
    },
    {
     "name": "stdout",
     "output_type": "stream",
     "text": [
      "----------------------------------------------------------------------------------------------------\n",
      "----------------------------------------------------------------------------------------------------\n",
      "\u001b[34msystem\u001b[0m\n"
     ]
    },
    {
     "data": {
      "text/html": [
       "<div class=\"entities\" style=\"line-height: 2.5; direction: ltr\">全長 は ２０ メートル と 小型 化 。</div>"
      ],
      "text/plain": [
       "<IPython.core.display.HTML object>"
      ]
     },
     "metadata": {},
     "output_type": "display_data"
    },
    {
     "name": "stdout",
     "output_type": "stream",
     "text": [
      "\u001b[31mgold\u001b[0m\n"
     ]
    },
    {
     "data": {
      "text/html": [
       "<div class=\"entities\" style=\"line-height: 2.5; direction: ltr\">全長 は ２０ メートル と 小型 化 。</div>"
      ],
      "text/plain": [
       "<IPython.core.display.HTML object>"
      ]
     },
     "metadata": {},
     "output_type": "display_data"
    },
    {
     "name": "stdout",
     "output_type": "stream",
     "text": [
      "----------------------------------------------------------------------------------------------------\n",
      "----------------------------------------------------------------------------------------------------\n",
      "\u001b[34msystem\u001b[0m\n"
     ]
    },
    {
     "data": {
      "text/html": [
       "<div class=\"entities\" style=\"line-height: 2.5; direction: ltr\">定員 は １１ 人 。</div>"
      ],
      "text/plain": [
       "<IPython.core.display.HTML object>"
      ]
     },
     "metadata": {},
     "output_type": "display_data"
    },
    {
     "name": "stdout",
     "output_type": "stream",
     "text": [
      "\u001b[31mgold\u001b[0m\n"
     ]
    },
    {
     "data": {
      "text/html": [
       "<div class=\"entities\" style=\"line-height: 2.5; direction: ltr\">定員 は １１ 人 。</div>"
      ],
      "text/plain": [
       "<IPython.core.display.HTML object>"
      ]
     },
     "metadata": {},
     "output_type": "display_data"
    },
    {
     "name": "stdout",
     "output_type": "stream",
     "text": [
      "----------------------------------------------------------------------------------------------------\n"
     ]
    },
    {
     "data": {
      "text/html": [
       "<div class=\"entities\" style=\"line-height: 2.5; direction: ltr\">耐久 性 より 速 さ を 追求 した 各 シンジケート ごと の 研究 が より 盛んに なり 、 \n",
       "<mark class=\"entity\" style=\"background: #ff9561; padding: 0.45em 0.6em; margin: 0 0.25em; line-height: 1; border-radius: 0.35em;\">\n",
       "    オーストラリア\n",
       "    <span style=\"font-size: 0.8em; font-weight: bold; line-height: 1; border-radius: 0.35em; text-transform: uppercase; vertical-align: middle; margin-left: 0.5rem\">LOC</span>\n",
       "</mark>\n",
       " の 初 の カップ 獲得 、 \n",
       "<mark class=\"entity\" style=\"background: #aa9cfc; padding: 0.45em 0.6em; margin: 0 0.25em; line-height: 1; border-radius: 0.35em;\">\n",
       "    デニス ・ コナー\n",
       "    <span style=\"font-size: 0.8em; font-weight: bold; line-height: 1; border-radius: 0.35em; text-transform: uppercase; vertical-align: middle; margin-left: 0.5rem\">PERSON</span>\n",
       "</mark>\n",
       " に よる \n",
       "<mark class=\"entity\" style=\"background: #ff9561; padding: 0.45em 0.6em; margin: 0 0.25em; line-height: 1; border-radius: 0.35em;\">\n",
       "    米国\n",
       "    <span style=\"font-size: 0.8em; font-weight: bold; line-height: 1; border-radius: 0.35em; text-transform: uppercase; vertical-align: middle; margin-left: 0.5rem\">LOC</span>\n",
       "</mark>\n",
       " の 奪回 など 、 ドラマ を 生んだ 。</div>"
      ],
      "text/plain": [
       "<IPython.core.display.HTML object>"
      ]
     },
     "metadata": {},
     "output_type": "display_data"
    },
    {
     "data": {
      "text/html": [
       "<div class=\"entities\" style=\"line-height: 2.5; direction: ltr\">そして 、 前回 の \n",
       "<mark class=\"entity\" style=\"background: #bfe1d9; padding: 0.45em 0.6em; margin: 0 0.25em; line-height: 1; border-radius: 0.35em;\">\n",
       "    ９２ 年\n",
       "    <span style=\"font-size: 0.8em; font-weight: bold; line-height: 1; border-radius: 0.35em; text-transform: uppercase; vertical-align: middle; margin-left: 0.5rem\">DATE</span>\n",
       "</mark>\n",
       " 大会 から 、 現在 の アメリカズ カップ クラス 艇 の 時代 を 迎える 。</div>"
      ],
      "text/plain": [
       "<IPython.core.display.HTML object>"
      ]
     },
     "metadata": {},
     "output_type": "display_data"
    },
    {
     "name": "stdout",
     "output_type": "stream",
     "text": [
      "----------------------------------------------------------------------------------------------------\n",
      "\u001b[34msystem\u001b[0m\n"
     ]
    },
    {
     "data": {
      "text/html": [
       "<div class=\"entities\" style=\"line-height: 2.5; direction: ltr\">全長 は 約 ２４ メートル で 、 定員 は １６ 人 。</div>"
      ],
      "text/plain": [
       "<IPython.core.display.HTML object>"
      ]
     },
     "metadata": {},
     "output_type": "display_data"
    },
    {
     "name": "stdout",
     "output_type": "stream",
     "text": [
      "\u001b[31mgold\u001b[0m\n"
     ]
    },
    {
     "data": {
      "text/html": [
       "<div class=\"entities\" style=\"line-height: 2.5; direction: ltr\">全長 は 約 ２４ メートル で 、 定員 は １６ 人 。</div>"
      ],
      "text/plain": [
       "<IPython.core.display.HTML object>"
      ]
     },
     "metadata": {},
     "output_type": "display_data"
    },
    {
     "name": "stdout",
     "output_type": "stream",
     "text": [
      "----------------------------------------------------------------------------------------------------\n",
      "----------------------------------------------------------------------------------------------------\n",
      "\u001b[34msystem\u001b[0m\n"
     ]
    },
    {
     "data": {
      "text/html": [
       "<div class=\"entities\" style=\"line-height: 2.5; direction: ltr\">一定 の 公式 に あてはめて 設計 する が 、 ある 程度 の 許容 範囲 が ある 。</div>"
      ],
      "text/plain": [
       "<IPython.core.display.HTML object>"
      ]
     },
     "metadata": {},
     "output_type": "display_data"
    },
    {
     "name": "stdout",
     "output_type": "stream",
     "text": [
      "\u001b[31mgold\u001b[0m\n"
     ]
    },
    {
     "data": {
      "text/html": [
       "<div class=\"entities\" style=\"line-height: 2.5; direction: ltr\">一定 の 公式 に あてはめて 設計 する が 、 ある 程度 の 許容 範囲 が ある 。</div>"
      ],
      "text/plain": [
       "<IPython.core.display.HTML object>"
      ]
     },
     "metadata": {},
     "output_type": "display_data"
    },
    {
     "name": "stdout",
     "output_type": "stream",
     "text": [
      "----------------------------------------------------------------------------------------------------\n"
     ]
    },
    {
     "data": {
      "text/html": [
       "<div class=\"entities\" style=\"line-height: 2.5; direction: ltr\">\n",
       "<mark class=\"entity\" style=\"background: #bfe1d9; padding: 0.45em 0.6em; margin: 0 0.25em; line-height: 1; border-radius: 0.35em;\">\n",
       "    三十一 日\n",
       "    <span style=\"font-size: 0.8em; font-weight: bold; line-height: 1; border-radius: 0.35em; text-transform: uppercase; vertical-align: middle; margin-left: 0.5rem\">DATE</span>\n",
       "</mark>\n",
       " \n",
       "<mark class=\"entity\" style=\"background: #bfe1d9; padding: 0.45em 0.6em; margin: 0 0.25em; line-height: 1; border-radius: 0.35em;\">\n",
       "    午後 七 時 五十 分\n",
       "    <span style=\"font-size: 0.8em; font-weight: bold; line-height: 1; border-radius: 0.35em; text-transform: uppercase; vertical-align: middle; margin-left: 0.5rem\">TIME</span>\n",
       "</mark>\n",
       " ごろ 、 \n",
       "<mark class=\"entity\" style=\"background: #ff9561; padding: 0.45em 0.6em; margin: 0 0.25em; line-height: 1; border-radius: 0.35em;\">\n",
       "    グアム\n",
       "    <span style=\"font-size: 0.8em; font-weight: bold; line-height: 1; border-radius: 0.35em; text-transform: uppercase; vertical-align: middle; margin-left: 0.5rem\">LOC</span>\n",
       "</mark>\n",
       " 発 \n",
       "<mark class=\"entity\" style=\"background: #ff9561; padding: 0.45em 0.6em; margin: 0 0.25em; line-height: 1; border-radius: 0.35em;\">\n",
       "    サイパン\n",
       "    <span style=\"font-size: 0.8em; font-weight: bold; line-height: 1; border-radius: 0.35em; text-transform: uppercase; vertical-align: middle; margin-left: 0.5rem\">LOC</span>\n",
       "</mark>\n",
       " 経由 \n",
       "<mark class=\"entity\" style=\"background: #ff9561; padding: 0.45em 0.6em; margin: 0 0.25em; line-height: 1; border-radius: 0.35em;\">\n",
       "    関西 空港\n",
       "    <span style=\"font-size: 0.8em; font-weight: bold; line-height: 1; border-radius: 0.35em; text-transform: uppercase; vertical-align: middle; margin-left: 0.5rem\">LOC</span>\n",
       "</mark>\n",
       " 行き \n",
       "<mark class=\"entity\" style=\"background: #ddd; padding: 0.45em 0.6em; margin: 0 0.25em; line-height: 1; border-radius: 0.35em;\">\n",
       "    コンチネンタルミクロネシア 航空 ９７５ 便\n",
       "    <span style=\"font-size: 0.8em; font-weight: bold; line-height: 1; border-radius: 0.35em; text-transform: uppercase; vertical-align: middle; margin-left: 0.5rem\">ARTIFACT</span>\n",
       "</mark>\n",
       " が 、 同 空港 に 着陸 直前 、 操縦かん の 油圧 系 に オイル 漏れ が 見つかり 、 機長 が 管制 官 に 緊急 着陸 を 要請 。</div>"
      ],
      "text/plain": [
       "<IPython.core.display.HTML object>"
      ]
     },
     "metadata": {},
     "output_type": "display_data"
    },
    {
     "name": "stdout",
     "output_type": "stream",
     "text": [
      "----------------------------------------------------------------------------------------------------\n",
      "\u001b[34msystem\u001b[0m\n"
     ]
    },
    {
     "data": {
      "text/html": [
       "<div class=\"entities\" style=\"line-height: 2.5; direction: ltr\">同 機 は 無事 着陸 した が 、 誘導 路 に 入った 直後 に 操縦かん が きか なく なり 、 スポット 手前 で 停止 。</div>"
      ],
      "text/plain": [
       "<IPython.core.display.HTML object>"
      ]
     },
     "metadata": {},
     "output_type": "display_data"
    },
    {
     "name": "stdout",
     "output_type": "stream",
     "text": [
      "\u001b[31mgold\u001b[0m\n"
     ]
    },
    {
     "data": {
      "text/html": [
       "<div class=\"entities\" style=\"line-height: 2.5; direction: ltr\">同 機 は 無事 着陸 した が 、 誘導 路 に 入った 直後 に 操縦かん が きか なく なり 、 スポット 手前 で 停止 。</div>"
      ],
      "text/plain": [
       "<IPython.core.display.HTML object>"
      ]
     },
     "metadata": {},
     "output_type": "display_data"
    },
    {
     "name": "stdout",
     "output_type": "stream",
     "text": [
      "----------------------------------------------------------------------------------------------------\n",
      "----------------------------------------------------------------------------------------------------\n",
      "\u001b[34msystem\u001b[0m\n"
     ]
    },
    {
     "data": {
      "text/html": [
       "<div class=\"entities\" style=\"line-height: 2.5; direction: ltr\">スポット まで けん引 さ れる まで の 約 十 分間 、 滑走 路 が 閉鎖 さ れた 。</div>"
      ],
      "text/plain": [
       "<IPython.core.display.HTML object>"
      ]
     },
     "metadata": {},
     "output_type": "display_data"
    },
    {
     "name": "stdout",
     "output_type": "stream",
     "text": [
      "\u001b[31mgold\u001b[0m\n"
     ]
    },
    {
     "data": {
      "text/html": [
       "<div class=\"entities\" style=\"line-height: 2.5; direction: ltr\">スポット まで けん引 さ れる まで の 約 十 分間 、 滑走 路 が 閉鎖 さ れた 。</div>"
      ],
      "text/plain": [
       "<IPython.core.display.HTML object>"
      ]
     },
     "metadata": {},
     "output_type": "display_data"
    },
    {
     "name": "stdout",
     "output_type": "stream",
     "text": [
      "----------------------------------------------------------------------------------------------------\n",
      "----------------------------------------------------------------------------------------------------\n",
      "\u001b[34msystem\u001b[0m\n"
     ]
    },
    {
     "data": {
      "text/html": [
       "<div class=\"entities\" style=\"line-height: 2.5; direction: ltr\">機体 トラブル に 伴う 滑走 路 の 閉鎖 は 開港 後 初めて 。</div>"
      ],
      "text/plain": [
       "<IPython.core.display.HTML object>"
      ]
     },
     "metadata": {},
     "output_type": "display_data"
    },
    {
     "name": "stdout",
     "output_type": "stream",
     "text": [
      "\u001b[31mgold\u001b[0m\n"
     ]
    },
    {
     "data": {
      "text/html": [
       "<div class=\"entities\" style=\"line-height: 2.5; direction: ltr\">機体 トラブル に 伴う 滑走 路 の 閉鎖 は 開港 後 初めて 。</div>"
      ],
      "text/plain": [
       "<IPython.core.display.HTML object>"
      ]
     },
     "metadata": {},
     "output_type": "display_data"
    },
    {
     "name": "stdout",
     "output_type": "stream",
     "text": [
      "----------------------------------------------------------------------------------------------------\n",
      "----------------------------------------------------------------------------------------------------\n",
      "\u001b[34msystem\u001b[0m\n"
     ]
    },
    {
     "data": {
      "text/html": [
       "<div class=\"entities\" style=\"line-height: 2.5; direction: ltr\">後続 の 運航 に 支障 は なかった 。</div>"
      ],
      "text/plain": [
       "<IPython.core.display.HTML object>"
      ]
     },
     "metadata": {},
     "output_type": "display_data"
    },
    {
     "name": "stdout",
     "output_type": "stream",
     "text": [
      "\u001b[31mgold\u001b[0m\n"
     ]
    },
    {
     "data": {
      "text/html": [
       "<div class=\"entities\" style=\"line-height: 2.5; direction: ltr\">後続 の 運航 に 支障 は なかった 。</div>"
      ],
      "text/plain": [
       "<IPython.core.display.HTML object>"
      ]
     },
     "metadata": {},
     "output_type": "display_data"
    },
    {
     "name": "stdout",
     "output_type": "stream",
     "text": [
      "----------------------------------------------------------------------------------------------------\n",
      "----------------------------------------------------------------------------------------------------\n",
      "\u001b[34msystem\u001b[0m\n"
     ]
    },
    {
     "data": {
      "text/html": [
       "<div class=\"entities\" style=\"line-height: 2.5; direction: ltr\">\n",
       "<mark class=\"entity\" style=\"background: #aa9cfc; padding: 0.45em 0.6em; margin: 0 0.25em; line-height: 1; border-radius: 0.35em;\">\n",
       "    村山 富市\n",
       "    <span style=\"font-size: 0.8em; font-weight: bold; line-height: 1; border-radius: 0.35em; text-transform: uppercase; vertical-align: middle; margin-left: 0.5rem\">PERSON</span>\n",
       "</mark>\n",
       " 首相 主催 の 新年 祝賀 会 が \n",
       "<mark class=\"entity\" style=\"background: #bfe1d9; padding: 0.45em 0.6em; margin: 0 0.25em; line-height: 1; border-radius: 0.35em;\">\n",
       "    一 日\n",
       "    <span style=\"font-size: 0.8em; font-weight: bold; line-height: 1; border-radius: 0.35em; text-transform: uppercase; vertical-align: middle; margin-left: 0.5rem\">DATE</span>\n",
       "</mark>\n",
       " 、 \n",
       "<mark class=\"entity\" style=\"background: #ff9561; padding: 0.45em 0.6em; margin: 0 0.25em; line-height: 1; border-radius: 0.35em;\">\n",
       "    首相 公邸\n",
       "    <span style=\"font-size: 0.8em; font-weight: bold; line-height: 1; border-radius: 0.35em; text-transform: uppercase; vertical-align: middle; margin-left: 0.5rem\">LOC</span>\n",
       "</mark>\n",
       " で 開か れ 、 閣僚 、 \n",
       "<mark class=\"entity\" style=\"background: #7aecec; padding: 0.45em 0.6em; margin: 0 0.25em; line-height: 1; border-radius: 0.35em;\">\n",
       "    自民党\n",
       "    <span style=\"font-size: 0.8em; font-weight: bold; line-height: 1; border-radius: 0.35em; text-transform: uppercase; vertical-align: middle; margin-left: 0.5rem\">ORG</span>\n",
       "</mark>\n",
       " 三役 、 官僚 の ほか 、 \n",
       "<mark class=\"entity\" style=\"background: #7aecec; padding: 0.45em 0.6em; margin: 0 0.25em; line-height: 1; border-radius: 0.35em;\">\n",
       "    新民連\n",
       "    <span style=\"font-size: 0.8em; font-weight: bold; line-height: 1; border-radius: 0.35em; text-transform: uppercase; vertical-align: middle; margin-left: 0.5rem\">ORG</span>\n",
       "</mark>\n",
       " に 影響 力 を 持つ \n",
       "<mark class=\"entity\" style=\"background: #7aecec; padding: 0.45em 0.6em; margin: 0 0.25em; line-height: 1; border-radius: 0.35em;\">\n",
       "    全電通\n",
       "    <span style=\"font-size: 0.8em; font-weight: bold; line-height: 1; border-radius: 0.35em; text-transform: uppercase; vertical-align: middle; margin-left: 0.5rem\">ORG</span>\n",
       "</mark>\n",
       " の \n",
       "<mark class=\"entity\" style=\"background: #aa9cfc; padding: 0.45em 0.6em; margin: 0 0.25em; line-height: 1; border-radius: 0.35em;\">\n",
       "    梶本 幸治\n",
       "    <span style=\"font-size: 0.8em; font-weight: bold; line-height: 1; border-radius: 0.35em; text-transform: uppercase; vertical-align: middle; margin-left: 0.5rem\">PERSON</span>\n",
       "</mark>\n",
       " 委員 長 、 \n",
       "<mark class=\"entity\" style=\"background: #7aecec; padding: 0.45em 0.6em; margin: 0 0.25em; line-height: 1; border-radius: 0.35em;\">\n",
       "    自治労\n",
       "    <span style=\"font-size: 0.8em; font-weight: bold; line-height: 1; border-radius: 0.35em; text-transform: uppercase; vertical-align: middle; margin-left: 0.5rem\">ORG</span>\n",
       "</mark>\n",
       " の \n",
       "<mark class=\"entity\" style=\"background: #aa9cfc; padding: 0.45em 0.6em; margin: 0 0.25em; line-height: 1; border-radius: 0.35em;\">\n",
       "    後藤 森重\n",
       "    <span style=\"font-size: 0.8em; font-weight: bold; line-height: 1; border-radius: 0.35em; text-transform: uppercase; vertical-align: middle; margin-left: 0.5rem\">PERSON</span>\n",
       "</mark>\n",
       " 委員 長 ら 約 六百 人 が 出席 した 。</div>"
      ],
      "text/plain": [
       "<IPython.core.display.HTML object>"
      ]
     },
     "metadata": {},
     "output_type": "display_data"
    },
    {
     "name": "stdout",
     "output_type": "stream",
     "text": [
      "\u001b[31mgold\u001b[0m\n"
     ]
    },
    {
     "data": {
      "text/html": [
       "<div class=\"entities\" style=\"line-height: 2.5; direction: ltr\">\n",
       "<mark class=\"entity\" style=\"background: #aa9cfc; padding: 0.45em 0.6em; margin: 0 0.25em; line-height: 1; border-radius: 0.35em;\">\n",
       "    村山 富市\n",
       "    <span style=\"font-size: 0.8em; font-weight: bold; line-height: 1; border-radius: 0.35em; text-transform: uppercase; vertical-align: middle; margin-left: 0.5rem\">PERSON</span>\n",
       "</mark>\n",
       " 首相 主催 の \n",
       "<mark class=\"entity\" style=\"background: #bfe1d9; padding: 0.45em 0.6em; margin: 0 0.25em; line-height: 1; border-radius: 0.35em;\">\n",
       "    新年\n",
       "    <span style=\"font-size: 0.8em; font-weight: bold; line-height: 1; border-radius: 0.35em; text-transform: uppercase; vertical-align: middle; margin-left: 0.5rem\">DATE</span>\n",
       "</mark>\n",
       " 祝賀 会 が \n",
       "<mark class=\"entity\" style=\"background: #bfe1d9; padding: 0.45em 0.6em; margin: 0 0.25em; line-height: 1; border-radius: 0.35em;\">\n",
       "    一 日\n",
       "    <span style=\"font-size: 0.8em; font-weight: bold; line-height: 1; border-radius: 0.35em; text-transform: uppercase; vertical-align: middle; margin-left: 0.5rem\">DATE</span>\n",
       "</mark>\n",
       " 、 \n",
       "<mark class=\"entity\" style=\"background: #ff9561; padding: 0.45em 0.6em; margin: 0 0.25em; line-height: 1; border-radius: 0.35em;\">\n",
       "    首相 公邸\n",
       "    <span style=\"font-size: 0.8em; font-weight: bold; line-height: 1; border-radius: 0.35em; text-transform: uppercase; vertical-align: middle; margin-left: 0.5rem\">LOC</span>\n",
       "</mark>\n",
       " で 開か れ 、 閣僚 、 \n",
       "<mark class=\"entity\" style=\"background: #7aecec; padding: 0.45em 0.6em; margin: 0 0.25em; line-height: 1; border-radius: 0.35em;\">\n",
       "    自民党\n",
       "    <span style=\"font-size: 0.8em; font-weight: bold; line-height: 1; border-radius: 0.35em; text-transform: uppercase; vertical-align: middle; margin-left: 0.5rem\">ORG</span>\n",
       "</mark>\n",
       " 三役 、 官僚 の ほか 、 \n",
       "<mark class=\"entity\" style=\"background: #7aecec; padding: 0.45em 0.6em; margin: 0 0.25em; line-height: 1; border-radius: 0.35em;\">\n",
       "    新民連\n",
       "    <span style=\"font-size: 0.8em; font-weight: bold; line-height: 1; border-radius: 0.35em; text-transform: uppercase; vertical-align: middle; margin-left: 0.5rem\">ORG</span>\n",
       "</mark>\n",
       " に 影響 力 を 持つ \n",
       "<mark class=\"entity\" style=\"background: #7aecec; padding: 0.45em 0.6em; margin: 0 0.25em; line-height: 1; border-radius: 0.35em;\">\n",
       "    全電通\n",
       "    <span style=\"font-size: 0.8em; font-weight: bold; line-height: 1; border-radius: 0.35em; text-transform: uppercase; vertical-align: middle; margin-left: 0.5rem\">ORG</span>\n",
       "</mark>\n",
       " の \n",
       "<mark class=\"entity\" style=\"background: #aa9cfc; padding: 0.45em 0.6em; margin: 0 0.25em; line-height: 1; border-radius: 0.35em;\">\n",
       "    梶本 幸治\n",
       "    <span style=\"font-size: 0.8em; font-weight: bold; line-height: 1; border-radius: 0.35em; text-transform: uppercase; vertical-align: middle; margin-left: 0.5rem\">PERSON</span>\n",
       "</mark>\n",
       " 委員 長 、 \n",
       "<mark class=\"entity\" style=\"background: #7aecec; padding: 0.45em 0.6em; margin: 0 0.25em; line-height: 1; border-radius: 0.35em;\">\n",
       "    自治労\n",
       "    <span style=\"font-size: 0.8em; font-weight: bold; line-height: 1; border-radius: 0.35em; text-transform: uppercase; vertical-align: middle; margin-left: 0.5rem\">ORG</span>\n",
       "</mark>\n",
       " の \n",
       "<mark class=\"entity\" style=\"background: #aa9cfc; padding: 0.45em 0.6em; margin: 0 0.25em; line-height: 1; border-radius: 0.35em;\">\n",
       "    後藤 森重\n",
       "    <span style=\"font-size: 0.8em; font-weight: bold; line-height: 1; border-radius: 0.35em; text-transform: uppercase; vertical-align: middle; margin-left: 0.5rem\">PERSON</span>\n",
       "</mark>\n",
       " 委員 長 ら 約 六百 人 が 出席 した 。</div>"
      ],
      "text/plain": [
       "<IPython.core.display.HTML object>"
      ]
     },
     "metadata": {},
     "output_type": "display_data"
    },
    {
     "name": "stdout",
     "output_type": "stream",
     "text": [
      "----------------------------------------------------------------------------------------------------\n"
     ]
    },
    {
     "data": {
      "text/html": [
       "<div class=\"entities\" style=\"line-height: 2.5; direction: ltr\">\n",
       "<mark class=\"entity\" style=\"background: #aa9cfc; padding: 0.45em 0.6em; margin: 0 0.25em; line-height: 1; border-radius: 0.35em;\">\n",
       "    村山\n",
       "    <span style=\"font-size: 0.8em; font-weight: bold; line-height: 1; border-radius: 0.35em; text-transform: uppercase; vertical-align: middle; margin-left: 0.5rem\">PERSON</span>\n",
       "</mark>\n",
       " 首相 、 \n",
       "<mark class=\"entity\" style=\"background: #aa9cfc; padding: 0.45em 0.6em; margin: 0 0.25em; line-height: 1; border-radius: 0.35em;\">\n",
       "    河野 洋平\n",
       "    <span style=\"font-size: 0.8em; font-weight: bold; line-height: 1; border-radius: 0.35em; text-transform: uppercase; vertical-align: middle; margin-left: 0.5rem\">PERSON</span>\n",
       "</mark>\n",
       " 副 総理 ・ \n",
       "<mark class=\"entity\" style=\"background: #7aecec; padding: 0.45em 0.6em; margin: 0 0.25em; line-height: 1; border-radius: 0.35em;\">\n",
       "    外\n",
       "    <span style=\"font-size: 0.8em; font-weight: bold; line-height: 1; border-radius: 0.35em; text-transform: uppercase; vertical-align: middle; margin-left: 0.5rem\">ORG</span>\n",
       "</mark>\n",
       " 相 、 \n",
       "<mark class=\"entity\" style=\"background: #aa9cfc; padding: 0.45em 0.6em; margin: 0 0.25em; line-height: 1; border-radius: 0.35em;\">\n",
       "    武村 正義\n",
       "    <span style=\"font-size: 0.8em; font-weight: bold; line-height: 1; border-radius: 0.35em; text-transform: uppercase; vertical-align: middle; margin-left: 0.5rem\">PERSON</span>\n",
       "</mark>\n",
       " \n",
       "<mark class=\"entity\" style=\"background: #7aecec; padding: 0.45em 0.6em; margin: 0 0.25em; line-height: 1; border-radius: 0.35em;\">\n",
       "    蔵\n",
       "    <span style=\"font-size: 0.8em; font-weight: bold; line-height: 1; border-radius: 0.35em; text-transform: uppercase; vertical-align: middle; margin-left: 0.5rem\">ORG</span>\n",
       "</mark>\n",
       " 相 の 三 党首 に よる 鏡抜き の 後 、 \n",
       "<mark class=\"entity\" style=\"background: #aa9cfc; padding: 0.45em 0.6em; margin: 0 0.25em; line-height: 1; border-radius: 0.35em;\">\n",
       "    五十嵐 広三\n",
       "    <span style=\"font-size: 0.8em; font-weight: bold; line-height: 1; border-radius: 0.35em; text-transform: uppercase; vertical-align: middle; margin-left: 0.5rem\">PERSON</span>\n",
       "</mark>\n",
       " 官房 長官 が 「 \n",
       "<mark class=\"entity\" style=\"background: #7aecec; padding: 0.45em 0.6em; margin: 0 0.25em; line-height: 1; border-radius: 0.35em;\">\n",
       "    村山 内閣\n",
       "    <span style=\"font-size: 0.8em; font-weight: bold; line-height: 1; border-radius: 0.35em; text-transform: uppercase; vertical-align: middle; margin-left: 0.5rem\">ORG</span>\n",
       "</mark>\n",
       " が 懸命に 国民 の 皆さん と 活躍 できる ように 」 と 乾杯 の 音頭 を 取った 。</div>"
      ],
      "text/plain": [
       "<IPython.core.display.HTML object>"
      ]
     },
     "metadata": {},
     "output_type": "display_data"
    },
    {
     "data": {
      "text/html": [
       "<div class=\"entities\" style=\"line-height: 2.5; direction: ltr\">\n",
       "<mark class=\"entity\" style=\"background: #aa9cfc; padding: 0.45em 0.6em; margin: 0 0.25em; line-height: 1; border-radius: 0.35em;\">\n",
       "    カレダ ・ ジア\n",
       "    <span style=\"font-size: 0.8em; font-weight: bold; line-height: 1; border-radius: 0.35em; text-transform: uppercase; vertical-align: middle; margin-left: 0.5rem\">PERSON</span>\n",
       "</mark>\n",
       " 首相 の 退陣 を 求め 、 野党 の ほぼ 全 議員 が 辞職 した \n",
       "<mark class=\"entity\" style=\"background: #ff9561; padding: 0.45em 0.6em; margin: 0 0.25em; line-height: 1; border-radius: 0.35em;\">\n",
       "    バングラデシュ\n",
       "    <span style=\"font-size: 0.8em; font-weight: bold; line-height: 1; border-radius: 0.35em; text-transform: uppercase; vertical-align: middle; margin-left: 0.5rem\">LOC</span>\n",
       "</mark>\n",
       " で \n",
       "<mark class=\"entity\" style=\"background: #bfe1d9; padding: 0.45em 0.6em; margin: 0 0.25em; line-height: 1; border-radius: 0.35em;\">\n",
       "    ２ 日\n",
       "    <span style=\"font-size: 0.8em; font-weight: bold; line-height: 1; border-radius: 0.35em; text-transform: uppercase; vertical-align: middle; margin-left: 0.5rem\">DATE</span>\n",
       "</mark>\n",
       " 、 野党 の 呼び掛け で ゼネスト が 行わ れた 。</div>"
      ],
      "text/plain": [
       "<IPython.core.display.HTML object>"
      ]
     },
     "metadata": {},
     "output_type": "display_data"
    },
    {
     "data": {
      "text/html": [
       "<div class=\"entities\" style=\"line-height: 2.5; direction: ltr\">首都 \n",
       "<mark class=\"entity\" style=\"background: #ff9561; padding: 0.45em 0.6em; margin: 0 0.25em; line-height: 1; border-radius: 0.35em;\">\n",
       "    ダッカ\n",
       "    <span style=\"font-size: 0.8em; font-weight: bold; line-height: 1; border-radius: 0.35em; text-transform: uppercase; vertical-align: middle; margin-left: 0.5rem\">LOC</span>\n",
       "</mark>\n",
       " で は 「 首相 退陣 」 を 叫ぶ 野党 支持 者 数 千 人 が デモ 行進 し 警察 隊 と 衝突 、 ３５ 人 が 負傷 し ２０ 人 が 逮捕 さ れた 。</div>"
      ],
      "text/plain": [
       "<IPython.core.display.HTML object>"
      ]
     },
     "metadata": {},
     "output_type": "display_data"
    },
    {
     "data": {
      "text/html": [
       "<div class=\"entities\" style=\"line-height: 2.5; direction: ltr\">１９ 歳 から ２２ 歳 まで の 娘 に 宝飾 品 を 贈った こと の ある 親 に 「 どのような 時 に 贈った か 」 を 聞いた ところ 、 「 成人 式 」 と いう 回答 が 約 \n",
       "<mark class=\"entity\" style=\"background: #e4e7d2; padding: 0.45em 0.6em; margin: 0 0.25em; line-height: 1; border-radius: 0.35em;\">\n",
       "    半数\n",
       "    <span style=\"font-size: 0.8em; font-weight: bold; line-height: 1; border-radius: 0.35em; text-transform: uppercase; vertical-align: middle; margin-left: 0.5rem\">PERCENT</span>\n",
       "</mark>\n",
       " で 最も 多かった 。</div>"
      ],
      "text/plain": [
       "<IPython.core.display.HTML object>"
      ]
     },
     "metadata": {},
     "output_type": "display_data"
    },
    {
     "name": "stdout",
     "output_type": "stream",
     "text": [
      "----------------------------------------------------------------------------------------------------\n",
      "\u001b[34msystem\u001b[0m\n"
     ]
    },
    {
     "data": {
      "text/html": [
       "<div class=\"entities\" style=\"line-height: 2.5; direction: ltr\">プラチナ ・ ギルド \n",
       "<mark class=\"entity\" style=\"background: #7aecec; padding: 0.45em 0.6em; margin: 0 0.25em; line-height: 1; border-radius: 0.35em;\">\n",
       "    ・ インターナショナル\n",
       "    <span style=\"font-size: 0.8em; font-weight: bold; line-height: 1; border-radius: 0.35em; text-transform: uppercase; vertical-align: middle; margin-left: 0.5rem\">ORG</span>\n",
       "</mark>\n",
       " が 全国 の １９１ 人 を 対象 に 調査 した もの で 、 成人 式 に 次いで 多かった の が 「 誕生日 」 。</div>"
      ],
      "text/plain": [
       "<IPython.core.display.HTML object>"
      ]
     },
     "metadata": {},
     "output_type": "display_data"
    },
    {
     "name": "stdout",
     "output_type": "stream",
     "text": [
      "\u001b[31mgold\u001b[0m\n"
     ]
    },
    {
     "data": {
      "text/html": [
       "<div class=\"entities\" style=\"line-height: 2.5; direction: ltr\">\n",
       "<mark class=\"entity\" style=\"background: #7aecec; padding: 0.45em 0.6em; margin: 0 0.25em; line-height: 1; border-radius: 0.35em;\">\n",
       "    プラチナ ・ ギルド ・ インターナショナル\n",
       "    <span style=\"font-size: 0.8em; font-weight: bold; line-height: 1; border-radius: 0.35em; text-transform: uppercase; vertical-align: middle; margin-left: 0.5rem\">ORG</span>\n",
       "</mark>\n",
       " が 全国 の １９１ 人 を 対象 に 調査 した もの で 、 成人 式 に 次いで 多かった の が 「 誕生日 」 。</div>"
      ],
      "text/plain": [
       "<IPython.core.display.HTML object>"
      ]
     },
     "metadata": {},
     "output_type": "display_data"
    },
    {
     "name": "stdout",
     "output_type": "stream",
     "text": [
      "----------------------------------------------------------------------------------------------------\n",
      "----------------------------------------------------------------------------------------------------\n",
      "\u001b[34msystem\u001b[0m\n"
     ]
    },
    {
     "data": {
      "text/html": [
       "<div class=\"entities\" style=\"line-height: 2.5; direction: ltr\">贈った 宝飾 品 で 最も 多かった の は 指輪 で 、 ネックレス 、 イヤリング ・ ピアス と いった 順 。</div>"
      ],
      "text/plain": [
       "<IPython.core.display.HTML object>"
      ]
     },
     "metadata": {},
     "output_type": "display_data"
    },
    {
     "name": "stdout",
     "output_type": "stream",
     "text": [
      "\u001b[31mgold\u001b[0m\n"
     ]
    },
    {
     "data": {
      "text/html": [
       "<div class=\"entities\" style=\"line-height: 2.5; direction: ltr\">贈った 宝飾 品 で 最も 多かった の は 指輪 で 、 ネックレス 、 イヤリング ・ ピアス と いった 順 。</div>"
      ],
      "text/plain": [
       "<IPython.core.display.HTML object>"
      ]
     },
     "metadata": {},
     "output_type": "display_data"
    },
    {
     "name": "stdout",
     "output_type": "stream",
     "text": [
      "----------------------------------------------------------------------------------------------------\n"
     ]
    },
    {
     "data": {
      "text/html": [
       "<div class=\"entities\" style=\"line-height: 2.5; direction: ltr\">新しく 購入 した 人 は 、 \n",
       "<mark class=\"entity\" style=\"background: #e4e7d2; padding: 0.45em 0.6em; margin: 0 0.25em; line-height: 1; border-radius: 0.35em;\">\n",
       "    ３万 円\n",
       "    <span style=\"font-size: 0.8em; font-weight: bold; line-height: 1; border-radius: 0.35em; text-transform: uppercase; vertical-align: middle; margin-left: 0.5rem\">MONEY</span>\n",
       "</mark>\n",
       " 前後 の もの が 多かった 。</div>"
      ],
      "text/plain": [
       "<IPython.core.display.HTML object>"
      ]
     },
     "metadata": {},
     "output_type": "display_data"
    },
    {
     "name": "stdout",
     "output_type": "stream",
     "text": [
      "----------------------------------------------------------------------------------------------------\n",
      "\u001b[34msystem\u001b[0m\n"
     ]
    },
    {
     "data": {
      "text/html": [
       "<div class=\"entities\" style=\"line-height: 2.5; direction: ltr\">「 素敵な 女性 に 成長 して ほしい 」 「 娘 の 幸せ を 願って 」 など 、 単なる プレゼント で は なく 、 娘 に 対する 愛情 や 、 親 の さまざまな 思い が 込め られて いる ようだった 。</div>"
      ],
      "text/plain": [
       "<IPython.core.display.HTML object>"
      ]
     },
     "metadata": {},
     "output_type": "display_data"
    },
    {
     "name": "stdout",
     "output_type": "stream",
     "text": [
      "\u001b[31mgold\u001b[0m\n"
     ]
    },
    {
     "data": {
      "text/html": [
       "<div class=\"entities\" style=\"line-height: 2.5; direction: ltr\">「 素敵な 女性 に 成長 して ほしい 」 「 娘 の 幸せ を 願って 」 など 、 単なる プレゼント で は なく 、 娘 に 対する 愛情 や 、 親 の さまざまな 思い が 込め られて いる ようだった 。</div>"
      ],
      "text/plain": [
       "<IPython.core.display.HTML object>"
      ]
     },
     "metadata": {},
     "output_type": "display_data"
    },
    {
     "name": "stdout",
     "output_type": "stream",
     "text": [
      "----------------------------------------------------------------------------------------------------\n"
     ]
    },
    {
     "data": {
      "text/html": [
       "<div class=\"entities\" style=\"line-height: 2.5; direction: ltr\">\n",
       "<mark class=\"entity\" style=\"background: #7aecec; padding: 0.45em 0.6em; margin: 0 0.25em; line-height: 1; border-radius: 0.35em;\">\n",
       "    女子 テニス 協会\n",
       "    <span style=\"font-size: 0.8em; font-weight: bold; line-height: 1; border-radius: 0.35em; text-transform: uppercase; vertical-align: middle; margin-left: 0.5rem\">ORG</span>\n",
       "</mark>\n",
       " は \n",
       "<mark class=\"entity\" style=\"background: #bfe1d9; padding: 0.45em 0.6em; margin: 0 0.25em; line-height: 1; border-radius: 0.35em;\">\n",
       "    ２ 日\n",
       "    <span style=\"font-size: 0.8em; font-weight: bold; line-height: 1; border-radius: 0.35em; text-transform: uppercase; vertical-align: middle; margin-left: 0.5rem\">DATE</span>\n",
       "</mark>\n",
       " 、 最新の 世界 ランキング を 発表 し 、 \n",
       "<mark class=\"entity\" style=\"background: #aa9cfc; padding: 0.45em 0.6em; margin: 0 0.25em; line-height: 1; border-radius: 0.35em;\">\n",
       "    伊達 公子\n",
       "    <span style=\"font-size: 0.8em; font-weight: bold; line-height: 1; border-radius: 0.35em; text-transform: uppercase; vertical-align: middle; margin-left: 0.5rem\">PERSON</span>\n",
       "</mark>\n",
       " が \n",
       "<mark class=\"entity\" style=\"background: #bfe1d9; padding: 0.45em 0.6em; margin: 0 0.25em; line-height: 1; border-radius: 0.35em;\">\n",
       "    昨季\n",
       "    <span style=\"font-size: 0.8em; font-weight: bold; line-height: 1; border-radius: 0.35em; text-transform: uppercase; vertical-align: middle; margin-left: 0.5rem\">DATE</span>\n",
       "</mark>\n",
       " の 最終 ランク ９ 位 から ８ 位 に 浮上 した 。</div>"
      ],
      "text/plain": [
       "<IPython.core.display.HTML object>"
      ]
     },
     "metadata": {},
     "output_type": "display_data"
    },
    {
     "data": {
      "text/html": [
       "<div class=\"entities\" style=\"line-height: 2.5; direction: ltr\">１ 位 は \n",
       "<mark class=\"entity\" style=\"background: #aa9cfc; padding: 0.45em 0.6em; margin: 0 0.25em; line-height: 1; border-radius: 0.35em;\">\n",
       "    シュテフィ ・ グラフ\n",
       "    <span style=\"font-size: 0.8em; font-weight: bold; line-height: 1; border-radius: 0.35em; text-transform: uppercase; vertical-align: middle; margin-left: 0.5rem\">PERSON</span>\n",
       "</mark>\n",
       " 、 ２ 位 は \n",
       "<mark class=\"entity\" style=\"background: #aa9cfc; padding: 0.45em 0.6em; margin: 0 0.25em; line-height: 1; border-radius: 0.35em;\">\n",
       "    アランチャ ・ サンチェス\n",
       "    <span style=\"font-size: 0.8em; font-weight: bold; line-height: 1; border-radius: 0.35em; text-transform: uppercase; vertical-align: middle; margin-left: 0.5rem\">PERSON</span>\n",
       "</mark>\n",
       " 、 ３ 位 は \n",
       "<mark class=\"entity\" style=\"background: #aa9cfc; padding: 0.45em 0.6em; margin: 0 0.25em; line-height: 1; border-radius: 0.35em;\">\n",
       "    コンチタ ・ マルティネス\n",
       "    <span style=\"font-size: 0.8em; font-weight: bold; line-height: 1; border-radius: 0.35em; text-transform: uppercase; vertical-align: middle; margin-left: 0.5rem\">PERSON</span>\n",
       "</mark>\n",
       " 。</div>"
      ],
      "text/plain": [
       "<IPython.core.display.HTML object>"
      ]
     },
     "metadata": {},
     "output_type": "display_data"
    },
    {
     "data": {
      "text/html": [
       "<div class=\"entities\" style=\"line-height: 2.5; direction: ltr\">第 ４３ 回 元旦 競歩 大会 は \n",
       "<mark class=\"entity\" style=\"background: #bfe1d9; padding: 0.45em 0.6em; margin: 0 0.25em; line-height: 1; border-radius: 0.35em;\">\n",
       "    １ 日\n",
       "    <span style=\"font-size: 0.8em; font-weight: bold; line-height: 1; border-radius: 0.35em; text-transform: uppercase; vertical-align: middle; margin-left: 0.5rem\">DATE</span>\n",
       "</mark>\n",
       " 、 \n",
       "<mark class=\"entity\" style=\"background: #ff9561; padding: 0.45em 0.6em; margin: 0 0.25em; line-height: 1; border-radius: 0.35em;\">\n",
       "    東京\n",
       "    <span style=\"font-size: 0.8em; font-weight: bold; line-height: 1; border-radius: 0.35em; text-transform: uppercase; vertical-align: middle; margin-left: 0.5rem\">LOC</span>\n",
       "</mark>\n",
       " ・ \n",
       "<mark class=\"entity\" style=\"background: #ff9561; padding: 0.45em 0.6em; margin: 0 0.25em; line-height: 1; border-radius: 0.35em;\">\n",
       "    明治 神宮 外苑 絵画 館 円周\n",
       "    <span style=\"font-size: 0.8em; font-weight: bold; line-height: 1; border-radius: 0.35em; text-transform: uppercase; vertical-align: middle; margin-left: 0.5rem\">LOC</span>\n",
       "</mark>\n",
       " 路 で 行わ れ 、 一般 ２０キロ で \n",
       "<mark class=\"entity\" style=\"background: #aa9cfc; padding: 0.45em 0.6em; margin: 0 0.25em; line-height: 1; border-radius: 0.35em;\">\n",
       "    多久島 努\n",
       "    <span style=\"font-size: 0.8em; font-weight: bold; line-height: 1; border-radius: 0.35em; text-transform: uppercase; vertical-align: middle; margin-left: 0.5rem\">PERSON</span>\n",
       "</mark>\n",
       " が １ 時間 ２２ 分 ３８ 秒 の \n",
       "<mark class=\"entity\" style=\"background: #ff9561; padding: 0.45em 0.6em; margin: 0 0.25em; line-height: 1; border-radius: 0.35em;\">\n",
       "    日本\n",
       "    <span style=\"font-size: 0.8em; font-weight: bold; line-height: 1; border-radius: 0.35em; text-transform: uppercase; vertical-align: middle; margin-left: 0.5rem\">LOC</span>\n",
       "</mark>\n",
       " 最高 記録 で 優勝 した 。</div>"
      ],
      "text/plain": [
       "<IPython.core.display.HTML object>"
      ]
     },
     "metadata": {},
     "output_type": "display_data"
    },
    {
     "data": {
      "text/html": [
       "<div class=\"entities\" style=\"line-height: 2.5; direction: ltr\">\n",
       "<mark class=\"entity\" style=\"background: #aa9cfc; padding: 0.45em 0.6em; margin: 0 0.25em; line-height: 1; border-radius: 0.35em;\">\n",
       "    多久島 努\n",
       "    <span style=\"font-size: 0.8em; font-weight: bold; line-height: 1; border-radius: 0.35em; text-transform: uppercase; vertical-align: middle; margin-left: 0.5rem\">PERSON</span>\n",
       "</mark>\n",
       " １ 時間 ２２ 分 ３８ 秒</div>"
      ],
      "text/plain": [
       "<IPython.core.display.HTML object>"
      ]
     },
     "metadata": {},
     "output_type": "display_data"
    },
    {
     "data": {
      "text/html": [
       "<div class=\"entities\" style=\"line-height: 2.5; direction: ltr\">\n",
       "<mark class=\"entity\" style=\"background: #aa9cfc; padding: 0.45em 0.6em; margin: 0 0.25em; line-height: 1; border-radius: 0.35em;\">\n",
       "    池島 大介\n",
       "    <span style=\"font-size: 0.8em; font-weight: bold; line-height: 1; border-radius: 0.35em; text-transform: uppercase; vertical-align: middle; margin-left: 0.5rem\">PERSON</span>\n",
       "</mark>\n",
       " １ 時間 ２３ 分 １９ 秒</div>"
      ],
      "text/plain": [
       "<IPython.core.display.HTML object>"
      ]
     },
     "metadata": {},
     "output_type": "display_data"
    },
    {
     "data": {
      "text/html": [
       "<div class=\"entities\" style=\"line-height: 2.5; direction: ltr\">\n",
       "<mark class=\"entity\" style=\"background: #aa9cfc; padding: 0.45em 0.6em; margin: 0 0.25em; line-height: 1; border-radius: 0.35em;\">\n",
       "    山田 龍也\n",
       "    <span style=\"font-size: 0.8em; font-weight: bold; line-height: 1; border-radius: 0.35em; text-transform: uppercase; vertical-align: middle; margin-left: 0.5rem\">PERSON</span>\n",
       "</mark>\n",
       " ４５ 分 ４３ 秒</div>"
      ],
      "text/plain": [
       "<IPython.core.display.HTML object>"
      ]
     },
     "metadata": {},
     "output_type": "display_data"
    },
    {
     "data": {
      "text/html": [
       "<div class=\"entities\" style=\"line-height: 2.5; direction: ltr\">\n",
       "<mark class=\"entity\" style=\"background: #aa9cfc; padding: 0.45em 0.6em; margin: 0 0.25em; line-height: 1; border-radius: 0.35em;\">\n",
       "    浅野 輝彦\n",
       "    <span style=\"font-size: 0.8em; font-weight: bold; line-height: 1; border-radius: 0.35em; text-transform: uppercase; vertical-align: middle; margin-left: 0.5rem\">PERSON</span>\n",
       "</mark>\n",
       " ２４ 分 ５９ 秒</div>"
      ],
      "text/plain": [
       "<IPython.core.display.HTML object>"
      ]
     },
     "metadata": {},
     "output_type": "display_data"
    },
    {
     "data": {
      "text/html": [
       "<div class=\"entities\" style=\"line-height: 2.5; direction: ltr\">\n",
       "<mark class=\"entity\" style=\"background: #aa9cfc; padding: 0.45em 0.6em; margin: 0 0.25em; line-height: 1; border-radius: 0.35em;\">\n",
       "    田浦 多佳子\n",
       "    <span style=\"font-size: 0.8em; font-weight: bold; line-height: 1; border-radius: 0.35em; text-transform: uppercase; vertical-align: middle; margin-left: 0.5rem\">PERSON</span>\n",
       "</mark>\n",
       " ２２ 分 ５２ 秒</div>"
      ],
      "text/plain": [
       "<IPython.core.display.HTML object>"
      ]
     },
     "metadata": {},
     "output_type": "display_data"
    },
    {
     "data": {
      "text/html": [
       "<div class=\"entities\" style=\"line-height: 2.5; direction: ltr\">連覇 と ３ 冠 を 狙う \n",
       "<mark class=\"entity\" style=\"background: #7aecec; padding: 0.45em 0.6em; margin: 0 0.25em; line-height: 1; border-radius: 0.35em;\">\n",
       "    清水 市 商\n",
       "    <span style=\"font-size: 0.8em; font-weight: bold; line-height: 1; border-radius: 0.35em; text-transform: uppercase; vertical-align: middle; margin-left: 0.5rem\">ORG</span>\n",
       "</mark>\n",
       " と 、 過去 ベスト ８ も ない \n",
       "<mark class=\"entity\" style=\"background: #7aecec; padding: 0.45em 0.6em; margin: 0 0.25em; line-height: 1; border-radius: 0.35em;\">\n",
       "    奈良 育英\n",
       "    <span style=\"font-size: 0.8em; font-weight: bold; line-height: 1; border-radius: 0.35em; text-transform: uppercase; vertical-align: middle; margin-left: 0.5rem\">ORG</span>\n",
       "</mark>\n",
       " 。</div>"
      ],
      "text/plain": [
       "<IPython.core.display.HTML object>"
      ]
     },
     "metadata": {},
     "output_type": "display_data"
    },
    {
     "name": "stdout",
     "output_type": "stream",
     "text": [
      "----------------------------------------------------------------------------------------------------\n",
      "\u001b[34msystem\u001b[0m\n"
     ]
    },
    {
     "data": {
      "text/html": [
       "<div class=\"entities\" style=\"line-height: 2.5; direction: ltr\">試合 前 に だれ も が 描いた 「 王者 と 挑戦 者 」 と いう 構図 が 、 そのまま 試合 に 反映 さ れた 。</div>"
      ],
      "text/plain": [
       "<IPython.core.display.HTML object>"
      ]
     },
     "metadata": {},
     "output_type": "display_data"
    },
    {
     "name": "stdout",
     "output_type": "stream",
     "text": [
      "\u001b[31mgold\u001b[0m\n"
     ]
    },
    {
     "data": {
      "text/html": [
       "<div class=\"entities\" style=\"line-height: 2.5; direction: ltr\">試合 前 に だれ も が 描いた 「 王者 と 挑戦 者 」 と いう 構図 が 、 そのまま 試合 に 反映 さ れた 。</div>"
      ],
      "text/plain": [
       "<IPython.core.display.HTML object>"
      ]
     },
     "metadata": {},
     "output_type": "display_data"
    },
    {
     "name": "stdout",
     "output_type": "stream",
     "text": [
      "----------------------------------------------------------------------------------------------------\n",
      "----------------------------------------------------------------------------------------------------\n",
      "\u001b[34msystem\u001b[0m\n"
     ]
    },
    {
     "data": {
      "text/html": [
       "<div class=\"entities\" style=\"line-height: 2.5; direction: ltr\">「 知らず知らず の うち に 受け身に 回った 」 。</div>"
      ],
      "text/plain": [
       "<IPython.core.display.HTML object>"
      ]
     },
     "metadata": {},
     "output_type": "display_data"
    },
    {
     "name": "stdout",
     "output_type": "stream",
     "text": [
      "\u001b[31mgold\u001b[0m\n"
     ]
    },
    {
     "data": {
      "text/html": [
       "<div class=\"entities\" style=\"line-height: 2.5; direction: ltr\">「 知らず知らず の うち に 受け身に 回った 」 。</div>"
      ],
      "text/plain": [
       "<IPython.core.display.HTML object>"
      ]
     },
     "metadata": {},
     "output_type": "display_data"
    },
    {
     "name": "stdout",
     "output_type": "stream",
     "text": [
      "----------------------------------------------------------------------------------------------------\n",
      "----------------------------------------------------------------------------------------------------\n",
      "\u001b[34msystem\u001b[0m\n"
     ]
    },
    {
     "data": {
      "text/html": [
       "<div class=\"entities\" style=\"line-height: 2.5; direction: ltr\">「 受け身に なり かけて も 持ち 直し 、 最後 まで 集中 力 が 切れ なかった 」 。</div>"
      ],
      "text/plain": [
       "<IPython.core.display.HTML object>"
      ]
     },
     "metadata": {},
     "output_type": "display_data"
    },
    {
     "name": "stdout",
     "output_type": "stream",
     "text": [
      "\u001b[31mgold\u001b[0m\n"
     ]
    },
    {
     "data": {
      "text/html": [
       "<div class=\"entities\" style=\"line-height: 2.5; direction: ltr\">「 受け身に なり かけて も 持ち 直し 、 最後 まで 集中 力 が 切れ なかった 」 。</div>"
      ],
      "text/plain": [
       "<IPython.core.display.HTML object>"
      ]
     },
     "metadata": {},
     "output_type": "display_data"
    },
    {
     "name": "stdout",
     "output_type": "stream",
     "text": [
      "----------------------------------------------------------------------------------------------------\n",
      "----------------------------------------------------------------------------------------------------\n",
      "\u001b[34msystem\u001b[0m\n"
     ]
    },
    {
     "data": {
      "text/html": [
       "<div class=\"entities\" style=\"line-height: 2.5; direction: ltr\">選手 の 心理 状態 は チーム の 勢い に つながる 。</div>"
      ],
      "text/plain": [
       "<IPython.core.display.HTML object>"
      ]
     },
     "metadata": {},
     "output_type": "display_data"
    },
    {
     "name": "stdout",
     "output_type": "stream",
     "text": [
      "\u001b[31mgold\u001b[0m\n"
     ]
    },
    {
     "data": {
      "text/html": [
       "<div class=\"entities\" style=\"line-height: 2.5; direction: ltr\">選手 の 心理 状態 は チーム の 勢い に つながる 。</div>"
      ],
      "text/plain": [
       "<IPython.core.display.HTML object>"
      ]
     },
     "metadata": {},
     "output_type": "display_data"
    },
    {
     "name": "stdout",
     "output_type": "stream",
     "text": [
      "----------------------------------------------------------------------------------------------------\n"
     ]
    },
    {
     "data": {
      "text/html": [
       "<div class=\"entities\" style=\"line-height: 2.5; direction: ltr\">\n",
       "<mark class=\"entity\" style=\"background: #7aecec; padding: 0.45em 0.6em; margin: 0 0.25em; line-height: 1; border-radius: 0.35em;\">\n",
       "    奈良 育英\n",
       "    <span style=\"font-size: 0.8em; font-weight: bold; line-height: 1; border-radius: 0.35em; text-transform: uppercase; vertical-align: middle; margin-left: 0.5rem\">ORG</span>\n",
       "</mark>\n",
       " は 、 前線 から の プレス を 最後 まで 徹底 して \n",
       "<mark class=\"entity\" style=\"background: #7aecec; padding: 0.45em 0.6em; margin: 0 0.25em; line-height: 1; border-radius: 0.35em;\">\n",
       "    清水 市 商\n",
       "    <span style=\"font-size: 0.8em; font-weight: bold; line-height: 1; border-radius: 0.35em; text-transform: uppercase; vertical-align: middle; margin-left: 0.5rem\">ORG</span>\n",
       "</mark>\n",
       " の 攻撃 を 中央 へ 偏ら せ 、 エース ストライカー \n",
       "<mark class=\"entity\" style=\"background: #aa9cfc; padding: 0.45em 0.6em; margin: 0 0.25em; line-height: 1; border-radius: 0.35em;\">\n",
       "    安永\n",
       "    <span style=\"font-size: 0.8em; font-weight: bold; line-height: 1; border-radius: 0.35em; text-transform: uppercase; vertical-align: middle; margin-left: 0.5rem\">PERSON</span>\n",
       "</mark>\n",
       " に は \n",
       "<mark class=\"entity\" style=\"background: #aa9cfc; padding: 0.45em 0.6em; margin: 0 0.25em; line-height: 1; border-radius: 0.35em;\">\n",
       "    杉田\n",
       "    <span style=\"font-size: 0.8em; font-weight: bold; line-height: 1; border-radius: 0.35em; text-transform: uppercase; vertical-align: middle; margin-left: 0.5rem\">PERSON</span>\n",
       "</mark>\n",
       " 、 \n",
       "<mark class=\"entity\" style=\"background: #aa9cfc; padding: 0.45em 0.6em; margin: 0 0.25em; line-height: 1; border-radius: 0.35em;\">\n",
       "    石渡\n",
       "    <span style=\"font-size: 0.8em; font-weight: bold; line-height: 1; border-radius: 0.35em; text-transform: uppercase; vertical-align: middle; margin-left: 0.5rem\">PERSON</span>\n",
       "</mark>\n",
       " が ２ 人 がかり で マーク 、 容易に 前 を 向か せ ない 。</div>"
      ],
      "text/plain": [
       "<IPython.core.display.HTML object>"
      ]
     },
     "metadata": {},
     "output_type": "display_data"
    },
    {
     "data": {
      "text/html": [
       "<div class=\"entities\" style=\"line-height: 2.5; direction: ltr\">最後尾 で は 、 Ｕ １９ 代表 の ＧＫ \n",
       "<mark class=\"entity\" style=\"background: #aa9cfc; padding: 0.45em 0.6em; margin: 0 0.25em; line-height: 1; border-radius: 0.35em;\">\n",
       "    楢崎\n",
       "    <span style=\"font-size: 0.8em; font-weight: bold; line-height: 1; border-radius: 0.35em; text-transform: uppercase; vertical-align: middle; margin-left: 0.5rem\">PERSON</span>\n",
       "</mark>\n",
       " 主将 が 立ちはだかり 、 ハイボール を ことごとく キャッチ 。</div>"
      ],
      "text/plain": [
       "<IPython.core.display.HTML object>"
      ]
     },
     "metadata": {},
     "output_type": "display_data"
    },
    {
     "data": {
      "text/html": [
       "<div class=\"entities\" style=\"line-height: 2.5; direction: ltr\">後半 \n",
       "<mark class=\"entity\" style=\"background: #bfe1d9; padding: 0.45em 0.6em; margin: 0 0.25em; line-height: 1; border-radius: 0.35em;\">\n",
       "    ３０ 分\n",
       "    <span style=\"font-size: 0.8em; font-weight: bold; line-height: 1; border-radius: 0.35em; text-transform: uppercase; vertical-align: middle; margin-left: 0.5rem\">TIME</span>\n",
       "</mark>\n",
       " に \n",
       "<mark class=\"entity\" style=\"background: #7aecec; padding: 0.45em 0.6em; margin: 0 0.25em; line-height: 1; border-radius: 0.35em;\">\n",
       "    清水 市 商\n",
       "    <span style=\"font-size: 0.8em; font-weight: bold; line-height: 1; border-radius: 0.35em; text-transform: uppercase; vertical-align: middle; margin-left: 0.5rem\">ORG</span>\n",
       "</mark>\n",
       " ・ \n",
       "<mark class=\"entity\" style=\"background: #aa9cfc; padding: 0.45em 0.6em; margin: 0 0.25em; line-height: 1; border-radius: 0.35em;\">\n",
       "    佐藤\n",
       "    <span style=\"font-size: 0.8em; font-weight: bold; line-height: 1; border-radius: 0.35em; text-transform: uppercase; vertical-align: middle; margin-left: 0.5rem\">PERSON</span>\n",
       "</mark>\n",
       " と 一 対 一 と なる ピンチ を 思い切り の よい 飛び出し で 防ぐ など 、 スーパー セーブ を 連発 した 。</div>"
      ],
      "text/plain": [
       "<IPython.core.display.HTML object>"
      ]
     },
     "metadata": {},
     "output_type": "display_data"
    },
    {
     "data": {
      "text/html": [
       "<div class=\"entities\" style=\"line-height: 2.5; direction: ltr\">攻撃 は 、 左 サイド で 一 年生 の \n",
       "<mark class=\"entity\" style=\"background: #aa9cfc; padding: 0.45em 0.6em; margin: 0 0.25em; line-height: 1; border-radius: 0.35em;\">\n",
       "    中谷\n",
       "    <span style=\"font-size: 0.8em; font-weight: bold; line-height: 1; border-radius: 0.35em; text-transform: uppercase; vertical-align: middle; margin-left: 0.5rem\">PERSON</span>\n",
       "</mark>\n",
       " が 、 巧みな ドリブル と スルー パス で 攻撃 の リズム を 作る 。</div>"
      ],
      "text/plain": [
       "<IPython.core.display.HTML object>"
      ]
     },
     "metadata": {},
     "output_type": "display_data"
    },
    {
     "data": {
      "text/html": [
       "<div class=\"entities\" style=\"line-height: 2.5; direction: ltr\">後半 \n",
       "<mark class=\"entity\" style=\"background: #bfe1d9; padding: 0.45em 0.6em; margin: 0 0.25em; line-height: 1; border-radius: 0.35em;\">\n",
       "    １８ 分\n",
       "    <span style=\"font-size: 0.8em; font-weight: bold; line-height: 1; border-radius: 0.35em; text-transform: uppercase; vertical-align: middle; margin-left: 0.5rem\">TIME</span>\n",
       "</mark>\n",
       " に \n",
       "<mark class=\"entity\" style=\"background: #aa9cfc; padding: 0.45em 0.6em; margin: 0 0.25em; line-height: 1; border-radius: 0.35em;\">\n",
       "    中谷\n",
       "    <span style=\"font-size: 0.8em; font-weight: bold; line-height: 1; border-radius: 0.35em; text-transform: uppercase; vertical-align: middle; margin-left: 0.5rem\">PERSON</span>\n",
       "</mark>\n",
       " の 足 が つる と 、 同じ 一 年生 で 「 一 発 が ある 」 \n",
       "<mark class=\"entity\" style=\"background: #aa9cfc; padding: 0.45em 0.6em; margin: 0 0.25em; line-height: 1; border-radius: 0.35em;\">\n",
       "    東\n",
       "    <span style=\"font-size: 0.8em; font-weight: bold; line-height: 1; border-radius: 0.35em; text-transform: uppercase; vertical-align: middle; margin-left: 0.5rem\">PERSON</span>\n",
       "</mark>\n",
       " が 交代 出場 。</div>"
      ],
      "text/plain": [
       "<IPython.core.display.HTML object>"
      ]
     },
     "metadata": {},
     "output_type": "display_data"
    },
    {
     "data": {
      "text/html": [
       "<div class=\"entities\" style=\"line-height: 2.5; direction: ltr\">\n",
       "<mark class=\"entity\" style=\"background: #aa9cfc; padding: 0.45em 0.6em; margin: 0 0.25em; line-height: 1; border-radius: 0.35em;\">\n",
       "    東\n",
       "    <span style=\"font-size: 0.8em; font-weight: bold; line-height: 1; border-radius: 0.35em; text-transform: uppercase; vertical-align: middle; margin-left: 0.5rem\">PERSON</span>\n",
       "</mark>\n",
       " は \n",
       "<mark class=\"entity\" style=\"background: #bfe1d9; padding: 0.45em 0.6em; margin: 0 0.25em; line-height: 1; border-radius: 0.35em;\">\n",
       "    ３４ 分\n",
       "    <span style=\"font-size: 0.8em; font-weight: bold; line-height: 1; border-radius: 0.35em; text-transform: uppercase; vertical-align: middle; margin-left: 0.5rem\">TIME</span>\n",
       "</mark>\n",
       " 、 ＣＫ から ＧＫ が パンチ した こぼれ球 を けり 込み 、 最高の タイミング で 決勝 点 を 奪った 。</div>"
      ],
      "text/plain": [
       "<IPython.core.display.HTML object>"
      ]
     },
     "metadata": {},
     "output_type": "display_data"
    },
    {
     "name": "stdout",
     "output_type": "stream",
     "text": [
      "----------------------------------------------------------------------------------------------------\n",
      "\u001b[34msystem\u001b[0m\n"
     ]
    },
    {
     "data": {
      "text/html": [
       "<div class=\"entities\" style=\"line-height: 2.5; direction: ltr\">「 やれる と 信じて いた 。 三 年生 を 中心 に コツコツ 我慢 し 、 怖い もの 知ら ず の 一 年生 の 結果 を 出した 」 。</div>"
      ],
      "text/plain": [
       "<IPython.core.display.HTML object>"
      ]
     },
     "metadata": {},
     "output_type": "display_data"
    },
    {
     "name": "stdout",
     "output_type": "stream",
     "text": [
      "\u001b[31mgold\u001b[0m\n"
     ]
    },
    {
     "data": {
      "text/html": [
       "<div class=\"entities\" style=\"line-height: 2.5; direction: ltr\">「 やれる と 信じて いた 。 三 年生 を 中心 に コツコツ 我慢 し 、 怖い もの 知ら ず の 一 年生 の 結果 を 出した 」 。</div>"
      ],
      "text/plain": [
       "<IPython.core.display.HTML object>"
      ]
     },
     "metadata": {},
     "output_type": "display_data"
    },
    {
     "name": "stdout",
     "output_type": "stream",
     "text": [
      "----------------------------------------------------------------------------------------------------\n"
     ]
    },
    {
     "data": {
      "text/html": [
       "<div class=\"entities\" style=\"line-height: 2.5; direction: ltr\">\n",
       "<mark class=\"entity\" style=\"background: #aa9cfc; padding: 0.45em 0.6em; margin: 0 0.25em; line-height: 1; border-radius: 0.35em;\">\n",
       "    上間\n",
       "    <span style=\"font-size: 0.8em; font-weight: bold; line-height: 1; border-radius: 0.35em; text-transform: uppercase; vertical-align: middle; margin-left: 0.5rem\">PERSON</span>\n",
       "</mark>\n",
       " 監督 の 勝因 分析 は 冷静だった 。</div>"
      ],
      "text/plain": [
       "<IPython.core.display.HTML object>"
      ]
     },
     "metadata": {},
     "output_type": "display_data"
    },
    {
     "data": {
      "text/html": [
       "<div class=\"entities\" style=\"line-height: 2.5; direction: ltr\">「 ウチ に とって は 最悪 、 相手 に とって は 最高の 試合 でしょう 。 勝負 は 結局 頑張った ほう が 勝つ 」 と \n",
       "<mark class=\"entity\" style=\"background: #aa9cfc; padding: 0.45em 0.6em; margin: 0 0.25em; line-height: 1; border-radius: 0.35em;\">\n",
       "    大滝\n",
       "    <span style=\"font-size: 0.8em; font-weight: bold; line-height: 1; border-radius: 0.35em; text-transform: uppercase; vertical-align: middle; margin-left: 0.5rem\">PERSON</span>\n",
       "</mark>\n",
       " 監督 。</div>"
      ],
      "text/plain": [
       "<IPython.core.display.HTML object>"
      ]
     },
     "metadata": {},
     "output_type": "display_data"
    },
    {
     "data": {
      "text/html": [
       "<div class=\"entities\" style=\"line-height: 2.5; direction: ltr\">\n",
       "<mark class=\"entity\" style=\"background: #7aecec; padding: 0.45em 0.6em; margin: 0 0.25em; line-height: 1; border-radius: 0.35em;\">\n",
       "    清水 市 商\n",
       "    <span style=\"font-size: 0.8em; font-weight: bold; line-height: 1; border-radius: 0.35em; text-transform: uppercase; vertical-align: middle; margin-left: 0.5rem\">ORG</span>\n",
       "</mark>\n",
       " に おごり は 、 なかった だろう が 、 初戦 に すべて を かけた 「 挑戦 者 」 が 、 気持ち の 面 で 、 優勝 を 意識 した 「 本命 」 を 完全に 上回った 。</div>"
      ],
      "text/plain": [
       "<IPython.core.display.HTML object>"
      ]
     },
     "metadata": {},
     "output_type": "display_data"
    },
    {
     "data": {
      "text/html": [
       "<div class=\"entities\" style=\"line-height: 2.5; direction: ltr\">\n",
       "<mark class=\"entity\" style=\"background: #bfe1d9; padding: 0.45em 0.6em; margin: 0 0.25em; line-height: 1; border-radius: 0.35em;\">\n",
       "    二 日\n",
       "    <span style=\"font-size: 0.8em; font-weight: bold; line-height: 1; border-radius: 0.35em; text-transform: uppercase; vertical-align: middle; margin-left: 0.5rem\">DATE</span>\n",
       "</mark>\n",
       " \n",
       "<mark class=\"entity\" style=\"background: #bfe1d9; padding: 0.45em 0.6em; margin: 0 0.25em; line-height: 1; border-radius: 0.35em;\">\n",
       "    午前 三 時 五十五 分\n",
       "    <span style=\"font-size: 0.8em; font-weight: bold; line-height: 1; border-radius: 0.35em; text-transform: uppercase; vertical-align: middle; margin-left: 0.5rem\">TIME</span>\n",
       "</mark>\n",
       " ごろ 、 \n",
       "<mark class=\"entity\" style=\"background: #ff9561; padding: 0.45em 0.6em; margin: 0 0.25em; line-height: 1; border-radius: 0.35em;\">\n",
       "    東京 都 千代田 区 隼町 四\n",
       "    <span style=\"font-size: 0.8em; font-weight: bold; line-height: 1; border-radius: 0.35em; text-transform: uppercase; vertical-align: middle; margin-left: 0.5rem\">LOC</span>\n",
       "</mark>\n",
       " 、 \n",
       "<mark class=\"entity\" style=\"background: #ff9561; padding: 0.45em 0.6em; margin: 0 0.25em; line-height: 1; border-radius: 0.35em;\">\n",
       "    国道 ２０ 号\n",
       "    <span style=\"font-size: 0.8em; font-weight: bold; line-height: 1; border-radius: 0.35em; text-transform: uppercase; vertical-align: middle; margin-left: 0.5rem\">LOC</span>\n",
       "</mark>\n",
       " の \n",
       "<mark class=\"entity\" style=\"background: #ff9561; padding: 0.45em 0.6em; margin: 0 0.25em; line-height: 1; border-radius: 0.35em;\">\n",
       "    皇居\n",
       "    <span style=\"font-size: 0.8em; font-weight: bold; line-height: 1; border-radius: 0.35em; text-transform: uppercase; vertical-align: middle; margin-left: 0.5rem\">LOC</span>\n",
       "</mark>\n",
       " 側 の 歩道 に 、 ワゴン 車 から 火炎 瓶 が 投げ られ 、 炎 が 上がる の を 警戒 中 の 機動 隊員 が 発見 、 すぐ に 消し止めた 。</div>"
      ],
      "text/plain": [
       "<IPython.core.display.HTML object>"
      ]
     },
     "metadata": {},
     "output_type": "display_data"
    },
    {
     "data": {
      "text/html": [
       "<div class=\"entities\" style=\"line-height: 2.5; direction: ltr\">\n",
       "<mark class=\"entity\" style=\"background: #7aecec; padding: 0.45em 0.6em; margin: 0 0.25em; line-height: 1; border-radius: 0.35em;\">\n",
       "    麹町 署\n",
       "    <span style=\"font-size: 0.8em; font-weight: bold; line-height: 1; border-radius: 0.35em; text-transform: uppercase; vertical-align: middle; margin-left: 0.5rem\">ORG</span>\n",
       "</mark>\n",
       " は 、 一般 参賀 に 反対 した 犯行 の 可能 性 も ある と みて 捜査 して いる 。</div>"
      ],
      "text/plain": [
       "<IPython.core.display.HTML object>"
      ]
     },
     "metadata": {},
     "output_type": "display_data"
    },
    {
     "data": {
      "text/html": [
       "<div class=\"entities\" style=\"line-height: 2.5; direction: ltr\">\n",
       "<mark class=\"entity\" style=\"background: #ff9561; padding: 0.45em 0.6em; margin: 0 0.25em; line-height: 1; border-radius: 0.35em;\">\n",
       "    東京 都\n",
       "    <span style=\"font-size: 0.8em; font-weight: bold; line-height: 1; border-radius: 0.35em; text-transform: uppercase; vertical-align: middle; margin-left: 0.5rem\">LOC</span>\n",
       "</mark>\n",
       " 内 で \n",
       "<mark class=\"entity\" style=\"background: #bfe1d9; padding: 0.45em 0.6em; margin: 0 0.25em; line-height: 1; border-radius: 0.35em;\">\n",
       "    一 日\n",
       "    <span style=\"font-size: 0.8em; font-weight: bold; line-height: 1; border-radius: 0.35em; text-transform: uppercase; vertical-align: middle; margin-left: 0.5rem\">DATE</span>\n",
       "</mark>\n",
       " から \n",
       "<mark class=\"entity\" style=\"background: #bfe1d9; padding: 0.45em 0.6em; margin: 0 0.25em; line-height: 1; border-radius: 0.35em;\">\n",
       "    二 日\n",
       "    <span style=\"font-size: 0.8em; font-weight: bold; line-height: 1; border-radius: 0.35em; text-transform: uppercase; vertical-align: middle; margin-left: 0.5rem\">DATE</span>\n",
       "</mark>\n",
       " に かけて 、 雑煮 の もち など を のど に 詰まら せる 事故 が 二十 件 発生 、 うち 三 人 が 死亡 した 。</div>"
      ],
      "text/plain": [
       "<IPython.core.display.HTML object>"
      ]
     },
     "metadata": {},
     "output_type": "display_data"
    }
   ],
   "source": [
    "from seqeval.metrics.sequence_labeling import get_entities\n",
    "import termcolor\n",
    "\n",
    "tag_conversion_map = { \"ORGANIZATION\": \"ORG\",\n",
    "                       \"LOCATION\": \"LOC\"}\n",
    "class Word(object):\n",
    "    def __init__(self, string, ner_tag, offset):\n",
    "        self.string = string\n",
    "        self.ner_tag = ner_tag\n",
    "        self.start = offset\n",
    "        self.end = offset + len(string)\n",
    "\n",
    "def get_ner_example(lines):\n",
    "    words = []\n",
    "    offset = 0\n",
    "    for line in lines:\n",
    "        string, ner_tag = line.split(\" \")\n",
    "        word = Word(string, ner_tag, offset)\n",
    "        words.append(word)\n",
    "        # +1 は空白の分\n",
    "        offset += len(word.string) + 1\n",
    "\n",
    "    # [('PER', 0, 1), ('LOC', 3, 3)]\n",
    "    entities = get_entities([ word.ner_tag for word in words ])\n",
    "    spacy_entities = []\n",
    "    for entity in entities:\n",
    "        ner_label, start_word_index, end_word_index = entity \n",
    "        spacy_entities.append({ \"start\": words[start_word_index].start,\n",
    "                                                    \"end\": words[end_word_index].end, \n",
    "                                                    \"label\": tag_conversion_map[ner_label] if ner_label in tag_conversion_map else ner_label })  \n",
    "        \n",
    "    return { \"text\": \" \".join([ word.string for word in words ]),\n",
    "                  \"ents\": spacy_entities }  \n",
    "\n",
    "def get_ner_examples(filename):\n",
    "    examples = []\n",
    "    with open(filename, \"r\", encoding=\"utf-8\") as reader:\n",
    "        lines = [] \n",
    "        for line in reader.readlines():\n",
    "            line = line.rstrip(\"\\n\")\n",
    "      \n",
    "            if line:\n",
    "                lines.append(line)\n",
    "            # 空行 (文の切れ目)\n",
    "            else:\n",
    "                example = get_ner_example(lines)\n",
    "                examples.append(example)\n",
    "                lines = []\n",
    "\n",
    "    return examples\n",
    "\n",
    "def is_same_example(system_example, gold_example):\n",
    "    assert system_example[\"text\"] == gold_example[\"text\"]\n",
    "\n",
    "    # entityの数が異なる\n",
    "    if len(system_example[\"ents\"]) != len(gold_example[\"ents\"]):\n",
    "        return False\n",
    "    \n",
    "    for system_ent, gold_ent in zip(system_example[\"ents\"], gold_example[\"ents\"]):\n",
    "        # start, end, labelのいずれかが異なる\n",
    "        if system_ent[\"start\"] != gold_ent[\"start\"] or system_ent[\"end\"] != gold_ent[\"end\"] or system_ent[\"label\"] != gold_ent[\"label\"]:\n",
    "            return False\n",
    "\n",
    "    # すべて一致したので全体が一致\n",
    "        return True\n",
    "\n",
    "def display_result(system_filename, gold_filename):\n",
    "    system_examples = get_ner_examples(system_filename)\n",
    "    gold_examples = get_ner_examples(gold_filename)\n",
    "\n",
    "    for i, (system_example, gold_example) in enumerate(zip(system_examples, gold_examples)):\n",
    "        if i == 100:\n",
    "            break\n",
    "        if is_same_example(system_example, gold_example) is True:\n",
    "            displacy.render(system_example, style=\"ent\", manual=True, jupyter=True)\n",
    "        else:\n",
    "            print(\"-\" * 100)\n",
    "            print(termcolor.colored(\"system\", \"blue\"))\n",
    "            displacy.render(system_example, style=\"ent\", manual=True, jupyter=True)\n",
    "            print(termcolor.colored(\"gold\", \"red\"))\n",
    "            displacy.render(gold_example, style=\"ent\", manual=True, jupyter=True)\n",
    "            print(\"-\" * 100)\n",
    "      \n",
    "display_result(\"/data/nlp/tool/bert/CRL/test_predictions.txt\", \"/data/nlp/tool/bert/CRL/test.txt\")"
   ]
  },
  {
   "cell_type": "markdown",
   "metadata": {
    "colab_type": "text",
    "id": "jCpskc3EEe3m"
   },
   "source": [
    "### 練習問題 4\n",
    "上記の結果からどのようなことがわかるか分析してみよう。\n",
    "\n",
    "*   システムはこんな難しいものでもわかるのか\n",
    "*   逆にこんなやさしいものもわからないのか\n",
    "*   システムがわからなくても仕方ない難しいもの\n",
    "*   システムの出力の方が正しくて正解が間違っているのではないかというもの\n",
    "*   タグ付けが誤っているのではないか\n",
    "\n",
    "\n",
    "以上のように、BERTによるfine-tuningではプログラムの中身をほぼ変更することなく、入力データを用意するだけでなく、様々なタスクのfine-tuningを行うことができます。"
   ]
  }
 ],
 "metadata": {
  "accelerator": "GPU",
  "colab": {
   "collapsed_sections": [],
   "name": "TokyoNLP_BERT.ipynb",
   "provenance": [],
   "toc_visible": true
  },
  "kernelspec": {
   "display_name": "Python 3",
   "language": "python",
   "name": "python3"
  },
  "language_info": {
   "codemirror_mode": {
    "name": "ipython",
    "version": 3
   },
   "file_extension": ".py",
   "mimetype": "text/x-python",
   "name": "python",
   "nbconvert_exporter": "python",
   "pygments_lexer": "ipython3",
   "version": "3.6.8"
  }
 },
 "nbformat": 4,
 "nbformat_minor": 1
}
